{
 "cells": [
  {
   "cell_type": "markdown",
   "id": "ea3731eb",
   "metadata": {},
   "source": [
    "# Problem Understanding"
   ]
  },
  {
   "cell_type": "markdown",
   "id": "dc9727a5",
   "metadata": {},
   "source": [
    "- What is the Airbnb business model?\n",
    "\n",
    "Marketplace: connect people offering homestays with people looking for homestays.\n",
    "         \n",
    "         -- Offer (people offering homestays) depends on:\n",
    "             -- Portfolio size.\n",
    "             -- Portfolio Diversity/Density.\n",
    "             -- Average price.\n",
    "            \n",
    "         -- Demand (people looking for homestays): \n",
    "             -- Number of users.\n",
    "             -- LTV (Lifetime Value).\n",
    "             -- CAC (Customer Acquisition Cost).\n",
    "            \n",
    "            \n",
    "Gross Revenue = (Fee * Users) - CAC"
   ]
  },
  {
   "cell_type": "markdown",
   "id": "9dda2fcc",
   "metadata": {},
   "source": [
    "# Libraries"
   ]
  },
  {
   "cell_type": "code",
   "execution_count": 38,
   "id": "c0759520",
   "metadata": {
    "ExecuteTime": {
     "end_time": "2023-01-11T01:10:05.324457Z",
     "start_time": "2023-01-11T01:10:05.322024Z"
    }
   },
   "outputs": [],
   "source": [
    "import pandas as pd\n",
    "import numpy as np"
   ]
  },
  {
   "cell_type": "markdown",
   "id": "6cc80104",
   "metadata": {},
   "source": [
    "## Helper Functions"
   ]
  },
  {
   "cell_type": "code",
   "execution_count": null,
   "id": "a0fe2be1",
   "metadata": {},
   "outputs": [],
   "source": []
  },
  {
   "cell_type": "markdown",
   "id": "7e5c8267",
   "metadata": {},
   "source": [
    "## Loading Data"
   ]
  },
  {
   "cell_type": "code",
   "execution_count": 3,
   "id": "e8d7f5c8",
   "metadata": {
    "ExecuteTime": {
     "end_time": "2023-01-10T22:28:09.251003Z",
     "start_time": "2023-01-10T22:28:09.237078Z"
    }
   },
   "outputs": [
    {
     "data": {
      "text/html": [
       "<div>\n",
       "<style scoped>\n",
       "    .dataframe tbody tr th:only-of-type {\n",
       "        vertical-align: middle;\n",
       "    }\n",
       "\n",
       "    .dataframe tbody tr th {\n",
       "        vertical-align: top;\n",
       "    }\n",
       "\n",
       "    .dataframe thead th {\n",
       "        text-align: right;\n",
       "    }\n",
       "</style>\n",
       "<table border=\"1\" class=\"dataframe\">\n",
       "  <thead>\n",
       "    <tr style=\"text-align: right;\">\n",
       "      <th></th>\n",
       "      <th>age_bucket</th>\n",
       "      <th>country_destination</th>\n",
       "      <th>gender</th>\n",
       "      <th>population_in_thousands</th>\n",
       "      <th>year</th>\n",
       "    </tr>\n",
       "  </thead>\n",
       "  <tbody>\n",
       "    <tr>\n",
       "      <th>0</th>\n",
       "      <td>100+</td>\n",
       "      <td>AU</td>\n",
       "      <td>male</td>\n",
       "      <td>1.0</td>\n",
       "      <td>2015.0</td>\n",
       "    </tr>\n",
       "    <tr>\n",
       "      <th>1</th>\n",
       "      <td>95-99</td>\n",
       "      <td>AU</td>\n",
       "      <td>male</td>\n",
       "      <td>9.0</td>\n",
       "      <td>2015.0</td>\n",
       "    </tr>\n",
       "    <tr>\n",
       "      <th>2</th>\n",
       "      <td>90-94</td>\n",
       "      <td>AU</td>\n",
       "      <td>male</td>\n",
       "      <td>47.0</td>\n",
       "      <td>2015.0</td>\n",
       "    </tr>\n",
       "    <tr>\n",
       "      <th>3</th>\n",
       "      <td>85-89</td>\n",
       "      <td>AU</td>\n",
       "      <td>male</td>\n",
       "      <td>118.0</td>\n",
       "      <td>2015.0</td>\n",
       "    </tr>\n",
       "    <tr>\n",
       "      <th>4</th>\n",
       "      <td>80-84</td>\n",
       "      <td>AU</td>\n",
       "      <td>male</td>\n",
       "      <td>199.0</td>\n",
       "      <td>2015.0</td>\n",
       "    </tr>\n",
       "    <tr>\n",
       "      <th>...</th>\n",
       "      <td>...</td>\n",
       "      <td>...</td>\n",
       "      <td>...</td>\n",
       "      <td>...</td>\n",
       "      <td>...</td>\n",
       "    </tr>\n",
       "    <tr>\n",
       "      <th>415</th>\n",
       "      <td>95-99</td>\n",
       "      <td>US</td>\n",
       "      <td>male</td>\n",
       "      <td>115.0</td>\n",
       "      <td>2015.0</td>\n",
       "    </tr>\n",
       "    <tr>\n",
       "      <th>416</th>\n",
       "      <td>90-94</td>\n",
       "      <td>US</td>\n",
       "      <td>male</td>\n",
       "      <td>541.0</td>\n",
       "      <td>2015.0</td>\n",
       "    </tr>\n",
       "    <tr>\n",
       "      <th>417</th>\n",
       "      <td>15-19</td>\n",
       "      <td>US</td>\n",
       "      <td>female</td>\n",
       "      <td>10570.0</td>\n",
       "      <td>2015.0</td>\n",
       "    </tr>\n",
       "    <tr>\n",
       "      <th>418</th>\n",
       "      <td>85-89</td>\n",
       "      <td>US</td>\n",
       "      <td>male</td>\n",
       "      <td>1441.0</td>\n",
       "      <td>2015.0</td>\n",
       "    </tr>\n",
       "    <tr>\n",
       "      <th>419</th>\n",
       "      <td>80-84</td>\n",
       "      <td>US</td>\n",
       "      <td>male</td>\n",
       "      <td>2442.0</td>\n",
       "      <td>2015.0</td>\n",
       "    </tr>\n",
       "  </tbody>\n",
       "</table>\n",
       "<p>420 rows × 5 columns</p>\n",
       "</div>"
      ],
      "text/plain": [
       "    age_bucket country_destination  gender  population_in_thousands    year\n",
       "0         100+                  AU    male                      1.0  2015.0\n",
       "1        95-99                  AU    male                      9.0  2015.0\n",
       "2        90-94                  AU    male                     47.0  2015.0\n",
       "3        85-89                  AU    male                    118.0  2015.0\n",
       "4        80-84                  AU    male                    199.0  2015.0\n",
       "..         ...                 ...     ...                      ...     ...\n",
       "415      95-99                  US    male                    115.0  2015.0\n",
       "416      90-94                  US    male                    541.0  2015.0\n",
       "417      15-19                  US  female                  10570.0  2015.0\n",
       "418      85-89                  US    male                   1441.0  2015.0\n",
       "419      80-84                  US    male                   2442.0  2015.0\n",
       "\n",
       "[420 rows x 5 columns]"
      ]
     },
     "execution_count": 3,
     "metadata": {},
     "output_type": "execute_result"
    }
   ],
   "source": [
    "data_raw_age_gender = pd.read_csv(\"datasets/age_gender_bkts.csv\", low_memory=False)\n",
    "data_raw_age_gender"
   ]
  },
  {
   "cell_type": "code",
   "execution_count": 4,
   "id": "4fa16f46",
   "metadata": {
    "ExecuteTime": {
     "end_time": "2023-01-10T22:29:29.790695Z",
     "start_time": "2023-01-10T22:29:29.775466Z"
    }
   },
   "outputs": [
    {
     "data": {
      "text/html": [
       "<div>\n",
       "<style scoped>\n",
       "    .dataframe tbody tr th:only-of-type {\n",
       "        vertical-align: middle;\n",
       "    }\n",
       "\n",
       "    .dataframe tbody tr th {\n",
       "        vertical-align: top;\n",
       "    }\n",
       "\n",
       "    .dataframe thead th {\n",
       "        text-align: right;\n",
       "    }\n",
       "</style>\n",
       "<table border=\"1\" class=\"dataframe\">\n",
       "  <thead>\n",
       "    <tr style=\"text-align: right;\">\n",
       "      <th></th>\n",
       "      <th>country_destination</th>\n",
       "      <th>lat_destination</th>\n",
       "      <th>lng_destination</th>\n",
       "      <th>distance_km</th>\n",
       "      <th>destination_km2</th>\n",
       "      <th>destination_language</th>\n",
       "      <th>language_levenshtein_distance</th>\n",
       "    </tr>\n",
       "  </thead>\n",
       "  <tbody>\n",
       "    <tr>\n",
       "      <th>0</th>\n",
       "      <td>AU</td>\n",
       "      <td>-26.853388</td>\n",
       "      <td>133.275160</td>\n",
       "      <td>15297.7440</td>\n",
       "      <td>7741220.0</td>\n",
       "      <td>eng</td>\n",
       "      <td>0.00</td>\n",
       "    </tr>\n",
       "    <tr>\n",
       "      <th>1</th>\n",
       "      <td>CA</td>\n",
       "      <td>62.393303</td>\n",
       "      <td>-96.818146</td>\n",
       "      <td>2828.1333</td>\n",
       "      <td>9984670.0</td>\n",
       "      <td>eng</td>\n",
       "      <td>0.00</td>\n",
       "    </tr>\n",
       "    <tr>\n",
       "      <th>2</th>\n",
       "      <td>DE</td>\n",
       "      <td>51.165707</td>\n",
       "      <td>10.452764</td>\n",
       "      <td>7879.5680</td>\n",
       "      <td>357022.0</td>\n",
       "      <td>deu</td>\n",
       "      <td>72.61</td>\n",
       "    </tr>\n",
       "    <tr>\n",
       "      <th>3</th>\n",
       "      <td>ES</td>\n",
       "      <td>39.896027</td>\n",
       "      <td>-2.487694</td>\n",
       "      <td>7730.7240</td>\n",
       "      <td>505370.0</td>\n",
       "      <td>spa</td>\n",
       "      <td>92.25</td>\n",
       "    </tr>\n",
       "    <tr>\n",
       "      <th>4</th>\n",
       "      <td>FR</td>\n",
       "      <td>46.232193</td>\n",
       "      <td>2.209667</td>\n",
       "      <td>7682.9450</td>\n",
       "      <td>643801.0</td>\n",
       "      <td>fra</td>\n",
       "      <td>92.06</td>\n",
       "    </tr>\n",
       "    <tr>\n",
       "      <th>5</th>\n",
       "      <td>GB</td>\n",
       "      <td>54.633220</td>\n",
       "      <td>-3.432277</td>\n",
       "      <td>6883.6590</td>\n",
       "      <td>243610.0</td>\n",
       "      <td>eng</td>\n",
       "      <td>0.00</td>\n",
       "    </tr>\n",
       "    <tr>\n",
       "      <th>6</th>\n",
       "      <td>IT</td>\n",
       "      <td>41.873990</td>\n",
       "      <td>12.564167</td>\n",
       "      <td>8636.6310</td>\n",
       "      <td>301340.0</td>\n",
       "      <td>ita</td>\n",
       "      <td>89.40</td>\n",
       "    </tr>\n",
       "    <tr>\n",
       "      <th>7</th>\n",
       "      <td>NL</td>\n",
       "      <td>52.133057</td>\n",
       "      <td>5.295250</td>\n",
       "      <td>7524.3203</td>\n",
       "      <td>41543.0</td>\n",
       "      <td>nld</td>\n",
       "      <td>63.22</td>\n",
       "    </tr>\n",
       "    <tr>\n",
       "      <th>8</th>\n",
       "      <td>PT</td>\n",
       "      <td>39.553444</td>\n",
       "      <td>-7.839319</td>\n",
       "      <td>7355.2534</td>\n",
       "      <td>92090.0</td>\n",
       "      <td>por</td>\n",
       "      <td>95.45</td>\n",
       "    </tr>\n",
       "    <tr>\n",
       "      <th>9</th>\n",
       "      <td>US</td>\n",
       "      <td>36.966427</td>\n",
       "      <td>-95.844030</td>\n",
       "      <td>0.0000</td>\n",
       "      <td>9826675.0</td>\n",
       "      <td>eng</td>\n",
       "      <td>0.00</td>\n",
       "    </tr>\n",
       "  </tbody>\n",
       "</table>\n",
       "</div>"
      ],
      "text/plain": [
       "  country_destination  lat_destination  lng_destination  distance_km  \\\n",
       "0                  AU       -26.853388       133.275160   15297.7440   \n",
       "1                  CA        62.393303       -96.818146    2828.1333   \n",
       "2                  DE        51.165707        10.452764    7879.5680   \n",
       "3                  ES        39.896027        -2.487694    7730.7240   \n",
       "4                  FR        46.232193         2.209667    7682.9450   \n",
       "5                  GB        54.633220        -3.432277    6883.6590   \n",
       "6                  IT        41.873990        12.564167    8636.6310   \n",
       "7                  NL        52.133057         5.295250    7524.3203   \n",
       "8                  PT        39.553444        -7.839319    7355.2534   \n",
       "9                  US        36.966427       -95.844030       0.0000   \n",
       "\n",
       "   destination_km2 destination_language   language_levenshtein_distance  \n",
       "0        7741220.0                   eng                           0.00  \n",
       "1        9984670.0                   eng                           0.00  \n",
       "2         357022.0                   deu                          72.61  \n",
       "3         505370.0                   spa                          92.25  \n",
       "4         643801.0                   fra                          92.06  \n",
       "5         243610.0                   eng                           0.00  \n",
       "6         301340.0                   ita                          89.40  \n",
       "7          41543.0                   nld                          63.22  \n",
       "8          92090.0                   por                          95.45  \n",
       "9        9826675.0                   eng                           0.00  "
      ]
     },
     "execution_count": 4,
     "metadata": {},
     "output_type": "execute_result"
    }
   ],
   "source": [
    "data_raw_countries = pd.read_csv(\"datasets/countries.csv\", low_memory=False)\n",
    "data_raw_countries"
   ]
  },
  {
   "cell_type": "code",
   "execution_count": 5,
   "id": "3f535565",
   "metadata": {
    "ExecuteTime": {
     "end_time": "2023-01-10T22:30:59.950607Z",
     "start_time": "2023-01-10T22:30:59.909786Z"
    }
   },
   "outputs": [
    {
     "data": {
      "text/html": [
       "<div>\n",
       "<style scoped>\n",
       "    .dataframe tbody tr th:only-of-type {\n",
       "        vertical-align: middle;\n",
       "    }\n",
       "\n",
       "    .dataframe tbody tr th {\n",
       "        vertical-align: top;\n",
       "    }\n",
       "\n",
       "    .dataframe thead th {\n",
       "        text-align: right;\n",
       "    }\n",
       "</style>\n",
       "<table border=\"1\" class=\"dataframe\">\n",
       "  <thead>\n",
       "    <tr style=\"text-align: right;\">\n",
       "      <th></th>\n",
       "      <th>id</th>\n",
       "      <th>country</th>\n",
       "    </tr>\n",
       "  </thead>\n",
       "  <tbody>\n",
       "    <tr>\n",
       "      <th>0</th>\n",
       "      <td>5uwns89zht</td>\n",
       "      <td>NDF</td>\n",
       "    </tr>\n",
       "    <tr>\n",
       "      <th>1</th>\n",
       "      <td>jtl0dijy2j</td>\n",
       "      <td>NDF</td>\n",
       "    </tr>\n",
       "    <tr>\n",
       "      <th>2</th>\n",
       "      <td>xx0ulgorjt</td>\n",
       "      <td>NDF</td>\n",
       "    </tr>\n",
       "    <tr>\n",
       "      <th>3</th>\n",
       "      <td>6c6puo6ix0</td>\n",
       "      <td>NDF</td>\n",
       "    </tr>\n",
       "    <tr>\n",
       "      <th>4</th>\n",
       "      <td>czqhjk3yfe</td>\n",
       "      <td>NDF</td>\n",
       "    </tr>\n",
       "    <tr>\n",
       "      <th>...</th>\n",
       "      <td>...</td>\n",
       "      <td>...</td>\n",
       "    </tr>\n",
       "    <tr>\n",
       "      <th>62091</th>\n",
       "      <td>cv0na2lf5a</td>\n",
       "      <td>NDF</td>\n",
       "    </tr>\n",
       "    <tr>\n",
       "      <th>62092</th>\n",
       "      <td>zp8xfonng8</td>\n",
       "      <td>NDF</td>\n",
       "    </tr>\n",
       "    <tr>\n",
       "      <th>62093</th>\n",
       "      <td>fa6260ziny</td>\n",
       "      <td>NDF</td>\n",
       "    </tr>\n",
       "    <tr>\n",
       "      <th>62094</th>\n",
       "      <td>87k0fy4ugm</td>\n",
       "      <td>NDF</td>\n",
       "    </tr>\n",
       "    <tr>\n",
       "      <th>62095</th>\n",
       "      <td>9uqfg8txu3</td>\n",
       "      <td>NDF</td>\n",
       "    </tr>\n",
       "  </tbody>\n",
       "</table>\n",
       "<p>62096 rows × 2 columns</p>\n",
       "</div>"
      ],
      "text/plain": [
       "               id country\n",
       "0      5uwns89zht     NDF\n",
       "1      jtl0dijy2j     NDF\n",
       "2      xx0ulgorjt     NDF\n",
       "3      6c6puo6ix0     NDF\n",
       "4      czqhjk3yfe     NDF\n",
       "...           ...     ...\n",
       "62091  cv0na2lf5a     NDF\n",
       "62092  zp8xfonng8     NDF\n",
       "62093  fa6260ziny     NDF\n",
       "62094  87k0fy4ugm     NDF\n",
       "62095  9uqfg8txu3     NDF\n",
       "\n",
       "[62096 rows x 2 columns]"
      ]
     },
     "execution_count": 5,
     "metadata": {},
     "output_type": "execute_result"
    }
   ],
   "source": [
    "data_raw_sample_submission = pd.read_csv(\"datasets/sample_submission_NDF.csv\", low_memory=False)\n",
    "data_raw_sample_submission"
   ]
  },
  {
   "cell_type": "code",
   "execution_count": 9,
   "id": "f228fb4d",
   "metadata": {
    "ExecuteTime": {
     "end_time": "2023-01-10T23:23:03.782532Z",
     "start_time": "2023-01-10T23:22:58.912827Z"
    }
   },
   "outputs": [
    {
     "data": {
      "text/html": [
       "<div>\n",
       "<style scoped>\n",
       "    .dataframe tbody tr th:only-of-type {\n",
       "        vertical-align: middle;\n",
       "    }\n",
       "\n",
       "    .dataframe tbody tr th {\n",
       "        vertical-align: top;\n",
       "    }\n",
       "\n",
       "    .dataframe thead th {\n",
       "        text-align: right;\n",
       "    }\n",
       "</style>\n",
       "<table border=\"1\" class=\"dataframe\">\n",
       "  <thead>\n",
       "    <tr style=\"text-align: right;\">\n",
       "      <th></th>\n",
       "      <th>user_id</th>\n",
       "      <th>action</th>\n",
       "      <th>action_type</th>\n",
       "      <th>action_detail</th>\n",
       "      <th>device_type</th>\n",
       "      <th>secs_elapsed</th>\n",
       "    </tr>\n",
       "  </thead>\n",
       "  <tbody>\n",
       "    <tr>\n",
       "      <th>0</th>\n",
       "      <td>d1mm9tcy42</td>\n",
       "      <td>lookup</td>\n",
       "      <td>NaN</td>\n",
       "      <td>NaN</td>\n",
       "      <td>Windows Desktop</td>\n",
       "      <td>319.0</td>\n",
       "    </tr>\n",
       "    <tr>\n",
       "      <th>1</th>\n",
       "      <td>d1mm9tcy42</td>\n",
       "      <td>search_results</td>\n",
       "      <td>click</td>\n",
       "      <td>view_search_results</td>\n",
       "      <td>Windows Desktop</td>\n",
       "      <td>67753.0</td>\n",
       "    </tr>\n",
       "    <tr>\n",
       "      <th>2</th>\n",
       "      <td>d1mm9tcy42</td>\n",
       "      <td>lookup</td>\n",
       "      <td>NaN</td>\n",
       "      <td>NaN</td>\n",
       "      <td>Windows Desktop</td>\n",
       "      <td>301.0</td>\n",
       "    </tr>\n",
       "    <tr>\n",
       "      <th>3</th>\n",
       "      <td>d1mm9tcy42</td>\n",
       "      <td>search_results</td>\n",
       "      <td>click</td>\n",
       "      <td>view_search_results</td>\n",
       "      <td>Windows Desktop</td>\n",
       "      <td>22141.0</td>\n",
       "    </tr>\n",
       "    <tr>\n",
       "      <th>4</th>\n",
       "      <td>d1mm9tcy42</td>\n",
       "      <td>lookup</td>\n",
       "      <td>NaN</td>\n",
       "      <td>NaN</td>\n",
       "      <td>Windows Desktop</td>\n",
       "      <td>435.0</td>\n",
       "    </tr>\n",
       "    <tr>\n",
       "      <th>...</th>\n",
       "      <td>...</td>\n",
       "      <td>...</td>\n",
       "      <td>...</td>\n",
       "      <td>...</td>\n",
       "      <td>...</td>\n",
       "      <td>...</td>\n",
       "    </tr>\n",
       "    <tr>\n",
       "      <th>10567732</th>\n",
       "      <td>9uqfg8txu3</td>\n",
       "      <td>dashboard</td>\n",
       "      <td>view</td>\n",
       "      <td>dashboard</td>\n",
       "      <td>Windows Desktop</td>\n",
       "      <td>556.0</td>\n",
       "    </tr>\n",
       "    <tr>\n",
       "      <th>10567733</th>\n",
       "      <td>9uqfg8txu3</td>\n",
       "      <td>edit</td>\n",
       "      <td>view</td>\n",
       "      <td>edit_profile</td>\n",
       "      <td>Windows Desktop</td>\n",
       "      <td>6624.0</td>\n",
       "    </tr>\n",
       "    <tr>\n",
       "      <th>10567734</th>\n",
       "      <td>9uqfg8txu3</td>\n",
       "      <td>webcam_upload</td>\n",
       "      <td>-unknown-</td>\n",
       "      <td>-unknown-</td>\n",
       "      <td>Windows Desktop</td>\n",
       "      <td>200125.0</td>\n",
       "    </tr>\n",
       "    <tr>\n",
       "      <th>10567735</th>\n",
       "      <td>9uqfg8txu3</td>\n",
       "      <td>active</td>\n",
       "      <td>-unknown-</td>\n",
       "      <td>-unknown-</td>\n",
       "      <td>-unknown-</td>\n",
       "      <td>17624.0</td>\n",
       "    </tr>\n",
       "    <tr>\n",
       "      <th>10567736</th>\n",
       "      <td>9uqfg8txu3</td>\n",
       "      <td>show_personalize</td>\n",
       "      <td>data</td>\n",
       "      <td>user_profile_content_update</td>\n",
       "      <td>Windows Desktop</td>\n",
       "      <td>1221.0</td>\n",
       "    </tr>\n",
       "  </tbody>\n",
       "</table>\n",
       "<p>10567737 rows × 6 columns</p>\n",
       "</div>"
      ],
      "text/plain": [
       "             user_id            action action_type  \\\n",
       "0         d1mm9tcy42            lookup         NaN   \n",
       "1         d1mm9tcy42    search_results       click   \n",
       "2         d1mm9tcy42            lookup         NaN   \n",
       "3         d1mm9tcy42    search_results       click   \n",
       "4         d1mm9tcy42            lookup         NaN   \n",
       "...              ...               ...         ...   \n",
       "10567732  9uqfg8txu3         dashboard        view   \n",
       "10567733  9uqfg8txu3              edit        view   \n",
       "10567734  9uqfg8txu3     webcam_upload   -unknown-   \n",
       "10567735  9uqfg8txu3            active   -unknown-   \n",
       "10567736  9uqfg8txu3  show_personalize        data   \n",
       "\n",
       "                        action_detail      device_type  secs_elapsed  \n",
       "0                                 NaN  Windows Desktop         319.0  \n",
       "1                 view_search_results  Windows Desktop       67753.0  \n",
       "2                                 NaN  Windows Desktop         301.0  \n",
       "3                 view_search_results  Windows Desktop       22141.0  \n",
       "4                                 NaN  Windows Desktop         435.0  \n",
       "...                               ...              ...           ...  \n",
       "10567732                    dashboard  Windows Desktop         556.0  \n",
       "10567733                 edit_profile  Windows Desktop        6624.0  \n",
       "10567734                    -unknown-  Windows Desktop      200125.0  \n",
       "10567735                    -unknown-        -unknown-       17624.0  \n",
       "10567736  user_profile_content_update  Windows Desktop        1221.0  \n",
       "\n",
       "[10567737 rows x 6 columns]"
      ]
     },
     "execution_count": 9,
     "metadata": {},
     "output_type": "execute_result"
    }
   ],
   "source": [
    "data_raw_sessions = pd.read_csv(\"datasets/sessions.csv\", low_memory=True)\n",
    "data_raw_sessions"
   ]
  },
  {
   "cell_type": "code",
   "execution_count": 7,
   "id": "02e18d09",
   "metadata": {
    "ExecuteTime": {
     "end_time": "2023-01-10T22:33:19.693130Z",
     "start_time": "2023-01-10T22:33:19.514367Z"
    }
   },
   "outputs": [
    {
     "data": {
      "text/html": [
       "<div>\n",
       "<style scoped>\n",
       "    .dataframe tbody tr th:only-of-type {\n",
       "        vertical-align: middle;\n",
       "    }\n",
       "\n",
       "    .dataframe tbody tr th {\n",
       "        vertical-align: top;\n",
       "    }\n",
       "\n",
       "    .dataframe thead th {\n",
       "        text-align: right;\n",
       "    }\n",
       "</style>\n",
       "<table border=\"1\" class=\"dataframe\">\n",
       "  <thead>\n",
       "    <tr style=\"text-align: right;\">\n",
       "      <th></th>\n",
       "      <th>id</th>\n",
       "      <th>date_account_created</th>\n",
       "      <th>timestamp_first_active</th>\n",
       "      <th>date_first_booking</th>\n",
       "      <th>gender</th>\n",
       "      <th>age</th>\n",
       "      <th>signup_method</th>\n",
       "      <th>signup_flow</th>\n",
       "      <th>language</th>\n",
       "      <th>affiliate_channel</th>\n",
       "      <th>affiliate_provider</th>\n",
       "      <th>first_affiliate_tracked</th>\n",
       "      <th>signup_app</th>\n",
       "      <th>first_device_type</th>\n",
       "      <th>first_browser</th>\n",
       "    </tr>\n",
       "  </thead>\n",
       "  <tbody>\n",
       "    <tr>\n",
       "      <th>0</th>\n",
       "      <td>5uwns89zht</td>\n",
       "      <td>2014-07-01</td>\n",
       "      <td>20140701000006</td>\n",
       "      <td>NaN</td>\n",
       "      <td>FEMALE</td>\n",
       "      <td>35.0</td>\n",
       "      <td>facebook</td>\n",
       "      <td>0</td>\n",
       "      <td>en</td>\n",
       "      <td>direct</td>\n",
       "      <td>direct</td>\n",
       "      <td>untracked</td>\n",
       "      <td>Moweb</td>\n",
       "      <td>iPhone</td>\n",
       "      <td>Mobile Safari</td>\n",
       "    </tr>\n",
       "    <tr>\n",
       "      <th>1</th>\n",
       "      <td>jtl0dijy2j</td>\n",
       "      <td>2014-07-01</td>\n",
       "      <td>20140701000051</td>\n",
       "      <td>NaN</td>\n",
       "      <td>-unknown-</td>\n",
       "      <td>NaN</td>\n",
       "      <td>basic</td>\n",
       "      <td>0</td>\n",
       "      <td>en</td>\n",
       "      <td>direct</td>\n",
       "      <td>direct</td>\n",
       "      <td>untracked</td>\n",
       "      <td>Moweb</td>\n",
       "      <td>iPhone</td>\n",
       "      <td>Mobile Safari</td>\n",
       "    </tr>\n",
       "    <tr>\n",
       "      <th>2</th>\n",
       "      <td>xx0ulgorjt</td>\n",
       "      <td>2014-07-01</td>\n",
       "      <td>20140701000148</td>\n",
       "      <td>NaN</td>\n",
       "      <td>-unknown-</td>\n",
       "      <td>NaN</td>\n",
       "      <td>basic</td>\n",
       "      <td>0</td>\n",
       "      <td>en</td>\n",
       "      <td>direct</td>\n",
       "      <td>direct</td>\n",
       "      <td>linked</td>\n",
       "      <td>Web</td>\n",
       "      <td>Windows Desktop</td>\n",
       "      <td>Chrome</td>\n",
       "    </tr>\n",
       "    <tr>\n",
       "      <th>3</th>\n",
       "      <td>6c6puo6ix0</td>\n",
       "      <td>2014-07-01</td>\n",
       "      <td>20140701000215</td>\n",
       "      <td>NaN</td>\n",
       "      <td>-unknown-</td>\n",
       "      <td>NaN</td>\n",
       "      <td>basic</td>\n",
       "      <td>0</td>\n",
       "      <td>en</td>\n",
       "      <td>direct</td>\n",
       "      <td>direct</td>\n",
       "      <td>linked</td>\n",
       "      <td>Web</td>\n",
       "      <td>Windows Desktop</td>\n",
       "      <td>IE</td>\n",
       "    </tr>\n",
       "    <tr>\n",
       "      <th>4</th>\n",
       "      <td>czqhjk3yfe</td>\n",
       "      <td>2014-07-01</td>\n",
       "      <td>20140701000305</td>\n",
       "      <td>NaN</td>\n",
       "      <td>-unknown-</td>\n",
       "      <td>NaN</td>\n",
       "      <td>basic</td>\n",
       "      <td>0</td>\n",
       "      <td>en</td>\n",
       "      <td>direct</td>\n",
       "      <td>direct</td>\n",
       "      <td>untracked</td>\n",
       "      <td>Web</td>\n",
       "      <td>Mac Desktop</td>\n",
       "      <td>Safari</td>\n",
       "    </tr>\n",
       "    <tr>\n",
       "      <th>...</th>\n",
       "      <td>...</td>\n",
       "      <td>...</td>\n",
       "      <td>...</td>\n",
       "      <td>...</td>\n",
       "      <td>...</td>\n",
       "      <td>...</td>\n",
       "      <td>...</td>\n",
       "      <td>...</td>\n",
       "      <td>...</td>\n",
       "      <td>...</td>\n",
       "      <td>...</td>\n",
       "      <td>...</td>\n",
       "      <td>...</td>\n",
       "      <td>...</td>\n",
       "      <td>...</td>\n",
       "    </tr>\n",
       "    <tr>\n",
       "      <th>62091</th>\n",
       "      <td>cv0na2lf5a</td>\n",
       "      <td>2014-09-30</td>\n",
       "      <td>20140930235232</td>\n",
       "      <td>NaN</td>\n",
       "      <td>-unknown-</td>\n",
       "      <td>31.0</td>\n",
       "      <td>basic</td>\n",
       "      <td>0</td>\n",
       "      <td>en</td>\n",
       "      <td>direct</td>\n",
       "      <td>direct</td>\n",
       "      <td>untracked</td>\n",
       "      <td>Web</td>\n",
       "      <td>Windows Desktop</td>\n",
       "      <td>IE</td>\n",
       "    </tr>\n",
       "    <tr>\n",
       "      <th>62092</th>\n",
       "      <td>zp8xfonng8</td>\n",
       "      <td>2014-09-30</td>\n",
       "      <td>20140930235306</td>\n",
       "      <td>NaN</td>\n",
       "      <td>-unknown-</td>\n",
       "      <td>NaN</td>\n",
       "      <td>basic</td>\n",
       "      <td>23</td>\n",
       "      <td>ko</td>\n",
       "      <td>direct</td>\n",
       "      <td>direct</td>\n",
       "      <td>untracked</td>\n",
       "      <td>Android</td>\n",
       "      <td>Android Phone</td>\n",
       "      <td>-unknown-</td>\n",
       "    </tr>\n",
       "    <tr>\n",
       "      <th>62093</th>\n",
       "      <td>fa6260ziny</td>\n",
       "      <td>2014-09-30</td>\n",
       "      <td>20140930235408</td>\n",
       "      <td>NaN</td>\n",
       "      <td>-unknown-</td>\n",
       "      <td>NaN</td>\n",
       "      <td>basic</td>\n",
       "      <td>0</td>\n",
       "      <td>de</td>\n",
       "      <td>direct</td>\n",
       "      <td>direct</td>\n",
       "      <td>linked</td>\n",
       "      <td>Web</td>\n",
       "      <td>Windows Desktop</td>\n",
       "      <td>Firefox</td>\n",
       "    </tr>\n",
       "    <tr>\n",
       "      <th>62094</th>\n",
       "      <td>87k0fy4ugm</td>\n",
       "      <td>2014-09-30</td>\n",
       "      <td>20140930235430</td>\n",
       "      <td>NaN</td>\n",
       "      <td>-unknown-</td>\n",
       "      <td>NaN</td>\n",
       "      <td>basic</td>\n",
       "      <td>0</td>\n",
       "      <td>en</td>\n",
       "      <td>sem-brand</td>\n",
       "      <td>google</td>\n",
       "      <td>omg</td>\n",
       "      <td>Web</td>\n",
       "      <td>Mac Desktop</td>\n",
       "      <td>Safari</td>\n",
       "    </tr>\n",
       "    <tr>\n",
       "      <th>62095</th>\n",
       "      <td>9uqfg8txu3</td>\n",
       "      <td>2014-09-30</td>\n",
       "      <td>20140930235901</td>\n",
       "      <td>NaN</td>\n",
       "      <td>FEMALE</td>\n",
       "      <td>49.0</td>\n",
       "      <td>basic</td>\n",
       "      <td>0</td>\n",
       "      <td>en</td>\n",
       "      <td>other</td>\n",
       "      <td>other</td>\n",
       "      <td>tracked-other</td>\n",
       "      <td>Web</td>\n",
       "      <td>Windows Desktop</td>\n",
       "      <td>Chrome</td>\n",
       "    </tr>\n",
       "  </tbody>\n",
       "</table>\n",
       "<p>62096 rows × 15 columns</p>\n",
       "</div>"
      ],
      "text/plain": [
       "               id date_account_created  timestamp_first_active  \\\n",
       "0      5uwns89zht           2014-07-01          20140701000006   \n",
       "1      jtl0dijy2j           2014-07-01          20140701000051   \n",
       "2      xx0ulgorjt           2014-07-01          20140701000148   \n",
       "3      6c6puo6ix0           2014-07-01          20140701000215   \n",
       "4      czqhjk3yfe           2014-07-01          20140701000305   \n",
       "...           ...                  ...                     ...   \n",
       "62091  cv0na2lf5a           2014-09-30          20140930235232   \n",
       "62092  zp8xfonng8           2014-09-30          20140930235306   \n",
       "62093  fa6260ziny           2014-09-30          20140930235408   \n",
       "62094  87k0fy4ugm           2014-09-30          20140930235430   \n",
       "62095  9uqfg8txu3           2014-09-30          20140930235901   \n",
       "\n",
       "       date_first_booking     gender   age signup_method  signup_flow  \\\n",
       "0                     NaN     FEMALE  35.0      facebook            0   \n",
       "1                     NaN  -unknown-   NaN         basic            0   \n",
       "2                     NaN  -unknown-   NaN         basic            0   \n",
       "3                     NaN  -unknown-   NaN         basic            0   \n",
       "4                     NaN  -unknown-   NaN         basic            0   \n",
       "...                   ...        ...   ...           ...          ...   \n",
       "62091                 NaN  -unknown-  31.0         basic            0   \n",
       "62092                 NaN  -unknown-   NaN         basic           23   \n",
       "62093                 NaN  -unknown-   NaN         basic            0   \n",
       "62094                 NaN  -unknown-   NaN         basic            0   \n",
       "62095                 NaN     FEMALE  49.0         basic            0   \n",
       "\n",
       "      language affiliate_channel affiliate_provider first_affiliate_tracked  \\\n",
       "0           en            direct             direct               untracked   \n",
       "1           en            direct             direct               untracked   \n",
       "2           en            direct             direct                  linked   \n",
       "3           en            direct             direct                  linked   \n",
       "4           en            direct             direct               untracked   \n",
       "...        ...               ...                ...                     ...   \n",
       "62091       en            direct             direct               untracked   \n",
       "62092       ko            direct             direct               untracked   \n",
       "62093       de            direct             direct                  linked   \n",
       "62094       en         sem-brand             google                     omg   \n",
       "62095       en             other              other           tracked-other   \n",
       "\n",
       "      signup_app first_device_type  first_browser  \n",
       "0          Moweb            iPhone  Mobile Safari  \n",
       "1          Moweb            iPhone  Mobile Safari  \n",
       "2            Web   Windows Desktop         Chrome  \n",
       "3            Web   Windows Desktop             IE  \n",
       "4            Web       Mac Desktop         Safari  \n",
       "...          ...               ...            ...  \n",
       "62091        Web   Windows Desktop             IE  \n",
       "62092    Android     Android Phone      -unknown-  \n",
       "62093        Web   Windows Desktop        Firefox  \n",
       "62094        Web       Mac Desktop         Safari  \n",
       "62095        Web   Windows Desktop         Chrome  \n",
       "\n",
       "[62096 rows x 15 columns]"
      ]
     },
     "execution_count": 7,
     "metadata": {},
     "output_type": "execute_result"
    }
   ],
   "source": [
    "data_raw_test_users = pd.read_csv(\"datasets/test_users.csv\", low_memory=False)\n",
    "data_raw_test_users"
   ]
  },
  {
   "cell_type": "code",
   "execution_count": 8,
   "id": "523e1b21",
   "metadata": {
    "ExecuteTime": {
     "end_time": "2023-01-10T22:34:40.305172Z",
     "start_time": "2023-01-10T22:34:39.780359Z"
    }
   },
   "outputs": [
    {
     "data": {
      "text/html": [
       "<div>\n",
       "<style scoped>\n",
       "    .dataframe tbody tr th:only-of-type {\n",
       "        vertical-align: middle;\n",
       "    }\n",
       "\n",
       "    .dataframe tbody tr th {\n",
       "        vertical-align: top;\n",
       "    }\n",
       "\n",
       "    .dataframe thead th {\n",
       "        text-align: right;\n",
       "    }\n",
       "</style>\n",
       "<table border=\"1\" class=\"dataframe\">\n",
       "  <thead>\n",
       "    <tr style=\"text-align: right;\">\n",
       "      <th></th>\n",
       "      <th>id</th>\n",
       "      <th>date_account_created</th>\n",
       "      <th>timestamp_first_active</th>\n",
       "      <th>date_first_booking</th>\n",
       "      <th>gender</th>\n",
       "      <th>age</th>\n",
       "      <th>signup_method</th>\n",
       "      <th>signup_flow</th>\n",
       "      <th>language</th>\n",
       "      <th>affiliate_channel</th>\n",
       "      <th>affiliate_provider</th>\n",
       "      <th>first_affiliate_tracked</th>\n",
       "      <th>signup_app</th>\n",
       "      <th>first_device_type</th>\n",
       "      <th>first_browser</th>\n",
       "      <th>country_destination</th>\n",
       "    </tr>\n",
       "  </thead>\n",
       "  <tbody>\n",
       "    <tr>\n",
       "      <th>0</th>\n",
       "      <td>gxn3p5htnn</td>\n",
       "      <td>2010-06-28</td>\n",
       "      <td>20090319043255</td>\n",
       "      <td>NaN</td>\n",
       "      <td>-unknown-</td>\n",
       "      <td>NaN</td>\n",
       "      <td>facebook</td>\n",
       "      <td>0</td>\n",
       "      <td>en</td>\n",
       "      <td>direct</td>\n",
       "      <td>direct</td>\n",
       "      <td>untracked</td>\n",
       "      <td>Web</td>\n",
       "      <td>Mac Desktop</td>\n",
       "      <td>Chrome</td>\n",
       "      <td>NDF</td>\n",
       "    </tr>\n",
       "    <tr>\n",
       "      <th>1</th>\n",
       "      <td>820tgsjxq7</td>\n",
       "      <td>2011-05-25</td>\n",
       "      <td>20090523174809</td>\n",
       "      <td>NaN</td>\n",
       "      <td>MALE</td>\n",
       "      <td>38.0</td>\n",
       "      <td>facebook</td>\n",
       "      <td>0</td>\n",
       "      <td>en</td>\n",
       "      <td>seo</td>\n",
       "      <td>google</td>\n",
       "      <td>untracked</td>\n",
       "      <td>Web</td>\n",
       "      <td>Mac Desktop</td>\n",
       "      <td>Chrome</td>\n",
       "      <td>NDF</td>\n",
       "    </tr>\n",
       "    <tr>\n",
       "      <th>2</th>\n",
       "      <td>4ft3gnwmtx</td>\n",
       "      <td>2010-09-28</td>\n",
       "      <td>20090609231247</td>\n",
       "      <td>2010-08-02</td>\n",
       "      <td>FEMALE</td>\n",
       "      <td>56.0</td>\n",
       "      <td>basic</td>\n",
       "      <td>3</td>\n",
       "      <td>en</td>\n",
       "      <td>direct</td>\n",
       "      <td>direct</td>\n",
       "      <td>untracked</td>\n",
       "      <td>Web</td>\n",
       "      <td>Windows Desktop</td>\n",
       "      <td>IE</td>\n",
       "      <td>US</td>\n",
       "    </tr>\n",
       "    <tr>\n",
       "      <th>3</th>\n",
       "      <td>bjjt8pjhuk</td>\n",
       "      <td>2011-12-05</td>\n",
       "      <td>20091031060129</td>\n",
       "      <td>2012-09-08</td>\n",
       "      <td>FEMALE</td>\n",
       "      <td>42.0</td>\n",
       "      <td>facebook</td>\n",
       "      <td>0</td>\n",
       "      <td>en</td>\n",
       "      <td>direct</td>\n",
       "      <td>direct</td>\n",
       "      <td>untracked</td>\n",
       "      <td>Web</td>\n",
       "      <td>Mac Desktop</td>\n",
       "      <td>Firefox</td>\n",
       "      <td>other</td>\n",
       "    </tr>\n",
       "    <tr>\n",
       "      <th>4</th>\n",
       "      <td>87mebub9p4</td>\n",
       "      <td>2010-09-14</td>\n",
       "      <td>20091208061105</td>\n",
       "      <td>2010-02-18</td>\n",
       "      <td>-unknown-</td>\n",
       "      <td>41.0</td>\n",
       "      <td>basic</td>\n",
       "      <td>0</td>\n",
       "      <td>en</td>\n",
       "      <td>direct</td>\n",
       "      <td>direct</td>\n",
       "      <td>untracked</td>\n",
       "      <td>Web</td>\n",
       "      <td>Mac Desktop</td>\n",
       "      <td>Chrome</td>\n",
       "      <td>US</td>\n",
       "    </tr>\n",
       "    <tr>\n",
       "      <th>...</th>\n",
       "      <td>...</td>\n",
       "      <td>...</td>\n",
       "      <td>...</td>\n",
       "      <td>...</td>\n",
       "      <td>...</td>\n",
       "      <td>...</td>\n",
       "      <td>...</td>\n",
       "      <td>...</td>\n",
       "      <td>...</td>\n",
       "      <td>...</td>\n",
       "      <td>...</td>\n",
       "      <td>...</td>\n",
       "      <td>...</td>\n",
       "      <td>...</td>\n",
       "      <td>...</td>\n",
       "      <td>...</td>\n",
       "    </tr>\n",
       "    <tr>\n",
       "      <th>213446</th>\n",
       "      <td>zxodksqpep</td>\n",
       "      <td>2014-06-30</td>\n",
       "      <td>20140630235636</td>\n",
       "      <td>NaN</td>\n",
       "      <td>MALE</td>\n",
       "      <td>32.0</td>\n",
       "      <td>basic</td>\n",
       "      <td>0</td>\n",
       "      <td>en</td>\n",
       "      <td>sem-brand</td>\n",
       "      <td>google</td>\n",
       "      <td>omg</td>\n",
       "      <td>Web</td>\n",
       "      <td>Mac Desktop</td>\n",
       "      <td>Safari</td>\n",
       "      <td>NDF</td>\n",
       "    </tr>\n",
       "    <tr>\n",
       "      <th>213447</th>\n",
       "      <td>mhewnxesx9</td>\n",
       "      <td>2014-06-30</td>\n",
       "      <td>20140630235719</td>\n",
       "      <td>NaN</td>\n",
       "      <td>-unknown-</td>\n",
       "      <td>NaN</td>\n",
       "      <td>basic</td>\n",
       "      <td>0</td>\n",
       "      <td>en</td>\n",
       "      <td>direct</td>\n",
       "      <td>direct</td>\n",
       "      <td>linked</td>\n",
       "      <td>Web</td>\n",
       "      <td>Windows Desktop</td>\n",
       "      <td>Chrome</td>\n",
       "      <td>NDF</td>\n",
       "    </tr>\n",
       "    <tr>\n",
       "      <th>213448</th>\n",
       "      <td>6o3arsjbb4</td>\n",
       "      <td>2014-06-30</td>\n",
       "      <td>20140630235754</td>\n",
       "      <td>NaN</td>\n",
       "      <td>-unknown-</td>\n",
       "      <td>32.0</td>\n",
       "      <td>basic</td>\n",
       "      <td>0</td>\n",
       "      <td>en</td>\n",
       "      <td>direct</td>\n",
       "      <td>direct</td>\n",
       "      <td>untracked</td>\n",
       "      <td>Web</td>\n",
       "      <td>Mac Desktop</td>\n",
       "      <td>Firefox</td>\n",
       "      <td>NDF</td>\n",
       "    </tr>\n",
       "    <tr>\n",
       "      <th>213449</th>\n",
       "      <td>jh95kwisub</td>\n",
       "      <td>2014-06-30</td>\n",
       "      <td>20140630235822</td>\n",
       "      <td>NaN</td>\n",
       "      <td>-unknown-</td>\n",
       "      <td>NaN</td>\n",
       "      <td>basic</td>\n",
       "      <td>25</td>\n",
       "      <td>en</td>\n",
       "      <td>other</td>\n",
       "      <td>other</td>\n",
       "      <td>tracked-other</td>\n",
       "      <td>iOS</td>\n",
       "      <td>iPhone</td>\n",
       "      <td>Mobile Safari</td>\n",
       "      <td>NDF</td>\n",
       "    </tr>\n",
       "    <tr>\n",
       "      <th>213450</th>\n",
       "      <td>nw9fwlyb5f</td>\n",
       "      <td>2014-06-30</td>\n",
       "      <td>20140630235824</td>\n",
       "      <td>NaN</td>\n",
       "      <td>-unknown-</td>\n",
       "      <td>NaN</td>\n",
       "      <td>basic</td>\n",
       "      <td>25</td>\n",
       "      <td>en</td>\n",
       "      <td>direct</td>\n",
       "      <td>direct</td>\n",
       "      <td>untracked</td>\n",
       "      <td>iOS</td>\n",
       "      <td>iPhone</td>\n",
       "      <td>-unknown-</td>\n",
       "      <td>NDF</td>\n",
       "    </tr>\n",
       "  </tbody>\n",
       "</table>\n",
       "<p>213451 rows × 16 columns</p>\n",
       "</div>"
      ],
      "text/plain": [
       "                id date_account_created  timestamp_first_active  \\\n",
       "0       gxn3p5htnn           2010-06-28          20090319043255   \n",
       "1       820tgsjxq7           2011-05-25          20090523174809   \n",
       "2       4ft3gnwmtx           2010-09-28          20090609231247   \n",
       "3       bjjt8pjhuk           2011-12-05          20091031060129   \n",
       "4       87mebub9p4           2010-09-14          20091208061105   \n",
       "...            ...                  ...                     ...   \n",
       "213446  zxodksqpep           2014-06-30          20140630235636   \n",
       "213447  mhewnxesx9           2014-06-30          20140630235719   \n",
       "213448  6o3arsjbb4           2014-06-30          20140630235754   \n",
       "213449  jh95kwisub           2014-06-30          20140630235822   \n",
       "213450  nw9fwlyb5f           2014-06-30          20140630235824   \n",
       "\n",
       "       date_first_booking     gender   age signup_method  signup_flow  \\\n",
       "0                     NaN  -unknown-   NaN      facebook            0   \n",
       "1                     NaN       MALE  38.0      facebook            0   \n",
       "2              2010-08-02     FEMALE  56.0         basic            3   \n",
       "3              2012-09-08     FEMALE  42.0      facebook            0   \n",
       "4              2010-02-18  -unknown-  41.0         basic            0   \n",
       "...                   ...        ...   ...           ...          ...   \n",
       "213446                NaN       MALE  32.0         basic            0   \n",
       "213447                NaN  -unknown-   NaN         basic            0   \n",
       "213448                NaN  -unknown-  32.0         basic            0   \n",
       "213449                NaN  -unknown-   NaN         basic           25   \n",
       "213450                NaN  -unknown-   NaN         basic           25   \n",
       "\n",
       "       language affiliate_channel affiliate_provider first_affiliate_tracked  \\\n",
       "0            en            direct             direct               untracked   \n",
       "1            en               seo             google               untracked   \n",
       "2            en            direct             direct               untracked   \n",
       "3            en            direct             direct               untracked   \n",
       "4            en            direct             direct               untracked   \n",
       "...         ...               ...                ...                     ...   \n",
       "213446       en         sem-brand             google                     omg   \n",
       "213447       en            direct             direct                  linked   \n",
       "213448       en            direct             direct               untracked   \n",
       "213449       en             other              other           tracked-other   \n",
       "213450       en            direct             direct               untracked   \n",
       "\n",
       "       signup_app first_device_type  first_browser country_destination  \n",
       "0             Web       Mac Desktop         Chrome                 NDF  \n",
       "1             Web       Mac Desktop         Chrome                 NDF  \n",
       "2             Web   Windows Desktop             IE                  US  \n",
       "3             Web       Mac Desktop        Firefox               other  \n",
       "4             Web       Mac Desktop         Chrome                  US  \n",
       "...           ...               ...            ...                 ...  \n",
       "213446        Web       Mac Desktop         Safari                 NDF  \n",
       "213447        Web   Windows Desktop         Chrome                 NDF  \n",
       "213448        Web       Mac Desktop        Firefox                 NDF  \n",
       "213449        iOS            iPhone  Mobile Safari                 NDF  \n",
       "213450        iOS            iPhone      -unknown-                 NDF  \n",
       "\n",
       "[213451 rows x 16 columns]"
      ]
     },
     "execution_count": 8,
     "metadata": {},
     "output_type": "execute_result"
    }
   ],
   "source": [
    "data_raw_train_users = pd.read_csv(\"datasets/train_users_2.csv\", low_memory=False)\n",
    "data_raw_train_users"
   ]
  },
  {
   "cell_type": "markdown",
   "id": "a5071015",
   "metadata": {},
   "source": [
    "#### Could we merge sesions with train_users?"
   ]
  },
  {
   "cell_type": "markdown",
   "id": "c1ea6591",
   "metadata": {},
   "source": [
    "Sessions and train_users are our main tables. We are going to use both of them in this project. Yet, we cannot merge these tables now because they have different granularity: \n",
    "\n",
    "**(1)** train_user is user-level (informations are: one user per row). \n",
    "\n",
    "**(2)** sessions is secs_elapsed-level (informations are related to action, action_type, action_detail, device_type and secs_elapse - and this one is the highest level).\n",
    "\n",
    "To merge the two tables, we need to encoding the columns from sessions. "
   ]
  },
  {
   "cell_type": "code",
   "execution_count": 13,
   "id": "2c60a85e",
   "metadata": {
    "ExecuteTime": {
     "end_time": "2023-01-10T23:41:48.049953Z",
     "start_time": "2023-01-10T23:41:48.023517Z"
    }
   },
   "outputs": [
    {
     "data": {
      "text/html": [
       "<div>\n",
       "<style scoped>\n",
       "    .dataframe tbody tr th:only-of-type {\n",
       "        vertical-align: middle;\n",
       "    }\n",
       "\n",
       "    .dataframe tbody tr th {\n",
       "        vertical-align: top;\n",
       "    }\n",
       "\n",
       "    .dataframe thead th {\n",
       "        text-align: right;\n",
       "    }\n",
       "</style>\n",
       "<table border=\"1\" class=\"dataframe\">\n",
       "  <thead>\n",
       "    <tr style=\"text-align: right;\">\n",
       "      <th></th>\n",
       "      <th>id</th>\n",
       "      <th>date_account_created</th>\n",
       "      <th>timestamp_first_active</th>\n",
       "      <th>date_first_booking</th>\n",
       "      <th>gender</th>\n",
       "      <th>age</th>\n",
       "      <th>signup_method</th>\n",
       "      <th>signup_flow</th>\n",
       "      <th>language</th>\n",
       "      <th>affiliate_channel</th>\n",
       "      <th>affiliate_provider</th>\n",
       "      <th>first_affiliate_tracked</th>\n",
       "      <th>signup_app</th>\n",
       "      <th>first_device_type</th>\n",
       "      <th>first_browser</th>\n",
       "      <th>country_destination</th>\n",
       "    </tr>\n",
       "  </thead>\n",
       "  <tbody>\n",
       "    <tr>\n",
       "      <th>213450</th>\n",
       "      <td>nw9fwlyb5f</td>\n",
       "      <td>2014-06-30</td>\n",
       "      <td>20140630235824</td>\n",
       "      <td>NaN</td>\n",
       "      <td>-unknown-</td>\n",
       "      <td>NaN</td>\n",
       "      <td>basic</td>\n",
       "      <td>25</td>\n",
       "      <td>en</td>\n",
       "      <td>direct</td>\n",
       "      <td>direct</td>\n",
       "      <td>untracked</td>\n",
       "      <td>iOS</td>\n",
       "      <td>iPhone</td>\n",
       "      <td>-unknown-</td>\n",
       "      <td>NDF</td>\n",
       "    </tr>\n",
       "  </tbody>\n",
       "</table>\n",
       "</div>"
      ],
      "text/plain": [
       "                id date_account_created  timestamp_first_active  \\\n",
       "213450  nw9fwlyb5f           2014-06-30          20140630235824   \n",
       "\n",
       "       date_first_booking     gender  age signup_method  signup_flow language  \\\n",
       "213450                NaN  -unknown-  NaN         basic           25       en   \n",
       "\n",
       "       affiliate_channel affiliate_provider first_affiliate_tracked  \\\n",
       "213450            direct             direct               untracked   \n",
       "\n",
       "       signup_app first_device_type first_browser country_destination  \n",
       "213450        iOS            iPhone     -unknown-                 NDF  "
      ]
     },
     "execution_count": 13,
     "metadata": {},
     "output_type": "execute_result"
    }
   ],
   "source": [
    "# train user\n",
    "data_raw_train_users[data_raw_train_users[\"id\"] == \"nw9fwlyb5f\"]"
   ]
  },
  {
   "cell_type": "code",
   "execution_count": 14,
   "id": "271b457f",
   "metadata": {
    "ExecuteTime": {
     "end_time": "2023-01-10T23:42:45.558821Z",
     "start_time": "2023-01-10T23:42:45.085368Z"
    }
   },
   "outputs": [
    {
     "data": {
      "text/html": [
       "<div>\n",
       "<style scoped>\n",
       "    .dataframe tbody tr th:only-of-type {\n",
       "        vertical-align: middle;\n",
       "    }\n",
       "\n",
       "    .dataframe tbody tr th {\n",
       "        vertical-align: top;\n",
       "    }\n",
       "\n",
       "    .dataframe thead th {\n",
       "        text-align: right;\n",
       "    }\n",
       "</style>\n",
       "<table border=\"1\" class=\"dataframe\">\n",
       "  <thead>\n",
       "    <tr style=\"text-align: right;\">\n",
       "      <th></th>\n",
       "      <th>user_id</th>\n",
       "      <th>action</th>\n",
       "      <th>action_type</th>\n",
       "      <th>action_detail</th>\n",
       "      <th>device_type</th>\n",
       "      <th>secs_elapsed</th>\n",
       "    </tr>\n",
       "  </thead>\n",
       "  <tbody>\n",
       "    <tr>\n",
       "      <th>5555239</th>\n",
       "      <td>nw9fwlyb5f</td>\n",
       "      <td>show</td>\n",
       "      <td>view</td>\n",
       "      <td>user_profile</td>\n",
       "      <td>iPhone</td>\n",
       "      <td>9310.0</td>\n",
       "    </tr>\n",
       "    <tr>\n",
       "      <th>5555240</th>\n",
       "      <td>nw9fwlyb5f</td>\n",
       "      <td>show</td>\n",
       "      <td>view</td>\n",
       "      <td>p3</td>\n",
       "      <td>iPhone</td>\n",
       "      <td>33.0</td>\n",
       "    </tr>\n",
       "    <tr>\n",
       "      <th>5555241</th>\n",
       "      <td>nw9fwlyb5f</td>\n",
       "      <td>reviews</td>\n",
       "      <td>data</td>\n",
       "      <td>listing_reviews</td>\n",
       "      <td>iPhone</td>\n",
       "      <td>8.0</td>\n",
       "    </tr>\n",
       "    <tr>\n",
       "      <th>5555242</th>\n",
       "      <td>nw9fwlyb5f</td>\n",
       "      <td>campaigns</td>\n",
       "      <td>NaN</td>\n",
       "      <td>NaN</td>\n",
       "      <td>iPhone</td>\n",
       "      <td>41983.0</td>\n",
       "    </tr>\n",
       "    <tr>\n",
       "      <th>5555243</th>\n",
       "      <td>nw9fwlyb5f</td>\n",
       "      <td>click</td>\n",
       "      <td>click</td>\n",
       "      <td>book_it</td>\n",
       "      <td>iPhone</td>\n",
       "      <td>58491.0</td>\n",
       "    </tr>\n",
       "  </tbody>\n",
       "</table>\n",
       "</div>"
      ],
      "text/plain": [
       "            user_id     action action_type    action_detail device_type  \\\n",
       "5555239  nw9fwlyb5f       show        view     user_profile      iPhone   \n",
       "5555240  nw9fwlyb5f       show        view               p3      iPhone   \n",
       "5555241  nw9fwlyb5f    reviews        data  listing_reviews      iPhone   \n",
       "5555242  nw9fwlyb5f  campaigns         NaN              NaN      iPhone   \n",
       "5555243  nw9fwlyb5f      click       click          book_it      iPhone   \n",
       "\n",
       "         secs_elapsed  \n",
       "5555239        9310.0  \n",
       "5555240          33.0  \n",
       "5555241           8.0  \n",
       "5555242       41983.0  \n",
       "5555243       58491.0  "
      ]
     },
     "execution_count": 14,
     "metadata": {},
     "output_type": "execute_result"
    }
   ],
   "source": [
    "# sessions\n",
    "data_raw_sessions[data_raw_sessions[\"user_id\"] == \"nw9fwlyb5f\"].head()"
   ]
  },
  {
   "cell_type": "code",
   "execution_count": 16,
   "id": "d5fe52e9",
   "metadata": {
    "ExecuteTime": {
     "end_time": "2023-01-10T23:44:37.313440Z",
     "start_time": "2023-01-10T23:44:36.432849Z"
    }
   },
   "outputs": [
    {
     "data": {
      "text/html": [
       "<div>\n",
       "<style scoped>\n",
       "    .dataframe tbody tr th:only-of-type {\n",
       "        vertical-align: middle;\n",
       "    }\n",
       "\n",
       "    .dataframe tbody tr th {\n",
       "        vertical-align: top;\n",
       "    }\n",
       "\n",
       "    .dataframe thead th {\n",
       "        text-align: right;\n",
       "    }\n",
       "</style>\n",
       "<table border=\"1\" class=\"dataframe\">\n",
       "  <thead>\n",
       "    <tr style=\"text-align: right;\">\n",
       "      <th></th>\n",
       "      <th>user_id</th>\n",
       "      <th>action</th>\n",
       "      <th>action_type</th>\n",
       "      <th>action_detail</th>\n",
       "      <th>device_type</th>\n",
       "      <th>secs_elapsed</th>\n",
       "    </tr>\n",
       "  </thead>\n",
       "  <tbody>\n",
       "    <tr>\n",
       "      <th>5555241</th>\n",
       "      <td>nw9fwlyb5f</td>\n",
       "      <td>reviews</td>\n",
       "      <td>data</td>\n",
       "      <td>listing_reviews</td>\n",
       "      <td>iPhone</td>\n",
       "      <td>8.0</td>\n",
       "    </tr>\n",
       "    <tr>\n",
       "      <th>5555269</th>\n",
       "      <td>nw9fwlyb5f</td>\n",
       "      <td>reviews</td>\n",
       "      <td>data</td>\n",
       "      <td>listing_reviews</td>\n",
       "      <td>iPhone</td>\n",
       "      <td>11.0</td>\n",
       "    </tr>\n",
       "  </tbody>\n",
       "</table>\n",
       "</div>"
      ],
      "text/plain": [
       "            user_id   action action_type    action_detail device_type  \\\n",
       "5555241  nw9fwlyb5f  reviews        data  listing_reviews      iPhone   \n",
       "5555269  nw9fwlyb5f  reviews        data  listing_reviews      iPhone   \n",
       "\n",
       "         secs_elapsed  \n",
       "5555241           8.0  \n",
       "5555269          11.0  "
      ]
     },
     "execution_count": 16,
     "metadata": {},
     "output_type": "execute_result"
    }
   ],
   "source": [
    "# sessions\n",
    "data_raw_sessions[(data_raw_sessions[\"user_id\"] == \"nw9fwlyb5f\") & (data_raw_sessions[\"action\"] == \"reviews\")].head()"
   ]
  },
  {
   "cell_type": "markdown",
   "id": "1e5518c2",
   "metadata": {},
   "source": [
    "# 1. Data Description"
   ]
  },
  {
   "cell_type": "code",
   "execution_count": 18,
   "id": "25810254",
   "metadata": {
    "ExecuteTime": {
     "end_time": "2023-01-10T23:50:54.325080Z",
     "start_time": "2023-01-10T23:50:54.302566Z"
    }
   },
   "outputs": [],
   "source": [
    "df1 = data_raw_train_users.copy()"
   ]
  },
  {
   "cell_type": "markdown",
   "id": "6110b805",
   "metadata": {},
   "source": [
    "### Data fields meaning"
   ]
  },
  {
   "cell_type": "markdown",
   "id": "bb442cbe",
   "metadata": {},
   "source": [
    "- id: user id.\n",
    "\n",
    "- date_account_created: the date of account creation.\n",
    "\n",
    "- timestamp_first_active: timestamp of the first activity, note that it can be earlier than date_account_created or - date_first_booking because a user can search before signing up.\n",
    "\n",
    "- date_first_booking: date of first booking.\n",
    "\n",
    "- gender.\n",
    "\n",
    "- age.\n",
    "\n",
    "- signup_method.\n",
    "\n",
    "- signup_flow: the page a user came to signup up from.\n",
    "\n",
    "- language: international language preference.\n",
    "\n",
    "- affiliate_channel: what kind of paid marketing.\n",
    "\n",
    "- affiliate_provider: where the marketing is e.g. google, craigslist, other.\n",
    "\n",
    "- first_affiliate_tracked: whats the first marketing the user interacted with before the signing up.\n",
    "\n",
    "- signup_app.\n",
    "\n",
    "- first_device_type.\n",
    "\n",
    "- first_browser.\n",
    "\n",
    "- country_destination: this is the target variable you are to predict."
   ]
  },
  {
   "cell_type": "markdown",
   "id": "0dadde4f",
   "metadata": {
    "ExecuteTime": {
     "end_time": "2023-01-11T00:03:08.764849Z",
     "start_time": "2023-01-11T00:03:08.760261Z"
    }
   },
   "source": [
    "df1.columns"
   ]
  },
  {
   "cell_type": "markdown",
   "id": "5c372c7a",
   "metadata": {},
   "source": [
    "## 1.1. Data Dimensions"
   ]
  },
  {
   "cell_type": "code",
   "execution_count": 20,
   "id": "709e0a2a",
   "metadata": {
    "ExecuteTime": {
     "end_time": "2023-01-11T00:04:26.867159Z",
     "start_time": "2023-01-11T00:04:26.863382Z"
    }
   },
   "outputs": [
    {
     "name": "stdout",
     "output_type": "stream",
     "text": [
      "Number of rows: 213451\n",
      "Number of cols: 16\n"
     ]
    }
   ],
   "source": [
    "print(\"Number of rows: {}\".format(df1.shape[0]))\n",
    "print(\"Number of cols: {}\".format(df1.shape[1]))"
   ]
  },
  {
   "cell_type": "markdown",
   "id": "02183de8",
   "metadata": {},
   "source": [
    "## 1.2. Data Types"
   ]
  },
  {
   "cell_type": "code",
   "execution_count": 21,
   "id": "ffc4d426",
   "metadata": {
    "ExecuteTime": {
     "end_time": "2023-01-11T00:16:50.145030Z",
     "start_time": "2023-01-11T00:16:50.139885Z"
    }
   },
   "outputs": [
    {
     "data": {
      "text/plain": [
       "id                          object\n",
       "date_account_created        object\n",
       "timestamp_first_active       int64\n",
       "date_first_booking          object\n",
       "gender                      object\n",
       "age                        float64\n",
       "signup_method               object\n",
       "signup_flow                  int64\n",
       "language                    object\n",
       "affiliate_channel           object\n",
       "affiliate_provider          object\n",
       "first_affiliate_tracked     object\n",
       "signup_app                  object\n",
       "first_device_type           object\n",
       "first_browser               object\n",
       "country_destination         object\n",
       "dtype: object"
      ]
     },
     "execution_count": 21,
     "metadata": {},
     "output_type": "execute_result"
    }
   ],
   "source": [
    "df1.dtypes"
   ]
  },
  {
   "cell_type": "code",
   "execution_count": 23,
   "id": "91dc2f4c",
   "metadata": {
    "ExecuteTime": {
     "end_time": "2023-01-11T00:17:09.379443Z",
     "start_time": "2023-01-11T00:17:09.360610Z"
    }
   },
   "outputs": [
    {
     "data": {
      "text/html": [
       "<div>\n",
       "<style scoped>\n",
       "    .dataframe tbody tr th:only-of-type {\n",
       "        vertical-align: middle;\n",
       "    }\n",
       "\n",
       "    .dataframe tbody tr th {\n",
       "        vertical-align: top;\n",
       "    }\n",
       "\n",
       "    .dataframe thead th {\n",
       "        text-align: right;\n",
       "    }\n",
       "</style>\n",
       "<table border=\"1\" class=\"dataframe\">\n",
       "  <thead>\n",
       "    <tr style=\"text-align: right;\">\n",
       "      <th></th>\n",
       "      <th>id</th>\n",
       "      <th>date_account_created</th>\n",
       "      <th>timestamp_first_active</th>\n",
       "      <th>date_first_booking</th>\n",
       "      <th>gender</th>\n",
       "      <th>age</th>\n",
       "      <th>signup_method</th>\n",
       "      <th>signup_flow</th>\n",
       "      <th>language</th>\n",
       "      <th>affiliate_channel</th>\n",
       "      <th>affiliate_provider</th>\n",
       "      <th>first_affiliate_tracked</th>\n",
       "      <th>signup_app</th>\n",
       "      <th>first_device_type</th>\n",
       "      <th>first_browser</th>\n",
       "      <th>country_destination</th>\n",
       "    </tr>\n",
       "  </thead>\n",
       "  <tbody>\n",
       "    <tr>\n",
       "      <th>202315</th>\n",
       "      <td>g3w8xchxvq</td>\n",
       "      <td>2014-06-10</td>\n",
       "      <td>20140610042102</td>\n",
       "      <td>2014-06-11</td>\n",
       "      <td>MALE</td>\n",
       "      <td>27.0</td>\n",
       "      <td>basic</td>\n",
       "      <td>0</td>\n",
       "      <td>zh</td>\n",
       "      <td>sem-brand</td>\n",
       "      <td>google</td>\n",
       "      <td>omg</td>\n",
       "      <td>Web</td>\n",
       "      <td>Windows Desktop</td>\n",
       "      <td>Chrome</td>\n",
       "      <td>US</td>\n",
       "    </tr>\n",
       "    <tr>\n",
       "      <th>68439</th>\n",
       "      <td>irbh1hnqtl</td>\n",
       "      <td>2013-04-01</td>\n",
       "      <td>20130401211952</td>\n",
       "      <td>2013-05-19</td>\n",
       "      <td>FEMALE</td>\n",
       "      <td>27.0</td>\n",
       "      <td>basic</td>\n",
       "      <td>0</td>\n",
       "      <td>it</td>\n",
       "      <td>sem-brand</td>\n",
       "      <td>google</td>\n",
       "      <td>omg</td>\n",
       "      <td>Web</td>\n",
       "      <td>Windows Desktop</td>\n",
       "      <td>Firefox</td>\n",
       "      <td>US</td>\n",
       "    </tr>\n",
       "    <tr>\n",
       "      <th>76273</th>\n",
       "      <td>ppwqw0a3lk</td>\n",
       "      <td>2013-05-10</td>\n",
       "      <td>20130510223048</td>\n",
       "      <td>2013-05-11</td>\n",
       "      <td>-unknown-</td>\n",
       "      <td>54.0</td>\n",
       "      <td>basic</td>\n",
       "      <td>0</td>\n",
       "      <td>en</td>\n",
       "      <td>direct</td>\n",
       "      <td>direct</td>\n",
       "      <td>untracked</td>\n",
       "      <td>Web</td>\n",
       "      <td>Windows Desktop</td>\n",
       "      <td>IE</td>\n",
       "      <td>US</td>\n",
       "    </tr>\n",
       "  </tbody>\n",
       "</table>\n",
       "</div>"
      ],
      "text/plain": [
       "                id date_account_created  timestamp_first_active  \\\n",
       "202315  g3w8xchxvq           2014-06-10          20140610042102   \n",
       "68439   irbh1hnqtl           2013-04-01          20130401211952   \n",
       "76273   ppwqw0a3lk           2013-05-10          20130510223048   \n",
       "\n",
       "       date_first_booking     gender   age signup_method  signup_flow  \\\n",
       "202315         2014-06-11       MALE  27.0         basic            0   \n",
       "68439          2013-05-19     FEMALE  27.0         basic            0   \n",
       "76273          2013-05-11  -unknown-  54.0         basic            0   \n",
       "\n",
       "       language affiliate_channel affiliate_provider first_affiliate_tracked  \\\n",
       "202315       zh         sem-brand             google                     omg   \n",
       "68439        it         sem-brand             google                     omg   \n",
       "76273        en            direct             direct               untracked   \n",
       "\n",
       "       signup_app first_device_type first_browser country_destination  \n",
       "202315        Web   Windows Desktop        Chrome                  US  \n",
       "68439         Web   Windows Desktop       Firefox                  US  \n",
       "76273         Web   Windows Desktop            IE                  US  "
      ]
     },
     "execution_count": 23,
     "metadata": {},
     "output_type": "execute_result"
    }
   ],
   "source": [
    "df1.sample(3)"
   ]
  },
  {
   "cell_type": "markdown",
   "id": "17fe9a2f",
   "metadata": {},
   "source": [
    "## 1.3. NA Check"
   ]
  },
  {
   "cell_type": "code",
   "execution_count": 24,
   "id": "df516598",
   "metadata": {
    "ExecuteTime": {
     "end_time": "2023-01-11T00:20:14.471039Z",
     "start_time": "2023-01-11T00:20:14.171049Z"
    }
   },
   "outputs": [
    {
     "data": {
      "text/plain": [
       "id                              0\n",
       "date_account_created            0\n",
       "timestamp_first_active          0\n",
       "date_first_booking         124543\n",
       "gender                          0\n",
       "age                         87990\n",
       "signup_method                   0\n",
       "signup_flow                     0\n",
       "language                        0\n",
       "affiliate_channel               0\n",
       "affiliate_provider              0\n",
       "first_affiliate_tracked      6065\n",
       "signup_app                      0\n",
       "first_device_type               0\n",
       "first_browser                   0\n",
       "country_destination             0\n",
       "dtype: int64"
      ]
     },
     "execution_count": 24,
     "metadata": {},
     "output_type": "execute_result"
    }
   ],
   "source": [
    "df1.isna().sum()"
   ]
  },
  {
   "cell_type": "markdown",
   "id": "ad178a19",
   "metadata": {},
   "source": [
    "## 1.4. Removing NA"
   ]
  },
  {
   "cell_type": "markdown",
   "id": "2c42f6fe",
   "metadata": {},
   "source": [
    "As we want to deliver a solution as faster as possible, we will remove all NA values in this cycle. However, we may treat NA values using a different technique as next steps."
   ]
  },
  {
   "cell_type": "code",
   "execution_count": 25,
   "id": "5ca7a221",
   "metadata": {
    "ExecuteTime": {
     "end_time": "2023-01-11T00:43:30.710230Z",
     "start_time": "2023-01-11T00:43:30.394531Z"
    }
   },
   "outputs": [],
   "source": [
    "df1 = df1.dropna()"
   ]
  },
  {
   "cell_type": "code",
   "execution_count": 26,
   "id": "2fe1daf3",
   "metadata": {
    "ExecuteTime": {
     "end_time": "2023-01-11T00:43:35.122987Z",
     "start_time": "2023-01-11T00:43:35.119098Z"
    }
   },
   "outputs": [
    {
     "data": {
      "text/plain": [
       "(68171, 16)"
      ]
     },
     "execution_count": 26,
     "metadata": {},
     "output_type": "execute_result"
    }
   ],
   "source": [
    "df1.shape"
   ]
  },
  {
   "cell_type": "markdown",
   "id": "cec26d0d",
   "metadata": {},
   "source": [
    "## 1.5. Change Data Type"
   ]
  },
  {
   "cell_type": "code",
   "execution_count": 29,
   "id": "287df86c",
   "metadata": {
    "ExecuteTime": {
     "end_time": "2023-01-11T00:50:14.757955Z",
     "start_time": "2023-01-11T00:50:14.533617Z"
    }
   },
   "outputs": [],
   "source": [
    "# date_account_created\n",
    "df1[\"date_account_created\"] = pd.to_datetime(df1[\"date_account_created\"])\n",
    "\n",
    "# timestamp_first_active\n",
    "df1[\"timestamp_first_active\"] = pd.to_datetime(df1[\"timestamp_first_active\"], format=\"%Y%m%d%H%M%S\")\n",
    "\n",
    "# date_first_booking\n",
    "df1[\"date_first_booking\"] = pd.to_datetime(df1[\"date_first_booking\"])\n",
    "\n",
    "# age\n",
    "df1[\"age\"] = df1[\"age\"].astype(int)"
   ]
  },
  {
   "cell_type": "code",
   "execution_count": 30,
   "id": "16bc3419",
   "metadata": {
    "ExecuteTime": {
     "end_time": "2023-01-11T00:50:18.368927Z",
     "start_time": "2023-01-11T00:50:18.364020Z"
    }
   },
   "outputs": [
    {
     "data": {
      "text/plain": [
       "id                                 object\n",
       "date_account_created       datetime64[ns]\n",
       "timestamp_first_active     datetime64[ns]\n",
       "date_first_booking         datetime64[ns]\n",
       "gender                             object\n",
       "age                                 int64\n",
       "signup_method                      object\n",
       "signup_flow                         int64\n",
       "language                           object\n",
       "affiliate_channel                  object\n",
       "affiliate_provider                 object\n",
       "first_affiliate_tracked            object\n",
       "signup_app                         object\n",
       "first_device_type                  object\n",
       "first_browser                      object\n",
       "country_destination                object\n",
       "dtype: object"
      ]
     },
     "execution_count": 30,
     "metadata": {},
     "output_type": "execute_result"
    }
   ],
   "source": [
    "df1.dtypes"
   ]
  },
  {
   "cell_type": "markdown",
   "id": "4a18186f",
   "metadata": {},
   "source": [
    "## 1.6. Check Balanced Data"
   ]
  },
  {
   "cell_type": "code",
   "execution_count": 32,
   "id": "19e4daec",
   "metadata": {
    "ExecuteTime": {
     "end_time": "2023-01-11T00:52:41.896745Z",
     "start_time": "2023-01-11T00:52:41.887331Z"
    }
   },
   "outputs": [
    {
     "data": {
      "text/plain": [
       "US       48324\n",
       "other     7557\n",
       "FR        3687\n",
       "IT        2029\n",
       "GB        1768\n",
       "ES        1695\n",
       "CA        1070\n",
       "DE         849\n",
       "NL         600\n",
       "AU         434\n",
       "PT         158\n",
       "Name: country_destination, dtype: int64"
      ]
     },
     "execution_count": 32,
     "metadata": {},
     "output_type": "execute_result"
    }
   ],
   "source": [
    "df1[\"country_destination\"].value_counts()"
   ]
  },
  {
   "cell_type": "code",
   "execution_count": 33,
   "id": "2f435fbe",
   "metadata": {
    "ExecuteTime": {
     "end_time": "2023-01-11T00:53:30.533889Z",
     "start_time": "2023-01-11T00:53:30.524957Z"
    }
   },
   "outputs": [
    {
     "data": {
      "text/plain": [
       "US       0.708864\n",
       "other    0.110854\n",
       "FR       0.054085\n",
       "IT       0.029763\n",
       "GB       0.025935\n",
       "ES       0.024864\n",
       "CA       0.015696\n",
       "DE       0.012454\n",
       "NL       0.008801\n",
       "AU       0.006366\n",
       "PT       0.002318\n",
       "Name: country_destination, dtype: float64"
      ]
     },
     "execution_count": 33,
     "metadata": {},
     "output_type": "execute_result"
    }
   ],
   "source": [
    "df1[\"country_destination\"].value_counts(normalize=True)"
   ]
  },
  {
   "cell_type": "markdown",
   "id": "ae16a1f8",
   "metadata": {},
   "source": [
    "- This is a multi-class (many types for the target variable) and very unbalanced (70% of data only for US, for instance). This is a very complex classification problem. \n",
    "\n",
    "- Since NDF (no destination found) was a type of country_destination, it is not in our dataset anymore because it belongs to users which did not make their first booking - and we removed these NA values. "
   ]
  },
  {
   "cell_type": "markdown",
   "id": "6873b2f5",
   "metadata": {},
   "source": [
    "## 1.7. Descriptive Statistics"
   ]
  },
  {
   "cell_type": "code",
   "execution_count": 34,
   "id": "403121ab",
   "metadata": {
    "ExecuteTime": {
     "end_time": "2023-01-11T01:05:14.716285Z",
     "start_time": "2023-01-11T01:05:14.709227Z"
    }
   },
   "outputs": [],
   "source": [
    "num_attributes = df1.select_dtypes(include=[\"int64\", \"float64\"])\n",
    "cat_attributes = df1.select_dtypes(exclude=[\"int64\", \"float64\", \"datetime64[ns]\"])"
   ]
  },
  {
   "cell_type": "code",
   "execution_count": 35,
   "id": "a5b47389",
   "metadata": {
    "ExecuteTime": {
     "end_time": "2023-01-11T01:05:25.730323Z",
     "start_time": "2023-01-11T01:05:25.726060Z"
    }
   },
   "outputs": [
    {
     "data": {
      "text/plain": [
       "Index(['age', 'signup_flow'], dtype='object')"
      ]
     },
     "execution_count": 35,
     "metadata": {},
     "output_type": "execute_result"
    }
   ],
   "source": [
    "num_attributes.columns"
   ]
  },
  {
   "cell_type": "code",
   "execution_count": 36,
   "id": "c1080d65",
   "metadata": {
    "ExecuteTime": {
     "end_time": "2023-01-11T01:05:43.707136Z",
     "start_time": "2023-01-11T01:05:43.703070Z"
    }
   },
   "outputs": [
    {
     "data": {
      "text/plain": [
       "Index(['id', 'gender', 'signup_method', 'language', 'affiliate_channel',\n",
       "       'affiliate_provider', 'first_affiliate_tracked', 'signup_app',\n",
       "       'first_device_type', 'first_browser', 'country_destination'],\n",
       "      dtype='object')"
      ]
     },
     "execution_count": 36,
     "metadata": {},
     "output_type": "execute_result"
    }
   ],
   "source": [
    "cat_attributes.columns"
   ]
  },
  {
   "cell_type": "markdown",
   "id": "03170754",
   "metadata": {},
   "source": [
    "### 1.7.1. Numerical attributes"
   ]
  },
  {
   "cell_type": "code",
   "execution_count": 39,
   "id": "41c3075d",
   "metadata": {
    "ExecuteTime": {
     "end_time": "2023-01-11T01:10:15.318403Z",
     "start_time": "2023-01-11T01:10:15.296279Z"
    }
   },
   "outputs": [],
   "source": [
    "# Central tendency metrics\n",
    "c1 = pd.DataFrame(num_attributes.apply( np.mean )).T\n",
    "c2 = pd.DataFrame(num_attributes.apply( np.median )).T\n",
    "\n",
    "# Dispersion metrics\n",
    "d1 = pd.DataFrame(num_attributes.apply( np.std )).T\n",
    "d2 = pd.DataFrame(num_attributes.apply(lambda x: x.min() )).T\n",
    "d3 = pd.DataFrame(num_attributes.apply(lambda x: x.max() )).T\n",
    "d4 = pd.DataFrame(num_attributes.apply(lambda x: x.max() - x.min() )).T\n",
    "d5 = pd.DataFrame(num_attributes.apply(lambda x: x.skew() )).T\n",
    "d6 = pd.DataFrame(num_attributes.apply(lambda x: x.kurtosis() )).T\n",
    "\n",
    "# Concatenate metric\n",
    "m = pd.concat([d2, d3, d4, c1, c2, d1, d5, d6]).T.reset_index()\n",
    "m.columns = [\"attributes\", \"min\", \"max\", \"range\", \"mean\", \"median\", \"std\", \"skewness\", \"kurtosis\"]"
   ]
  },
  {
   "cell_type": "code",
   "execution_count": 40,
   "id": "43857765",
   "metadata": {
    "ExecuteTime": {
     "end_time": "2023-01-11T01:10:18.705647Z",
     "start_time": "2023-01-11T01:10:18.694134Z"
    }
   },
   "outputs": [
    {
     "data": {
      "text/html": [
       "<div>\n",
       "<style scoped>\n",
       "    .dataframe tbody tr th:only-of-type {\n",
       "        vertical-align: middle;\n",
       "    }\n",
       "\n",
       "    .dataframe tbody tr th {\n",
       "        vertical-align: top;\n",
       "    }\n",
       "\n",
       "    .dataframe thead th {\n",
       "        text-align: right;\n",
       "    }\n",
       "</style>\n",
       "<table border=\"1\" class=\"dataframe\">\n",
       "  <thead>\n",
       "    <tr style=\"text-align: right;\">\n",
       "      <th></th>\n",
       "      <th>attributes</th>\n",
       "      <th>min</th>\n",
       "      <th>max</th>\n",
       "      <th>range</th>\n",
       "      <th>mean</th>\n",
       "      <th>median</th>\n",
       "      <th>std</th>\n",
       "      <th>skewness</th>\n",
       "      <th>kurtosis</th>\n",
       "    </tr>\n",
       "  </thead>\n",
       "  <tbody>\n",
       "    <tr>\n",
       "      <th>0</th>\n",
       "      <td>age</td>\n",
       "      <td>2.0</td>\n",
       "      <td>2014.0</td>\n",
       "      <td>2012.0</td>\n",
       "      <td>47.857593</td>\n",
       "      <td>33.0</td>\n",
       "      <td>146.035312</td>\n",
       "      <td>13.250136</td>\n",
       "      <td>175.132153</td>\n",
       "    </tr>\n",
       "    <tr>\n",
       "      <th>1</th>\n",
       "      <td>signup_flow</td>\n",
       "      <td>0.0</td>\n",
       "      <td>25.0</td>\n",
       "      <td>25.0</td>\n",
       "      <td>2.436857</td>\n",
       "      <td>0.0</td>\n",
       "      <td>6.533959</td>\n",
       "      <td>2.807117</td>\n",
       "      <td>6.439075</td>\n",
       "    </tr>\n",
       "  </tbody>\n",
       "</table>\n",
       "</div>"
      ],
      "text/plain": [
       "    attributes  min     max   range       mean  median         std   skewness  \\\n",
       "0          age  2.0  2014.0  2012.0  47.857593    33.0  146.035312  13.250136   \n",
       "1  signup_flow  0.0    25.0    25.0   2.436857     0.0    6.533959   2.807117   \n",
       "\n",
       "     kurtosis  \n",
       "0  175.132153  \n",
       "1    6.439075  "
      ]
     },
     "execution_count": 40,
     "metadata": {},
     "output_type": "execute_result"
    }
   ],
   "source": [
    "m"
   ]
  },
  {
   "cell_type": "code",
   "execution_count": 42,
   "id": "add97218",
   "metadata": {
    "ExecuteTime": {
     "end_time": "2023-01-11T01:11:49.177997Z",
     "start_time": "2023-01-11T01:11:49.171591Z"
    }
   },
   "outputs": [
    {
     "data": {
      "text/plain": [
       "1926       1\n",
       "2008       1\n",
       "1938       1\n",
       "16         1\n",
       "1931       1\n",
       "        ... \n",
       "28      3392\n",
       "29      3423\n",
       "32      3449\n",
       "31      3531\n",
       "30      3641\n",
       "Name: age, Length: 117, dtype: int64"
      ]
     },
     "execution_count": 42,
     "metadata": {},
     "output_type": "execute_result"
    }
   ],
   "source": [
    "df1[\"age\"].value_counts().sort_values()"
   ]
  },
  {
   "cell_type": "markdown",
   "id": "109684fc",
   "metadata": {},
   "source": [
    "We may have lower ages ( <= 2 years old, for instance) in our dataset because they are children accompanied by parents. Yet, we may not have ages higher than 122, since this age is for the oldest person who ever lived on Earth. Thus, these values will be treated as outliers."
   ]
  },
  {
   "cell_type": "code",
   "execution_count": 46,
   "id": "d67a56d9",
   "metadata": {
    "ExecuteTime": {
     "end_time": "2023-01-11T01:17:41.561484Z",
     "start_time": "2023-01-11T01:17:41.544849Z"
    }
   },
   "outputs": [],
   "source": [
    "df1 = df1[df1[\"age\"] <= 122]"
   ]
  },
  {
   "cell_type": "code",
   "execution_count": 47,
   "id": "e3692064",
   "metadata": {
    "ExecuteTime": {
     "end_time": "2023-01-11T01:17:45.288530Z",
     "start_time": "2023-01-11T01:17:45.284459Z"
    }
   },
   "outputs": [
    {
     "data": {
      "text/plain": [
       "(67797, 16)"
      ]
     },
     "execution_count": 47,
     "metadata": {},
     "output_type": "execute_result"
    }
   ],
   "source": [
    "df1.shape"
   ]
  },
  {
   "cell_type": "markdown",
   "id": "c33dd9d6",
   "metadata": {},
   "source": [
    "# 2. Data Filtering"
   ]
  },
  {
   "cell_type": "code",
   "execution_count": null,
   "id": "5b9b8ff1",
   "metadata": {},
   "outputs": [],
   "source": []
  },
  {
   "cell_type": "markdown",
   "id": "a5f23d46",
   "metadata": {},
   "source": [
    "# 3. Data Preparation"
   ]
  },
  {
   "cell_type": "code",
   "execution_count": null,
   "id": "d64dd999",
   "metadata": {},
   "outputs": [],
   "source": []
  },
  {
   "cell_type": "markdown",
   "id": "be02552f",
   "metadata": {},
   "source": [
    "# 4. Feature Selection"
   ]
  },
  {
   "cell_type": "code",
   "execution_count": null,
   "id": "77baff7c",
   "metadata": {},
   "outputs": [],
   "source": []
  },
  {
   "cell_type": "markdown",
   "id": "cbf142fe",
   "metadata": {},
   "source": [
    "# 5. Machine Learning Model"
   ]
  },
  {
   "cell_type": "markdown",
   "id": "893eda79",
   "metadata": {},
   "source": [
    "Artifical Neural Network (ANN) - Multi-Layer Perceptron (MLP)"
   ]
  },
  {
   "cell_type": "code",
   "execution_count": null,
   "id": "b90b567f",
   "metadata": {},
   "outputs": [],
   "source": []
  },
  {
   "cell_type": "markdown",
   "id": "0ca0f3a9",
   "metadata": {},
   "source": [
    "## 5.1. ANN Performance"
   ]
  },
  {
   "cell_type": "code",
   "execution_count": null,
   "id": "a3b439dc",
   "metadata": {},
   "outputs": [],
   "source": []
  }
 ],
 "metadata": {
  "kernelspec": {
   "display_name": "Python 3 (ipykernel)",
   "language": "python",
   "name": "python3"
  },
  "language_info": {
   "codemirror_mode": {
    "name": "ipython",
    "version": 3
   },
   "file_extension": ".py",
   "mimetype": "text/x-python",
   "name": "python",
   "nbconvert_exporter": "python",
   "pygments_lexer": "ipython3",
   "version": "3.9.13"
  }
 },
 "nbformat": 4,
 "nbformat_minor": 5
}
