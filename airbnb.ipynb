{
 "cells": [
  {
   "cell_type": "markdown",
   "id": "dda23764",
   "metadata": {
    "heading_collapsed": true
   },
   "source": [
    "# Considerations"
   ]
  },
  {
   "cell_type": "markdown",
   "id": "b2c00d86",
   "metadata": {
    "hidden": true
   },
   "source": [
    "#### What is the Airbnb business model?\n",
    "\n",
    "- Marketplace: connect people offering homestays with people looking for homestays.\n",
    "                  \n",
    "- Gross Revenue = (Fee * Users) - CAC"
   ]
  },
  {
   "cell_type": "markdown",
   "id": "5d1e9204",
   "metadata": {},
   "source": [
    "# Libraries"
   ]
  },
  {
   "cell_type": "code",
   "execution_count": 1,
   "id": "8873f6ab",
   "metadata": {
    "ExecuteTime": {
     "end_time": "2023-01-12T14:46:20.975866Z",
     "start_time": "2023-01-12T14:46:14.339092Z"
    }
   },
   "outputs": [
    {
     "name": "stderr",
     "output_type": "stream",
     "text": [
      "2023-01-12 11:46:16.507795: I tensorflow/core/platform/cpu_feature_guard.cc:193] This TensorFlow binary is optimized with oneAPI Deep Neural Network Library (oneDNN) to use the following CPU instructions in performance-critical operations:  AVX2 FMA\n",
      "To enable them in other operations, rebuild TensorFlow with the appropriate compiler flags.\n"
     ]
    }
   ],
   "source": [
    "import pandas as pd\n",
    "import numpy as np\n",
    "import seaborn as sns\n",
    "import random\n",
    "\n",
    "from IPython.display import Image\n",
    "from matplotlib import pyplot as plt\n",
    "from keras import models as ml\n",
    "from keras import layers as l\n",
    "from scikitplot import metrics as mt\n",
    "\n",
    "from sklearn import model_selection as ms\n",
    "from sklearn import preprocessing as pp\n",
    "from sklearn import metrics as m"
   ]
  },
  {
   "cell_type": "markdown",
   "id": "c9b4feba",
   "metadata": {},
   "source": [
    "## Helper Functions"
   ]
  },
  {
   "cell_type": "code",
   "execution_count": null,
   "id": "0eb8ab85",
   "metadata": {},
   "outputs": [],
   "source": []
  },
  {
   "cell_type": "markdown",
   "id": "03ac3e1f",
   "metadata": {},
   "source": [
    "## Loading Data"
   ]
  },
  {
   "cell_type": "code",
   "execution_count": 2,
   "id": "7e6fa455",
   "metadata": {
    "ExecuteTime": {
     "end_time": "2023-01-12T14:46:21.001973Z",
     "start_time": "2023-01-12T14:46:20.978390Z"
    }
   },
   "outputs": [
    {
     "data": {
      "text/html": [
       "<div>\n",
       "<style scoped>\n",
       "    .dataframe tbody tr th:only-of-type {\n",
       "        vertical-align: middle;\n",
       "    }\n",
       "\n",
       "    .dataframe tbody tr th {\n",
       "        vertical-align: top;\n",
       "    }\n",
       "\n",
       "    .dataframe thead th {\n",
       "        text-align: right;\n",
       "    }\n",
       "</style>\n",
       "<table border=\"1\" class=\"dataframe\">\n",
       "  <thead>\n",
       "    <tr style=\"text-align: right;\">\n",
       "      <th></th>\n",
       "      <th>age_bucket</th>\n",
       "      <th>country_destination</th>\n",
       "      <th>gender</th>\n",
       "      <th>population_in_thousands</th>\n",
       "      <th>year</th>\n",
       "    </tr>\n",
       "  </thead>\n",
       "  <tbody>\n",
       "    <tr>\n",
       "      <th>0</th>\n",
       "      <td>100+</td>\n",
       "      <td>AU</td>\n",
       "      <td>male</td>\n",
       "      <td>1.0</td>\n",
       "      <td>2015.0</td>\n",
       "    </tr>\n",
       "    <tr>\n",
       "      <th>1</th>\n",
       "      <td>95-99</td>\n",
       "      <td>AU</td>\n",
       "      <td>male</td>\n",
       "      <td>9.0</td>\n",
       "      <td>2015.0</td>\n",
       "    </tr>\n",
       "    <tr>\n",
       "      <th>2</th>\n",
       "      <td>90-94</td>\n",
       "      <td>AU</td>\n",
       "      <td>male</td>\n",
       "      <td>47.0</td>\n",
       "      <td>2015.0</td>\n",
       "    </tr>\n",
       "    <tr>\n",
       "      <th>3</th>\n",
       "      <td>85-89</td>\n",
       "      <td>AU</td>\n",
       "      <td>male</td>\n",
       "      <td>118.0</td>\n",
       "      <td>2015.0</td>\n",
       "    </tr>\n",
       "    <tr>\n",
       "      <th>4</th>\n",
       "      <td>80-84</td>\n",
       "      <td>AU</td>\n",
       "      <td>male</td>\n",
       "      <td>199.0</td>\n",
       "      <td>2015.0</td>\n",
       "    </tr>\n",
       "    <tr>\n",
       "      <th>...</th>\n",
       "      <td>...</td>\n",
       "      <td>...</td>\n",
       "      <td>...</td>\n",
       "      <td>...</td>\n",
       "      <td>...</td>\n",
       "    </tr>\n",
       "    <tr>\n",
       "      <th>415</th>\n",
       "      <td>95-99</td>\n",
       "      <td>US</td>\n",
       "      <td>male</td>\n",
       "      <td>115.0</td>\n",
       "      <td>2015.0</td>\n",
       "    </tr>\n",
       "    <tr>\n",
       "      <th>416</th>\n",
       "      <td>90-94</td>\n",
       "      <td>US</td>\n",
       "      <td>male</td>\n",
       "      <td>541.0</td>\n",
       "      <td>2015.0</td>\n",
       "    </tr>\n",
       "    <tr>\n",
       "      <th>417</th>\n",
       "      <td>15-19</td>\n",
       "      <td>US</td>\n",
       "      <td>female</td>\n",
       "      <td>10570.0</td>\n",
       "      <td>2015.0</td>\n",
       "    </tr>\n",
       "    <tr>\n",
       "      <th>418</th>\n",
       "      <td>85-89</td>\n",
       "      <td>US</td>\n",
       "      <td>male</td>\n",
       "      <td>1441.0</td>\n",
       "      <td>2015.0</td>\n",
       "    </tr>\n",
       "    <tr>\n",
       "      <th>419</th>\n",
       "      <td>80-84</td>\n",
       "      <td>US</td>\n",
       "      <td>male</td>\n",
       "      <td>2442.0</td>\n",
       "      <td>2015.0</td>\n",
       "    </tr>\n",
       "  </tbody>\n",
       "</table>\n",
       "<p>420 rows × 5 columns</p>\n",
       "</div>"
      ],
      "text/plain": [
       "    age_bucket country_destination  gender  population_in_thousands    year\n",
       "0         100+                  AU    male                      1.0  2015.0\n",
       "1        95-99                  AU    male                      9.0  2015.0\n",
       "2        90-94                  AU    male                     47.0  2015.0\n",
       "3        85-89                  AU    male                    118.0  2015.0\n",
       "4        80-84                  AU    male                    199.0  2015.0\n",
       "..         ...                 ...     ...                      ...     ...\n",
       "415      95-99                  US    male                    115.0  2015.0\n",
       "416      90-94                  US    male                    541.0  2015.0\n",
       "417      15-19                  US  female                  10570.0  2015.0\n",
       "418      85-89                  US    male                   1441.0  2015.0\n",
       "419      80-84                  US    male                   2442.0  2015.0\n",
       "\n",
       "[420 rows x 5 columns]"
      ]
     },
     "execution_count": 2,
     "metadata": {},
     "output_type": "execute_result"
    }
   ],
   "source": [
    "data_raw_age_gender = pd.read_csv(\"datasets/age_gender_bkts.csv\", low_memory=False)\n",
    "data_raw_age_gender"
   ]
  },
  {
   "cell_type": "code",
   "execution_count": 3,
   "id": "5c1bd253",
   "metadata": {
    "ExecuteTime": {
     "end_time": "2023-01-12T14:46:21.017900Z",
     "start_time": "2023-01-12T14:46:21.004035Z"
    }
   },
   "outputs": [
    {
     "data": {
      "text/html": [
       "<div>\n",
       "<style scoped>\n",
       "    .dataframe tbody tr th:only-of-type {\n",
       "        vertical-align: middle;\n",
       "    }\n",
       "\n",
       "    .dataframe tbody tr th {\n",
       "        vertical-align: top;\n",
       "    }\n",
       "\n",
       "    .dataframe thead th {\n",
       "        text-align: right;\n",
       "    }\n",
       "</style>\n",
       "<table border=\"1\" class=\"dataframe\">\n",
       "  <thead>\n",
       "    <tr style=\"text-align: right;\">\n",
       "      <th></th>\n",
       "      <th>country_destination</th>\n",
       "      <th>lat_destination</th>\n",
       "      <th>lng_destination</th>\n",
       "      <th>distance_km</th>\n",
       "      <th>destination_km2</th>\n",
       "      <th>destination_language</th>\n",
       "      <th>language_levenshtein_distance</th>\n",
       "    </tr>\n",
       "  </thead>\n",
       "  <tbody>\n",
       "    <tr>\n",
       "      <th>0</th>\n",
       "      <td>AU</td>\n",
       "      <td>-26.853388</td>\n",
       "      <td>133.275160</td>\n",
       "      <td>15297.7440</td>\n",
       "      <td>7741220.0</td>\n",
       "      <td>eng</td>\n",
       "      <td>0.00</td>\n",
       "    </tr>\n",
       "    <tr>\n",
       "      <th>1</th>\n",
       "      <td>CA</td>\n",
       "      <td>62.393303</td>\n",
       "      <td>-96.818146</td>\n",
       "      <td>2828.1333</td>\n",
       "      <td>9984670.0</td>\n",
       "      <td>eng</td>\n",
       "      <td>0.00</td>\n",
       "    </tr>\n",
       "    <tr>\n",
       "      <th>2</th>\n",
       "      <td>DE</td>\n",
       "      <td>51.165707</td>\n",
       "      <td>10.452764</td>\n",
       "      <td>7879.5680</td>\n",
       "      <td>357022.0</td>\n",
       "      <td>deu</td>\n",
       "      <td>72.61</td>\n",
       "    </tr>\n",
       "    <tr>\n",
       "      <th>3</th>\n",
       "      <td>ES</td>\n",
       "      <td>39.896027</td>\n",
       "      <td>-2.487694</td>\n",
       "      <td>7730.7240</td>\n",
       "      <td>505370.0</td>\n",
       "      <td>spa</td>\n",
       "      <td>92.25</td>\n",
       "    </tr>\n",
       "    <tr>\n",
       "      <th>4</th>\n",
       "      <td>FR</td>\n",
       "      <td>46.232193</td>\n",
       "      <td>2.209667</td>\n",
       "      <td>7682.9450</td>\n",
       "      <td>643801.0</td>\n",
       "      <td>fra</td>\n",
       "      <td>92.06</td>\n",
       "    </tr>\n",
       "    <tr>\n",
       "      <th>5</th>\n",
       "      <td>GB</td>\n",
       "      <td>54.633220</td>\n",
       "      <td>-3.432277</td>\n",
       "      <td>6883.6590</td>\n",
       "      <td>243610.0</td>\n",
       "      <td>eng</td>\n",
       "      <td>0.00</td>\n",
       "    </tr>\n",
       "    <tr>\n",
       "      <th>6</th>\n",
       "      <td>IT</td>\n",
       "      <td>41.873990</td>\n",
       "      <td>12.564167</td>\n",
       "      <td>8636.6310</td>\n",
       "      <td>301340.0</td>\n",
       "      <td>ita</td>\n",
       "      <td>89.40</td>\n",
       "    </tr>\n",
       "    <tr>\n",
       "      <th>7</th>\n",
       "      <td>NL</td>\n",
       "      <td>52.133057</td>\n",
       "      <td>5.295250</td>\n",
       "      <td>7524.3203</td>\n",
       "      <td>41543.0</td>\n",
       "      <td>nld</td>\n",
       "      <td>63.22</td>\n",
       "    </tr>\n",
       "    <tr>\n",
       "      <th>8</th>\n",
       "      <td>PT</td>\n",
       "      <td>39.553444</td>\n",
       "      <td>-7.839319</td>\n",
       "      <td>7355.2534</td>\n",
       "      <td>92090.0</td>\n",
       "      <td>por</td>\n",
       "      <td>95.45</td>\n",
       "    </tr>\n",
       "    <tr>\n",
       "      <th>9</th>\n",
       "      <td>US</td>\n",
       "      <td>36.966427</td>\n",
       "      <td>-95.844030</td>\n",
       "      <td>0.0000</td>\n",
       "      <td>9826675.0</td>\n",
       "      <td>eng</td>\n",
       "      <td>0.00</td>\n",
       "    </tr>\n",
       "  </tbody>\n",
       "</table>\n",
       "</div>"
      ],
      "text/plain": [
       "  country_destination  lat_destination  lng_destination  distance_km  \\\n",
       "0                  AU       -26.853388       133.275160   15297.7440   \n",
       "1                  CA        62.393303       -96.818146    2828.1333   \n",
       "2                  DE        51.165707        10.452764    7879.5680   \n",
       "3                  ES        39.896027        -2.487694    7730.7240   \n",
       "4                  FR        46.232193         2.209667    7682.9450   \n",
       "5                  GB        54.633220        -3.432277    6883.6590   \n",
       "6                  IT        41.873990        12.564167    8636.6310   \n",
       "7                  NL        52.133057         5.295250    7524.3203   \n",
       "8                  PT        39.553444        -7.839319    7355.2534   \n",
       "9                  US        36.966427       -95.844030       0.0000   \n",
       "\n",
       "   destination_km2 destination_language   language_levenshtein_distance  \n",
       "0        7741220.0                   eng                           0.00  \n",
       "1        9984670.0                   eng                           0.00  \n",
       "2         357022.0                   deu                          72.61  \n",
       "3         505370.0                   spa                          92.25  \n",
       "4         643801.0                   fra                          92.06  \n",
       "5         243610.0                   eng                           0.00  \n",
       "6         301340.0                   ita                          89.40  \n",
       "7          41543.0                   nld                          63.22  \n",
       "8          92090.0                   por                          95.45  \n",
       "9        9826675.0                   eng                           0.00  "
      ]
     },
     "execution_count": 3,
     "metadata": {},
     "output_type": "execute_result"
    }
   ],
   "source": [
    "data_raw_countries = pd.read_csv(\"datasets/countries.csv\", low_memory=False)\n",
    "data_raw_countries"
   ]
  },
  {
   "cell_type": "code",
   "execution_count": 4,
   "id": "8a43d54a",
   "metadata": {
    "ExecuteTime": {
     "end_time": "2023-01-12T14:46:21.054746Z",
     "start_time": "2023-01-12T14:46:21.021189Z"
    }
   },
   "outputs": [
    {
     "data": {
      "text/html": [
       "<div>\n",
       "<style scoped>\n",
       "    .dataframe tbody tr th:only-of-type {\n",
       "        vertical-align: middle;\n",
       "    }\n",
       "\n",
       "    .dataframe tbody tr th {\n",
       "        vertical-align: top;\n",
       "    }\n",
       "\n",
       "    .dataframe thead th {\n",
       "        text-align: right;\n",
       "    }\n",
       "</style>\n",
       "<table border=\"1\" class=\"dataframe\">\n",
       "  <thead>\n",
       "    <tr style=\"text-align: right;\">\n",
       "      <th></th>\n",
       "      <th>id</th>\n",
       "      <th>country</th>\n",
       "    </tr>\n",
       "  </thead>\n",
       "  <tbody>\n",
       "    <tr>\n",
       "      <th>0</th>\n",
       "      <td>5uwns89zht</td>\n",
       "      <td>NDF</td>\n",
       "    </tr>\n",
       "    <tr>\n",
       "      <th>1</th>\n",
       "      <td>jtl0dijy2j</td>\n",
       "      <td>NDF</td>\n",
       "    </tr>\n",
       "    <tr>\n",
       "      <th>2</th>\n",
       "      <td>xx0ulgorjt</td>\n",
       "      <td>NDF</td>\n",
       "    </tr>\n",
       "    <tr>\n",
       "      <th>3</th>\n",
       "      <td>6c6puo6ix0</td>\n",
       "      <td>NDF</td>\n",
       "    </tr>\n",
       "    <tr>\n",
       "      <th>4</th>\n",
       "      <td>czqhjk3yfe</td>\n",
       "      <td>NDF</td>\n",
       "    </tr>\n",
       "    <tr>\n",
       "      <th>...</th>\n",
       "      <td>...</td>\n",
       "      <td>...</td>\n",
       "    </tr>\n",
       "    <tr>\n",
       "      <th>62091</th>\n",
       "      <td>cv0na2lf5a</td>\n",
       "      <td>NDF</td>\n",
       "    </tr>\n",
       "    <tr>\n",
       "      <th>62092</th>\n",
       "      <td>zp8xfonng8</td>\n",
       "      <td>NDF</td>\n",
       "    </tr>\n",
       "    <tr>\n",
       "      <th>62093</th>\n",
       "      <td>fa6260ziny</td>\n",
       "      <td>NDF</td>\n",
       "    </tr>\n",
       "    <tr>\n",
       "      <th>62094</th>\n",
       "      <td>87k0fy4ugm</td>\n",
       "      <td>NDF</td>\n",
       "    </tr>\n",
       "    <tr>\n",
       "      <th>62095</th>\n",
       "      <td>9uqfg8txu3</td>\n",
       "      <td>NDF</td>\n",
       "    </tr>\n",
       "  </tbody>\n",
       "</table>\n",
       "<p>62096 rows × 2 columns</p>\n",
       "</div>"
      ],
      "text/plain": [
       "               id country\n",
       "0      5uwns89zht     NDF\n",
       "1      jtl0dijy2j     NDF\n",
       "2      xx0ulgorjt     NDF\n",
       "3      6c6puo6ix0     NDF\n",
       "4      czqhjk3yfe     NDF\n",
       "...           ...     ...\n",
       "62091  cv0na2lf5a     NDF\n",
       "62092  zp8xfonng8     NDF\n",
       "62093  fa6260ziny     NDF\n",
       "62094  87k0fy4ugm     NDF\n",
       "62095  9uqfg8txu3     NDF\n",
       "\n",
       "[62096 rows x 2 columns]"
      ]
     },
     "execution_count": 4,
     "metadata": {},
     "output_type": "execute_result"
    }
   ],
   "source": [
    "data_raw_sample_submission = pd.read_csv(\"datasets/sample_submission_NDF.csv\", low_memory=False)\n",
    "data_raw_sample_submission"
   ]
  },
  {
   "cell_type": "code",
   "execution_count": 5,
   "id": "07b8a7e1",
   "metadata": {
    "ExecuteTime": {
     "end_time": "2023-01-12T14:46:26.724399Z",
     "start_time": "2023-01-12T14:46:21.056427Z"
    }
   },
   "outputs": [
    {
     "data": {
      "text/html": [
       "<div>\n",
       "<style scoped>\n",
       "    .dataframe tbody tr th:only-of-type {\n",
       "        vertical-align: middle;\n",
       "    }\n",
       "\n",
       "    .dataframe tbody tr th {\n",
       "        vertical-align: top;\n",
       "    }\n",
       "\n",
       "    .dataframe thead th {\n",
       "        text-align: right;\n",
       "    }\n",
       "</style>\n",
       "<table border=\"1\" class=\"dataframe\">\n",
       "  <thead>\n",
       "    <tr style=\"text-align: right;\">\n",
       "      <th></th>\n",
       "      <th>user_id</th>\n",
       "      <th>action</th>\n",
       "      <th>action_type</th>\n",
       "      <th>action_detail</th>\n",
       "      <th>device_type</th>\n",
       "      <th>secs_elapsed</th>\n",
       "    </tr>\n",
       "  </thead>\n",
       "  <tbody>\n",
       "    <tr>\n",
       "      <th>0</th>\n",
       "      <td>d1mm9tcy42</td>\n",
       "      <td>lookup</td>\n",
       "      <td>NaN</td>\n",
       "      <td>NaN</td>\n",
       "      <td>Windows Desktop</td>\n",
       "      <td>319.0</td>\n",
       "    </tr>\n",
       "    <tr>\n",
       "      <th>1</th>\n",
       "      <td>d1mm9tcy42</td>\n",
       "      <td>search_results</td>\n",
       "      <td>click</td>\n",
       "      <td>view_search_results</td>\n",
       "      <td>Windows Desktop</td>\n",
       "      <td>67753.0</td>\n",
       "    </tr>\n",
       "    <tr>\n",
       "      <th>2</th>\n",
       "      <td>d1mm9tcy42</td>\n",
       "      <td>lookup</td>\n",
       "      <td>NaN</td>\n",
       "      <td>NaN</td>\n",
       "      <td>Windows Desktop</td>\n",
       "      <td>301.0</td>\n",
       "    </tr>\n",
       "    <tr>\n",
       "      <th>3</th>\n",
       "      <td>d1mm9tcy42</td>\n",
       "      <td>search_results</td>\n",
       "      <td>click</td>\n",
       "      <td>view_search_results</td>\n",
       "      <td>Windows Desktop</td>\n",
       "      <td>22141.0</td>\n",
       "    </tr>\n",
       "    <tr>\n",
       "      <th>4</th>\n",
       "      <td>d1mm9tcy42</td>\n",
       "      <td>lookup</td>\n",
       "      <td>NaN</td>\n",
       "      <td>NaN</td>\n",
       "      <td>Windows Desktop</td>\n",
       "      <td>435.0</td>\n",
       "    </tr>\n",
       "    <tr>\n",
       "      <th>...</th>\n",
       "      <td>...</td>\n",
       "      <td>...</td>\n",
       "      <td>...</td>\n",
       "      <td>...</td>\n",
       "      <td>...</td>\n",
       "      <td>...</td>\n",
       "    </tr>\n",
       "    <tr>\n",
       "      <th>10567732</th>\n",
       "      <td>9uqfg8txu3</td>\n",
       "      <td>dashboard</td>\n",
       "      <td>view</td>\n",
       "      <td>dashboard</td>\n",
       "      <td>Windows Desktop</td>\n",
       "      <td>556.0</td>\n",
       "    </tr>\n",
       "    <tr>\n",
       "      <th>10567733</th>\n",
       "      <td>9uqfg8txu3</td>\n",
       "      <td>edit</td>\n",
       "      <td>view</td>\n",
       "      <td>edit_profile</td>\n",
       "      <td>Windows Desktop</td>\n",
       "      <td>6624.0</td>\n",
       "    </tr>\n",
       "    <tr>\n",
       "      <th>10567734</th>\n",
       "      <td>9uqfg8txu3</td>\n",
       "      <td>webcam_upload</td>\n",
       "      <td>-unknown-</td>\n",
       "      <td>-unknown-</td>\n",
       "      <td>Windows Desktop</td>\n",
       "      <td>200125.0</td>\n",
       "    </tr>\n",
       "    <tr>\n",
       "      <th>10567735</th>\n",
       "      <td>9uqfg8txu3</td>\n",
       "      <td>active</td>\n",
       "      <td>-unknown-</td>\n",
       "      <td>-unknown-</td>\n",
       "      <td>-unknown-</td>\n",
       "      <td>17624.0</td>\n",
       "    </tr>\n",
       "    <tr>\n",
       "      <th>10567736</th>\n",
       "      <td>9uqfg8txu3</td>\n",
       "      <td>show_personalize</td>\n",
       "      <td>data</td>\n",
       "      <td>user_profile_content_update</td>\n",
       "      <td>Windows Desktop</td>\n",
       "      <td>1221.0</td>\n",
       "    </tr>\n",
       "  </tbody>\n",
       "</table>\n",
       "<p>10567737 rows × 6 columns</p>\n",
       "</div>"
      ],
      "text/plain": [
       "             user_id            action action_type  \\\n",
       "0         d1mm9tcy42            lookup         NaN   \n",
       "1         d1mm9tcy42    search_results       click   \n",
       "2         d1mm9tcy42            lookup         NaN   \n",
       "3         d1mm9tcy42    search_results       click   \n",
       "4         d1mm9tcy42            lookup         NaN   \n",
       "...              ...               ...         ...   \n",
       "10567732  9uqfg8txu3         dashboard        view   \n",
       "10567733  9uqfg8txu3              edit        view   \n",
       "10567734  9uqfg8txu3     webcam_upload   -unknown-   \n",
       "10567735  9uqfg8txu3            active   -unknown-   \n",
       "10567736  9uqfg8txu3  show_personalize        data   \n",
       "\n",
       "                        action_detail      device_type  secs_elapsed  \n",
       "0                                 NaN  Windows Desktop         319.0  \n",
       "1                 view_search_results  Windows Desktop       67753.0  \n",
       "2                                 NaN  Windows Desktop         301.0  \n",
       "3                 view_search_results  Windows Desktop       22141.0  \n",
       "4                                 NaN  Windows Desktop         435.0  \n",
       "...                               ...              ...           ...  \n",
       "10567732                    dashboard  Windows Desktop         556.0  \n",
       "10567733                 edit_profile  Windows Desktop        6624.0  \n",
       "10567734                    -unknown-  Windows Desktop      200125.0  \n",
       "10567735                    -unknown-        -unknown-       17624.0  \n",
       "10567736  user_profile_content_update  Windows Desktop        1221.0  \n",
       "\n",
       "[10567737 rows x 6 columns]"
      ]
     },
     "execution_count": 5,
     "metadata": {},
     "output_type": "execute_result"
    }
   ],
   "source": [
    "df_sessions = pd.read_csv(\"datasets/sessions.csv\", low_memory=True)\n",
    "df_sessions"
   ]
  },
  {
   "cell_type": "code",
   "execution_count": 6,
   "id": "e6502758",
   "metadata": {
    "ExecuteTime": {
     "end_time": "2023-01-12T14:46:26.904122Z",
     "start_time": "2023-01-12T14:46:26.726577Z"
    }
   },
   "outputs": [
    {
     "data": {
      "text/html": [
       "<div>\n",
       "<style scoped>\n",
       "    .dataframe tbody tr th:only-of-type {\n",
       "        vertical-align: middle;\n",
       "    }\n",
       "\n",
       "    .dataframe tbody tr th {\n",
       "        vertical-align: top;\n",
       "    }\n",
       "\n",
       "    .dataframe thead th {\n",
       "        text-align: right;\n",
       "    }\n",
       "</style>\n",
       "<table border=\"1\" class=\"dataframe\">\n",
       "  <thead>\n",
       "    <tr style=\"text-align: right;\">\n",
       "      <th></th>\n",
       "      <th>id</th>\n",
       "      <th>date_account_created</th>\n",
       "      <th>timestamp_first_active</th>\n",
       "      <th>date_first_booking</th>\n",
       "      <th>gender</th>\n",
       "      <th>age</th>\n",
       "      <th>signup_method</th>\n",
       "      <th>signup_flow</th>\n",
       "      <th>language</th>\n",
       "      <th>affiliate_channel</th>\n",
       "      <th>affiliate_provider</th>\n",
       "      <th>first_affiliate_tracked</th>\n",
       "      <th>signup_app</th>\n",
       "      <th>first_device_type</th>\n",
       "      <th>first_browser</th>\n",
       "    </tr>\n",
       "  </thead>\n",
       "  <tbody>\n",
       "    <tr>\n",
       "      <th>0</th>\n",
       "      <td>5uwns89zht</td>\n",
       "      <td>2014-07-01</td>\n",
       "      <td>20140701000006</td>\n",
       "      <td>NaN</td>\n",
       "      <td>FEMALE</td>\n",
       "      <td>35.0</td>\n",
       "      <td>facebook</td>\n",
       "      <td>0</td>\n",
       "      <td>en</td>\n",
       "      <td>direct</td>\n",
       "      <td>direct</td>\n",
       "      <td>untracked</td>\n",
       "      <td>Moweb</td>\n",
       "      <td>iPhone</td>\n",
       "      <td>Mobile Safari</td>\n",
       "    </tr>\n",
       "    <tr>\n",
       "      <th>1</th>\n",
       "      <td>jtl0dijy2j</td>\n",
       "      <td>2014-07-01</td>\n",
       "      <td>20140701000051</td>\n",
       "      <td>NaN</td>\n",
       "      <td>-unknown-</td>\n",
       "      <td>NaN</td>\n",
       "      <td>basic</td>\n",
       "      <td>0</td>\n",
       "      <td>en</td>\n",
       "      <td>direct</td>\n",
       "      <td>direct</td>\n",
       "      <td>untracked</td>\n",
       "      <td>Moweb</td>\n",
       "      <td>iPhone</td>\n",
       "      <td>Mobile Safari</td>\n",
       "    </tr>\n",
       "    <tr>\n",
       "      <th>2</th>\n",
       "      <td>xx0ulgorjt</td>\n",
       "      <td>2014-07-01</td>\n",
       "      <td>20140701000148</td>\n",
       "      <td>NaN</td>\n",
       "      <td>-unknown-</td>\n",
       "      <td>NaN</td>\n",
       "      <td>basic</td>\n",
       "      <td>0</td>\n",
       "      <td>en</td>\n",
       "      <td>direct</td>\n",
       "      <td>direct</td>\n",
       "      <td>linked</td>\n",
       "      <td>Web</td>\n",
       "      <td>Windows Desktop</td>\n",
       "      <td>Chrome</td>\n",
       "    </tr>\n",
       "    <tr>\n",
       "      <th>3</th>\n",
       "      <td>6c6puo6ix0</td>\n",
       "      <td>2014-07-01</td>\n",
       "      <td>20140701000215</td>\n",
       "      <td>NaN</td>\n",
       "      <td>-unknown-</td>\n",
       "      <td>NaN</td>\n",
       "      <td>basic</td>\n",
       "      <td>0</td>\n",
       "      <td>en</td>\n",
       "      <td>direct</td>\n",
       "      <td>direct</td>\n",
       "      <td>linked</td>\n",
       "      <td>Web</td>\n",
       "      <td>Windows Desktop</td>\n",
       "      <td>IE</td>\n",
       "    </tr>\n",
       "    <tr>\n",
       "      <th>4</th>\n",
       "      <td>czqhjk3yfe</td>\n",
       "      <td>2014-07-01</td>\n",
       "      <td>20140701000305</td>\n",
       "      <td>NaN</td>\n",
       "      <td>-unknown-</td>\n",
       "      <td>NaN</td>\n",
       "      <td>basic</td>\n",
       "      <td>0</td>\n",
       "      <td>en</td>\n",
       "      <td>direct</td>\n",
       "      <td>direct</td>\n",
       "      <td>untracked</td>\n",
       "      <td>Web</td>\n",
       "      <td>Mac Desktop</td>\n",
       "      <td>Safari</td>\n",
       "    </tr>\n",
       "    <tr>\n",
       "      <th>...</th>\n",
       "      <td>...</td>\n",
       "      <td>...</td>\n",
       "      <td>...</td>\n",
       "      <td>...</td>\n",
       "      <td>...</td>\n",
       "      <td>...</td>\n",
       "      <td>...</td>\n",
       "      <td>...</td>\n",
       "      <td>...</td>\n",
       "      <td>...</td>\n",
       "      <td>...</td>\n",
       "      <td>...</td>\n",
       "      <td>...</td>\n",
       "      <td>...</td>\n",
       "      <td>...</td>\n",
       "    </tr>\n",
       "    <tr>\n",
       "      <th>62091</th>\n",
       "      <td>cv0na2lf5a</td>\n",
       "      <td>2014-09-30</td>\n",
       "      <td>20140930235232</td>\n",
       "      <td>NaN</td>\n",
       "      <td>-unknown-</td>\n",
       "      <td>31.0</td>\n",
       "      <td>basic</td>\n",
       "      <td>0</td>\n",
       "      <td>en</td>\n",
       "      <td>direct</td>\n",
       "      <td>direct</td>\n",
       "      <td>untracked</td>\n",
       "      <td>Web</td>\n",
       "      <td>Windows Desktop</td>\n",
       "      <td>IE</td>\n",
       "    </tr>\n",
       "    <tr>\n",
       "      <th>62092</th>\n",
       "      <td>zp8xfonng8</td>\n",
       "      <td>2014-09-30</td>\n",
       "      <td>20140930235306</td>\n",
       "      <td>NaN</td>\n",
       "      <td>-unknown-</td>\n",
       "      <td>NaN</td>\n",
       "      <td>basic</td>\n",
       "      <td>23</td>\n",
       "      <td>ko</td>\n",
       "      <td>direct</td>\n",
       "      <td>direct</td>\n",
       "      <td>untracked</td>\n",
       "      <td>Android</td>\n",
       "      <td>Android Phone</td>\n",
       "      <td>-unknown-</td>\n",
       "    </tr>\n",
       "    <tr>\n",
       "      <th>62093</th>\n",
       "      <td>fa6260ziny</td>\n",
       "      <td>2014-09-30</td>\n",
       "      <td>20140930235408</td>\n",
       "      <td>NaN</td>\n",
       "      <td>-unknown-</td>\n",
       "      <td>NaN</td>\n",
       "      <td>basic</td>\n",
       "      <td>0</td>\n",
       "      <td>de</td>\n",
       "      <td>direct</td>\n",
       "      <td>direct</td>\n",
       "      <td>linked</td>\n",
       "      <td>Web</td>\n",
       "      <td>Windows Desktop</td>\n",
       "      <td>Firefox</td>\n",
       "    </tr>\n",
       "    <tr>\n",
       "      <th>62094</th>\n",
       "      <td>87k0fy4ugm</td>\n",
       "      <td>2014-09-30</td>\n",
       "      <td>20140930235430</td>\n",
       "      <td>NaN</td>\n",
       "      <td>-unknown-</td>\n",
       "      <td>NaN</td>\n",
       "      <td>basic</td>\n",
       "      <td>0</td>\n",
       "      <td>en</td>\n",
       "      <td>sem-brand</td>\n",
       "      <td>google</td>\n",
       "      <td>omg</td>\n",
       "      <td>Web</td>\n",
       "      <td>Mac Desktop</td>\n",
       "      <td>Safari</td>\n",
       "    </tr>\n",
       "    <tr>\n",
       "      <th>62095</th>\n",
       "      <td>9uqfg8txu3</td>\n",
       "      <td>2014-09-30</td>\n",
       "      <td>20140930235901</td>\n",
       "      <td>NaN</td>\n",
       "      <td>FEMALE</td>\n",
       "      <td>49.0</td>\n",
       "      <td>basic</td>\n",
       "      <td>0</td>\n",
       "      <td>en</td>\n",
       "      <td>other</td>\n",
       "      <td>other</td>\n",
       "      <td>tracked-other</td>\n",
       "      <td>Web</td>\n",
       "      <td>Windows Desktop</td>\n",
       "      <td>Chrome</td>\n",
       "    </tr>\n",
       "  </tbody>\n",
       "</table>\n",
       "<p>62096 rows × 15 columns</p>\n",
       "</div>"
      ],
      "text/plain": [
       "               id date_account_created  timestamp_first_active  \\\n",
       "0      5uwns89zht           2014-07-01          20140701000006   \n",
       "1      jtl0dijy2j           2014-07-01          20140701000051   \n",
       "2      xx0ulgorjt           2014-07-01          20140701000148   \n",
       "3      6c6puo6ix0           2014-07-01          20140701000215   \n",
       "4      czqhjk3yfe           2014-07-01          20140701000305   \n",
       "...           ...                  ...                     ...   \n",
       "62091  cv0na2lf5a           2014-09-30          20140930235232   \n",
       "62092  zp8xfonng8           2014-09-30          20140930235306   \n",
       "62093  fa6260ziny           2014-09-30          20140930235408   \n",
       "62094  87k0fy4ugm           2014-09-30          20140930235430   \n",
       "62095  9uqfg8txu3           2014-09-30          20140930235901   \n",
       "\n",
       "       date_first_booking     gender   age signup_method  signup_flow  \\\n",
       "0                     NaN     FEMALE  35.0      facebook            0   \n",
       "1                     NaN  -unknown-   NaN         basic            0   \n",
       "2                     NaN  -unknown-   NaN         basic            0   \n",
       "3                     NaN  -unknown-   NaN         basic            0   \n",
       "4                     NaN  -unknown-   NaN         basic            0   \n",
       "...                   ...        ...   ...           ...          ...   \n",
       "62091                 NaN  -unknown-  31.0         basic            0   \n",
       "62092                 NaN  -unknown-   NaN         basic           23   \n",
       "62093                 NaN  -unknown-   NaN         basic            0   \n",
       "62094                 NaN  -unknown-   NaN         basic            0   \n",
       "62095                 NaN     FEMALE  49.0         basic            0   \n",
       "\n",
       "      language affiliate_channel affiliate_provider first_affiliate_tracked  \\\n",
       "0           en            direct             direct               untracked   \n",
       "1           en            direct             direct               untracked   \n",
       "2           en            direct             direct                  linked   \n",
       "3           en            direct             direct                  linked   \n",
       "4           en            direct             direct               untracked   \n",
       "...        ...               ...                ...                     ...   \n",
       "62091       en            direct             direct               untracked   \n",
       "62092       ko            direct             direct               untracked   \n",
       "62093       de            direct             direct                  linked   \n",
       "62094       en         sem-brand             google                     omg   \n",
       "62095       en             other              other           tracked-other   \n",
       "\n",
       "      signup_app first_device_type  first_browser  \n",
       "0          Moweb            iPhone  Mobile Safari  \n",
       "1          Moweb            iPhone  Mobile Safari  \n",
       "2            Web   Windows Desktop         Chrome  \n",
       "3            Web   Windows Desktop             IE  \n",
       "4            Web       Mac Desktop         Safari  \n",
       "...          ...               ...            ...  \n",
       "62091        Web   Windows Desktop             IE  \n",
       "62092    Android     Android Phone      -unknown-  \n",
       "62093        Web   Windows Desktop        Firefox  \n",
       "62094        Web       Mac Desktop         Safari  \n",
       "62095        Web   Windows Desktop         Chrome  \n",
       "\n",
       "[62096 rows x 15 columns]"
      ]
     },
     "execution_count": 6,
     "metadata": {},
     "output_type": "execute_result"
    }
   ],
   "source": [
    "data_raw_test_users = pd.read_csv(\"datasets/test_users.csv\", low_memory=False)\n",
    "data_raw_test_users"
   ]
  },
  {
   "cell_type": "code",
   "execution_count": 7,
   "id": "ffdde24d",
   "metadata": {
    "ExecuteTime": {
     "end_time": "2023-01-12T14:46:27.470543Z",
     "start_time": "2023-01-12T14:46:26.905935Z"
    }
   },
   "outputs": [
    {
     "data": {
      "text/html": [
       "<div>\n",
       "<style scoped>\n",
       "    .dataframe tbody tr th:only-of-type {\n",
       "        vertical-align: middle;\n",
       "    }\n",
       "\n",
       "    .dataframe tbody tr th {\n",
       "        vertical-align: top;\n",
       "    }\n",
       "\n",
       "    .dataframe thead th {\n",
       "        text-align: right;\n",
       "    }\n",
       "</style>\n",
       "<table border=\"1\" class=\"dataframe\">\n",
       "  <thead>\n",
       "    <tr style=\"text-align: right;\">\n",
       "      <th></th>\n",
       "      <th>id</th>\n",
       "      <th>date_account_created</th>\n",
       "      <th>timestamp_first_active</th>\n",
       "      <th>date_first_booking</th>\n",
       "      <th>gender</th>\n",
       "      <th>age</th>\n",
       "      <th>signup_method</th>\n",
       "      <th>signup_flow</th>\n",
       "      <th>language</th>\n",
       "      <th>affiliate_channel</th>\n",
       "      <th>affiliate_provider</th>\n",
       "      <th>first_affiliate_tracked</th>\n",
       "      <th>signup_app</th>\n",
       "      <th>first_device_type</th>\n",
       "      <th>first_browser</th>\n",
       "      <th>country_destination</th>\n",
       "    </tr>\n",
       "  </thead>\n",
       "  <tbody>\n",
       "    <tr>\n",
       "      <th>0</th>\n",
       "      <td>gxn3p5htnn</td>\n",
       "      <td>2010-06-28</td>\n",
       "      <td>20090319043255</td>\n",
       "      <td>NaN</td>\n",
       "      <td>-unknown-</td>\n",
       "      <td>NaN</td>\n",
       "      <td>facebook</td>\n",
       "      <td>0</td>\n",
       "      <td>en</td>\n",
       "      <td>direct</td>\n",
       "      <td>direct</td>\n",
       "      <td>untracked</td>\n",
       "      <td>Web</td>\n",
       "      <td>Mac Desktop</td>\n",
       "      <td>Chrome</td>\n",
       "      <td>NDF</td>\n",
       "    </tr>\n",
       "    <tr>\n",
       "      <th>1</th>\n",
       "      <td>820tgsjxq7</td>\n",
       "      <td>2011-05-25</td>\n",
       "      <td>20090523174809</td>\n",
       "      <td>NaN</td>\n",
       "      <td>MALE</td>\n",
       "      <td>38.0</td>\n",
       "      <td>facebook</td>\n",
       "      <td>0</td>\n",
       "      <td>en</td>\n",
       "      <td>seo</td>\n",
       "      <td>google</td>\n",
       "      <td>untracked</td>\n",
       "      <td>Web</td>\n",
       "      <td>Mac Desktop</td>\n",
       "      <td>Chrome</td>\n",
       "      <td>NDF</td>\n",
       "    </tr>\n",
       "    <tr>\n",
       "      <th>2</th>\n",
       "      <td>4ft3gnwmtx</td>\n",
       "      <td>2010-09-28</td>\n",
       "      <td>20090609231247</td>\n",
       "      <td>2010-08-02</td>\n",
       "      <td>FEMALE</td>\n",
       "      <td>56.0</td>\n",
       "      <td>basic</td>\n",
       "      <td>3</td>\n",
       "      <td>en</td>\n",
       "      <td>direct</td>\n",
       "      <td>direct</td>\n",
       "      <td>untracked</td>\n",
       "      <td>Web</td>\n",
       "      <td>Windows Desktop</td>\n",
       "      <td>IE</td>\n",
       "      <td>US</td>\n",
       "    </tr>\n",
       "    <tr>\n",
       "      <th>3</th>\n",
       "      <td>bjjt8pjhuk</td>\n",
       "      <td>2011-12-05</td>\n",
       "      <td>20091031060129</td>\n",
       "      <td>2012-09-08</td>\n",
       "      <td>FEMALE</td>\n",
       "      <td>42.0</td>\n",
       "      <td>facebook</td>\n",
       "      <td>0</td>\n",
       "      <td>en</td>\n",
       "      <td>direct</td>\n",
       "      <td>direct</td>\n",
       "      <td>untracked</td>\n",
       "      <td>Web</td>\n",
       "      <td>Mac Desktop</td>\n",
       "      <td>Firefox</td>\n",
       "      <td>other</td>\n",
       "    </tr>\n",
       "    <tr>\n",
       "      <th>4</th>\n",
       "      <td>87mebub9p4</td>\n",
       "      <td>2010-09-14</td>\n",
       "      <td>20091208061105</td>\n",
       "      <td>2010-02-18</td>\n",
       "      <td>-unknown-</td>\n",
       "      <td>41.0</td>\n",
       "      <td>basic</td>\n",
       "      <td>0</td>\n",
       "      <td>en</td>\n",
       "      <td>direct</td>\n",
       "      <td>direct</td>\n",
       "      <td>untracked</td>\n",
       "      <td>Web</td>\n",
       "      <td>Mac Desktop</td>\n",
       "      <td>Chrome</td>\n",
       "      <td>US</td>\n",
       "    </tr>\n",
       "    <tr>\n",
       "      <th>...</th>\n",
       "      <td>...</td>\n",
       "      <td>...</td>\n",
       "      <td>...</td>\n",
       "      <td>...</td>\n",
       "      <td>...</td>\n",
       "      <td>...</td>\n",
       "      <td>...</td>\n",
       "      <td>...</td>\n",
       "      <td>...</td>\n",
       "      <td>...</td>\n",
       "      <td>...</td>\n",
       "      <td>...</td>\n",
       "      <td>...</td>\n",
       "      <td>...</td>\n",
       "      <td>...</td>\n",
       "      <td>...</td>\n",
       "    </tr>\n",
       "    <tr>\n",
       "      <th>213446</th>\n",
       "      <td>zxodksqpep</td>\n",
       "      <td>2014-06-30</td>\n",
       "      <td>20140630235636</td>\n",
       "      <td>NaN</td>\n",
       "      <td>MALE</td>\n",
       "      <td>32.0</td>\n",
       "      <td>basic</td>\n",
       "      <td>0</td>\n",
       "      <td>en</td>\n",
       "      <td>sem-brand</td>\n",
       "      <td>google</td>\n",
       "      <td>omg</td>\n",
       "      <td>Web</td>\n",
       "      <td>Mac Desktop</td>\n",
       "      <td>Safari</td>\n",
       "      <td>NDF</td>\n",
       "    </tr>\n",
       "    <tr>\n",
       "      <th>213447</th>\n",
       "      <td>mhewnxesx9</td>\n",
       "      <td>2014-06-30</td>\n",
       "      <td>20140630235719</td>\n",
       "      <td>NaN</td>\n",
       "      <td>-unknown-</td>\n",
       "      <td>NaN</td>\n",
       "      <td>basic</td>\n",
       "      <td>0</td>\n",
       "      <td>en</td>\n",
       "      <td>direct</td>\n",
       "      <td>direct</td>\n",
       "      <td>linked</td>\n",
       "      <td>Web</td>\n",
       "      <td>Windows Desktop</td>\n",
       "      <td>Chrome</td>\n",
       "      <td>NDF</td>\n",
       "    </tr>\n",
       "    <tr>\n",
       "      <th>213448</th>\n",
       "      <td>6o3arsjbb4</td>\n",
       "      <td>2014-06-30</td>\n",
       "      <td>20140630235754</td>\n",
       "      <td>NaN</td>\n",
       "      <td>-unknown-</td>\n",
       "      <td>32.0</td>\n",
       "      <td>basic</td>\n",
       "      <td>0</td>\n",
       "      <td>en</td>\n",
       "      <td>direct</td>\n",
       "      <td>direct</td>\n",
       "      <td>untracked</td>\n",
       "      <td>Web</td>\n",
       "      <td>Mac Desktop</td>\n",
       "      <td>Firefox</td>\n",
       "      <td>NDF</td>\n",
       "    </tr>\n",
       "    <tr>\n",
       "      <th>213449</th>\n",
       "      <td>jh95kwisub</td>\n",
       "      <td>2014-06-30</td>\n",
       "      <td>20140630235822</td>\n",
       "      <td>NaN</td>\n",
       "      <td>-unknown-</td>\n",
       "      <td>NaN</td>\n",
       "      <td>basic</td>\n",
       "      <td>25</td>\n",
       "      <td>en</td>\n",
       "      <td>other</td>\n",
       "      <td>other</td>\n",
       "      <td>tracked-other</td>\n",
       "      <td>iOS</td>\n",
       "      <td>iPhone</td>\n",
       "      <td>Mobile Safari</td>\n",
       "      <td>NDF</td>\n",
       "    </tr>\n",
       "    <tr>\n",
       "      <th>213450</th>\n",
       "      <td>nw9fwlyb5f</td>\n",
       "      <td>2014-06-30</td>\n",
       "      <td>20140630235824</td>\n",
       "      <td>NaN</td>\n",
       "      <td>-unknown-</td>\n",
       "      <td>NaN</td>\n",
       "      <td>basic</td>\n",
       "      <td>25</td>\n",
       "      <td>en</td>\n",
       "      <td>direct</td>\n",
       "      <td>direct</td>\n",
       "      <td>untracked</td>\n",
       "      <td>iOS</td>\n",
       "      <td>iPhone</td>\n",
       "      <td>-unknown-</td>\n",
       "      <td>NDF</td>\n",
       "    </tr>\n",
       "  </tbody>\n",
       "</table>\n",
       "<p>213451 rows × 16 columns</p>\n",
       "</div>"
      ],
      "text/plain": [
       "                id date_account_created  timestamp_first_active  \\\n",
       "0       gxn3p5htnn           2010-06-28          20090319043255   \n",
       "1       820tgsjxq7           2011-05-25          20090523174809   \n",
       "2       4ft3gnwmtx           2010-09-28          20090609231247   \n",
       "3       bjjt8pjhuk           2011-12-05          20091031060129   \n",
       "4       87mebub9p4           2010-09-14          20091208061105   \n",
       "...            ...                  ...                     ...   \n",
       "213446  zxodksqpep           2014-06-30          20140630235636   \n",
       "213447  mhewnxesx9           2014-06-30          20140630235719   \n",
       "213448  6o3arsjbb4           2014-06-30          20140630235754   \n",
       "213449  jh95kwisub           2014-06-30          20140630235822   \n",
       "213450  nw9fwlyb5f           2014-06-30          20140630235824   \n",
       "\n",
       "       date_first_booking     gender   age signup_method  signup_flow  \\\n",
       "0                     NaN  -unknown-   NaN      facebook            0   \n",
       "1                     NaN       MALE  38.0      facebook            0   \n",
       "2              2010-08-02     FEMALE  56.0         basic            3   \n",
       "3              2012-09-08     FEMALE  42.0      facebook            0   \n",
       "4              2010-02-18  -unknown-  41.0         basic            0   \n",
       "...                   ...        ...   ...           ...          ...   \n",
       "213446                NaN       MALE  32.0         basic            0   \n",
       "213447                NaN  -unknown-   NaN         basic            0   \n",
       "213448                NaN  -unknown-  32.0         basic            0   \n",
       "213449                NaN  -unknown-   NaN         basic           25   \n",
       "213450                NaN  -unknown-   NaN         basic           25   \n",
       "\n",
       "       language affiliate_channel affiliate_provider first_affiliate_tracked  \\\n",
       "0            en            direct             direct               untracked   \n",
       "1            en               seo             google               untracked   \n",
       "2            en            direct             direct               untracked   \n",
       "3            en            direct             direct               untracked   \n",
       "4            en            direct             direct               untracked   \n",
       "...         ...               ...                ...                     ...   \n",
       "213446       en         sem-brand             google                     omg   \n",
       "213447       en            direct             direct                  linked   \n",
       "213448       en            direct             direct               untracked   \n",
       "213449       en             other              other           tracked-other   \n",
       "213450       en            direct             direct               untracked   \n",
       "\n",
       "       signup_app first_device_type  first_browser country_destination  \n",
       "0             Web       Mac Desktop         Chrome                 NDF  \n",
       "1             Web       Mac Desktop         Chrome                 NDF  \n",
       "2             Web   Windows Desktop             IE                  US  \n",
       "3             Web       Mac Desktop        Firefox               other  \n",
       "4             Web       Mac Desktop         Chrome                  US  \n",
       "...           ...               ...            ...                 ...  \n",
       "213446        Web       Mac Desktop         Safari                 NDF  \n",
       "213447        Web   Windows Desktop         Chrome                 NDF  \n",
       "213448        Web       Mac Desktop        Firefox                 NDF  \n",
       "213449        iOS            iPhone  Mobile Safari                 NDF  \n",
       "213450        iOS            iPhone      -unknown-                 NDF  \n",
       "\n",
       "[213451 rows x 16 columns]"
      ]
     },
     "execution_count": 7,
     "metadata": {},
     "output_type": "execute_result"
    }
   ],
   "source": [
    "data_raw_train_users = pd.read_csv(\"datasets/train_users_2.csv\", low_memory=False)\n",
    "data_raw_train_users"
   ]
  },
  {
   "cell_type": "markdown",
   "id": "a96a48a6",
   "metadata": {},
   "source": [
    "#### Could we merge sesions with train_users?"
   ]
  },
  {
   "cell_type": "markdown",
   "id": "294d2dd0",
   "metadata": {},
   "source": [
    "Sessions and train_users are our main tables. We are going to use both of them in this project. Yet, we cannot merge these tables now because they have different granularity: \n",
    "\n",
    "**(1)** train_user is user-level (informations are: one user per row). \n",
    "\n",
    "**(2)** sessions is secs_elapsed-level (informations are related to action, action_type, action_detail, device_type and secs_elapse - and this one is the highest level).\n",
    "\n",
    "To merge the two tables, we need to encoding the columns from sessions. "
   ]
  },
  {
   "cell_type": "code",
   "execution_count": 8,
   "id": "ff7aae62",
   "metadata": {
    "ExecuteTime": {
     "end_time": "2023-01-12T14:46:27.500387Z",
     "start_time": "2023-01-12T14:46:27.472746Z"
    }
   },
   "outputs": [
    {
     "data": {
      "text/html": [
       "<div>\n",
       "<style scoped>\n",
       "    .dataframe tbody tr th:only-of-type {\n",
       "        vertical-align: middle;\n",
       "    }\n",
       "\n",
       "    .dataframe tbody tr th {\n",
       "        vertical-align: top;\n",
       "    }\n",
       "\n",
       "    .dataframe thead th {\n",
       "        text-align: right;\n",
       "    }\n",
       "</style>\n",
       "<table border=\"1\" class=\"dataframe\">\n",
       "  <thead>\n",
       "    <tr style=\"text-align: right;\">\n",
       "      <th></th>\n",
       "      <th>id</th>\n",
       "      <th>date_account_created</th>\n",
       "      <th>timestamp_first_active</th>\n",
       "      <th>date_first_booking</th>\n",
       "      <th>gender</th>\n",
       "      <th>age</th>\n",
       "      <th>signup_method</th>\n",
       "      <th>signup_flow</th>\n",
       "      <th>language</th>\n",
       "      <th>affiliate_channel</th>\n",
       "      <th>affiliate_provider</th>\n",
       "      <th>first_affiliate_tracked</th>\n",
       "      <th>signup_app</th>\n",
       "      <th>first_device_type</th>\n",
       "      <th>first_browser</th>\n",
       "      <th>country_destination</th>\n",
       "    </tr>\n",
       "  </thead>\n",
       "  <tbody>\n",
       "    <tr>\n",
       "      <th>213450</th>\n",
       "      <td>nw9fwlyb5f</td>\n",
       "      <td>2014-06-30</td>\n",
       "      <td>20140630235824</td>\n",
       "      <td>NaN</td>\n",
       "      <td>-unknown-</td>\n",
       "      <td>NaN</td>\n",
       "      <td>basic</td>\n",
       "      <td>25</td>\n",
       "      <td>en</td>\n",
       "      <td>direct</td>\n",
       "      <td>direct</td>\n",
       "      <td>untracked</td>\n",
       "      <td>iOS</td>\n",
       "      <td>iPhone</td>\n",
       "      <td>-unknown-</td>\n",
       "      <td>NDF</td>\n",
       "    </tr>\n",
       "  </tbody>\n",
       "</table>\n",
       "</div>"
      ],
      "text/plain": [
       "                id date_account_created  timestamp_first_active  \\\n",
       "213450  nw9fwlyb5f           2014-06-30          20140630235824   \n",
       "\n",
       "       date_first_booking     gender  age signup_method  signup_flow language  \\\n",
       "213450                NaN  -unknown-  NaN         basic           25       en   \n",
       "\n",
       "       affiliate_channel affiliate_provider first_affiliate_tracked  \\\n",
       "213450            direct             direct               untracked   \n",
       "\n",
       "       signup_app first_device_type first_browser country_destination  \n",
       "213450        iOS            iPhone     -unknown-                 NDF  "
      ]
     },
     "execution_count": 8,
     "metadata": {},
     "output_type": "execute_result"
    }
   ],
   "source": [
    "# train user\n",
    "data_raw_train_users[data_raw_train_users[\"id\"] == \"nw9fwlyb5f\"]"
   ]
  },
  {
   "cell_type": "code",
   "execution_count": 9,
   "id": "39e5d5e4",
   "metadata": {
    "ExecuteTime": {
     "end_time": "2023-01-12T14:46:28.039266Z",
     "start_time": "2023-01-12T14:46:27.503125Z"
    }
   },
   "outputs": [
    {
     "data": {
      "text/html": [
       "<div>\n",
       "<style scoped>\n",
       "    .dataframe tbody tr th:only-of-type {\n",
       "        vertical-align: middle;\n",
       "    }\n",
       "\n",
       "    .dataframe tbody tr th {\n",
       "        vertical-align: top;\n",
       "    }\n",
       "\n",
       "    .dataframe thead th {\n",
       "        text-align: right;\n",
       "    }\n",
       "</style>\n",
       "<table border=\"1\" class=\"dataframe\">\n",
       "  <thead>\n",
       "    <tr style=\"text-align: right;\">\n",
       "      <th></th>\n",
       "      <th>user_id</th>\n",
       "      <th>action</th>\n",
       "      <th>action_type</th>\n",
       "      <th>action_detail</th>\n",
       "      <th>device_type</th>\n",
       "      <th>secs_elapsed</th>\n",
       "    </tr>\n",
       "  </thead>\n",
       "  <tbody>\n",
       "    <tr>\n",
       "      <th>5555239</th>\n",
       "      <td>nw9fwlyb5f</td>\n",
       "      <td>show</td>\n",
       "      <td>view</td>\n",
       "      <td>user_profile</td>\n",
       "      <td>iPhone</td>\n",
       "      <td>9310.0</td>\n",
       "    </tr>\n",
       "    <tr>\n",
       "      <th>5555240</th>\n",
       "      <td>nw9fwlyb5f</td>\n",
       "      <td>show</td>\n",
       "      <td>view</td>\n",
       "      <td>p3</td>\n",
       "      <td>iPhone</td>\n",
       "      <td>33.0</td>\n",
       "    </tr>\n",
       "    <tr>\n",
       "      <th>5555241</th>\n",
       "      <td>nw9fwlyb5f</td>\n",
       "      <td>reviews</td>\n",
       "      <td>data</td>\n",
       "      <td>listing_reviews</td>\n",
       "      <td>iPhone</td>\n",
       "      <td>8.0</td>\n",
       "    </tr>\n",
       "    <tr>\n",
       "      <th>5555242</th>\n",
       "      <td>nw9fwlyb5f</td>\n",
       "      <td>campaigns</td>\n",
       "      <td>NaN</td>\n",
       "      <td>NaN</td>\n",
       "      <td>iPhone</td>\n",
       "      <td>41983.0</td>\n",
       "    </tr>\n",
       "    <tr>\n",
       "      <th>5555243</th>\n",
       "      <td>nw9fwlyb5f</td>\n",
       "      <td>click</td>\n",
       "      <td>click</td>\n",
       "      <td>book_it</td>\n",
       "      <td>iPhone</td>\n",
       "      <td>58491.0</td>\n",
       "    </tr>\n",
       "  </tbody>\n",
       "</table>\n",
       "</div>"
      ],
      "text/plain": [
       "            user_id     action action_type    action_detail device_type  \\\n",
       "5555239  nw9fwlyb5f       show        view     user_profile      iPhone   \n",
       "5555240  nw9fwlyb5f       show        view               p3      iPhone   \n",
       "5555241  nw9fwlyb5f    reviews        data  listing_reviews      iPhone   \n",
       "5555242  nw9fwlyb5f  campaigns         NaN              NaN      iPhone   \n",
       "5555243  nw9fwlyb5f      click       click          book_it      iPhone   \n",
       "\n",
       "         secs_elapsed  \n",
       "5555239        9310.0  \n",
       "5555240          33.0  \n",
       "5555241           8.0  \n",
       "5555242       41983.0  \n",
       "5555243       58491.0  "
      ]
     },
     "execution_count": 9,
     "metadata": {},
     "output_type": "execute_result"
    }
   ],
   "source": [
    "# sessions\n",
    "df_sessions[df_sessions[\"user_id\"] == \"nw9fwlyb5f\"].head()"
   ]
  },
  {
   "cell_type": "code",
   "execution_count": 10,
   "id": "857bc1b0",
   "metadata": {
    "ExecuteTime": {
     "end_time": "2023-01-12T14:46:29.074829Z",
     "start_time": "2023-01-12T14:46:28.044302Z"
    }
   },
   "outputs": [
    {
     "data": {
      "text/html": [
       "<div>\n",
       "<style scoped>\n",
       "    .dataframe tbody tr th:only-of-type {\n",
       "        vertical-align: middle;\n",
       "    }\n",
       "\n",
       "    .dataframe tbody tr th {\n",
       "        vertical-align: top;\n",
       "    }\n",
       "\n",
       "    .dataframe thead th {\n",
       "        text-align: right;\n",
       "    }\n",
       "</style>\n",
       "<table border=\"1\" class=\"dataframe\">\n",
       "  <thead>\n",
       "    <tr style=\"text-align: right;\">\n",
       "      <th></th>\n",
       "      <th>user_id</th>\n",
       "      <th>action</th>\n",
       "      <th>action_type</th>\n",
       "      <th>action_detail</th>\n",
       "      <th>device_type</th>\n",
       "      <th>secs_elapsed</th>\n",
       "    </tr>\n",
       "  </thead>\n",
       "  <tbody>\n",
       "    <tr>\n",
       "      <th>5555241</th>\n",
       "      <td>nw9fwlyb5f</td>\n",
       "      <td>reviews</td>\n",
       "      <td>data</td>\n",
       "      <td>listing_reviews</td>\n",
       "      <td>iPhone</td>\n",
       "      <td>8.0</td>\n",
       "    </tr>\n",
       "    <tr>\n",
       "      <th>5555269</th>\n",
       "      <td>nw9fwlyb5f</td>\n",
       "      <td>reviews</td>\n",
       "      <td>data</td>\n",
       "      <td>listing_reviews</td>\n",
       "      <td>iPhone</td>\n",
       "      <td>11.0</td>\n",
       "    </tr>\n",
       "  </tbody>\n",
       "</table>\n",
       "</div>"
      ],
      "text/plain": [
       "            user_id   action action_type    action_detail device_type  \\\n",
       "5555241  nw9fwlyb5f  reviews        data  listing_reviews      iPhone   \n",
       "5555269  nw9fwlyb5f  reviews        data  listing_reviews      iPhone   \n",
       "\n",
       "         secs_elapsed  \n",
       "5555241           8.0  \n",
       "5555269          11.0  "
      ]
     },
     "execution_count": 10,
     "metadata": {},
     "output_type": "execute_result"
    }
   ],
   "source": [
    "# sessions\n",
    "df_sessions[(df_sessions[\"user_id\"] == \"nw9fwlyb5f\") & (df_sessions[\"action\"] == \"reviews\")].head()"
   ]
  },
  {
   "cell_type": "markdown",
   "id": "72e903da",
   "metadata": {},
   "source": [
    "# 1. Data Description"
   ]
  },
  {
   "cell_type": "code",
   "execution_count": 11,
   "id": "c49df1ef",
   "metadata": {
    "ExecuteTime": {
     "end_time": "2023-01-12T14:46:29.097975Z",
     "start_time": "2023-01-12T14:46:29.077060Z"
    }
   },
   "outputs": [],
   "source": [
    "df1 = data_raw_train_users.copy()"
   ]
  },
  {
   "cell_type": "markdown",
   "id": "543d79b7",
   "metadata": {},
   "source": [
    "### Data fields meaning"
   ]
  },
  {
   "cell_type": "markdown",
   "id": "b53fd4e6",
   "metadata": {},
   "source": [
    "- id: user id.\n",
    "\n",
    "- date_account_created: the date of account creation.\n",
    "\n",
    "- timestamp_first_active: timestamp of the first activity, note that it can be earlier than date_account_created or - date_first_booking because a user can search before signing up.\n",
    "\n",
    "- date_first_booking: date of first booking.\n",
    "\n",
    "- gender.\n",
    "\n",
    "- age.\n",
    "\n",
    "- signup_method.\n",
    "\n",
    "- signup_flow: the page a user came to signup up from.\n",
    "\n",
    "- language: international language preference.\n",
    "\n",
    "- affiliate_channel: what kind of paid marketing.\n",
    "\n",
    "- affiliate_provider: where the marketing is e.g. google, craigslist, other.\n",
    "\n",
    "- first_affiliate_tracked: whats the first marketing the user interacted with before the signing up.\n",
    "\n",
    "- signup_app.\n",
    "\n",
    "- first_device_type.\n",
    "\n",
    "- first_browser.\n",
    "\n",
    "- country_destination: this is the target variable you are to predict."
   ]
  },
  {
   "cell_type": "markdown",
   "id": "ce9a228b",
   "metadata": {},
   "source": [
    "## 1.1. Data Dimensions"
   ]
  },
  {
   "cell_type": "code",
   "execution_count": 12,
   "id": "87804f01",
   "metadata": {
    "ExecuteTime": {
     "end_time": "2023-01-12T14:46:29.103983Z",
     "start_time": "2023-01-12T14:46:29.100554Z"
    }
   },
   "outputs": [
    {
     "name": "stdout",
     "output_type": "stream",
     "text": [
      "Number of rows: 213451\n",
      "Number of cols: 16\n"
     ]
    }
   ],
   "source": [
    "print(\"Number of rows: {}\".format(df1.shape[0]))\n",
    "print(\"Number of cols: {}\".format(df1.shape[1]))"
   ]
  },
  {
   "cell_type": "code",
   "execution_count": 13,
   "id": "10491294",
   "metadata": {
    "ExecuteTime": {
     "end_time": "2023-01-12T14:46:29.108942Z",
     "start_time": "2023-01-12T14:46:29.105958Z"
    }
   },
   "outputs": [
    {
     "name": "stdout",
     "output_type": "stream",
     "text": [
      "Number of rows: 10567737\n",
      "Number of cols: 6\n"
     ]
    }
   ],
   "source": [
    "print(\"Number of rows: {}\".format(df_sessions.shape[0]))\n",
    "print(\"Number of cols: {}\".format(df_sessions.shape[1]))"
   ]
  },
  {
   "cell_type": "markdown",
   "id": "526120ca",
   "metadata": {},
   "source": [
    "## 1.2. Data Types"
   ]
  },
  {
   "cell_type": "code",
   "execution_count": 14,
   "id": "77703c71",
   "metadata": {
    "ExecuteTime": {
     "end_time": "2023-01-12T14:46:29.116438Z",
     "start_time": "2023-01-12T14:46:29.111045Z"
    }
   },
   "outputs": [
    {
     "data": {
      "text/plain": [
       "id                          object\n",
       "date_account_created        object\n",
       "timestamp_first_active       int64\n",
       "date_first_booking          object\n",
       "gender                      object\n",
       "age                        float64\n",
       "signup_method               object\n",
       "signup_flow                  int64\n",
       "language                    object\n",
       "affiliate_channel           object\n",
       "affiliate_provider          object\n",
       "first_affiliate_tracked     object\n",
       "signup_app                  object\n",
       "first_device_type           object\n",
       "first_browser               object\n",
       "country_destination         object\n",
       "dtype: object"
      ]
     },
     "execution_count": 14,
     "metadata": {},
     "output_type": "execute_result"
    }
   ],
   "source": [
    "df1.dtypes"
   ]
  },
  {
   "cell_type": "code",
   "execution_count": 15,
   "id": "bea41c60",
   "metadata": {
    "ExecuteTime": {
     "end_time": "2023-01-12T14:46:29.137454Z",
     "start_time": "2023-01-12T14:46:29.118809Z"
    }
   },
   "outputs": [
    {
     "data": {
      "text/html": [
       "<div>\n",
       "<style scoped>\n",
       "    .dataframe tbody tr th:only-of-type {\n",
       "        vertical-align: middle;\n",
       "    }\n",
       "\n",
       "    .dataframe tbody tr th {\n",
       "        vertical-align: top;\n",
       "    }\n",
       "\n",
       "    .dataframe thead th {\n",
       "        text-align: right;\n",
       "    }\n",
       "</style>\n",
       "<table border=\"1\" class=\"dataframe\">\n",
       "  <thead>\n",
       "    <tr style=\"text-align: right;\">\n",
       "      <th></th>\n",
       "      <th>id</th>\n",
       "      <th>date_account_created</th>\n",
       "      <th>timestamp_first_active</th>\n",
       "      <th>date_first_booking</th>\n",
       "      <th>gender</th>\n",
       "      <th>age</th>\n",
       "      <th>signup_method</th>\n",
       "      <th>signup_flow</th>\n",
       "      <th>language</th>\n",
       "      <th>affiliate_channel</th>\n",
       "      <th>affiliate_provider</th>\n",
       "      <th>first_affiliate_tracked</th>\n",
       "      <th>signup_app</th>\n",
       "      <th>first_device_type</th>\n",
       "      <th>first_browser</th>\n",
       "      <th>country_destination</th>\n",
       "    </tr>\n",
       "  </thead>\n",
       "  <tbody>\n",
       "    <tr>\n",
       "      <th>73280</th>\n",
       "      <td>3comeqvzcu</td>\n",
       "      <td>2013-04-26</td>\n",
       "      <td>20130426182003</td>\n",
       "      <td>2013-10-04</td>\n",
       "      <td>FEMALE</td>\n",
       "      <td>26.0</td>\n",
       "      <td>facebook</td>\n",
       "      <td>0</td>\n",
       "      <td>en</td>\n",
       "      <td>direct</td>\n",
       "      <td>direct</td>\n",
       "      <td>linked</td>\n",
       "      <td>Web</td>\n",
       "      <td>Mac Desktop</td>\n",
       "      <td>Safari</td>\n",
       "      <td>US</td>\n",
       "    </tr>\n",
       "    <tr>\n",
       "      <th>28214</th>\n",
       "      <td>egwnvnoyhn</td>\n",
       "      <td>2012-06-18</td>\n",
       "      <td>20120618213258</td>\n",
       "      <td>NaN</td>\n",
       "      <td>MALE</td>\n",
       "      <td>51.0</td>\n",
       "      <td>facebook</td>\n",
       "      <td>0</td>\n",
       "      <td>en</td>\n",
       "      <td>direct</td>\n",
       "      <td>direct</td>\n",
       "      <td>untracked</td>\n",
       "      <td>Web</td>\n",
       "      <td>Windows Desktop</td>\n",
       "      <td>Firefox</td>\n",
       "      <td>NDF</td>\n",
       "    </tr>\n",
       "    <tr>\n",
       "      <th>76598</th>\n",
       "      <td>fpaqr3ktty</td>\n",
       "      <td>2013-05-12</td>\n",
       "      <td>20130512212415</td>\n",
       "      <td>NaN</td>\n",
       "      <td>FEMALE</td>\n",
       "      <td>30.0</td>\n",
       "      <td>basic</td>\n",
       "      <td>25</td>\n",
       "      <td>en</td>\n",
       "      <td>direct</td>\n",
       "      <td>direct</td>\n",
       "      <td>untracked</td>\n",
       "      <td>iOS</td>\n",
       "      <td>iPhone</td>\n",
       "      <td>-unknown-</td>\n",
       "      <td>NDF</td>\n",
       "    </tr>\n",
       "  </tbody>\n",
       "</table>\n",
       "</div>"
      ],
      "text/plain": [
       "               id date_account_created  timestamp_first_active  \\\n",
       "73280  3comeqvzcu           2013-04-26          20130426182003   \n",
       "28214  egwnvnoyhn           2012-06-18          20120618213258   \n",
       "76598  fpaqr3ktty           2013-05-12          20130512212415   \n",
       "\n",
       "      date_first_booking  gender   age signup_method  signup_flow language  \\\n",
       "73280         2013-10-04  FEMALE  26.0      facebook            0       en   \n",
       "28214                NaN    MALE  51.0      facebook            0       en   \n",
       "76598                NaN  FEMALE  30.0         basic           25       en   \n",
       "\n",
       "      affiliate_channel affiliate_provider first_affiliate_tracked signup_app  \\\n",
       "73280            direct             direct                  linked        Web   \n",
       "28214            direct             direct               untracked        Web   \n",
       "76598            direct             direct               untracked        iOS   \n",
       "\n",
       "      first_device_type first_browser country_destination  \n",
       "73280       Mac Desktop        Safari                  US  \n",
       "28214   Windows Desktop       Firefox                 NDF  \n",
       "76598            iPhone     -unknown-                 NDF  "
      ]
     },
     "execution_count": 15,
     "metadata": {},
     "output_type": "execute_result"
    }
   ],
   "source": [
    "df1.sample(3)"
   ]
  },
  {
   "cell_type": "code",
   "execution_count": 16,
   "id": "9ec9a7e6",
   "metadata": {
    "ExecuteTime": {
     "end_time": "2023-01-12T14:46:29.145173Z",
     "start_time": "2023-01-12T14:46:29.140096Z"
    }
   },
   "outputs": [
    {
     "data": {
      "text/plain": [
       "user_id           object\n",
       "action            object\n",
       "action_type       object\n",
       "action_detail     object\n",
       "device_type       object\n",
       "secs_elapsed     float64\n",
       "dtype: object"
      ]
     },
     "execution_count": 16,
     "metadata": {},
     "output_type": "execute_result"
    }
   ],
   "source": [
    "df_sessions.dtypes"
   ]
  },
  {
   "cell_type": "code",
   "execution_count": 17,
   "id": "4018ce31",
   "metadata": {
    "ExecuteTime": {
     "end_time": "2023-01-12T14:46:29.700685Z",
     "start_time": "2023-01-12T14:46:29.147106Z"
    }
   },
   "outputs": [
    {
     "data": {
      "text/html": [
       "<div>\n",
       "<style scoped>\n",
       "    .dataframe tbody tr th:only-of-type {\n",
       "        vertical-align: middle;\n",
       "    }\n",
       "\n",
       "    .dataframe tbody tr th {\n",
       "        vertical-align: top;\n",
       "    }\n",
       "\n",
       "    .dataframe thead th {\n",
       "        text-align: right;\n",
       "    }\n",
       "</style>\n",
       "<table border=\"1\" class=\"dataframe\">\n",
       "  <thead>\n",
       "    <tr style=\"text-align: right;\">\n",
       "      <th></th>\n",
       "      <th>user_id</th>\n",
       "      <th>action</th>\n",
       "      <th>action_type</th>\n",
       "      <th>action_detail</th>\n",
       "      <th>device_type</th>\n",
       "      <th>secs_elapsed</th>\n",
       "    </tr>\n",
       "  </thead>\n",
       "  <tbody>\n",
       "    <tr>\n",
       "      <th>1291372</th>\n",
       "      <td>f0hu5zdkhf</td>\n",
       "      <td>reviews</td>\n",
       "      <td>data</td>\n",
       "      <td>listing_reviews</td>\n",
       "      <td>iPhone</td>\n",
       "      <td>40.0</td>\n",
       "    </tr>\n",
       "    <tr>\n",
       "      <th>2996123</th>\n",
       "      <td>vqa1grox3z</td>\n",
       "      <td>header_userpic</td>\n",
       "      <td>data</td>\n",
       "      <td>header_userpic</td>\n",
       "      <td>Windows Desktop</td>\n",
       "      <td>1246.0</td>\n",
       "    </tr>\n",
       "    <tr>\n",
       "      <th>7416094</th>\n",
       "      <td>p968l89s2c</td>\n",
       "      <td>show</td>\n",
       "      <td>view</td>\n",
       "      <td>p3</td>\n",
       "      <td>Mac Desktop</td>\n",
       "      <td>343.0</td>\n",
       "    </tr>\n",
       "  </tbody>\n",
       "</table>\n",
       "</div>"
      ],
      "text/plain": [
       "            user_id          action action_type    action_detail  \\\n",
       "1291372  f0hu5zdkhf         reviews        data  listing_reviews   \n",
       "2996123  vqa1grox3z  header_userpic        data   header_userpic   \n",
       "7416094  p968l89s2c            show        view               p3   \n",
       "\n",
       "             device_type  secs_elapsed  \n",
       "1291372           iPhone          40.0  \n",
       "2996123  Windows Desktop        1246.0  \n",
       "7416094      Mac Desktop         343.0  "
      ]
     },
     "execution_count": 17,
     "metadata": {},
     "output_type": "execute_result"
    }
   ],
   "source": [
    "df_sessions.sample(3)"
   ]
  },
  {
   "cell_type": "markdown",
   "id": "a8608383",
   "metadata": {},
   "source": [
    "## 1.3. NA Check"
   ]
  },
  {
   "cell_type": "code",
   "execution_count": 18,
   "id": "119b50aa",
   "metadata": {
    "ExecuteTime": {
     "end_time": "2023-01-12T14:46:30.008993Z",
     "start_time": "2023-01-12T14:46:29.703475Z"
    }
   },
   "outputs": [
    {
     "data": {
      "text/plain": [
       "id                              0\n",
       "date_account_created            0\n",
       "timestamp_first_active          0\n",
       "date_first_booking         124543\n",
       "gender                          0\n",
       "age                         87990\n",
       "signup_method                   0\n",
       "signup_flow                     0\n",
       "language                        0\n",
       "affiliate_channel               0\n",
       "affiliate_provider              0\n",
       "first_affiliate_tracked      6065\n",
       "signup_app                      0\n",
       "first_device_type               0\n",
       "first_browser                   0\n",
       "country_destination             0\n",
       "dtype: int64"
      ]
     },
     "execution_count": 18,
     "metadata": {},
     "output_type": "execute_result"
    }
   ],
   "source": [
    "df1.isna().sum()"
   ]
  },
  {
   "cell_type": "code",
   "execution_count": 19,
   "id": "f6c35abb",
   "metadata": {
    "ExecuteTime": {
     "end_time": "2023-01-12T14:46:30.347281Z",
     "start_time": "2023-01-12T14:46:30.010817Z"
    }
   },
   "outputs": [
    {
     "data": {
      "text/plain": [
       "id                         0.000000\n",
       "date_account_created       0.000000\n",
       "timestamp_first_active     0.000000\n",
       "date_first_booking         0.583473\n",
       "gender                     0.000000\n",
       "age                        0.412226\n",
       "signup_method              0.000000\n",
       "signup_flow                0.000000\n",
       "language                   0.000000\n",
       "affiliate_channel          0.000000\n",
       "affiliate_provider         0.000000\n",
       "first_affiliate_tracked    0.028414\n",
       "signup_app                 0.000000\n",
       "first_device_type          0.000000\n",
       "first_browser              0.000000\n",
       "country_destination        0.000000\n",
       "dtype: float64"
      ]
     },
     "execution_count": 19,
     "metadata": {},
     "output_type": "execute_result"
    }
   ],
   "source": [
    "df1.isna().sum()/len(df1)"
   ]
  },
  {
   "cell_type": "code",
   "execution_count": 20,
   "id": "8d94805d",
   "metadata": {
    "ExecuteTime": {
     "end_time": "2023-01-12T14:46:35.659415Z",
     "start_time": "2023-01-12T14:46:30.350493Z"
    }
   },
   "outputs": [
    {
     "data": {
      "text/plain": [
       "user_id          0.003264\n",
       "action           0.007535\n",
       "action_type      0.106570\n",
       "action_detail    0.106570\n",
       "device_type      0.000000\n",
       "secs_elapsed     0.012872\n",
       "dtype: float64"
      ]
     },
     "execution_count": 20,
     "metadata": {},
     "output_type": "execute_result"
    }
   ],
   "source": [
    "df_sessions.isna().sum()/len(df_sessions)"
   ]
  },
  {
   "cell_type": "markdown",
   "id": "edd19836",
   "metadata": {},
   "source": [
    "The percentage of NA values of date_first_booking is very high. We must check the proportion of NA values for this column related to our classes:"
   ]
  },
  {
   "cell_type": "code",
   "execution_count": 21,
   "id": "1aa30609",
   "metadata": {
    "ExecuteTime": {
     "end_time": "2023-01-12T14:46:35.695601Z",
     "start_time": "2023-01-12T14:46:35.661243Z"
    }
   },
   "outputs": [
    {
     "data": {
      "text/plain": [
       "NDF    1.0\n",
       "Name: country_destination, dtype: float64"
      ]
     },
     "execution_count": 21,
     "metadata": {},
     "output_type": "execute_result"
    }
   ],
   "source": [
    "aux = df1[df1[\"date_first_booking\"].isna()]\n",
    "aux[\"country_destination\"].value_counts(normalize=True)"
   ]
  },
  {
   "cell_type": "markdown",
   "id": "3b54dcdb",
   "metadata": {},
   "source": [
    "- All NA values from date_first_booking class are from country_destinarion = NDF. \n",
    "- People who do not have a destination country does not have date first booking.\n",
    "- A solution is to replace this Na values with the maximum date of our dataset. "
   ]
  },
  {
   "cell_type": "markdown",
   "id": "1a89156f",
   "metadata": {},
   "source": [
    "Similarly, let's analyze the column age:"
   ]
  },
  {
   "cell_type": "code",
   "execution_count": 22,
   "id": "ea09fc96",
   "metadata": {
    "ExecuteTime": {
     "end_time": "2023-01-12T14:46:35.722807Z",
     "start_time": "2023-01-12T14:46:35.697340Z"
    }
   },
   "outputs": [
    {
     "data": {
      "text/plain": [
       "NDF      0.768428\n",
       "US       0.156529\n",
       "other    0.028617\n",
       "FR       0.014888\n",
       "IT       0.009081\n",
       "GB       0.006251\n",
       "ES       0.006171\n",
       "CA       0.003989\n",
       "DE       0.002387\n",
       "NL       0.001818\n",
       "AU       0.001171\n",
       "PT       0.000671\n",
       "Name: country_destination, dtype: float64"
      ]
     },
     "execution_count": 22,
     "metadata": {},
     "output_type": "execute_result"
    }
   ],
   "source": [
    "aux = df1[df1[\"age\"].isna()]\n",
    "aux[\"country_destination\"].value_counts(normalize=True)"
   ]
  },
  {
   "cell_type": "markdown",
   "id": "82274340",
   "metadata": {},
   "source": [
    "We must see how the data distribution is. If our distribution is close to a normal one, we must fill NA values with the average age. As we may see below, we may do this treatment for column age. "
   ]
  },
  {
   "cell_type": "code",
   "execution_count": 23,
   "id": "bdb48d66",
   "metadata": {
    "ExecuteTime": {
     "end_time": "2023-01-12T14:46:36.335685Z",
     "start_time": "2023-01-12T14:46:35.724757Z"
    }
   },
   "outputs": [
    {
     "name": "stderr",
     "output_type": "stream",
     "text": [
      "/opt/anaconda3/lib/python3.9/site-packages/seaborn/distributions.py:2619: FutureWarning: `distplot` is a deprecated function and will be removed in a future version. Please adapt your code to use either `displot` (a figure-level function with similar flexibility) or `histplot` (an axes-level function for histograms).\n",
      "  warnings.warn(msg, FutureWarning)\n"
     ]
    },
    {
     "data": {
      "text/plain": [
       "<AxesSubplot:xlabel='age', ylabel='Density'>"
      ]
     },
     "execution_count": 23,
     "metadata": {},
     "output_type": "execute_result"
    },
    {
     "data": {
      "image/png": "[encoded data removed]",
      "text/plain": [
       "<Figure size 640x480 with 1 Axes>"
      ]
     },
     "metadata": {},
     "output_type": "display_data"
    }
   ],
   "source": [
    "# assumption to see the chart: low incidence of people using Airbnb older than 80 years\n",
    "sns.distplot(df1[df1[\"age\"] < 80][\"age\"])"
   ]
  },
  {
   "cell_type": "markdown",
   "id": "1c3e80c6",
   "metadata": {},
   "source": [
    "The column first_affiliate_tracked is a categorical one. Replace NA values for this column with any other string may generate a high biased model. As we have only 2.8% of NA values from this column, we may remove all NA values. \n",
    "\n",
    "**Suggestion:** In case we had a categorical feature, but with a high percentage of NA values, we could collect more data instead of removing all NA values from that column."
   ]
  },
  {
   "cell_type": "code",
   "execution_count": 24,
   "id": "eab05f44",
   "metadata": {
    "ExecuteTime": {
     "end_time": "2023-01-12T14:46:36.349233Z",
     "start_time": "2023-01-12T14:46:36.337830Z"
    }
   },
   "outputs": [
    {
     "data": {
      "text/plain": [
       "array(['untracked', 'omg', nan, 'linked', 'tracked-other', 'product',\n",
       "       'marketing', 'local ops'], dtype=object)"
      ]
     },
     "execution_count": 24,
     "metadata": {},
     "output_type": "execute_result"
    }
   ],
   "source": [
    "df1[\"first_affiliate_tracked\"].unique()"
   ]
  },
  {
   "cell_type": "code",
   "execution_count": 26,
   "id": "b26851a4",
   "metadata": {
    "ExecuteTime": {
     "end_time": "2023-01-12T14:47:47.179625Z",
     "start_time": "2023-01-12T14:47:42.838877Z"
    }
   },
   "outputs": [],
   "source": [
    "# ========== User =================\n",
    "\n",
    "# date_first_booking\n",
    "date_first_booking_max = pd.to_datetime( df1['date_first_booking'] ).max().strftime('%Y-%m-%d')\n",
    "df1['date_first_booking'] = df1['date_first_booking'].fillna(date_first_booking_max)\n",
    "\n",
    "# age\n",
    "df1 = df1[(df1['age'] > 15) & (df1['age'] < 122)]\n",
    "avg_age = np.round(df1['age'].mean(), 0)\n",
    "df1['age'] = df1['age'].fillna(avg_age)\n",
    "\n",
    "# first_affiliate_tracked\n",
    "df1 = df1[~df1['first_affiliate_tracked'].isna()]\n",
    "\n",
    "# ========== Sessions ==============\n",
    "\n",
    "# user_id - 0.3%\n",
    "df_sessions = df_sessions[~df_sessions['user_id'].isna()]\n",
    "\n",
    "# action - 0.7%\n",
    "df_sessions = df_sessions[~df_sessions['action'].isna()]\n",
    "\n",
    "# action_type - 11% (total rows amount: more than 10 millions)\n",
    "df_sessions = df_sessions[~df_sessions['action_type'].isna()]\n",
    "\n",
    "# action_detail - 11% (total rows amount: more than 10 millions)\n",
    "df_sessions = df_sessions[~df_sessions['action_detail'].isna()]\n",
    "\n",
    "# secs_elapsed - 1.2%\n",
    "df_sessions = df_sessions[~df_sessions['secs_elapsed'].isna()]"
   ]
  },
  {
   "cell_type": "markdown",
   "id": "fa9c61b1",
   "metadata": {},
   "source": [
    "## 1.4. Removing NA"
   ]
  },
  {
   "cell_type": "markdown",
   "id": "fa986674",
   "metadata": {},
   "source": [
    "**First cycle:** As we want to deliver a solution as faster as possible, we will remove all NA values in this cycle. However, we may treat NA values using a different technique as next steps."
   ]
  },
  {
   "cell_type": "markdown",
   "id": "769b876b",
   "metadata": {},
   "source": [
    "**Second cycle:** We facesome problems by removing NA values.\n",
    "\n",
    "- Loss of relevant information from columns.\n",
    "- Data volume decrase to train models.\n",
    "\n",
    "There are thre manners to remove NA values from our dataset: (1) Business, (2) Statistical and (3) Machine Learning. For further details, check my portfolio project named **Rossmann Store Sales**. "
   ]
  },
  {
   "cell_type": "code",
   "execution_count": 27,
   "id": "79a59dbf",
   "metadata": {
    "ExecuteTime": {
     "end_time": "2023-01-12T14:47:52.379975Z",
     "start_time": "2023-01-12T14:47:52.377595Z"
    }
   },
   "outputs": [],
   "source": [
    "# FIRST CYCLE\n",
    "#df1 = df1.dropna()\n",
    "#df1.shape"
   ]
  },
  {
   "cell_type": "code",
   "execution_count": null,
   "id": "26cc8b40",
   "metadata": {
    "ExecuteTime": {
     "end_time": "2023-01-11T23:24:20.773291Z",
     "start_time": "2023-01-11T23:24:20.769222Z"
    }
   },
   "outputs": [],
   "source": []
  },
  {
   "cell_type": "markdown",
   "id": "8e844cc4",
   "metadata": {},
   "source": [
    "## 1.5. Change Data Type"
   ]
  },
  {
   "cell_type": "code",
   "execution_count": 28,
   "id": "d608e033",
   "metadata": {
    "ExecuteTime": {
     "end_time": "2023-01-12T14:47:52.769510Z",
     "start_time": "2023-01-12T14:47:52.384462Z"
    }
   },
   "outputs": [],
   "source": [
    "# date_account_created\n",
    "df1[\"date_account_created\"] = pd.to_datetime(df1[\"date_account_created\"])\n",
    "\n",
    "# timestamp_first_active\n",
    "df1[\"timestamp_first_active\"] = pd.to_datetime(df1[\"timestamp_first_active\"], format=\"%Y%m%d%H%M%S\")\n",
    "\n",
    "# date_first_booking\n",
    "df1[\"date_first_booking\"] = pd.to_datetime(df1[\"date_first_booking\"])\n",
    "\n",
    "# age\n",
    "df1[\"age\"] = df1[\"age\"].astype(int)"
   ]
  },
  {
   "cell_type": "code",
   "execution_count": 29,
   "id": "36b10926",
   "metadata": {
    "ExecuteTime": {
     "end_time": "2023-01-12T14:47:52.777068Z",
     "start_time": "2023-01-12T14:47:52.772447Z"
    }
   },
   "outputs": [
    {
     "data": {
      "text/plain": [
       "id                                 object\n",
       "date_account_created       datetime64[ns]\n",
       "timestamp_first_active     datetime64[ns]\n",
       "date_first_booking         datetime64[ns]\n",
       "gender                             object\n",
       "age                                 int64\n",
       "signup_method                      object\n",
       "signup_flow                         int64\n",
       "language                           object\n",
       "affiliate_channel                  object\n",
       "affiliate_provider                 object\n",
       "first_affiliate_tracked            object\n",
       "signup_app                         object\n",
       "first_device_type                  object\n",
       "first_browser                      object\n",
       "country_destination                object\n",
       "dtype: object"
      ]
     },
     "execution_count": 29,
     "metadata": {},
     "output_type": "execute_result"
    }
   ],
   "source": [
    "df1.dtypes"
   ]
  },
  {
   "cell_type": "markdown",
   "id": "c042b881",
   "metadata": {},
   "source": [
    "## 1.6. Check Balanced Data"
   ]
  },
  {
   "cell_type": "code",
   "execution_count": 30,
   "id": "27df7dbf",
   "metadata": {
    "ExecuteTime": {
     "end_time": "2023-01-12T14:47:52.790151Z",
     "start_time": "2023-01-12T14:47:52.778934Z"
    }
   },
   "outputs": [
    {
     "data": {
      "text/plain": [
       "NDF      54852\n",
       "US       48057\n",
       "other     7511\n",
       "FR        3669\n",
       "IT        2014\n",
       "GB        1758\n",
       "ES        1685\n",
       "CA        1064\n",
       "DE         841\n",
       "NL         595\n",
       "AU         433\n",
       "PT         157\n",
       "Name: country_destination, dtype: int64"
      ]
     },
     "execution_count": 30,
     "metadata": {},
     "output_type": "execute_result"
    }
   ],
   "source": [
    "df1[\"country_destination\"].value_counts()"
   ]
  },
  {
   "cell_type": "code",
   "execution_count": 31,
   "id": "4ad99d73",
   "metadata": {
    "ExecuteTime": {
     "end_time": "2023-01-12T14:47:52.805309Z",
     "start_time": "2023-01-12T14:47:52.793290Z"
    }
   },
   "outputs": [
    {
     "data": {
      "text/plain": [
       "NDF      0.447275\n",
       "US       0.391867\n",
       "other    0.061246\n",
       "FR       0.029918\n",
       "IT       0.016423\n",
       "GB       0.014335\n",
       "ES       0.013740\n",
       "CA       0.008676\n",
       "DE       0.006858\n",
       "NL       0.004852\n",
       "AU       0.003531\n",
       "PT       0.001280\n",
       "Name: country_destination, dtype: float64"
      ]
     },
     "execution_count": 31,
     "metadata": {},
     "output_type": "execute_result"
    }
   ],
   "source": [
    "df1[\"country_destination\"].value_counts(normalize=True)"
   ]
  },
  {
   "cell_type": "markdown",
   "id": "d467b8dd",
   "metadata": {},
   "source": [
    "- This is a multi-class (many types for the target variable) and very unbalanced (70% of data only for US, for instance). This is a very complex classification problem. \n",
    "\n",
    "- Since NDF (no destination found) was a type of country_destination, it is not in our dataset anymore because it belongs to users which did not make their first booking - and we removed these NA values. "
   ]
  },
  {
   "cell_type": "markdown",
   "id": "8b2eed60",
   "metadata": {},
   "source": [
    "## 1.7. Descriptive Statistics"
   ]
  },
  {
   "cell_type": "code",
   "execution_count": 32,
   "id": "6c590948",
   "metadata": {
    "ExecuteTime": {
     "end_time": "2023-01-12T14:47:52.818188Z",
     "start_time": "2023-01-12T14:47:52.807366Z"
    }
   },
   "outputs": [],
   "source": [
    "num_attributes = df1.select_dtypes(include=[\"int64\", \"float64\"])\n",
    "cat_attributes = df1.select_dtypes(exclude=[\"int64\", \"float64\", \"datetime64[ns]\"])"
   ]
  },
  {
   "cell_type": "code",
   "execution_count": 33,
   "id": "e636ad3f",
   "metadata": {
    "ExecuteTime": {
     "end_time": "2023-01-12T14:47:52.824956Z",
     "start_time": "2023-01-12T14:47:52.820334Z"
    }
   },
   "outputs": [
    {
     "data": {
      "text/plain": [
       "Index(['age', 'signup_flow'], dtype='object')"
      ]
     },
     "execution_count": 33,
     "metadata": {},
     "output_type": "execute_result"
    }
   ],
   "source": [
    "num_attributes.columns"
   ]
  },
  {
   "cell_type": "code",
   "execution_count": 34,
   "id": "fb07453e",
   "metadata": {
    "ExecuteTime": {
     "end_time": "2023-01-12T14:47:52.831888Z",
     "start_time": "2023-01-12T14:47:52.827458Z"
    }
   },
   "outputs": [
    {
     "data": {
      "text/plain": [
       "Index(['id', 'gender', 'signup_method', 'language', 'affiliate_channel',\n",
       "       'affiliate_provider', 'first_affiliate_tracked', 'signup_app',\n",
       "       'first_device_type', 'first_browser', 'country_destination'],\n",
       "      dtype='object')"
      ]
     },
     "execution_count": 34,
     "metadata": {},
     "output_type": "execute_result"
    }
   ],
   "source": [
    "cat_attributes.columns"
   ]
  },
  {
   "cell_type": "markdown",
   "id": "27bf11f4",
   "metadata": {},
   "source": [
    "### 1.7.1. Numerical attributes"
   ]
  },
  {
   "cell_type": "code",
   "execution_count": 35,
   "id": "4bc97204",
   "metadata": {
    "ExecuteTime": {
     "end_time": "2023-01-12T14:47:52.861531Z",
     "start_time": "2023-01-12T14:47:52.834379Z"
    }
   },
   "outputs": [],
   "source": [
    "# Central tendency metrics\n",
    "c1 = pd.DataFrame(num_attributes.apply(np.mean)).T\n",
    "c2 = pd.DataFrame(num_attributes.apply(np.median)).T\n",
    "\n",
    "# Dispersion metrics\n",
    "d1 = pd.DataFrame(num_attributes.apply(np.std)).T\n",
    "d2 = pd.DataFrame(num_attributes.apply(lambda x: x.min() )).T\n",
    "d3 = pd.DataFrame(num_attributes.apply(lambda x: x.max() )).T\n",
    "d4 = pd.DataFrame(num_attributes.apply(lambda x: x.max() - x.min() )).T\n",
    "d5 = pd.DataFrame(num_attributes.apply(lambda x: x.skew() )).T\n",
    "d6 = pd.DataFrame(num_attributes.apply(lambda x: x.kurtosis() )).T\n",
    "\n",
    "# Concatenate metric\n",
    "metrics = pd.concat([d2, d3, d4, c1, c2, d1, d5, d6]).T.reset_index()\n",
    "metrics.columns = [\"attributes\", \"min\", \"max\", \"range\", \"mean\", \"median\", \"std\", \"skewness\", \"kurtosis\"]"
   ]
  },
  {
   "cell_type": "code",
   "execution_count": 36,
   "id": "f04edb22",
   "metadata": {
    "ExecuteTime": {
     "end_time": "2023-01-12T14:47:52.875152Z",
     "start_time": "2023-01-12T14:47:52.863719Z"
    }
   },
   "outputs": [
    {
     "data": {
      "text/html": [
       "<div>\n",
       "<style scoped>\n",
       "    .dataframe tbody tr th:only-of-type {\n",
       "        vertical-align: middle;\n",
       "    }\n",
       "\n",
       "    .dataframe tbody tr th {\n",
       "        vertical-align: top;\n",
       "    }\n",
       "\n",
       "    .dataframe thead th {\n",
       "        text-align: right;\n",
       "    }\n",
       "</style>\n",
       "<table border=\"1\" class=\"dataframe\">\n",
       "  <thead>\n",
       "    <tr style=\"text-align: right;\">\n",
       "      <th></th>\n",
       "      <th>attributes</th>\n",
       "      <th>min</th>\n",
       "      <th>max</th>\n",
       "      <th>range</th>\n",
       "      <th>mean</th>\n",
       "      <th>median</th>\n",
       "      <th>std</th>\n",
       "      <th>skewness</th>\n",
       "      <th>kurtosis</th>\n",
       "    </tr>\n",
       "  </thead>\n",
       "  <tbody>\n",
       "    <tr>\n",
       "      <th>0</th>\n",
       "      <td>age</td>\n",
       "      <td>16.0</td>\n",
       "      <td>115.0</td>\n",
       "      <td>99.0</td>\n",
       "      <td>37.405591</td>\n",
       "      <td>34.0</td>\n",
       "      <td>13.939844</td>\n",
       "      <td>2.089718</td>\n",
       "      <td>6.516468</td>\n",
       "    </tr>\n",
       "    <tr>\n",
       "      <th>1</th>\n",
       "      <td>signup_flow</td>\n",
       "      <td>0.0</td>\n",
       "      <td>25.0</td>\n",
       "      <td>25.0</td>\n",
       "      <td>2.519513</td>\n",
       "      <td>0.0</td>\n",
       "      <td>6.604696</td>\n",
       "      <td>2.705871</td>\n",
       "      <td>5.928298</td>\n",
       "    </tr>\n",
       "  </tbody>\n",
       "</table>\n",
       "</div>"
      ],
      "text/plain": [
       "    attributes   min    max  range       mean  median        std  skewness  \\\n",
       "0          age  16.0  115.0   99.0  37.405591    34.0  13.939844  2.089718   \n",
       "1  signup_flow   0.0   25.0   25.0   2.519513     0.0   6.604696  2.705871   \n",
       "\n",
       "   kurtosis  \n",
       "0  6.516468  \n",
       "1  5.928298  "
      ]
     },
     "execution_count": 36,
     "metadata": {},
     "output_type": "execute_result"
    }
   ],
   "source": [
    "metrics"
   ]
  },
  {
   "cell_type": "markdown",
   "id": "076a1d79",
   "metadata": {},
   "source": [
    "- We have maximum age as 2014. This is probably wrong.\n",
    "- As median is less than mean, we have a left skew: positive skewness. \n",
    "- Since age has a 175 value for kurtosis, we have a very high peak."
   ]
  },
  {
   "cell_type": "code",
   "execution_count": 37,
   "id": "77ae3ad1",
   "metadata": {
    "ExecuteTime": {
     "end_time": "2023-01-12T14:47:54.160226Z",
     "start_time": "2023-01-12T14:47:52.880418Z"
    }
   },
   "outputs": [
    {
     "name": "stderr",
     "output_type": "stream",
     "text": [
      "/opt/anaconda3/lib/python3.9/site-packages/seaborn/distributions.py:2619: FutureWarning: `distplot` is a deprecated function and will be removed in a future version. Please adapt your code to use either `displot` (a figure-level function with similar flexibility) or `histplot` (an axes-level function for histograms).\n",
      "  warnings.warn(msg, FutureWarning)\n",
      "/opt/anaconda3/lib/python3.9/site-packages/seaborn/distributions.py:2619: FutureWarning: `distplot` is a deprecated function and will be removed in a future version. Please adapt your code to use either `displot` (a figure-level function with similar flexibility) or `histplot` (an axes-level function for histograms).\n",
      "  warnings.warn(msg, FutureWarning)\n"
     ]
    },
    {
     "data": {
      "image/png": "[encoded data removed]",
      "text/plain": [
       "<Figure size 2000x600 with 2 Axes>"
      ]
     },
     "metadata": {},
     "output_type": "display_data"
    }
   ],
   "source": [
    "plt.figure(figsize = (20,6))\n",
    "\n",
    "plt.subplot(121)\n",
    "sns.distplot(df1[\"age\"])\n",
    "\n",
    "plt.subplot(122)\n",
    "sns.distplot(df1[\"signup_flow\"])\n",
    "\n",
    "plt.subplots_adjust(wspace = 0.2)"
   ]
  },
  {
   "cell_type": "code",
   "execution_count": 38,
   "id": "3c3d1b91",
   "metadata": {
    "ExecuteTime": {
     "end_time": "2023-01-12T14:47:54.168600Z",
     "start_time": "2023-01-12T14:47:54.162244Z"
    }
   },
   "outputs": [
    {
     "data": {
      "text/plain": [
       "112       1\n",
       "111       2\n",
       "113       4\n",
       "97       10\n",
       "91       12\n",
       "       ... \n",
       "32     5763\n",
       "28     5862\n",
       "29     5894\n",
       "31     5935\n",
       "30     6039\n",
       "Name: age, Length: 99, dtype: int64"
      ]
     },
     "execution_count": 38,
     "metadata": {},
     "output_type": "execute_result"
    }
   ],
   "source": [
    "df1[\"age\"].value_counts().sort_values()"
   ]
  },
  {
   "cell_type": "markdown",
   "id": "5f887045",
   "metadata": {},
   "source": [
    "We may have lower ages ( <= 2 years old, for instance) in our dataset because they are children accompanied by parents. Yet, we may not have ages higher than 122, since this age is for the oldest person who ever lived on Earth. Thus, these values will be treated as outliers."
   ]
  },
  {
   "cell_type": "code",
   "execution_count": 39,
   "id": "4ae99774",
   "metadata": {
    "ExecuteTime": {
     "end_time": "2023-01-12T14:47:54.200033Z",
     "start_time": "2023-01-12T14:47:54.170491Z"
    }
   },
   "outputs": [],
   "source": [
    "df1 = df1[df1[\"age\"] <= 122]"
   ]
  },
  {
   "cell_type": "code",
   "execution_count": 40,
   "id": "d5c13ba8",
   "metadata": {
    "ExecuteTime": {
     "end_time": "2023-01-12T14:47:54.212979Z",
     "start_time": "2023-01-12T14:47:54.203822Z"
    }
   },
   "outputs": [
    {
     "data": {
      "text/plain": [
       "(122636, 16)"
      ]
     },
     "execution_count": 40,
     "metadata": {},
     "output_type": "execute_result"
    }
   ],
   "source": [
    "df1.shape"
   ]
  },
  {
   "cell_type": "markdown",
   "id": "1d7a2f88",
   "metadata": {},
   "source": [
    "### 1.7.2. Categorical attributes"
   ]
  },
  {
   "cell_type": "code",
   "execution_count": 41,
   "id": "9ef3dfd6",
   "metadata": {
    "ExecuteTime": {
     "end_time": "2023-01-12T14:47:54.315499Z",
     "start_time": "2023-01-12T14:47:54.219887Z"
    }
   },
   "outputs": [
    {
     "data": {
      "text/plain": [
       "id                         122636\n",
       "gender                          4\n",
       "signup_method                   3\n",
       "language                       25\n",
       "affiliate_channel               8\n",
       "affiliate_provider             17\n",
       "first_affiliate_tracked         7\n",
       "signup_app                      4\n",
       "first_device_type               9\n",
       "first_browser                  41\n",
       "country_destination            12\n",
       "dtype: int64"
      ]
     },
     "execution_count": 41,
     "metadata": {},
     "output_type": "execute_result"
    }
   ],
   "source": [
    "cat_attributes.apply(lambda x: x.unique().shape[0] )"
   ]
  },
  {
   "cell_type": "code",
   "execution_count": 42,
   "id": "cb78a984",
   "metadata": {
    "ExecuteTime": {
     "end_time": "2023-01-12T14:47:54.379141Z",
     "start_time": "2023-01-12T14:47:54.317730Z"
    }
   },
   "outputs": [
    {
     "data": {
      "text/plain": [
       "gender                                      [MALE, FEMALE, -unknown-, OTHER]\n",
       "signup_method                                      [facebook, basic, google]\n",
       "language                   [en, de, fr, es, zh, ko, it, ru, ja, pt, nl, s...\n",
       "affiliate_channel          [seo, direct, other, sem-non-brand, content, s...\n",
       "affiliate_provider         [google, direct, craigslist, other, facebook, ...\n",
       "first_affiliate_tracked    [untracked, omg, linked, tracked-other, produc...\n",
       "signup_app                                        [Web, Moweb, iOS, Android]\n",
       "first_device_type          [Mac Desktop, Windows Desktop, iPhone, Desktop...\n",
       "first_browser              [Chrome, IE, Firefox, Safari, -unknown-, Mobil...\n",
       "country_destination        [NDF, US, other, CA, FR, IT, ES, GB, NL, DE, A...\n",
       "dtype: object"
      ]
     },
     "execution_count": 42,
     "metadata": {},
     "output_type": "execute_result"
    }
   ],
   "source": [
    "cat_attributes.drop(columns=\"id\").apply(lambda x: x.unique() )"
   ]
  },
  {
   "cell_type": "markdown",
   "id": "ba2ee5e9",
   "metadata": {
    "heading_collapsed": true
   },
   "source": [
    "# 2. Feature Engineering"
   ]
  },
  {
   "cell_type": "code",
   "execution_count": 43,
   "id": "87195362",
   "metadata": {
    "ExecuteTime": {
     "end_time": "2023-01-12T14:47:54.387292Z",
     "start_time": "2023-01-12T14:47:54.380800Z"
    },
    "hidden": true
   },
   "outputs": [],
   "source": [
    "df2 = df1.copy()"
   ]
  },
  {
   "cell_type": "markdown",
   "id": "43c8d579",
   "metadata": {
    "hidden": true
   },
   "source": [
    "## 2.1. Hypotheses Mind Map"
   ]
  },
  {
   "cell_type": "code",
   "execution_count": 44,
   "id": "283d338d",
   "metadata": {
    "ExecuteTime": {
     "end_time": "2023-01-12T14:47:54.398125Z",
     "start_time": "2023-01-12T14:47:54.388655Z"
    },
    "hidden": true
   },
   "outputs": [
    {
     "data": {
      "image/png": "[encoded data removed]",
      "text/plain": [
       "<IPython.core.display.Image object>"
      ]
     },
     "execution_count": 44,
     "metadata": {},
     "output_type": "execute_result"
    }
   ],
   "source": [
    "Image(\"images/HypothesesMindMap.png\")"
   ]
  },
  {
   "cell_type": "markdown",
   "id": "84e57929",
   "metadata": {
    "hidden": true
   },
   "source": [
    "## 2.2. Hypotheses Generation"
   ]
  },
  {
   "cell_type": "markdown",
   "id": "8b581360",
   "metadata": {
    "hidden": true
   },
   "source": [
    "Based on the mind map above, we generated the hypotheses in this section."
   ]
  },
  {
   "cell_type": "markdown",
   "id": "e73efda0",
   "metadata": {
    "hidden": true
   },
   "source": [
    "### 2.2.1. App Hypotheses"
   ]
  },
  {
   "cell_type": "code",
   "execution_count": null,
   "id": "a26bc942",
   "metadata": {
    "hidden": true
   },
   "outputs": [],
   "source": []
  },
  {
   "cell_type": "markdown",
   "id": "9479ae40",
   "metadata": {
    "hidden": true
   },
   "source": [
    "### 2.2.2. Customers Hypotheses"
   ]
  },
  {
   "cell_type": "code",
   "execution_count": null,
   "id": "95a85f41",
   "metadata": {
    "hidden": true
   },
   "outputs": [],
   "source": []
  },
  {
   "cell_type": "markdown",
   "id": "564212bd",
   "metadata": {
    "hidden": true
   },
   "source": [
    "### 2.2.3. Seasonality Hypotheses"
   ]
  },
  {
   "cell_type": "code",
   "execution_count": null,
   "id": "8c912edf",
   "metadata": {
    "hidden": true
   },
   "outputs": [],
   "source": []
  },
  {
   "cell_type": "markdown",
   "id": "d82f19e5",
   "metadata": {
    "heading_collapsed": true
   },
   "source": [
    "# 3. Feature Filtering and Selection"
   ]
  },
  {
   "cell_type": "code",
   "execution_count": 45,
   "id": "9f3e5637",
   "metadata": {
    "ExecuteTime": {
     "end_time": "2023-01-12T14:47:54.414320Z",
     "start_time": "2023-01-12T14:47:54.400163Z"
    },
    "hidden": true
   },
   "outputs": [],
   "source": [
    "df3 = df2.copy()"
   ]
  },
  {
   "cell_type": "markdown",
   "id": "0ecfd132",
   "metadata": {
    "heading_collapsed": true
   },
   "source": [
    "# 4. Exploratory Data Analysis (EDA)"
   ]
  },
  {
   "cell_type": "code",
   "execution_count": 46,
   "id": "f477ee30",
   "metadata": {
    "ExecuteTime": {
     "end_time": "2023-01-12T14:47:54.429517Z",
     "start_time": "2023-01-12T14:47:54.416744Z"
    },
    "hidden": true
   },
   "outputs": [],
   "source": [
    "df4 = df3.copy()"
   ]
  },
  {
   "cell_type": "code",
   "execution_count": 47,
   "id": "7310ded7",
   "metadata": {
    "ExecuteTime": {
     "end_time": "2023-01-12T14:47:54.446932Z",
     "start_time": "2023-01-12T14:47:54.431946Z"
    },
    "hidden": true
   },
   "outputs": [
    {
     "data": {
      "text/html": [
       "<div>\n",
       "<style scoped>\n",
       "    .dataframe tbody tr th:only-of-type {\n",
       "        vertical-align: middle;\n",
       "    }\n",
       "\n",
       "    .dataframe tbody tr th {\n",
       "        vertical-align: top;\n",
       "    }\n",
       "\n",
       "    .dataframe thead th {\n",
       "        text-align: right;\n",
       "    }\n",
       "</style>\n",
       "<table border=\"1\" class=\"dataframe\">\n",
       "  <thead>\n",
       "    <tr style=\"text-align: right;\">\n",
       "      <th></th>\n",
       "      <th>id</th>\n",
       "      <th>date_account_created</th>\n",
       "      <th>timestamp_first_active</th>\n",
       "      <th>date_first_booking</th>\n",
       "      <th>gender</th>\n",
       "      <th>age</th>\n",
       "      <th>signup_method</th>\n",
       "      <th>signup_flow</th>\n",
       "      <th>language</th>\n",
       "      <th>affiliate_channel</th>\n",
       "      <th>affiliate_provider</th>\n",
       "      <th>first_affiliate_tracked</th>\n",
       "      <th>signup_app</th>\n",
       "      <th>first_device_type</th>\n",
       "      <th>first_browser</th>\n",
       "      <th>country_destination</th>\n",
       "    </tr>\n",
       "  </thead>\n",
       "  <tbody>\n",
       "    <tr>\n",
       "      <th>1</th>\n",
       "      <td>820tgsjxq7</td>\n",
       "      <td>2011-05-25</td>\n",
       "      <td>2009-05-23 17:48:09</td>\n",
       "      <td>2015-06-29</td>\n",
       "      <td>MALE</td>\n",
       "      <td>38</td>\n",
       "      <td>facebook</td>\n",
       "      <td>0</td>\n",
       "      <td>en</td>\n",
       "      <td>seo</td>\n",
       "      <td>google</td>\n",
       "      <td>untracked</td>\n",
       "      <td>Web</td>\n",
       "      <td>Mac Desktop</td>\n",
       "      <td>Chrome</td>\n",
       "      <td>NDF</td>\n",
       "    </tr>\n",
       "    <tr>\n",
       "      <th>2</th>\n",
       "      <td>4ft3gnwmtx</td>\n",
       "      <td>2010-09-28</td>\n",
       "      <td>2009-06-09 23:12:47</td>\n",
       "      <td>2010-08-02</td>\n",
       "      <td>FEMALE</td>\n",
       "      <td>56</td>\n",
       "      <td>basic</td>\n",
       "      <td>3</td>\n",
       "      <td>en</td>\n",
       "      <td>direct</td>\n",
       "      <td>direct</td>\n",
       "      <td>untracked</td>\n",
       "      <td>Web</td>\n",
       "      <td>Windows Desktop</td>\n",
       "      <td>IE</td>\n",
       "      <td>US</td>\n",
       "    </tr>\n",
       "    <tr>\n",
       "      <th>3</th>\n",
       "      <td>bjjt8pjhuk</td>\n",
       "      <td>2011-12-05</td>\n",
       "      <td>2009-10-31 06:01:29</td>\n",
       "      <td>2012-09-08</td>\n",
       "      <td>FEMALE</td>\n",
       "      <td>42</td>\n",
       "      <td>facebook</td>\n",
       "      <td>0</td>\n",
       "      <td>en</td>\n",
       "      <td>direct</td>\n",
       "      <td>direct</td>\n",
       "      <td>untracked</td>\n",
       "      <td>Web</td>\n",
       "      <td>Mac Desktop</td>\n",
       "      <td>Firefox</td>\n",
       "      <td>other</td>\n",
       "    </tr>\n",
       "    <tr>\n",
       "      <th>4</th>\n",
       "      <td>87mebub9p4</td>\n",
       "      <td>2010-09-14</td>\n",
       "      <td>2009-12-08 06:11:05</td>\n",
       "      <td>2010-02-18</td>\n",
       "      <td>-unknown-</td>\n",
       "      <td>41</td>\n",
       "      <td>basic</td>\n",
       "      <td>0</td>\n",
       "      <td>en</td>\n",
       "      <td>direct</td>\n",
       "      <td>direct</td>\n",
       "      <td>untracked</td>\n",
       "      <td>Web</td>\n",
       "      <td>Mac Desktop</td>\n",
       "      <td>Chrome</td>\n",
       "      <td>US</td>\n",
       "    </tr>\n",
       "    <tr>\n",
       "      <th>6</th>\n",
       "      <td>lsw9q7uk0j</td>\n",
       "      <td>2010-01-02</td>\n",
       "      <td>2010-01-02 01:25:58</td>\n",
       "      <td>2010-01-05</td>\n",
       "      <td>FEMALE</td>\n",
       "      <td>46</td>\n",
       "      <td>basic</td>\n",
       "      <td>0</td>\n",
       "      <td>en</td>\n",
       "      <td>other</td>\n",
       "      <td>craigslist</td>\n",
       "      <td>untracked</td>\n",
       "      <td>Web</td>\n",
       "      <td>Mac Desktop</td>\n",
       "      <td>Safari</td>\n",
       "      <td>US</td>\n",
       "    </tr>\n",
       "  </tbody>\n",
       "</table>\n",
       "</div>"
      ],
      "text/plain": [
       "           id date_account_created timestamp_first_active date_first_booking  \\\n",
       "1  820tgsjxq7           2011-05-25    2009-05-23 17:48:09         2015-06-29   \n",
       "2  4ft3gnwmtx           2010-09-28    2009-06-09 23:12:47         2010-08-02   \n",
       "3  bjjt8pjhuk           2011-12-05    2009-10-31 06:01:29         2012-09-08   \n",
       "4  87mebub9p4           2010-09-14    2009-12-08 06:11:05         2010-02-18   \n",
       "6  lsw9q7uk0j           2010-01-02    2010-01-02 01:25:58         2010-01-05   \n",
       "\n",
       "      gender  age signup_method  signup_flow language affiliate_channel  \\\n",
       "1       MALE   38      facebook            0       en               seo   \n",
       "2     FEMALE   56         basic            3       en            direct   \n",
       "3     FEMALE   42      facebook            0       en            direct   \n",
       "4  -unknown-   41         basic            0       en            direct   \n",
       "6     FEMALE   46         basic            0       en             other   \n",
       "\n",
       "  affiliate_provider first_affiliate_tracked signup_app first_device_type  \\\n",
       "1             google               untracked        Web       Mac Desktop   \n",
       "2             direct               untracked        Web   Windows Desktop   \n",
       "3             direct               untracked        Web       Mac Desktop   \n",
       "4             direct               untracked        Web       Mac Desktop   \n",
       "6         craigslist               untracked        Web       Mac Desktop   \n",
       "\n",
       "  first_browser country_destination  \n",
       "1        Chrome                 NDF  \n",
       "2            IE                  US  \n",
       "3       Firefox               other  \n",
       "4        Chrome                  US  \n",
       "6        Safari                  US  "
      ]
     },
     "execution_count": 47,
     "metadata": {},
     "output_type": "execute_result"
    }
   ],
   "source": [
    "df4.head()"
   ]
  },
  {
   "cell_type": "markdown",
   "id": "8be5e0a4",
   "metadata": {
    "heading_collapsed": true
   },
   "source": [
    "# 5. Data Preparation"
   ]
  },
  {
   "cell_type": "code",
   "execution_count": 48,
   "id": "d44de4de",
   "metadata": {
    "ExecuteTime": {
     "end_time": "2023-01-12T14:47:54.463118Z",
     "start_time": "2023-01-12T14:47:54.449093Z"
    },
    "hidden": true
   },
   "outputs": [],
   "source": [
    "df5 = df4.copy()"
   ]
  },
  {
   "cell_type": "code",
   "execution_count": 49,
   "id": "da75af47",
   "metadata": {
    "ExecuteTime": {
     "end_time": "2023-01-12T14:47:54.645952Z",
     "start_time": "2023-01-12T14:47:54.465269Z"
    },
    "hidden": true
   },
   "outputs": [],
   "source": [
    " # dummy variable\n",
    "df5_dummy = pd.get_dummies(df5.drop(['id', 'country_destination'], axis=1))\n",
    "\n",
    "# join id and country destination\n",
    "df5 = pd.concat([df5[['id', 'country_destination']], df5_dummy], axis=1) "
   ]
  },
  {
   "cell_type": "code",
   "execution_count": 50,
   "id": "00190194",
   "metadata": {
    "ExecuteTime": {
     "end_time": "2023-01-12T14:47:54.688768Z",
     "start_time": "2023-01-12T14:47:54.648107Z"
    },
    "hidden": true
   },
   "outputs": [
    {
     "data": {
      "text/html": [
       "<div>\n",
       "<style scoped>\n",
       "    .dataframe tbody tr th:only-of-type {\n",
       "        vertical-align: middle;\n",
       "    }\n",
       "\n",
       "    .dataframe tbody tr th {\n",
       "        vertical-align: top;\n",
       "    }\n",
       "\n",
       "    .dataframe thead th {\n",
       "        text-align: right;\n",
       "    }\n",
       "</style>\n",
       "<table border=\"1\" class=\"dataframe\">\n",
       "  <thead>\n",
       "    <tr style=\"text-align: right;\">\n",
       "      <th></th>\n",
       "      <th>id</th>\n",
       "      <th>country_destination</th>\n",
       "      <th>date_account_created</th>\n",
       "      <th>timestamp_first_active</th>\n",
       "      <th>date_first_booking</th>\n",
       "      <th>age</th>\n",
       "      <th>signup_flow</th>\n",
       "      <th>gender_-unknown-</th>\n",
       "      <th>gender_FEMALE</th>\n",
       "      <th>gender_MALE</th>\n",
       "      <th>...</th>\n",
       "      <th>first_browser_SeaMonkey</th>\n",
       "      <th>first_browser_Silk</th>\n",
       "      <th>first_browser_SiteKiosk</th>\n",
       "      <th>first_browser_SlimBrowser</th>\n",
       "      <th>first_browser_Sogou Explorer</th>\n",
       "      <th>first_browser_Stainless</th>\n",
       "      <th>first_browser_TenFourFox</th>\n",
       "      <th>first_browser_TheWorld Browser</th>\n",
       "      <th>first_browser_Yandex.Browser</th>\n",
       "      <th>first_browser_wOSBrowser</th>\n",
       "    </tr>\n",
       "  </thead>\n",
       "  <tbody>\n",
       "    <tr>\n",
       "      <th>177151</th>\n",
       "      <td>5020pk3j8n</td>\n",
       "      <td>NDF</td>\n",
       "      <td>2014-04-18</td>\n",
       "      <td>2014-04-18 02:46:37</td>\n",
       "      <td>2015-06-29</td>\n",
       "      <td>41</td>\n",
       "      <td>0</td>\n",
       "      <td>1</td>\n",
       "      <td>0</td>\n",
       "      <td>0</td>\n",
       "      <td>...</td>\n",
       "      <td>0</td>\n",
       "      <td>0</td>\n",
       "      <td>0</td>\n",
       "      <td>0</td>\n",
       "      <td>0</td>\n",
       "      <td>0</td>\n",
       "      <td>0</td>\n",
       "      <td>0</td>\n",
       "      <td>0</td>\n",
       "      <td>0</td>\n",
       "    </tr>\n",
       "  </tbody>\n",
       "</table>\n",
       "<p>1 rows × 125 columns</p>\n",
       "</div>"
      ],
      "text/plain": [
       "                id country_destination date_account_created  \\\n",
       "177151  5020pk3j8n                 NDF           2014-04-18   \n",
       "\n",
       "       timestamp_first_active date_first_booking  age  signup_flow  \\\n",
       "177151    2014-04-18 02:46:37         2015-06-29   41            0   \n",
       "\n",
       "        gender_-unknown-  gender_FEMALE  gender_MALE  ...  \\\n",
       "177151                 1              0            0  ...   \n",
       "\n",
       "        first_browser_SeaMonkey  first_browser_Silk  first_browser_SiteKiosk  \\\n",
       "177151                        0                   0                        0   \n",
       "\n",
       "        first_browser_SlimBrowser  first_browser_Sogou Explorer  \\\n",
       "177151                          0                             0   \n",
       "\n",
       "        first_browser_Stainless  first_browser_TenFourFox  \\\n",
       "177151                        0                         0   \n",
       "\n",
       "        first_browser_TheWorld Browser  first_browser_Yandex.Browser  \\\n",
       "177151                               0                             0   \n",
       "\n",
       "        first_browser_wOSBrowser  \n",
       "177151                         0  \n",
       "\n",
       "[1 rows x 125 columns]"
      ]
     },
     "execution_count": 50,
     "metadata": {},
     "output_type": "execute_result"
    }
   ],
   "source": [
    "df5.sample()"
   ]
  },
  {
   "cell_type": "markdown",
   "id": "c8328db2",
   "metadata": {
    "heading_collapsed": true
   },
   "source": [
    "# 6. Feature Selection"
   ]
  },
  {
   "cell_type": "code",
   "execution_count": 51,
   "id": "f6b74365",
   "metadata": {
    "ExecuteTime": {
     "end_time": "2023-01-12T14:47:54.713390Z",
     "start_time": "2023-01-12T14:47:54.690824Z"
    },
    "hidden": true
   },
   "outputs": [],
   "source": [
    "cols_drop = ['date_account_created', 'timestamp_first_active', 'date_first_booking'] # original dates\n",
    "df6 = df5.drop(cols_drop, axis=1)"
   ]
  },
  {
   "cell_type": "markdown",
   "id": "b8a8d647",
   "metadata": {},
   "source": [
    "# 7. Machine Learning Modeling"
   ]
  },
  {
   "cell_type": "code",
   "execution_count": 52,
   "id": "5e862ec2",
   "metadata": {
    "ExecuteTime": {
     "end_time": "2023-01-12T14:47:54.724140Z",
     "start_time": "2023-01-12T14:47:54.715873Z"
    }
   },
   "outputs": [],
   "source": [
    "df7 = df6.copy()"
   ]
  },
  {
   "cell_type": "markdown",
   "id": "2128a564",
   "metadata": {},
   "source": [
    "## 7.1. Performance Metrics "
   ]
  },
  {
   "cell_type": "markdown",
   "id": "637b1a91",
   "metadata": {},
   "source": [
    "Since we have a multi-class problem and very imbalanced, in this project, we must aim for metrics which considers these characteristics."
   ]
  },
  {
   "cell_type": "markdown",
   "id": "4f27f506",
   "metadata": {},
   "source": [
    "#### Accuracy"
   ]
  },
  {
   "cell_type": "markdown",
   "id": "75c0f940",
   "metadata": {},
   "source": [
    "Number of correct predictions over total number of predictions. \n",
    "\n",
    "- Number of correct predictions: sum of principal diagonal of the confusion matrix.\n",
    "- Number of predictions: sum of all numbers of the confusion matrix."
   ]
  },
  {
   "cell_type": "markdown",
   "id": "b4acd045",
   "metadata": {},
   "source": [
    "Accuracy is biased towards a class with more available examples - and hence: more correct predictions. As we have a very imbalanced dataset, thus this is not the most proper metric to evaluate model performance. "
   ]
  },
  {
   "cell_type": "markdown",
   "id": "6b4fb832",
   "metadata": {},
   "source": [
    "#### Precision"
   ]
  },
  {
   "cell_type": "markdown",
   "id": "c3843d9e",
   "metadata": {},
   "source": [
    "Number of correct predictions for each class over number of predictions for each class.\n",
    "\n",
    "- Number of correct predictions for each class: intersection of class of the confusion matrix.\n",
    "- Number of predictions for each class: sum of vertical numbers of a class.\n",
    "\n",
    "We use this metric when there are classes more important than others. Although this metric is good for imbalanced/unbalanced problems, the precision is not the most important for us. We are not working with medical development, for instance."
   ]
  },
  {
   "cell_type": "markdown",
   "id": "b9a27dc4",
   "metadata": {},
   "source": [
    "#### Recall (Sensitivity)"
   ]
  },
  {
   "cell_type": "markdown",
   "id": "65ea54b1",
   "metadata": {},
   "source": [
    "Number of correct predictions for each class over number of total values for each class.\n",
    "\n",
    "- Number of correct predictions for each class: intersection of class of the confunsion matrix.\n",
    "- Number of total values for each class: sum of horizontal numbers of a class. \n",
    "\n",
    "We discard this metric because it is not good for imbalanced/unbalanced problems. "
   ]
  },
  {
   "cell_type": "markdown",
   "id": "94c1aec8",
   "metadata": {},
   "source": [
    "#### F1-Score"
   ]
  },
  {
   "cell_type": "markdown",
   "id": "392d6da1",
   "metadata": {},
   "source": [
    "Harmonious average between Precision and Recall metrics. This metric is applied as a combination of two classes (binary-class). Thus, it works very well when we are combining two classes. But our problem is multi-class, therefore this metric is not the most proper.\n",
    "\n",
    "This metric summarize Precision and Recall. Thus, we discard this one for the same reasons discussed above. "
   ]
  },
  {
   "cell_type": "markdown",
   "id": "75342fb1",
   "metadata": {},
   "source": [
    "#### Kappa Score"
   ]
  },
  {
   "cell_type": "markdown",
   "id": "0ee0c08e",
   "metadata": {},
   "source": [
    "It is used to measure the number of agreements between evaluators. The closer to 1, the higher the agreement between evaluators. For this project, we used this metric and our goal is a value higher than 75%. "
   ]
  },
  {
   "cell_type": "markdown",
   "id": "b633d9f0",
   "metadata": {},
   "source": [
    "#### Balanced Accuracy"
   ]
  },
  {
   "cell_type": "markdown",
   "id": "5a640bc9",
   "metadata": {},
   "source": [
    "We need a one and only metric to evaluate the model performance. For this project, we used the balanced accuracy, since we have a very imbalanced dataset and this metric considers the accuracy of each class.\n",
    "\n",
    "A little value means imbalanced dataset. As we balance our data, the value of this metrics increases."
   ]
  },
  {
   "cell_type": "markdown",
   "id": "50fcdf8e",
   "metadata": {},
   "source": [
    "## 7.2. Training and test datasets"
   ]
  },
  {
   "cell_type": "markdown",
   "id": "b8bcce4d",
   "metadata": {},
   "source": [
    "As the data is too imbalanced (with \"im\": naturally without balance), we should not use accuracy as the main metric to evaluate model performance. "
   ]
  },
  {
   "cell_type": "code",
   "execution_count": 53,
   "id": "82830e45",
   "metadata": {
    "ExecuteTime": {
     "end_time": "2023-01-12T14:47:54.753994Z",
     "start_time": "2023-01-12T14:47:54.726136Z"
    }
   },
   "outputs": [],
   "source": [
    "X = df7.drop('country_destination', axis=1)\n",
    "y = df7['country_destination'].copy()"
   ]
  },
  {
   "cell_type": "code",
   "execution_count": 54,
   "id": "991ffa28",
   "metadata": {
    "ExecuteTime": {
     "end_time": "2023-01-12T14:47:54.873240Z",
     "start_time": "2023-01-12T14:47:54.756250Z"
    }
   },
   "outputs": [],
   "source": [
    "# Split dataset into training and test\n",
    "X_train, X_test, y_train, y_test = ms.train_test_split(X, y, test_size=0.2, random_state=32)"
   ]
  },
  {
   "cell_type": "code",
   "execution_count": 55,
   "id": "fe5e0029",
   "metadata": {
    "ExecuteTime": {
     "end_time": "2023-01-12T14:47:54.900683Z",
     "start_time": "2023-01-12T14:47:54.880906Z"
    }
   },
   "outputs": [],
   "source": [
    "x_train = X_train.drop('id', axis=1)\n",
    "x_test = X_test.drop('id', axis=1)"
   ]
  },
  {
   "cell_type": "markdown",
   "id": "d1623606",
   "metadata": {},
   "source": [
    "## 7.3. Baseline Model"
   ]
  },
  {
   "cell_type": "markdown",
   "id": "5cd77832",
   "metadata": {},
   "source": [
    "For a time series problem, the baseline model is an average one. For a classification problem, the baseline is a model which randomly estimates the classes we are looking at (country_destination)."
   ]
  },
  {
   "cell_type": "code",
   "execution_count": 56,
   "id": "6d86c03b",
   "metadata": {
    "ExecuteTime": {
     "end_time": "2023-01-12T14:47:54.923764Z",
     "start_time": "2023-01-12T14:47:54.902978Z"
    }
   },
   "outputs": [
    {
     "data": {
      "text/plain": [
       "24528"
      ]
     },
     "execution_count": 56,
     "metadata": {},
     "output_type": "execute_result"
    }
   ],
   "source": [
    "# population is the response variable - it is in the alphabetic order for the classes\n",
    "country_destination_list = df7['country_destination'].drop_duplicates().sort_values().tolist()\n",
    "\n",
    "# number of samples generated randomly is the number of predictions we want = y_test.shape[0]\n",
    "k_num = y_test.shape[0]\n",
    "\n",
    "# number of classes - it is in the alphabetic order fot the classes\n",
    "country_destination_weights = df7['country_destination'].value_counts( normalize=True ).sort_index().tolist()\n",
    "\n",
    "# predictions\n",
    "yhat_random = random.choices( population=country_destination_list,  \n",
    "                              weights=country_destination_weights,\n",
    "                              k=k_num )\n",
    "len( yhat_random )"
   ]
  },
  {
   "cell_type": "markdown",
   "id": "2889661f",
   "metadata": {},
   "source": [
    "### 7.3.1. Baseline Performance"
   ]
  },
  {
   "cell_type": "code",
   "execution_count": 57,
   "id": "bb28b8f2",
   "metadata": {
    "ExecuteTime": {
     "end_time": "2023-01-12T14:47:55.966077Z",
     "start_time": "2023-01-12T14:47:54.925687Z"
    }
   },
   "outputs": [
    {
     "name": "stdout",
     "output_type": "stream",
     "text": [
      "Accuracy: 0.3641552511415525\n",
      "Balanced Accuracy: 0.08315938005323052\n",
      "Kappa Score: 0.007325801896094553\n",
      "              precision    recall  f1-score   support\n",
      "\n",
      "          AU       0.00      0.00      0.00        87\n",
      "          CA       0.01      0.01      0.01       216\n",
      "          DE       0.01      0.01      0.01       164\n",
      "          ES       0.01      0.01      0.01       319\n",
      "          FR       0.03      0.03      0.03       736\n",
      "          GB       0.02      0.02      0.02       361\n",
      "          IT       0.01      0.01      0.01       420\n",
      "         NDF       0.45      0.45      0.45     10962\n",
      "          NL       0.00      0.00      0.00       105\n",
      "          PT       0.00      0.00      0.00        31\n",
      "          US       0.40      0.41      0.40      9606\n",
      "       other       0.06      0.06      0.06      1521\n",
      "\n",
      "    accuracy                           0.36     24528\n",
      "   macro avg       0.08      0.08      0.08     24528\n",
      "weighted avg       0.36      0.36      0.36     24528\n",
      "\n"
     ]
    },
    {
     "data": {
      "text/plain": [
       "<AxesSubplot:title={'center':'Confusion Matrix'}, xlabel='Predicted label', ylabel='True label'>"
      ]
     },
     "execution_count": 57,
     "metadata": {},
     "output_type": "execute_result"
    },
    {
     "data": {
      "image/png": "[encoded data removed]",
      "text/plain": [
       "<Figure size 600x600 with 2 Axes>"
      ]
     },
     "metadata": {},
     "output_type": "display_data"
    }
   ],
   "source": [
    "# Accuracy\n",
    "acc_random = m.accuracy_score(y_test, yhat_random)\n",
    "print('Accuracy: {}'.format(acc_random))\n",
    "\n",
    "# Balanced Accuray\n",
    "balanced_acc_random = m.balanced_accuracy_score(y_test, yhat_random)\n",
    "print('Balanced Accuracy: {}'.format(balanced_acc_random))\n",
    "\n",
    "# Kappa Metrics\n",
    "kappa_random = m.cohen_kappa_score(y_test, yhat_random)\n",
    "print('Kappa Score: {}'.format(kappa_random))\n",
    "\n",
    "# Classification report\n",
    "print(m.classification_report(y_test, yhat_random))\n",
    "\n",
    "# Confusion Matrix\n",
    "mt.plot_confusion_matrix(y_test, yhat_random, normalize=False, figsize=(6,6))"
   ]
  },
  {
   "cell_type": "markdown",
   "id": "1b6aa563",
   "metadata": {},
   "source": [
    "- Accuracy: 52%.\n",
    "- Balanced Accuracy: 9%. This metric is more realistic than accuracy since we have an imbalanced dataset.\n",
    "- Kappa Score is too little. \n",
    "- The majority of predictions are biased to be US, even it is not the correct one."
   ]
  },
  {
   "cell_type": "markdown",
   "id": "327fdc84",
   "metadata": {},
   "source": [
    "## 7.4. Neural Network - MLP"
   ]
  },
  {
   "cell_type": "markdown",
   "id": "2e6ded15",
   "metadata": {},
   "source": [
    "Firstly, we need to encode the response variable to work with neural network:"
   ]
  },
  {
   "cell_type": "code",
   "execution_count": 58,
   "id": "128fcc2a",
   "metadata": {
    "ExecuteTime": {
     "end_time": "2023-01-12T14:47:55.972354Z",
     "start_time": "2023-01-12T14:47:55.967400Z"
    }
   },
   "outputs": [
    {
     "data": {
      "text/plain": [
       "187411    other\n",
       "180362      NDF\n",
       "9442        NDF\n",
       "32819     other\n",
       "190247       US\n",
       "          ...  \n",
       "33901       NDF\n",
       "99000       NDF\n",
       "126911       US\n",
       "187166      NDF\n",
       "18921        FR\n",
       "Name: country_destination, Length: 98108, dtype: object"
      ]
     },
     "execution_count": 58,
     "metadata": {},
     "output_type": "execute_result"
    }
   ],
   "source": [
    "y_train"
   ]
  },
  {
   "cell_type": "code",
   "execution_count": 59,
   "id": "dc09d47d",
   "metadata": {
    "ExecuteTime": {
     "end_time": "2023-01-12T14:47:56.000109Z",
     "start_time": "2023-01-12T14:47:55.973911Z"
    }
   },
   "outputs": [],
   "source": [
    "# instantiate encoder\n",
    "ohe = pp.OneHotEncoder()\n",
    "\n",
    "# y train for neural network\n",
    "y_train_nn = ohe.fit_transform(y_train.values.reshape(-1, 1)).toarray()"
   ]
  },
  {
   "cell_type": "code",
   "execution_count": 60,
   "id": "7b21e9f8",
   "metadata": {
    "ExecuteTime": {
     "end_time": "2023-01-12T14:47:56.021472Z",
     "start_time": "2023-01-12T14:47:56.001794Z"
    }
   },
   "outputs": [
    {
     "data": {
      "text/plain": [
       "array([[0., 0., 0., ..., 0., 0., 1.],\n",
       "       [0., 0., 0., ..., 0., 0., 0.],\n",
       "       [0., 0., 0., ..., 0., 0., 0.],\n",
       "       ...,\n",
       "       [0., 0., 0., ..., 0., 1., 0.],\n",
       "       [0., 0., 0., ..., 0., 0., 0.],\n",
       "       [0., 0., 0., ..., 0., 0., 0.]])"
      ]
     },
     "execution_count": 60,
     "metadata": {},
     "output_type": "execute_result"
    }
   ],
   "source": [
    "y_train_nn"
   ]
  },
  {
   "cell_type": "code",
   "execution_count": 66,
   "id": "29c42198",
   "metadata": {
    "ExecuteTime": {
     "end_time": "2023-01-12T14:59:07.681311Z",
     "start_time": "2023-01-12T14:59:07.677081Z"
    }
   },
   "outputs": [
    {
     "data": {
      "text/plain": [
       "12"
      ]
     },
     "execution_count": 66,
     "metadata": {},
     "output_type": "execute_result"
    }
   ],
   "source": [
    "# MUST: number of neurons in the last layer\n",
    "y_train_nn.shape[1]"
   ]
  },
  {
   "cell_type": "markdown",
   "id": "1d0c9733",
   "metadata": {},
   "source": [
    "Artifical Neural Network (ANN) - Multi-Layer Perceptron (MLP)\n",
    "\n",
    "- We used softmax in the final layer because this one is good when the response variable is categorical. \n",
    "- Accuracy is the main metric to evaluate a classification model."
   ]
  },
  {
   "cell_type": "code",
   "execution_count": 65,
   "id": "4025b382",
   "metadata": {
    "ExecuteTime": {
     "end_time": "2023-01-12T14:59:07.674352Z",
     "start_time": "2023-01-12T14:54:23.585575Z"
    }
   },
   "outputs": [
    {
     "name": "stdout",
     "output_type": "stream",
     "text": [
      "Epoch 1/100\n",
      "3066/3066 [==============================] - 3s 887us/step - loss: 1.3059 - accuracy: 0.5226\n",
      "Epoch 2/100\n",
      "3066/3066 [==============================] - 3s 877us/step - loss: 1.2819 - accuracy: 0.5281\n",
      "Epoch 3/100\n",
      "3066/3066 [==============================] - 3s 863us/step - loss: 1.2746 - accuracy: 0.5301\n",
      "Epoch 4/100\n",
      "3066/3066 [==============================] - 3s 901us/step - loss: 1.2697 - accuracy: 0.5319\n",
      "Epoch 5/100\n",
      "3066/3066 [==============================] - 3s 872us/step - loss: 1.2679 - accuracy: 0.5334\n",
      "Epoch 6/100\n",
      "3066/3066 [==============================] - 3s 880us/step - loss: 1.2655 - accuracy: 0.5339\n",
      "Epoch 7/100\n",
      "3066/3066 [==============================] - 3s 882us/step - loss: 1.2641 - accuracy: 0.5349\n",
      "Epoch 8/100\n",
      "3066/3066 [==============================] - 3s 885us/step - loss: 1.2637 - accuracy: 0.5342\n",
      "Epoch 9/100\n",
      "3066/3066 [==============================] - 3s 886us/step - loss: 1.2628 - accuracy: 0.5356\n",
      "Epoch 10/100\n",
      "3066/3066 [==============================] - 3s 894us/step - loss: 1.2618 - accuracy: 0.5355\n",
      "Epoch 11/100\n",
      "3066/3066 [==============================] - 3s 893us/step - loss: 1.2611 - accuracy: 0.5363\n",
      "Epoch 12/100\n",
      "3066/3066 [==============================] - 3s 901us/step - loss: 1.2606 - accuracy: 0.5365\n",
      "Epoch 13/100\n",
      "3066/3066 [==============================] - 3s 895us/step - loss: 1.2597 - accuracy: 0.5364\n",
      "Epoch 14/100\n",
      "3066/3066 [==============================] - 3s 899us/step - loss: 1.2592 - accuracy: 0.5368\n",
      "Epoch 15/100\n",
      "3066/3066 [==============================] - 3s 911us/step - loss: 1.2588 - accuracy: 0.5372\n",
      "Epoch 16/100\n",
      "3066/3066 [==============================] - 3s 986us/step - loss: 1.2580 - accuracy: 0.5375\n",
      "Epoch 17/100\n",
      "3066/3066 [==============================] - 3s 948us/step - loss: 1.2576 - accuracy: 0.5367\n",
      "Epoch 18/100\n",
      "3066/3066 [==============================] - 3s 928us/step - loss: 1.2567 - accuracy: 0.5373\n",
      "Epoch 19/100\n",
      "3066/3066 [==============================] - 3s 918us/step - loss: 1.2561 - accuracy: 0.5381\n",
      "Epoch 20/100\n",
      "3066/3066 [==============================] - 3s 917us/step - loss: 1.2558 - accuracy: 0.5383\n",
      "Epoch 21/100\n",
      "3066/3066 [==============================] - 3s 897us/step - loss: 1.2557 - accuracy: 0.5381\n",
      "Epoch 22/100\n",
      "3066/3066 [==============================] - 3s 952us/step - loss: 1.2555 - accuracy: 0.5384\n",
      "Epoch 23/100\n",
      "3066/3066 [==============================] - 3s 901us/step - loss: 1.2547 - accuracy: 0.5383\n",
      "Epoch 24/100\n",
      "3066/3066 [==============================] - 3s 954us/step - loss: 1.2549 - accuracy: 0.5380\n",
      "Epoch 25/100\n",
      "3066/3066 [==============================] - 3s 940us/step - loss: 1.2543 - accuracy: 0.5380\n",
      "Epoch 26/100\n",
      "3066/3066 [==============================] - 3s 968us/step - loss: 1.2539 - accuracy: 0.5388\n",
      "Epoch 27/100\n",
      "3066/3066 [==============================] - 3s 975us/step - loss: 1.2535 - accuracy: 0.5386\n",
      "Epoch 28/100\n",
      "3066/3066 [==============================] - 3s 949us/step - loss: 1.2536 - accuracy: 0.5385\n",
      "Epoch 29/100\n",
      "3066/3066 [==============================] - 3s 963us/step - loss: 1.2532 - accuracy: 0.5390\n",
      "Epoch 30/100\n",
      "3066/3066 [==============================] - 3s 977us/step - loss: 1.2524 - accuracy: 0.5383\n",
      "Epoch 31/100\n",
      "3066/3066 [==============================] - 3s 958us/step - loss: 1.2523 - accuracy: 0.5382\n",
      "Epoch 32/100\n",
      "3066/3066 [==============================] - 3s 968us/step - loss: 1.2519 - accuracy: 0.5379\n",
      "Epoch 33/100\n",
      "3066/3066 [==============================] - 3s 1ms/step - loss: 1.2519 - accuracy: 0.5386\n",
      "Epoch 34/100\n",
      "3066/3066 [==============================] - 3s 1ms/step - loss: 1.2513 - accuracy: 0.5386\n",
      "Epoch 35/100\n",
      "3066/3066 [==============================] - 3s 1ms/step - loss: 1.2511 - accuracy: 0.5392\n",
      "Epoch 36/100\n",
      "3066/3066 [==============================] - 3s 934us/step - loss: 1.2508 - accuracy: 0.5390\n",
      "Epoch 37/100\n",
      "3066/3066 [==============================] - 3s 1ms/step - loss: 1.2510 - accuracy: 0.5383\n",
      "Epoch 38/100\n",
      "3066/3066 [==============================] - 3s 955us/step - loss: 1.2505 - accuracy: 0.5384\n",
      "Epoch 39/100\n",
      "3066/3066 [==============================] - 3s 928us/step - loss: 1.2500 - accuracy: 0.5390\n",
      "Epoch 40/100\n",
      "3066/3066 [==============================] - 3s 925us/step - loss: 1.2502 - accuracy: 0.5399\n",
      "Epoch 41/100\n",
      "3066/3066 [==============================] - 3s 928us/step - loss: 1.2504 - accuracy: 0.5378\n",
      "Epoch 42/100\n",
      "3066/3066 [==============================] - 3s 934us/step - loss: 1.2497 - accuracy: 0.5390\n",
      "Epoch 43/100\n",
      "3066/3066 [==============================] - 3s 925us/step - loss: 1.2496 - accuracy: 0.5388\n",
      "Epoch 44/100\n",
      "3066/3066 [==============================] - 3s 930us/step - loss: 1.2495 - accuracy: 0.5388\n",
      "Epoch 45/100\n",
      "3066/3066 [==============================] - 3s 937us/step - loss: 1.2492 - accuracy: 0.5388\n",
      "Epoch 46/100\n",
      "3066/3066 [==============================] - 3s 1ms/step - loss: 1.2494 - accuracy: 0.5390\n",
      "Epoch 47/100\n",
      "3066/3066 [==============================] - 3s 972us/step - loss: 1.2488 - accuracy: 0.5385\n",
      "Epoch 48/100\n",
      "3066/3066 [==============================] - 3s 903us/step - loss: 1.2487 - accuracy: 0.5396\n",
      "Epoch 49/100\n",
      "3066/3066 [==============================] - 3s 899us/step - loss: 1.2483 - accuracy: 0.5395\n",
      "Epoch 50/100\n",
      "3066/3066 [==============================] - 3s 903us/step - loss: 1.2484 - accuracy: 0.5387\n",
      "Epoch 51/100\n",
      "3066/3066 [==============================] - 3s 908us/step - loss: 1.2484 - accuracy: 0.5390\n",
      "Epoch 52/100\n",
      "3066/3066 [==============================] - 3s 901us/step - loss: 1.2484 - accuracy: 0.5400\n",
      "Epoch 53/100\n",
      "3066/3066 [==============================] - 3s 899us/step - loss: 1.2476 - accuracy: 0.5399\n",
      "Epoch 54/100\n",
      "3066/3066 [==============================] - 3s 900us/step - loss: 1.2479 - accuracy: 0.5392\n",
      "Epoch 55/100\n",
      "3066/3066 [==============================] - 3s 899us/step - loss: 1.2479 - accuracy: 0.5393\n",
      "Epoch 56/100\n",
      "3066/3066 [==============================] - 3s 903us/step - loss: 1.2479 - accuracy: 0.5394\n",
      "Epoch 57/100\n",
      "3066/3066 [==============================] - 3s 900us/step - loss: 1.2477 - accuracy: 0.5404\n",
      "Epoch 58/100\n",
      "3066/3066 [==============================] - 3s 904us/step - loss: 1.2472 - accuracy: 0.5396\n",
      "Epoch 59/100\n",
      "3066/3066 [==============================] - 3s 901us/step - loss: 1.2468 - accuracy: 0.5395\n",
      "Epoch 60/100\n",
      "3066/3066 [==============================] - 3s 899us/step - loss: 1.2468 - accuracy: 0.5392\n",
      "Epoch 61/100\n",
      "3066/3066 [==============================] - 3s 899us/step - loss: 1.2466 - accuracy: 0.5405\n",
      "Epoch 62/100\n",
      "3066/3066 [==============================] - 3s 901us/step - loss: 1.2465 - accuracy: 0.5389\n",
      "Epoch 63/100\n",
      "3066/3066 [==============================] - 3s 900us/step - loss: 1.2466 - accuracy: 0.5402\n",
      "Epoch 64/100\n",
      "3066/3066 [==============================] - 3s 903us/step - loss: 1.2465 - accuracy: 0.5396\n",
      "Epoch 65/100\n",
      "3066/3066 [==============================] - 3s 903us/step - loss: 1.2470 - accuracy: 0.5396\n",
      "Epoch 66/100\n",
      "3066/3066 [==============================] - 3s 910us/step - loss: 1.2462 - accuracy: 0.5398\n",
      "Epoch 67/100\n",
      "3066/3066 [==============================] - 3s 901us/step - loss: 1.2462 - accuracy: 0.5401\n",
      "Epoch 68/100\n",
      "3066/3066 [==============================] - 3s 900us/step - loss: 1.2459 - accuracy: 0.5402\n",
      "Epoch 69/100\n",
      "3066/3066 [==============================] - 3s 901us/step - loss: 1.2460 - accuracy: 0.5400\n",
      "Epoch 70/100\n",
      "3066/3066 [==============================] - 3s 901us/step - loss: 1.2458 - accuracy: 0.5399\n",
      "Epoch 71/100\n",
      "3066/3066 [==============================] - 3s 902us/step - loss: 1.2453 - accuracy: 0.5399\n",
      "Epoch 72/100\n",
      "3066/3066 [==============================] - 3s 902us/step - loss: 1.2453 - accuracy: 0.5399\n",
      "Epoch 73/100\n",
      "3066/3066 [==============================] - 3s 901us/step - loss: 1.2457 - accuracy: 0.5397\n",
      "Epoch 74/100\n",
      "3066/3066 [==============================] - 3s 900us/step - loss: 1.2454 - accuracy: 0.5411\n",
      "Epoch 75/100\n",
      "3066/3066 [==============================] - 3s 904us/step - loss: 1.2452 - accuracy: 0.5394\n",
      "Epoch 76/100\n",
      "3066/3066 [==============================] - 3s 900us/step - loss: 1.2453 - accuracy: 0.5404\n",
      "Epoch 77/100\n",
      "3066/3066 [==============================] - 3s 897us/step - loss: 1.2450 - accuracy: 0.5406\n",
      "Epoch 78/100\n"
     ]
    },
    {
     "name": "stdout",
     "output_type": "stream",
     "text": [
      "3066/3066 [==============================] - 3s 917us/step - loss: 1.2449 - accuracy: 0.5405\n",
      "Epoch 79/100\n",
      "3066/3066 [==============================] - 3s 1ms/step - loss: 1.2447 - accuracy: 0.5408\n",
      "Epoch 80/100\n",
      "3066/3066 [==============================] - 3s 939us/step - loss: 1.2448 - accuracy: 0.5400\n",
      "Epoch 81/100\n",
      "3066/3066 [==============================] - 3s 965us/step - loss: 1.2446 - accuracy: 0.5406\n",
      "Epoch 82/100\n",
      "3066/3066 [==============================] - 3s 939us/step - loss: 1.2445 - accuracy: 0.5403\n",
      "Epoch 83/100\n",
      "3066/3066 [==============================] - 3s 978us/step - loss: 1.2445 - accuracy: 0.5405\n",
      "Epoch 84/100\n",
      "3066/3066 [==============================] - 3s 927us/step - loss: 1.2445 - accuracy: 0.5402\n",
      "Epoch 85/100\n",
      "3066/3066 [==============================] - 3s 945us/step - loss: 1.2446 - accuracy: 0.5404\n",
      "Epoch 86/100\n",
      "3066/3066 [==============================] - 3s 899us/step - loss: 1.2445 - accuracy: 0.5403\n",
      "Epoch 87/100\n",
      "3066/3066 [==============================] - 3s 920us/step - loss: 1.2445 - accuracy: 0.5402\n",
      "Epoch 88/100\n",
      "3066/3066 [==============================] - 3s 921us/step - loss: 1.2442 - accuracy: 0.5401\n",
      "Epoch 89/100\n",
      "3066/3066 [==============================] - 3s 924us/step - loss: 1.2440 - accuracy: 0.5413\n",
      "Epoch 90/100\n",
      "3066/3066 [==============================] - 3s 914us/step - loss: 1.2440 - accuracy: 0.5403\n",
      "Epoch 91/100\n",
      "3066/3066 [==============================] - 3s 927us/step - loss: 1.2440 - accuracy: 0.5408\n",
      "Epoch 92/100\n",
      "3066/3066 [==============================] - 3s 906us/step - loss: 1.2436 - accuracy: 0.5404\n",
      "Epoch 93/100\n",
      "3066/3066 [==============================] - 3s 907us/step - loss: 1.2437 - accuracy: 0.5407\n",
      "Epoch 94/100\n",
      "3066/3066 [==============================] - 3s 906us/step - loss: 1.2437 - accuracy: 0.5406\n",
      "Epoch 95/100\n",
      "3066/3066 [==============================] - 3s 934us/step - loss: 1.2434 - accuracy: 0.5410\n",
      "Epoch 96/100\n",
      "3066/3066 [==============================] - 3s 999us/step - loss: 1.2436 - accuracy: 0.5402\n",
      "Epoch 97/100\n",
      "3066/3066 [==============================] - 3s 931us/step - loss: 1.2436 - accuracy: 0.5407\n",
      "Epoch 98/100\n",
      "3066/3066 [==============================] - 3s 918us/step - loss: 1.2431 - accuracy: 0.5410\n",
      "Epoch 99/100\n",
      "3066/3066 [==============================] - 3s 935us/step - loss: 1.2433 - accuracy: 0.5411\n",
      "Epoch 100/100\n",
      "3066/3066 [==============================] - 3s 929us/step - loss: 1.2428 - accuracy: 0.5404\n"
     ]
    },
    {
     "data": {
      "text/plain": [
       "<keras.callbacks.History at 0x7fc31f7e2610>"
      ]
     },
     "execution_count": 65,
     "metadata": {},
     "output_type": "execute_result"
    }
   ],
   "source": [
    " # model definition\n",
    "model = ml.Sequential()\n",
    "\n",
    "# first layer\n",
    "model.add(l.Dense(128, input_dim=x_train.shape[1], activation='relu'))\n",
    "\n",
    "# last layer\n",
    "model.add(l.Dense(12, activation='softmax'))\n",
    "\n",
    "# model compile\n",
    "model.compile(loss='categorical_crossentropy', optimizer='adam', metrics=['accuracy'])\n",
    "\n",
    "# train model\n",
    "model.fit(x_train, y_train_nn, epochs=100)"
   ]
  },
  {
   "cell_type": "markdown",
   "id": "be09ce94",
   "metadata": {},
   "source": [
    "### 7.4.1. NN Single Performance"
   ]
  },
  {
   "cell_type": "code",
   "execution_count": 67,
   "id": "98781434",
   "metadata": {
    "ExecuteTime": {
     "end_time": "2023-01-12T14:59:20.902083Z",
     "start_time": "2023-01-12T14:59:20.014074Z"
    }
   },
   "outputs": [
    {
     "name": "stdout",
     "output_type": "stream",
     "text": [
      "767/767 [==============================] - 1s 629us/step\n"
     ]
    }
   ],
   "source": [
    "# prediction\n",
    "pred_nn = model.predict(x_test)\n",
    "\n",
    "# invert prediction - going back to the categorical attributes \n",
    "# real prediction\n",
    "yhat_nn = ohe.inverse_transform(pred_nn)\n",
    "\n",
    "# prediction prepare\n",
    "y_test_nn = y_test.to_numpy()\n",
    "yhat_nn = yhat_nn.reshape(1, -1)[0]"
   ]
  },
  {
   "cell_type": "code",
   "execution_count": 68,
   "id": "ebb064ae",
   "metadata": {
    "ExecuteTime": {
     "end_time": "2023-01-12T14:59:22.009694Z",
     "start_time": "2023-01-12T14:59:20.904323Z"
    }
   },
   "outputs": [
    {
     "name": "stdout",
     "output_type": "stream",
     "text": [
      "Accuracy: 0.5304549902152642\n",
      "Balanced Accuracy: 0.10574772551979546\n",
      "Kappa Score: 0.19465232379895991\n"
     ]
    },
    {
     "name": "stderr",
     "output_type": "stream",
     "text": [
      "/opt/anaconda3/lib/python3.9/site-packages/sklearn/metrics/_classification.py:1318: UndefinedMetricWarning: Precision and F-score are ill-defined and being set to 0.0 in labels with no predicted samples. Use `zero_division` parameter to control this behavior.\n",
      "  _warn_prf(average, modifier, msg_start, len(result))\n",
      "/opt/anaconda3/lib/python3.9/site-packages/sklearn/metrics/_classification.py:1318: UndefinedMetricWarning: Precision and F-score are ill-defined and being set to 0.0 in labels with no predicted samples. Use `zero_division` parameter to control this behavior.\n",
      "  _warn_prf(average, modifier, msg_start, len(result))\n"
     ]
    },
    {
     "name": "stdout",
     "output_type": "stream",
     "text": [
      "              precision    recall  f1-score   support\n",
      "\n",
      "          AU       0.00      0.00      0.00        87\n",
      "          CA       0.00      0.00      0.00       216\n",
      "          DE       0.00      0.00      0.00       164\n",
      "          ES       0.00      0.00      0.00       319\n",
      "          FR       0.00      0.00      0.00       736\n",
      "          GB       0.00      0.00      0.00       361\n",
      "          IT       0.00      0.00      0.00       420\n",
      "         NDF       0.59      0.61      0.60     10962\n",
      "          NL       0.00      0.00      0.00       105\n",
      "          PT       0.00      0.00      0.00        31\n",
      "          US       0.48      0.66      0.56      9606\n",
      "       other       0.11      0.00      0.00      1521\n",
      "\n",
      "    accuracy                           0.53     24528\n",
      "   macro avg       0.10      0.11      0.10     24528\n",
      "weighted avg       0.46      0.53      0.49     24528\n",
      "\n"
     ]
    },
    {
     "name": "stderr",
     "output_type": "stream",
     "text": [
      "/opt/anaconda3/lib/python3.9/site-packages/sklearn/metrics/_classification.py:1318: UndefinedMetricWarning: Precision and F-score are ill-defined and being set to 0.0 in labels with no predicted samples. Use `zero_division` parameter to control this behavior.\n",
      "  _warn_prf(average, modifier, msg_start, len(result))\n"
     ]
    },
    {
     "data": {
      "text/plain": [
       "<AxesSubplot:title={'center':'Confusion Matrix'}, xlabel='Predicted label', ylabel='True label'>"
      ]
     },
     "execution_count": 68,
     "metadata": {},
     "output_type": "execute_result"
    },
    {
     "data": {
      "image/png": "[encoded data removed]",
      "text/plain": [
       "<Figure size 600x600 with 2 Axes>"
      ]
     },
     "metadata": {},
     "output_type": "display_data"
    }
   ],
   "source": [
    "# Accuracy\n",
    "acc_nn = m.accuracy_score(y_test_nn, yhat_nn)\n",
    "print('Accuracy: {}'.format(acc_nn))\n",
    "\n",
    "# Balanced Accuray\n",
    "balanced_acc_nn = m.balanced_accuracy_score( y_test_nn, yhat_nn)\n",
    "print('Balanced Accuracy: {}'.format(balanced_acc_nn))\n",
    "\n",
    "# Kappa Metrics\n",
    "kappa_nn = m.cohen_kappa_score(y_test_nn, yhat_nn)\n",
    "print('Kappa Score: {}'.format(kappa_nn))\n",
    "\n",
    "# Classification report\n",
    "print(m.classification_report(y_test_nn, yhat_nn))\n",
    "\n",
    "# Confusion Matrix\n",
    "mt.plot_confusion_matrix(y_test_nn, yhat_nn, normalize=False, figsize=(6,6))"
   ]
  },
  {
   "cell_type": "markdown",
   "id": "d2bfe8e5",
   "metadata": {},
   "source": [
    "- Accuracy of 71% is a good one, but... \n",
    "- The model chose US even when the true class was other countries.\n",
    "- The neural network is biased towards the class with more available examples: US.\n",
    "\n",
    "\n",
    "- The majority of predictions for US were correct. For true US, the wrong predictions were: CA (1), DE (5), ES (1), FR (7), GB (4) and IT (2). \n",
    "- AU: accuracy = 0%. CA: accuracy = 0%. All predictions for AU and CA were wrong.\n",
    "\n",
    "Accuracy basically is: how much right predictions I have chose correctly over the amount of predictions I did. \n",
    "\n",
    "- Balanced Accuracy of 9% is much more realistic. We want to increase it to values around 85%.\n",
    "- Kappa Score is not good enough. We want values higher than 70%."
   ]
  },
  {
   "cell_type": "markdown",
   "id": "3513852f",
   "metadata": {},
   "source": [
    "### 7.4.2. NN Cross-Validation Performance"
   ]
  },
  {
   "cell_type": "markdown",
   "id": "4bc655c1",
   "metadata": {},
   "source": [
    "#### Theory"
   ]
  },
  {
   "cell_type": "markdown",
   "id": "838e64e5",
   "metadata": {},
   "source": [
    "We may understand **selection bias** as the bias with the following characteristics:\n",
    "\n",
    "1. The luck of selecting a good training dateset. \n",
    "2. Some behaviors may be hidden in datasets which were not selected.\n",
    "3. Different behaviors for training and test datasets. \n",
    "\n",
    "- We must avoid selection bias because we want our model learns the most from the data patterns. In order to minimize this bias, we are going to split out data into several training and test datasets. This technique is named Cross-Validation. \n",
    "\n",
    "- The split is made randomly for a classification problem. However, when we work with time series, this sampling must not be random, since the time is very important to this type of problem.\n",
    "\n",
    "- Cross-Validation is not very good for imbalanced/unbalanced data, since we have majority classes and probably the majority class will be chosen more times through random sampling."
   ]
  },
  {
   "cell_type": "markdown",
   "id": "975b986e",
   "metadata": {},
   "source": [
    "#### Practice"
   ]
  },
  {
   "cell_type": "markdown",
   "id": "d5affaa7",
   "metadata": {},
   "source": [
    "- **kfold.split()** keeps the proportion of classes.\n",
    "- **train_ix:** index of training dataset.\n",
    "- **val_ix:** index of validation (\"test\") dataset."
   ]
  },
  {
   "cell_type": "code",
   "execution_count": 69,
   "id": "d083c9a3",
   "metadata": {
    "ExecuteTime": {
     "end_time": "2023-01-12T15:18:16.857226Z",
     "start_time": "2023-01-12T14:59:22.011883Z"
    }
   },
   "outputs": [
    {
     "name": "stdout",
     "output_type": "stream",
     "text": [
      "Fold Number: 1/5\n",
      "614/614 [==============================] - 0s 655us/step\n",
      "Fold Number: 2/5\n",
      "614/614 [==============================] - 0s 667us/step\n",
      "Fold Number: 3/5\n",
      "614/614 [==============================] - 0s 704us/step\n",
      "Fold Number: 4/5\n",
      "614/614 [==============================] - 0s 628us/step\n",
      "Fold Number: 5/5\n",
      "614/614 [==============================] - 0s 684us/step\n"
     ]
    }
   ],
   "source": [
    " # generate k-fold\n",
    "num_folds = 5 # shuffle = True: the split is done randomly\n",
    "kfold = ms.StratifiedKFold(n_splits=num_folds, shuffle=True, random_state=32)\n",
    "\n",
    "balanced_acc_list = []\n",
    "kappa_acc_list = []\n",
    "\n",
    "i = 1\n",
    "for train_ix, val_ix in kfold.split(x_train, y_train):\n",
    "    print( 'Fold Number: {}/{}'.format(i, num_folds))\n",
    "    \n",
    "    # get fold\n",
    "    x_train_fold = x_train.iloc[train_ix]\n",
    "    y_train_fold = y_train.iloc[train_ix]\n",
    "    \n",
    "    x_val_fold = x_train.iloc[val_ix]\n",
    "    y_val_fold = y_train.iloc[val_ix]\n",
    "    \n",
    "    # target hot-encoding\n",
    "    ohe = pp.OneHotEncoder()\n",
    "    y_train_fold_nn = ohe.fit_transform(y_train_fold.values.reshape(-1, 1)).toarray()\n",
    "\n",
    "    # model definition\n",
    "    model = ml.Sequential()\n",
    "    model.add(l.Dense(256, input_dim=x_train.shape[1], activation='relu'))\n",
    "    model.add(l.Dense(12, activation='softmax'))\n",
    "\n",
    "    # compile model\n",
    "    model.compile(loss='categorical_crossentropy', optimizer='adam', metrics=['accuracy'])\n",
    "\n",
    "    # training model\n",
    "    model.fit(x_train_fold, y_train_fold_nn, epochs=100, batch_size=32, verbose=0)\n",
    "\n",
    "    # prediction\n",
    "    pred_nn = model.predict(x_val_fold)\n",
    "    yhat_nn = ohe.inverse_transform(pred_nn)\n",
    "    \n",
    "    # prepare data\n",
    "    y_test_nn = y_val_fold.to_numpy()\n",
    "    yhat_nn = yhat_nn.reshape(1, -1)[0]\n",
    "\n",
    "    # metrics\n",
    "    ## Balanced Accuracy \n",
    "    balanced_acc_nn = m.balanced_accuracy_score(y_test_nn, yhat_nn)\n",
    "    balanced_acc_list.append(balanced_acc_nn)\n",
    "    \n",
    "    ## Kappa Metrics\n",
    "    kappa_acc_nn = m.cohen_kappa_score(y_test_nn, yhat_nn)\n",
    "    kappa_acc_list.append(kappa_acc_nn)\n",
    "    \n",
    "    i += 1"
   ]
  },
  {
   "cell_type": "code",
   "execution_count": 70,
   "id": "1b29f376",
   "metadata": {
    "ExecuteTime": {
     "end_time": "2023-01-12T15:18:16.867953Z",
     "start_time": "2023-01-12T15:18:16.859937Z"
    }
   },
   "outputs": [
    {
     "data": {
      "text/html": [
       "<div>\n",
       "<style scoped>\n",
       "    .dataframe tbody tr th:only-of-type {\n",
       "        vertical-align: middle;\n",
       "    }\n",
       "\n",
       "    .dataframe tbody tr th {\n",
       "        vertical-align: top;\n",
       "    }\n",
       "\n",
       "    .dataframe thead th {\n",
       "        text-align: right;\n",
       "    }\n",
       "</style>\n",
       "<table border=\"1\" class=\"dataframe\">\n",
       "  <thead>\n",
       "    <tr style=\"text-align: right;\">\n",
       "      <th></th>\n",
       "      <th>Average Balanced Accuracy</th>\n",
       "      <th>Average Kappa</th>\n",
       "    </tr>\n",
       "  </thead>\n",
       "  <tbody>\n",
       "    <tr>\n",
       "      <th>0</th>\n",
       "      <td>0.11 +/- 0.001</td>\n",
       "      <td>0.1901 +/- 0.007</td>\n",
       "    </tr>\n",
       "  </tbody>\n",
       "</table>\n",
       "</div>"
      ],
      "text/plain": [
       "  Average Balanced Accuracy     Average Kappa\n",
       "0            0.11 +/- 0.001  0.1901 +/- 0.007"
      ]
     },
     "execution_count": 70,
     "metadata": {},
     "output_type": "execute_result"
    }
   ],
   "source": [
    "pd.DataFrame( {'Average Balanced Accuracy': np.round( np.mean( balanced_acc_list ), 2 ).astype( str ) + ' +/- ' + np.round( np.std( balanced_acc_list  ), 4 ).astype( str ),\n",
    "                'Average Kappa': np.round( np.mean( kappa_acc_list ), 4 ).astype( str ) + ' +/- ' + np.round( np.std( kappa_acc_list ), 4 ).astype( str ) }, index=[0] )\n"
   ]
  },
  {
   "cell_type": "code",
   "execution_count": null,
   "id": "1bfd3936",
   "metadata": {},
   "outputs": [],
   "source": []
  }
 ],
 "metadata": {
  "kernelspec": {
   "display_name": "Python 3 (ipykernel)",
   "language": "python",
   "name": "python3"
  },
  "language_info": {
   "codemirror_mode": {
    "name": "ipython",
    "version": 3
   },
   "file_extension": ".py",
   "mimetype": "text/x-python",
   "name": "python",
   "nbconvert_exporter": "python",
   "pygments_lexer": "ipython3",
   "version": "3.9.13"
  }
 },
 "nbformat": 4,
 "nbformat_minor": 5
}
