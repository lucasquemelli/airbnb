{
 "cells": [
  {
   "cell_type": "markdown",
   "id": "ede35857",
   "metadata": {
    "heading_collapsed": true
   },
   "source": [
    "# Considerations"
   ]
  },
  {
   "cell_type": "markdown",
   "id": "1bc5f01d",
   "metadata": {
    "hidden": true
   },
   "source": [
    "#### What is the Airbnb business model?\n",
    "\n",
    "- Marketplace: connect people offering homestays with people looking for homestays.\n",
    "                  \n",
    "- Gross Revenue = (Fee * Users) - CAC"
   ]
  },
  {
   "cell_type": "markdown",
   "id": "d5170f80",
   "metadata": {
    "heading_collapsed": true
   },
   "source": [
    "# Libraries"
   ]
  },
  {
   "cell_type": "code",
   "execution_count": 1,
   "id": "1e74c2d8",
   "metadata": {
    "ExecuteTime": {
     "end_time": "2023-01-12T22:56:01.464059Z",
     "start_time": "2023-01-12T22:55:54.738371Z"
    },
    "hidden": true
   },
   "outputs": [
    {
     "name": "stderr",
     "output_type": "stream",
     "text": [
      "2023-01-12 19:55:56.853061: I tensorflow/core/platform/cpu_feature_guard.cc:193] This TensorFlow binary is optimized with oneAPI Deep Neural Network Library (oneDNN) to use the following CPU instructions in performance-critical operations:  AVX2 FMA\n",
      "To enable them in other operations, rebuild TensorFlow with the appropriate compiler flags.\n"
     ]
    }
   ],
   "source": [
    "import pandas as pd\n",
    "import numpy as np\n",
    "import seaborn as sns\n",
    "import random\n",
    "\n",
    "from IPython.display import Image\n",
    "from matplotlib import pyplot as plt\n",
    "from keras import models as ml\n",
    "from keras import layers as l\n",
    "from scikitplot import metrics as mt\n",
    "from scipy import stats as ss\n",
    "\n",
    "from sklearn import model_selection as ms\n",
    "from sklearn import preprocessing as pp\n",
    "from sklearn import metrics as m"
   ]
  },
  {
   "cell_type": "markdown",
   "id": "bc699937",
   "metadata": {
    "hidden": true
   },
   "source": [
    "## Helper Functions"
   ]
  },
  {
   "cell_type": "code",
   "execution_count": 2,
   "id": "162e0036",
   "metadata": {
    "ExecuteTime": {
     "end_time": "2023-01-12T22:56:01.470456Z",
     "start_time": "2023-01-12T22:56:01.466124Z"
    },
    "hidden": true
   },
   "outputs": [],
   "source": [
    "def cramer_v(x, y):\n",
    "    cm = pd.crosstab(x, y).values\n",
    "    n = cm.sum()\n",
    "    r, k = cm.shape\n",
    "    \n",
    "    chi2 = ss.chi2_contingency( cm )[0]\n",
    "    chi2corr = max(0, chi2 - (k-1)*(r-1)/(n-1))\n",
    "    \n",
    "    kcorr = k - (k-1)**2/(n-1)\n",
    "    rcorr = r - (r-1)**2/(n-1)\n",
    "    \n",
    "    return np.sqrt( (chi2corr/n) / ( min( kcorr-1, rcorr-1 ) ) )"
   ]
  },
  {
   "cell_type": "markdown",
   "id": "f512e2fd",
   "metadata": {
    "hidden": true
   },
   "source": [
    "## Loading Data"
   ]
  },
  {
   "cell_type": "code",
   "execution_count": 3,
   "id": "9d470ca0",
   "metadata": {
    "ExecuteTime": {
     "end_time": "2023-01-12T22:56:01.496801Z",
     "start_time": "2023-01-12T22:56:01.472486Z"
    },
    "hidden": true
   },
   "outputs": [
    {
     "data": {
      "text/html": [
       "<div>\n",
       "<style scoped>\n",
       "    .dataframe tbody tr th:only-of-type {\n",
       "        vertical-align: middle;\n",
       "    }\n",
       "\n",
       "    .dataframe tbody tr th {\n",
       "        vertical-align: top;\n",
       "    }\n",
       "\n",
       "    .dataframe thead th {\n",
       "        text-align: right;\n",
       "    }\n",
       "</style>\n",
       "<table border=\"1\" class=\"dataframe\">\n",
       "  <thead>\n",
       "    <tr style=\"text-align: right;\">\n",
       "      <th></th>\n",
       "      <th>age_bucket</th>\n",
       "      <th>country_destination</th>\n",
       "      <th>gender</th>\n",
       "      <th>population_in_thousands</th>\n",
       "      <th>year</th>\n",
       "    </tr>\n",
       "  </thead>\n",
       "  <tbody>\n",
       "    <tr>\n",
       "      <th>0</th>\n",
       "      <td>100+</td>\n",
       "      <td>AU</td>\n",
       "      <td>male</td>\n",
       "      <td>1.0</td>\n",
       "      <td>2015.0</td>\n",
       "    </tr>\n",
       "    <tr>\n",
       "      <th>1</th>\n",
       "      <td>95-99</td>\n",
       "      <td>AU</td>\n",
       "      <td>male</td>\n",
       "      <td>9.0</td>\n",
       "      <td>2015.0</td>\n",
       "    </tr>\n",
       "    <tr>\n",
       "      <th>2</th>\n",
       "      <td>90-94</td>\n",
       "      <td>AU</td>\n",
       "      <td>male</td>\n",
       "      <td>47.0</td>\n",
       "      <td>2015.0</td>\n",
       "    </tr>\n",
       "    <tr>\n",
       "      <th>3</th>\n",
       "      <td>85-89</td>\n",
       "      <td>AU</td>\n",
       "      <td>male</td>\n",
       "      <td>118.0</td>\n",
       "      <td>2015.0</td>\n",
       "    </tr>\n",
       "    <tr>\n",
       "      <th>4</th>\n",
       "      <td>80-84</td>\n",
       "      <td>AU</td>\n",
       "      <td>male</td>\n",
       "      <td>199.0</td>\n",
       "      <td>2015.0</td>\n",
       "    </tr>\n",
       "    <tr>\n",
       "      <th>...</th>\n",
       "      <td>...</td>\n",
       "      <td>...</td>\n",
       "      <td>...</td>\n",
       "      <td>...</td>\n",
       "      <td>...</td>\n",
       "    </tr>\n",
       "    <tr>\n",
       "      <th>415</th>\n",
       "      <td>95-99</td>\n",
       "      <td>US</td>\n",
       "      <td>male</td>\n",
       "      <td>115.0</td>\n",
       "      <td>2015.0</td>\n",
       "    </tr>\n",
       "    <tr>\n",
       "      <th>416</th>\n",
       "      <td>90-94</td>\n",
       "      <td>US</td>\n",
       "      <td>male</td>\n",
       "      <td>541.0</td>\n",
       "      <td>2015.0</td>\n",
       "    </tr>\n",
       "    <tr>\n",
       "      <th>417</th>\n",
       "      <td>15-19</td>\n",
       "      <td>US</td>\n",
       "      <td>female</td>\n",
       "      <td>10570.0</td>\n",
       "      <td>2015.0</td>\n",
       "    </tr>\n",
       "    <tr>\n",
       "      <th>418</th>\n",
       "      <td>85-89</td>\n",
       "      <td>US</td>\n",
       "      <td>male</td>\n",
       "      <td>1441.0</td>\n",
       "      <td>2015.0</td>\n",
       "    </tr>\n",
       "    <tr>\n",
       "      <th>419</th>\n",
       "      <td>80-84</td>\n",
       "      <td>US</td>\n",
       "      <td>male</td>\n",
       "      <td>2442.0</td>\n",
       "      <td>2015.0</td>\n",
       "    </tr>\n",
       "  </tbody>\n",
       "</table>\n",
       "<p>420 rows × 5 columns</p>\n",
       "</div>"
      ],
      "text/plain": [
       "    age_bucket country_destination  gender  population_in_thousands    year\n",
       "0         100+                  AU    male                      1.0  2015.0\n",
       "1        95-99                  AU    male                      9.0  2015.0\n",
       "2        90-94                  AU    male                     47.0  2015.0\n",
       "3        85-89                  AU    male                    118.0  2015.0\n",
       "4        80-84                  AU    male                    199.0  2015.0\n",
       "..         ...                 ...     ...                      ...     ...\n",
       "415      95-99                  US    male                    115.0  2015.0\n",
       "416      90-94                  US    male                    541.0  2015.0\n",
       "417      15-19                  US  female                  10570.0  2015.0\n",
       "418      85-89                  US    male                   1441.0  2015.0\n",
       "419      80-84                  US    male                   2442.0  2015.0\n",
       "\n",
       "[420 rows x 5 columns]"
      ]
     },
     "execution_count": 3,
     "metadata": {},
     "output_type": "execute_result"
    }
   ],
   "source": [
    "data_raw_age_gender = pd.read_csv(\"datasets/age_gender_bkts.csv\", low_memory=False)\n",
    "data_raw_age_gender"
   ]
  },
  {
   "cell_type": "code",
   "execution_count": 4,
   "id": "03f19f8c",
   "metadata": {
    "ExecuteTime": {
     "end_time": "2023-01-12T22:56:01.517620Z",
     "start_time": "2023-01-12T22:56:01.500601Z"
    },
    "hidden": true
   },
   "outputs": [
    {
     "data": {
      "text/html": [
       "<div>\n",
       "<style scoped>\n",
       "    .dataframe tbody tr th:only-of-type {\n",
       "        vertical-align: middle;\n",
       "    }\n",
       "\n",
       "    .dataframe tbody tr th {\n",
       "        vertical-align: top;\n",
       "    }\n",
       "\n",
       "    .dataframe thead th {\n",
       "        text-align: right;\n",
       "    }\n",
       "</style>\n",
       "<table border=\"1\" class=\"dataframe\">\n",
       "  <thead>\n",
       "    <tr style=\"text-align: right;\">\n",
       "      <th></th>\n",
       "      <th>country_destination</th>\n",
       "      <th>lat_destination</th>\n",
       "      <th>lng_destination</th>\n",
       "      <th>distance_km</th>\n",
       "      <th>destination_km2</th>\n",
       "      <th>destination_language</th>\n",
       "      <th>language_levenshtein_distance</th>\n",
       "    </tr>\n",
       "  </thead>\n",
       "  <tbody>\n",
       "    <tr>\n",
       "      <th>0</th>\n",
       "      <td>AU</td>\n",
       "      <td>-26.853388</td>\n",
       "      <td>133.275160</td>\n",
       "      <td>15297.7440</td>\n",
       "      <td>7741220.0</td>\n",
       "      <td>eng</td>\n",
       "      <td>0.00</td>\n",
       "    </tr>\n",
       "    <tr>\n",
       "      <th>1</th>\n",
       "      <td>CA</td>\n",
       "      <td>62.393303</td>\n",
       "      <td>-96.818146</td>\n",
       "      <td>2828.1333</td>\n",
       "      <td>9984670.0</td>\n",
       "      <td>eng</td>\n",
       "      <td>0.00</td>\n",
       "    </tr>\n",
       "    <tr>\n",
       "      <th>2</th>\n",
       "      <td>DE</td>\n",
       "      <td>51.165707</td>\n",
       "      <td>10.452764</td>\n",
       "      <td>7879.5680</td>\n",
       "      <td>357022.0</td>\n",
       "      <td>deu</td>\n",
       "      <td>72.61</td>\n",
       "    </tr>\n",
       "    <tr>\n",
       "      <th>3</th>\n",
       "      <td>ES</td>\n",
       "      <td>39.896027</td>\n",
       "      <td>-2.487694</td>\n",
       "      <td>7730.7240</td>\n",
       "      <td>505370.0</td>\n",
       "      <td>spa</td>\n",
       "      <td>92.25</td>\n",
       "    </tr>\n",
       "    <tr>\n",
       "      <th>4</th>\n",
       "      <td>FR</td>\n",
       "      <td>46.232193</td>\n",
       "      <td>2.209667</td>\n",
       "      <td>7682.9450</td>\n",
       "      <td>643801.0</td>\n",
       "      <td>fra</td>\n",
       "      <td>92.06</td>\n",
       "    </tr>\n",
       "    <tr>\n",
       "      <th>5</th>\n",
       "      <td>GB</td>\n",
       "      <td>54.633220</td>\n",
       "      <td>-3.432277</td>\n",
       "      <td>6883.6590</td>\n",
       "      <td>243610.0</td>\n",
       "      <td>eng</td>\n",
       "      <td>0.00</td>\n",
       "    </tr>\n",
       "    <tr>\n",
       "      <th>6</th>\n",
       "      <td>IT</td>\n",
       "      <td>41.873990</td>\n",
       "      <td>12.564167</td>\n",
       "      <td>8636.6310</td>\n",
       "      <td>301340.0</td>\n",
       "      <td>ita</td>\n",
       "      <td>89.40</td>\n",
       "    </tr>\n",
       "    <tr>\n",
       "      <th>7</th>\n",
       "      <td>NL</td>\n",
       "      <td>52.133057</td>\n",
       "      <td>5.295250</td>\n",
       "      <td>7524.3203</td>\n",
       "      <td>41543.0</td>\n",
       "      <td>nld</td>\n",
       "      <td>63.22</td>\n",
       "    </tr>\n",
       "    <tr>\n",
       "      <th>8</th>\n",
       "      <td>PT</td>\n",
       "      <td>39.553444</td>\n",
       "      <td>-7.839319</td>\n",
       "      <td>7355.2534</td>\n",
       "      <td>92090.0</td>\n",
       "      <td>por</td>\n",
       "      <td>95.45</td>\n",
       "    </tr>\n",
       "    <tr>\n",
       "      <th>9</th>\n",
       "      <td>US</td>\n",
       "      <td>36.966427</td>\n",
       "      <td>-95.844030</td>\n",
       "      <td>0.0000</td>\n",
       "      <td>9826675.0</td>\n",
       "      <td>eng</td>\n",
       "      <td>0.00</td>\n",
       "    </tr>\n",
       "  </tbody>\n",
       "</table>\n",
       "</div>"
      ],
      "text/plain": [
       "  country_destination  lat_destination  lng_destination  distance_km  \\\n",
       "0                  AU       -26.853388       133.275160   15297.7440   \n",
       "1                  CA        62.393303       -96.818146    2828.1333   \n",
       "2                  DE        51.165707        10.452764    7879.5680   \n",
       "3                  ES        39.896027        -2.487694    7730.7240   \n",
       "4                  FR        46.232193         2.209667    7682.9450   \n",
       "5                  GB        54.633220        -3.432277    6883.6590   \n",
       "6                  IT        41.873990        12.564167    8636.6310   \n",
       "7                  NL        52.133057         5.295250    7524.3203   \n",
       "8                  PT        39.553444        -7.839319    7355.2534   \n",
       "9                  US        36.966427       -95.844030       0.0000   \n",
       "\n",
       "   destination_km2 destination_language   language_levenshtein_distance  \n",
       "0        7741220.0                   eng                           0.00  \n",
       "1        9984670.0                   eng                           0.00  \n",
       "2         357022.0                   deu                          72.61  \n",
       "3         505370.0                   spa                          92.25  \n",
       "4         643801.0                   fra                          92.06  \n",
       "5         243610.0                   eng                           0.00  \n",
       "6         301340.0                   ita                          89.40  \n",
       "7          41543.0                   nld                          63.22  \n",
       "8          92090.0                   por                          95.45  \n",
       "9        9826675.0                   eng                           0.00  "
      ]
     },
     "execution_count": 4,
     "metadata": {},
     "output_type": "execute_result"
    }
   ],
   "source": [
    "data_raw_countries = pd.read_csv(\"datasets/countries.csv\", low_memory=False)\n",
    "data_raw_countries"
   ]
  },
  {
   "cell_type": "code",
   "execution_count": 5,
   "id": "ce64dc51",
   "metadata": {
    "ExecuteTime": {
     "end_time": "2023-01-12T22:56:01.560838Z",
     "start_time": "2023-01-12T22:56:01.519431Z"
    },
    "hidden": true
   },
   "outputs": [
    {
     "data": {
      "text/html": [
       "<div>\n",
       "<style scoped>\n",
       "    .dataframe tbody tr th:only-of-type {\n",
       "        vertical-align: middle;\n",
       "    }\n",
       "\n",
       "    .dataframe tbody tr th {\n",
       "        vertical-align: top;\n",
       "    }\n",
       "\n",
       "    .dataframe thead th {\n",
       "        text-align: right;\n",
       "    }\n",
       "</style>\n",
       "<table border=\"1\" class=\"dataframe\">\n",
       "  <thead>\n",
       "    <tr style=\"text-align: right;\">\n",
       "      <th></th>\n",
       "      <th>id</th>\n",
       "      <th>country</th>\n",
       "    </tr>\n",
       "  </thead>\n",
       "  <tbody>\n",
       "    <tr>\n",
       "      <th>0</th>\n",
       "      <td>5uwns89zht</td>\n",
       "      <td>NDF</td>\n",
       "    </tr>\n",
       "    <tr>\n",
       "      <th>1</th>\n",
       "      <td>jtl0dijy2j</td>\n",
       "      <td>NDF</td>\n",
       "    </tr>\n",
       "    <tr>\n",
       "      <th>2</th>\n",
       "      <td>xx0ulgorjt</td>\n",
       "      <td>NDF</td>\n",
       "    </tr>\n",
       "    <tr>\n",
       "      <th>3</th>\n",
       "      <td>6c6puo6ix0</td>\n",
       "      <td>NDF</td>\n",
       "    </tr>\n",
       "    <tr>\n",
       "      <th>4</th>\n",
       "      <td>czqhjk3yfe</td>\n",
       "      <td>NDF</td>\n",
       "    </tr>\n",
       "    <tr>\n",
       "      <th>...</th>\n",
       "      <td>...</td>\n",
       "      <td>...</td>\n",
       "    </tr>\n",
       "    <tr>\n",
       "      <th>62091</th>\n",
       "      <td>cv0na2lf5a</td>\n",
       "      <td>NDF</td>\n",
       "    </tr>\n",
       "    <tr>\n",
       "      <th>62092</th>\n",
       "      <td>zp8xfonng8</td>\n",
       "      <td>NDF</td>\n",
       "    </tr>\n",
       "    <tr>\n",
       "      <th>62093</th>\n",
       "      <td>fa6260ziny</td>\n",
       "      <td>NDF</td>\n",
       "    </tr>\n",
       "    <tr>\n",
       "      <th>62094</th>\n",
       "      <td>87k0fy4ugm</td>\n",
       "      <td>NDF</td>\n",
       "    </tr>\n",
       "    <tr>\n",
       "      <th>62095</th>\n",
       "      <td>9uqfg8txu3</td>\n",
       "      <td>NDF</td>\n",
       "    </tr>\n",
       "  </tbody>\n",
       "</table>\n",
       "<p>62096 rows × 2 columns</p>\n",
       "</div>"
      ],
      "text/plain": [
       "               id country\n",
       "0      5uwns89zht     NDF\n",
       "1      jtl0dijy2j     NDF\n",
       "2      xx0ulgorjt     NDF\n",
       "3      6c6puo6ix0     NDF\n",
       "4      czqhjk3yfe     NDF\n",
       "...           ...     ...\n",
       "62091  cv0na2lf5a     NDF\n",
       "62092  zp8xfonng8     NDF\n",
       "62093  fa6260ziny     NDF\n",
       "62094  87k0fy4ugm     NDF\n",
       "62095  9uqfg8txu3     NDF\n",
       "\n",
       "[62096 rows x 2 columns]"
      ]
     },
     "execution_count": 5,
     "metadata": {},
     "output_type": "execute_result"
    }
   ],
   "source": [
    "data_raw_sample_submission = pd.read_csv(\"datasets/sample_submission_NDF.csv\", low_memory=False)\n",
    "data_raw_sample_submission"
   ]
  },
  {
   "cell_type": "code",
   "execution_count": 6,
   "id": "d4b6d32c",
   "metadata": {
    "ExecuteTime": {
     "end_time": "2023-01-12T22:56:06.909009Z",
     "start_time": "2023-01-12T22:56:01.563125Z"
    },
    "hidden": true
   },
   "outputs": [
    {
     "data": {
      "text/html": [
       "<div>\n",
       "<style scoped>\n",
       "    .dataframe tbody tr th:only-of-type {\n",
       "        vertical-align: middle;\n",
       "    }\n",
       "\n",
       "    .dataframe tbody tr th {\n",
       "        vertical-align: top;\n",
       "    }\n",
       "\n",
       "    .dataframe thead th {\n",
       "        text-align: right;\n",
       "    }\n",
       "</style>\n",
       "<table border=\"1\" class=\"dataframe\">\n",
       "  <thead>\n",
       "    <tr style=\"text-align: right;\">\n",
       "      <th></th>\n",
       "      <th>user_id</th>\n",
       "      <th>action</th>\n",
       "      <th>action_type</th>\n",
       "      <th>action_detail</th>\n",
       "      <th>device_type</th>\n",
       "      <th>secs_elapsed</th>\n",
       "    </tr>\n",
       "  </thead>\n",
       "  <tbody>\n",
       "    <tr>\n",
       "      <th>0</th>\n",
       "      <td>d1mm9tcy42</td>\n",
       "      <td>lookup</td>\n",
       "      <td>NaN</td>\n",
       "      <td>NaN</td>\n",
       "      <td>Windows Desktop</td>\n",
       "      <td>319.0</td>\n",
       "    </tr>\n",
       "    <tr>\n",
       "      <th>1</th>\n",
       "      <td>d1mm9tcy42</td>\n",
       "      <td>search_results</td>\n",
       "      <td>click</td>\n",
       "      <td>view_search_results</td>\n",
       "      <td>Windows Desktop</td>\n",
       "      <td>67753.0</td>\n",
       "    </tr>\n",
       "    <tr>\n",
       "      <th>2</th>\n",
       "      <td>d1mm9tcy42</td>\n",
       "      <td>lookup</td>\n",
       "      <td>NaN</td>\n",
       "      <td>NaN</td>\n",
       "      <td>Windows Desktop</td>\n",
       "      <td>301.0</td>\n",
       "    </tr>\n",
       "    <tr>\n",
       "      <th>3</th>\n",
       "      <td>d1mm9tcy42</td>\n",
       "      <td>search_results</td>\n",
       "      <td>click</td>\n",
       "      <td>view_search_results</td>\n",
       "      <td>Windows Desktop</td>\n",
       "      <td>22141.0</td>\n",
       "    </tr>\n",
       "    <tr>\n",
       "      <th>4</th>\n",
       "      <td>d1mm9tcy42</td>\n",
       "      <td>lookup</td>\n",
       "      <td>NaN</td>\n",
       "      <td>NaN</td>\n",
       "      <td>Windows Desktop</td>\n",
       "      <td>435.0</td>\n",
       "    </tr>\n",
       "    <tr>\n",
       "      <th>...</th>\n",
       "      <td>...</td>\n",
       "      <td>...</td>\n",
       "      <td>...</td>\n",
       "      <td>...</td>\n",
       "      <td>...</td>\n",
       "      <td>...</td>\n",
       "    </tr>\n",
       "    <tr>\n",
       "      <th>10567732</th>\n",
       "      <td>9uqfg8txu3</td>\n",
       "      <td>dashboard</td>\n",
       "      <td>view</td>\n",
       "      <td>dashboard</td>\n",
       "      <td>Windows Desktop</td>\n",
       "      <td>556.0</td>\n",
       "    </tr>\n",
       "    <tr>\n",
       "      <th>10567733</th>\n",
       "      <td>9uqfg8txu3</td>\n",
       "      <td>edit</td>\n",
       "      <td>view</td>\n",
       "      <td>edit_profile</td>\n",
       "      <td>Windows Desktop</td>\n",
       "      <td>6624.0</td>\n",
       "    </tr>\n",
       "    <tr>\n",
       "      <th>10567734</th>\n",
       "      <td>9uqfg8txu3</td>\n",
       "      <td>webcam_upload</td>\n",
       "      <td>-unknown-</td>\n",
       "      <td>-unknown-</td>\n",
       "      <td>Windows Desktop</td>\n",
       "      <td>200125.0</td>\n",
       "    </tr>\n",
       "    <tr>\n",
       "      <th>10567735</th>\n",
       "      <td>9uqfg8txu3</td>\n",
       "      <td>active</td>\n",
       "      <td>-unknown-</td>\n",
       "      <td>-unknown-</td>\n",
       "      <td>-unknown-</td>\n",
       "      <td>17624.0</td>\n",
       "    </tr>\n",
       "    <tr>\n",
       "      <th>10567736</th>\n",
       "      <td>9uqfg8txu3</td>\n",
       "      <td>show_personalize</td>\n",
       "      <td>data</td>\n",
       "      <td>user_profile_content_update</td>\n",
       "      <td>Windows Desktop</td>\n",
       "      <td>1221.0</td>\n",
       "    </tr>\n",
       "  </tbody>\n",
       "</table>\n",
       "<p>10567737 rows × 6 columns</p>\n",
       "</div>"
      ],
      "text/plain": [
       "             user_id            action action_type  \\\n",
       "0         d1mm9tcy42            lookup         NaN   \n",
       "1         d1mm9tcy42    search_results       click   \n",
       "2         d1mm9tcy42            lookup         NaN   \n",
       "3         d1mm9tcy42    search_results       click   \n",
       "4         d1mm9tcy42            lookup         NaN   \n",
       "...              ...               ...         ...   \n",
       "10567732  9uqfg8txu3         dashboard        view   \n",
       "10567733  9uqfg8txu3              edit        view   \n",
       "10567734  9uqfg8txu3     webcam_upload   -unknown-   \n",
       "10567735  9uqfg8txu3            active   -unknown-   \n",
       "10567736  9uqfg8txu3  show_personalize        data   \n",
       "\n",
       "                        action_detail      device_type  secs_elapsed  \n",
       "0                                 NaN  Windows Desktop         319.0  \n",
       "1                 view_search_results  Windows Desktop       67753.0  \n",
       "2                                 NaN  Windows Desktop         301.0  \n",
       "3                 view_search_results  Windows Desktop       22141.0  \n",
       "4                                 NaN  Windows Desktop         435.0  \n",
       "...                               ...              ...           ...  \n",
       "10567732                    dashboard  Windows Desktop         556.0  \n",
       "10567733                 edit_profile  Windows Desktop        6624.0  \n",
       "10567734                    -unknown-  Windows Desktop      200125.0  \n",
       "10567735                    -unknown-        -unknown-       17624.0  \n",
       "10567736  user_profile_content_update  Windows Desktop        1221.0  \n",
       "\n",
       "[10567737 rows x 6 columns]"
      ]
     },
     "execution_count": 6,
     "metadata": {},
     "output_type": "execute_result"
    }
   ],
   "source": [
    "df_sessions = pd.read_csv(\"datasets/sessions.csv\", low_memory=True)\n",
    "df_sessions"
   ]
  },
  {
   "cell_type": "code",
   "execution_count": 7,
   "id": "c00ea1aa",
   "metadata": {
    "ExecuteTime": {
     "end_time": "2023-01-12T22:56:07.068228Z",
     "start_time": "2023-01-12T22:56:06.911110Z"
    },
    "hidden": true
   },
   "outputs": [
    {
     "data": {
      "text/html": [
       "<div>\n",
       "<style scoped>\n",
       "    .dataframe tbody tr th:only-of-type {\n",
       "        vertical-align: middle;\n",
       "    }\n",
       "\n",
       "    .dataframe tbody tr th {\n",
       "        vertical-align: top;\n",
       "    }\n",
       "\n",
       "    .dataframe thead th {\n",
       "        text-align: right;\n",
       "    }\n",
       "</style>\n",
       "<table border=\"1\" class=\"dataframe\">\n",
       "  <thead>\n",
       "    <tr style=\"text-align: right;\">\n",
       "      <th></th>\n",
       "      <th>id</th>\n",
       "      <th>date_account_created</th>\n",
       "      <th>timestamp_first_active</th>\n",
       "      <th>date_first_booking</th>\n",
       "      <th>gender</th>\n",
       "      <th>age</th>\n",
       "      <th>signup_method</th>\n",
       "      <th>signup_flow</th>\n",
       "      <th>language</th>\n",
       "      <th>affiliate_channel</th>\n",
       "      <th>affiliate_provider</th>\n",
       "      <th>first_affiliate_tracked</th>\n",
       "      <th>signup_app</th>\n",
       "      <th>first_device_type</th>\n",
       "      <th>first_browser</th>\n",
       "    </tr>\n",
       "  </thead>\n",
       "  <tbody>\n",
       "    <tr>\n",
       "      <th>0</th>\n",
       "      <td>5uwns89zht</td>\n",
       "      <td>2014-07-01</td>\n",
       "      <td>20140701000006</td>\n",
       "      <td>NaN</td>\n",
       "      <td>FEMALE</td>\n",
       "      <td>35.0</td>\n",
       "      <td>facebook</td>\n",
       "      <td>0</td>\n",
       "      <td>en</td>\n",
       "      <td>direct</td>\n",
       "      <td>direct</td>\n",
       "      <td>untracked</td>\n",
       "      <td>Moweb</td>\n",
       "      <td>iPhone</td>\n",
       "      <td>Mobile Safari</td>\n",
       "    </tr>\n",
       "    <tr>\n",
       "      <th>1</th>\n",
       "      <td>jtl0dijy2j</td>\n",
       "      <td>2014-07-01</td>\n",
       "      <td>20140701000051</td>\n",
       "      <td>NaN</td>\n",
       "      <td>-unknown-</td>\n",
       "      <td>NaN</td>\n",
       "      <td>basic</td>\n",
       "      <td>0</td>\n",
       "      <td>en</td>\n",
       "      <td>direct</td>\n",
       "      <td>direct</td>\n",
       "      <td>untracked</td>\n",
       "      <td>Moweb</td>\n",
       "      <td>iPhone</td>\n",
       "      <td>Mobile Safari</td>\n",
       "    </tr>\n",
       "    <tr>\n",
       "      <th>2</th>\n",
       "      <td>xx0ulgorjt</td>\n",
       "      <td>2014-07-01</td>\n",
       "      <td>20140701000148</td>\n",
       "      <td>NaN</td>\n",
       "      <td>-unknown-</td>\n",
       "      <td>NaN</td>\n",
       "      <td>basic</td>\n",
       "      <td>0</td>\n",
       "      <td>en</td>\n",
       "      <td>direct</td>\n",
       "      <td>direct</td>\n",
       "      <td>linked</td>\n",
       "      <td>Web</td>\n",
       "      <td>Windows Desktop</td>\n",
       "      <td>Chrome</td>\n",
       "    </tr>\n",
       "    <tr>\n",
       "      <th>3</th>\n",
       "      <td>6c6puo6ix0</td>\n",
       "      <td>2014-07-01</td>\n",
       "      <td>20140701000215</td>\n",
       "      <td>NaN</td>\n",
       "      <td>-unknown-</td>\n",
       "      <td>NaN</td>\n",
       "      <td>basic</td>\n",
       "      <td>0</td>\n",
       "      <td>en</td>\n",
       "      <td>direct</td>\n",
       "      <td>direct</td>\n",
       "      <td>linked</td>\n",
       "      <td>Web</td>\n",
       "      <td>Windows Desktop</td>\n",
       "      <td>IE</td>\n",
       "    </tr>\n",
       "    <tr>\n",
       "      <th>4</th>\n",
       "      <td>czqhjk3yfe</td>\n",
       "      <td>2014-07-01</td>\n",
       "      <td>20140701000305</td>\n",
       "      <td>NaN</td>\n",
       "      <td>-unknown-</td>\n",
       "      <td>NaN</td>\n",
       "      <td>basic</td>\n",
       "      <td>0</td>\n",
       "      <td>en</td>\n",
       "      <td>direct</td>\n",
       "      <td>direct</td>\n",
       "      <td>untracked</td>\n",
       "      <td>Web</td>\n",
       "      <td>Mac Desktop</td>\n",
       "      <td>Safari</td>\n",
       "    </tr>\n",
       "    <tr>\n",
       "      <th>...</th>\n",
       "      <td>...</td>\n",
       "      <td>...</td>\n",
       "      <td>...</td>\n",
       "      <td>...</td>\n",
       "      <td>...</td>\n",
       "      <td>...</td>\n",
       "      <td>...</td>\n",
       "      <td>...</td>\n",
       "      <td>...</td>\n",
       "      <td>...</td>\n",
       "      <td>...</td>\n",
       "      <td>...</td>\n",
       "      <td>...</td>\n",
       "      <td>...</td>\n",
       "      <td>...</td>\n",
       "    </tr>\n",
       "    <tr>\n",
       "      <th>62091</th>\n",
       "      <td>cv0na2lf5a</td>\n",
       "      <td>2014-09-30</td>\n",
       "      <td>20140930235232</td>\n",
       "      <td>NaN</td>\n",
       "      <td>-unknown-</td>\n",
       "      <td>31.0</td>\n",
       "      <td>basic</td>\n",
       "      <td>0</td>\n",
       "      <td>en</td>\n",
       "      <td>direct</td>\n",
       "      <td>direct</td>\n",
       "      <td>untracked</td>\n",
       "      <td>Web</td>\n",
       "      <td>Windows Desktop</td>\n",
       "      <td>IE</td>\n",
       "    </tr>\n",
       "    <tr>\n",
       "      <th>62092</th>\n",
       "      <td>zp8xfonng8</td>\n",
       "      <td>2014-09-30</td>\n",
       "      <td>20140930235306</td>\n",
       "      <td>NaN</td>\n",
       "      <td>-unknown-</td>\n",
       "      <td>NaN</td>\n",
       "      <td>basic</td>\n",
       "      <td>23</td>\n",
       "      <td>ko</td>\n",
       "      <td>direct</td>\n",
       "      <td>direct</td>\n",
       "      <td>untracked</td>\n",
       "      <td>Android</td>\n",
       "      <td>Android Phone</td>\n",
       "      <td>-unknown-</td>\n",
       "    </tr>\n",
       "    <tr>\n",
       "      <th>62093</th>\n",
       "      <td>fa6260ziny</td>\n",
       "      <td>2014-09-30</td>\n",
       "      <td>20140930235408</td>\n",
       "      <td>NaN</td>\n",
       "      <td>-unknown-</td>\n",
       "      <td>NaN</td>\n",
       "      <td>basic</td>\n",
       "      <td>0</td>\n",
       "      <td>de</td>\n",
       "      <td>direct</td>\n",
       "      <td>direct</td>\n",
       "      <td>linked</td>\n",
       "      <td>Web</td>\n",
       "      <td>Windows Desktop</td>\n",
       "      <td>Firefox</td>\n",
       "    </tr>\n",
       "    <tr>\n",
       "      <th>62094</th>\n",
       "      <td>87k0fy4ugm</td>\n",
       "      <td>2014-09-30</td>\n",
       "      <td>20140930235430</td>\n",
       "      <td>NaN</td>\n",
       "      <td>-unknown-</td>\n",
       "      <td>NaN</td>\n",
       "      <td>basic</td>\n",
       "      <td>0</td>\n",
       "      <td>en</td>\n",
       "      <td>sem-brand</td>\n",
       "      <td>google</td>\n",
       "      <td>omg</td>\n",
       "      <td>Web</td>\n",
       "      <td>Mac Desktop</td>\n",
       "      <td>Safari</td>\n",
       "    </tr>\n",
       "    <tr>\n",
       "      <th>62095</th>\n",
       "      <td>9uqfg8txu3</td>\n",
       "      <td>2014-09-30</td>\n",
       "      <td>20140930235901</td>\n",
       "      <td>NaN</td>\n",
       "      <td>FEMALE</td>\n",
       "      <td>49.0</td>\n",
       "      <td>basic</td>\n",
       "      <td>0</td>\n",
       "      <td>en</td>\n",
       "      <td>other</td>\n",
       "      <td>other</td>\n",
       "      <td>tracked-other</td>\n",
       "      <td>Web</td>\n",
       "      <td>Windows Desktop</td>\n",
       "      <td>Chrome</td>\n",
       "    </tr>\n",
       "  </tbody>\n",
       "</table>\n",
       "<p>62096 rows × 15 columns</p>\n",
       "</div>"
      ],
      "text/plain": [
       "               id date_account_created  timestamp_first_active  \\\n",
       "0      5uwns89zht           2014-07-01          20140701000006   \n",
       "1      jtl0dijy2j           2014-07-01          20140701000051   \n",
       "2      xx0ulgorjt           2014-07-01          20140701000148   \n",
       "3      6c6puo6ix0           2014-07-01          20140701000215   \n",
       "4      czqhjk3yfe           2014-07-01          20140701000305   \n",
       "...           ...                  ...                     ...   \n",
       "62091  cv0na2lf5a           2014-09-30          20140930235232   \n",
       "62092  zp8xfonng8           2014-09-30          20140930235306   \n",
       "62093  fa6260ziny           2014-09-30          20140930235408   \n",
       "62094  87k0fy4ugm           2014-09-30          20140930235430   \n",
       "62095  9uqfg8txu3           2014-09-30          20140930235901   \n",
       "\n",
       "       date_first_booking     gender   age signup_method  signup_flow  \\\n",
       "0                     NaN     FEMALE  35.0      facebook            0   \n",
       "1                     NaN  -unknown-   NaN         basic            0   \n",
       "2                     NaN  -unknown-   NaN         basic            0   \n",
       "3                     NaN  -unknown-   NaN         basic            0   \n",
       "4                     NaN  -unknown-   NaN         basic            0   \n",
       "...                   ...        ...   ...           ...          ...   \n",
       "62091                 NaN  -unknown-  31.0         basic            0   \n",
       "62092                 NaN  -unknown-   NaN         basic           23   \n",
       "62093                 NaN  -unknown-   NaN         basic            0   \n",
       "62094                 NaN  -unknown-   NaN         basic            0   \n",
       "62095                 NaN     FEMALE  49.0         basic            0   \n",
       "\n",
       "      language affiliate_channel affiliate_provider first_affiliate_tracked  \\\n",
       "0           en            direct             direct               untracked   \n",
       "1           en            direct             direct               untracked   \n",
       "2           en            direct             direct                  linked   \n",
       "3           en            direct             direct                  linked   \n",
       "4           en            direct             direct               untracked   \n",
       "...        ...               ...                ...                     ...   \n",
       "62091       en            direct             direct               untracked   \n",
       "62092       ko            direct             direct               untracked   \n",
       "62093       de            direct             direct                  linked   \n",
       "62094       en         sem-brand             google                     omg   \n",
       "62095       en             other              other           tracked-other   \n",
       "\n",
       "      signup_app first_device_type  first_browser  \n",
       "0          Moweb            iPhone  Mobile Safari  \n",
       "1          Moweb            iPhone  Mobile Safari  \n",
       "2            Web   Windows Desktop         Chrome  \n",
       "3            Web   Windows Desktop             IE  \n",
       "4            Web       Mac Desktop         Safari  \n",
       "...          ...               ...            ...  \n",
       "62091        Web   Windows Desktop             IE  \n",
       "62092    Android     Android Phone      -unknown-  \n",
       "62093        Web   Windows Desktop        Firefox  \n",
       "62094        Web       Mac Desktop         Safari  \n",
       "62095        Web   Windows Desktop         Chrome  \n",
       "\n",
       "[62096 rows x 15 columns]"
      ]
     },
     "execution_count": 7,
     "metadata": {},
     "output_type": "execute_result"
    }
   ],
   "source": [
    "data_raw_test_users = pd.read_csv(\"datasets/test_users.csv\", low_memory=False)\n",
    "data_raw_test_users"
   ]
  },
  {
   "cell_type": "code",
   "execution_count": 8,
   "id": "0978dae5",
   "metadata": {
    "ExecuteTime": {
     "end_time": "2023-01-12T22:56:07.608205Z",
     "start_time": "2023-01-12T22:56:07.070300Z"
    },
    "hidden": true
   },
   "outputs": [
    {
     "data": {
      "text/html": [
       "<div>\n",
       "<style scoped>\n",
       "    .dataframe tbody tr th:only-of-type {\n",
       "        vertical-align: middle;\n",
       "    }\n",
       "\n",
       "    .dataframe tbody tr th {\n",
       "        vertical-align: top;\n",
       "    }\n",
       "\n",
       "    .dataframe thead th {\n",
       "        text-align: right;\n",
       "    }\n",
       "</style>\n",
       "<table border=\"1\" class=\"dataframe\">\n",
       "  <thead>\n",
       "    <tr style=\"text-align: right;\">\n",
       "      <th></th>\n",
       "      <th>id</th>\n",
       "      <th>date_account_created</th>\n",
       "      <th>timestamp_first_active</th>\n",
       "      <th>date_first_booking</th>\n",
       "      <th>gender</th>\n",
       "      <th>age</th>\n",
       "      <th>signup_method</th>\n",
       "      <th>signup_flow</th>\n",
       "      <th>language</th>\n",
       "      <th>affiliate_channel</th>\n",
       "      <th>affiliate_provider</th>\n",
       "      <th>first_affiliate_tracked</th>\n",
       "      <th>signup_app</th>\n",
       "      <th>first_device_type</th>\n",
       "      <th>first_browser</th>\n",
       "      <th>country_destination</th>\n",
       "    </tr>\n",
       "  </thead>\n",
       "  <tbody>\n",
       "    <tr>\n",
       "      <th>0</th>\n",
       "      <td>gxn3p5htnn</td>\n",
       "      <td>2010-06-28</td>\n",
       "      <td>20090319043255</td>\n",
       "      <td>NaN</td>\n",
       "      <td>-unknown-</td>\n",
       "      <td>NaN</td>\n",
       "      <td>facebook</td>\n",
       "      <td>0</td>\n",
       "      <td>en</td>\n",
       "      <td>direct</td>\n",
       "      <td>direct</td>\n",
       "      <td>untracked</td>\n",
       "      <td>Web</td>\n",
       "      <td>Mac Desktop</td>\n",
       "      <td>Chrome</td>\n",
       "      <td>NDF</td>\n",
       "    </tr>\n",
       "    <tr>\n",
       "      <th>1</th>\n",
       "      <td>820tgsjxq7</td>\n",
       "      <td>2011-05-25</td>\n",
       "      <td>20090523174809</td>\n",
       "      <td>NaN</td>\n",
       "      <td>MALE</td>\n",
       "      <td>38.0</td>\n",
       "      <td>facebook</td>\n",
       "      <td>0</td>\n",
       "      <td>en</td>\n",
       "      <td>seo</td>\n",
       "      <td>google</td>\n",
       "      <td>untracked</td>\n",
       "      <td>Web</td>\n",
       "      <td>Mac Desktop</td>\n",
       "      <td>Chrome</td>\n",
       "      <td>NDF</td>\n",
       "    </tr>\n",
       "    <tr>\n",
       "      <th>2</th>\n",
       "      <td>4ft3gnwmtx</td>\n",
       "      <td>2010-09-28</td>\n",
       "      <td>20090609231247</td>\n",
       "      <td>2010-08-02</td>\n",
       "      <td>FEMALE</td>\n",
       "      <td>56.0</td>\n",
       "      <td>basic</td>\n",
       "      <td>3</td>\n",
       "      <td>en</td>\n",
       "      <td>direct</td>\n",
       "      <td>direct</td>\n",
       "      <td>untracked</td>\n",
       "      <td>Web</td>\n",
       "      <td>Windows Desktop</td>\n",
       "      <td>IE</td>\n",
       "      <td>US</td>\n",
       "    </tr>\n",
       "    <tr>\n",
       "      <th>3</th>\n",
       "      <td>bjjt8pjhuk</td>\n",
       "      <td>2011-12-05</td>\n",
       "      <td>20091031060129</td>\n",
       "      <td>2012-09-08</td>\n",
       "      <td>FEMALE</td>\n",
       "      <td>42.0</td>\n",
       "      <td>facebook</td>\n",
       "      <td>0</td>\n",
       "      <td>en</td>\n",
       "      <td>direct</td>\n",
       "      <td>direct</td>\n",
       "      <td>untracked</td>\n",
       "      <td>Web</td>\n",
       "      <td>Mac Desktop</td>\n",
       "      <td>Firefox</td>\n",
       "      <td>other</td>\n",
       "    </tr>\n",
       "    <tr>\n",
       "      <th>4</th>\n",
       "      <td>87mebub9p4</td>\n",
       "      <td>2010-09-14</td>\n",
       "      <td>20091208061105</td>\n",
       "      <td>2010-02-18</td>\n",
       "      <td>-unknown-</td>\n",
       "      <td>41.0</td>\n",
       "      <td>basic</td>\n",
       "      <td>0</td>\n",
       "      <td>en</td>\n",
       "      <td>direct</td>\n",
       "      <td>direct</td>\n",
       "      <td>untracked</td>\n",
       "      <td>Web</td>\n",
       "      <td>Mac Desktop</td>\n",
       "      <td>Chrome</td>\n",
       "      <td>US</td>\n",
       "    </tr>\n",
       "    <tr>\n",
       "      <th>...</th>\n",
       "      <td>...</td>\n",
       "      <td>...</td>\n",
       "      <td>...</td>\n",
       "      <td>...</td>\n",
       "      <td>...</td>\n",
       "      <td>...</td>\n",
       "      <td>...</td>\n",
       "      <td>...</td>\n",
       "      <td>...</td>\n",
       "      <td>...</td>\n",
       "      <td>...</td>\n",
       "      <td>...</td>\n",
       "      <td>...</td>\n",
       "      <td>...</td>\n",
       "      <td>...</td>\n",
       "      <td>...</td>\n",
       "    </tr>\n",
       "    <tr>\n",
       "      <th>213446</th>\n",
       "      <td>zxodksqpep</td>\n",
       "      <td>2014-06-30</td>\n",
       "      <td>20140630235636</td>\n",
       "      <td>NaN</td>\n",
       "      <td>MALE</td>\n",
       "      <td>32.0</td>\n",
       "      <td>basic</td>\n",
       "      <td>0</td>\n",
       "      <td>en</td>\n",
       "      <td>sem-brand</td>\n",
       "      <td>google</td>\n",
       "      <td>omg</td>\n",
       "      <td>Web</td>\n",
       "      <td>Mac Desktop</td>\n",
       "      <td>Safari</td>\n",
       "      <td>NDF</td>\n",
       "    </tr>\n",
       "    <tr>\n",
       "      <th>213447</th>\n",
       "      <td>mhewnxesx9</td>\n",
       "      <td>2014-06-30</td>\n",
       "      <td>20140630235719</td>\n",
       "      <td>NaN</td>\n",
       "      <td>-unknown-</td>\n",
       "      <td>NaN</td>\n",
       "      <td>basic</td>\n",
       "      <td>0</td>\n",
       "      <td>en</td>\n",
       "      <td>direct</td>\n",
       "      <td>direct</td>\n",
       "      <td>linked</td>\n",
       "      <td>Web</td>\n",
       "      <td>Windows Desktop</td>\n",
       "      <td>Chrome</td>\n",
       "      <td>NDF</td>\n",
       "    </tr>\n",
       "    <tr>\n",
       "      <th>213448</th>\n",
       "      <td>6o3arsjbb4</td>\n",
       "      <td>2014-06-30</td>\n",
       "      <td>20140630235754</td>\n",
       "      <td>NaN</td>\n",
       "      <td>-unknown-</td>\n",
       "      <td>32.0</td>\n",
       "      <td>basic</td>\n",
       "      <td>0</td>\n",
       "      <td>en</td>\n",
       "      <td>direct</td>\n",
       "      <td>direct</td>\n",
       "      <td>untracked</td>\n",
       "      <td>Web</td>\n",
       "      <td>Mac Desktop</td>\n",
       "      <td>Firefox</td>\n",
       "      <td>NDF</td>\n",
       "    </tr>\n",
       "    <tr>\n",
       "      <th>213449</th>\n",
       "      <td>jh95kwisub</td>\n",
       "      <td>2014-06-30</td>\n",
       "      <td>20140630235822</td>\n",
       "      <td>NaN</td>\n",
       "      <td>-unknown-</td>\n",
       "      <td>NaN</td>\n",
       "      <td>basic</td>\n",
       "      <td>25</td>\n",
       "      <td>en</td>\n",
       "      <td>other</td>\n",
       "      <td>other</td>\n",
       "      <td>tracked-other</td>\n",
       "      <td>iOS</td>\n",
       "      <td>iPhone</td>\n",
       "      <td>Mobile Safari</td>\n",
       "      <td>NDF</td>\n",
       "    </tr>\n",
       "    <tr>\n",
       "      <th>213450</th>\n",
       "      <td>nw9fwlyb5f</td>\n",
       "      <td>2014-06-30</td>\n",
       "      <td>20140630235824</td>\n",
       "      <td>NaN</td>\n",
       "      <td>-unknown-</td>\n",
       "      <td>NaN</td>\n",
       "      <td>basic</td>\n",
       "      <td>25</td>\n",
       "      <td>en</td>\n",
       "      <td>direct</td>\n",
       "      <td>direct</td>\n",
       "      <td>untracked</td>\n",
       "      <td>iOS</td>\n",
       "      <td>iPhone</td>\n",
       "      <td>-unknown-</td>\n",
       "      <td>NDF</td>\n",
       "    </tr>\n",
       "  </tbody>\n",
       "</table>\n",
       "<p>213451 rows × 16 columns</p>\n",
       "</div>"
      ],
      "text/plain": [
       "                id date_account_created  timestamp_first_active  \\\n",
       "0       gxn3p5htnn           2010-06-28          20090319043255   \n",
       "1       820tgsjxq7           2011-05-25          20090523174809   \n",
       "2       4ft3gnwmtx           2010-09-28          20090609231247   \n",
       "3       bjjt8pjhuk           2011-12-05          20091031060129   \n",
       "4       87mebub9p4           2010-09-14          20091208061105   \n",
       "...            ...                  ...                     ...   \n",
       "213446  zxodksqpep           2014-06-30          20140630235636   \n",
       "213447  mhewnxesx9           2014-06-30          20140630235719   \n",
       "213448  6o3arsjbb4           2014-06-30          20140630235754   \n",
       "213449  jh95kwisub           2014-06-30          20140630235822   \n",
       "213450  nw9fwlyb5f           2014-06-30          20140630235824   \n",
       "\n",
       "       date_first_booking     gender   age signup_method  signup_flow  \\\n",
       "0                     NaN  -unknown-   NaN      facebook            0   \n",
       "1                     NaN       MALE  38.0      facebook            0   \n",
       "2              2010-08-02     FEMALE  56.0         basic            3   \n",
       "3              2012-09-08     FEMALE  42.0      facebook            0   \n",
       "4              2010-02-18  -unknown-  41.0         basic            0   \n",
       "...                   ...        ...   ...           ...          ...   \n",
       "213446                NaN       MALE  32.0         basic            0   \n",
       "213447                NaN  -unknown-   NaN         basic            0   \n",
       "213448                NaN  -unknown-  32.0         basic            0   \n",
       "213449                NaN  -unknown-   NaN         basic           25   \n",
       "213450                NaN  -unknown-   NaN         basic           25   \n",
       "\n",
       "       language affiliate_channel affiliate_provider first_affiliate_tracked  \\\n",
       "0            en            direct             direct               untracked   \n",
       "1            en               seo             google               untracked   \n",
       "2            en            direct             direct               untracked   \n",
       "3            en            direct             direct               untracked   \n",
       "4            en            direct             direct               untracked   \n",
       "...         ...               ...                ...                     ...   \n",
       "213446       en         sem-brand             google                     omg   \n",
       "213447       en            direct             direct                  linked   \n",
       "213448       en            direct             direct               untracked   \n",
       "213449       en             other              other           tracked-other   \n",
       "213450       en            direct             direct               untracked   \n",
       "\n",
       "       signup_app first_device_type  first_browser country_destination  \n",
       "0             Web       Mac Desktop         Chrome                 NDF  \n",
       "1             Web       Mac Desktop         Chrome                 NDF  \n",
       "2             Web   Windows Desktop             IE                  US  \n",
       "3             Web       Mac Desktop        Firefox               other  \n",
       "4             Web       Mac Desktop         Chrome                  US  \n",
       "...           ...               ...            ...                 ...  \n",
       "213446        Web       Mac Desktop         Safari                 NDF  \n",
       "213447        Web   Windows Desktop         Chrome                 NDF  \n",
       "213448        Web       Mac Desktop        Firefox                 NDF  \n",
       "213449        iOS            iPhone  Mobile Safari                 NDF  \n",
       "213450        iOS            iPhone      -unknown-                 NDF  \n",
       "\n",
       "[213451 rows x 16 columns]"
      ]
     },
     "execution_count": 8,
     "metadata": {},
     "output_type": "execute_result"
    }
   ],
   "source": [
    "data_raw_train_users = pd.read_csv(\"datasets/train_users_2.csv\", low_memory=False)\n",
    "data_raw_train_users"
   ]
  },
  {
   "cell_type": "markdown",
   "id": "eada18dd",
   "metadata": {
    "hidden": true
   },
   "source": [
    "#### Could we merge sesions with train_users?"
   ]
  },
  {
   "cell_type": "markdown",
   "id": "466494ac",
   "metadata": {
    "hidden": true
   },
   "source": [
    "Sessions and train_users are our main tables. We are going to use both of them in this project. Yet, we cannot merge these tables now because they have different granularity: \n",
    "\n",
    "**(1)** train_user is user-level (informations are: one user per row). \n",
    "\n",
    "**(2)** sessions is secs_elapsed-level (informations are related to action, action_type, action_detail, device_type and secs_elapse - and this one is the highest level).\n",
    "\n",
    "To merge the two tables, we need to encoding the columns from sessions. "
   ]
  },
  {
   "cell_type": "code",
   "execution_count": 9,
   "id": "5147d748",
   "metadata": {
    "ExecuteTime": {
     "end_time": "2023-01-12T22:56:07.637992Z",
     "start_time": "2023-01-12T22:56:07.610468Z"
    },
    "hidden": true
   },
   "outputs": [
    {
     "data": {
      "text/html": [
       "<div>\n",
       "<style scoped>\n",
       "    .dataframe tbody tr th:only-of-type {\n",
       "        vertical-align: middle;\n",
       "    }\n",
       "\n",
       "    .dataframe tbody tr th {\n",
       "        vertical-align: top;\n",
       "    }\n",
       "\n",
       "    .dataframe thead th {\n",
       "        text-align: right;\n",
       "    }\n",
       "</style>\n",
       "<table border=\"1\" class=\"dataframe\">\n",
       "  <thead>\n",
       "    <tr style=\"text-align: right;\">\n",
       "      <th></th>\n",
       "      <th>id</th>\n",
       "      <th>date_account_created</th>\n",
       "      <th>timestamp_first_active</th>\n",
       "      <th>date_first_booking</th>\n",
       "      <th>gender</th>\n",
       "      <th>age</th>\n",
       "      <th>signup_method</th>\n",
       "      <th>signup_flow</th>\n",
       "      <th>language</th>\n",
       "      <th>affiliate_channel</th>\n",
       "      <th>affiliate_provider</th>\n",
       "      <th>first_affiliate_tracked</th>\n",
       "      <th>signup_app</th>\n",
       "      <th>first_device_type</th>\n",
       "      <th>first_browser</th>\n",
       "      <th>country_destination</th>\n",
       "    </tr>\n",
       "  </thead>\n",
       "  <tbody>\n",
       "    <tr>\n",
       "      <th>213450</th>\n",
       "      <td>nw9fwlyb5f</td>\n",
       "      <td>2014-06-30</td>\n",
       "      <td>20140630235824</td>\n",
       "      <td>NaN</td>\n",
       "      <td>-unknown-</td>\n",
       "      <td>NaN</td>\n",
       "      <td>basic</td>\n",
       "      <td>25</td>\n",
       "      <td>en</td>\n",
       "      <td>direct</td>\n",
       "      <td>direct</td>\n",
       "      <td>untracked</td>\n",
       "      <td>iOS</td>\n",
       "      <td>iPhone</td>\n",
       "      <td>-unknown-</td>\n",
       "      <td>NDF</td>\n",
       "    </tr>\n",
       "  </tbody>\n",
       "</table>\n",
       "</div>"
      ],
      "text/plain": [
       "                id date_account_created  timestamp_first_active  \\\n",
       "213450  nw9fwlyb5f           2014-06-30          20140630235824   \n",
       "\n",
       "       date_first_booking     gender  age signup_method  signup_flow language  \\\n",
       "213450                NaN  -unknown-  NaN         basic           25       en   \n",
       "\n",
       "       affiliate_channel affiliate_provider first_affiliate_tracked  \\\n",
       "213450            direct             direct               untracked   \n",
       "\n",
       "       signup_app first_device_type first_browser country_destination  \n",
       "213450        iOS            iPhone     -unknown-                 NDF  "
      ]
     },
     "execution_count": 9,
     "metadata": {},
     "output_type": "execute_result"
    }
   ],
   "source": [
    "# train user\n",
    "data_raw_train_users[data_raw_train_users[\"id\"] == \"nw9fwlyb5f\"]"
   ]
  },
  {
   "cell_type": "code",
   "execution_count": 10,
   "id": "bf1d0f64",
   "metadata": {
    "ExecuteTime": {
     "end_time": "2023-01-12T22:56:08.208018Z",
     "start_time": "2023-01-12T22:56:07.643611Z"
    },
    "hidden": true
   },
   "outputs": [
    {
     "data": {
      "text/html": [
       "<div>\n",
       "<style scoped>\n",
       "    .dataframe tbody tr th:only-of-type {\n",
       "        vertical-align: middle;\n",
       "    }\n",
       "\n",
       "    .dataframe tbody tr th {\n",
       "        vertical-align: top;\n",
       "    }\n",
       "\n",
       "    .dataframe thead th {\n",
       "        text-align: right;\n",
       "    }\n",
       "</style>\n",
       "<table border=\"1\" class=\"dataframe\">\n",
       "  <thead>\n",
       "    <tr style=\"text-align: right;\">\n",
       "      <th></th>\n",
       "      <th>user_id</th>\n",
       "      <th>action</th>\n",
       "      <th>action_type</th>\n",
       "      <th>action_detail</th>\n",
       "      <th>device_type</th>\n",
       "      <th>secs_elapsed</th>\n",
       "    </tr>\n",
       "  </thead>\n",
       "  <tbody>\n",
       "    <tr>\n",
       "      <th>5555239</th>\n",
       "      <td>nw9fwlyb5f</td>\n",
       "      <td>show</td>\n",
       "      <td>view</td>\n",
       "      <td>user_profile</td>\n",
       "      <td>iPhone</td>\n",
       "      <td>9310.0</td>\n",
       "    </tr>\n",
       "    <tr>\n",
       "      <th>5555240</th>\n",
       "      <td>nw9fwlyb5f</td>\n",
       "      <td>show</td>\n",
       "      <td>view</td>\n",
       "      <td>p3</td>\n",
       "      <td>iPhone</td>\n",
       "      <td>33.0</td>\n",
       "    </tr>\n",
       "    <tr>\n",
       "      <th>5555241</th>\n",
       "      <td>nw9fwlyb5f</td>\n",
       "      <td>reviews</td>\n",
       "      <td>data</td>\n",
       "      <td>listing_reviews</td>\n",
       "      <td>iPhone</td>\n",
       "      <td>8.0</td>\n",
       "    </tr>\n",
       "    <tr>\n",
       "      <th>5555242</th>\n",
       "      <td>nw9fwlyb5f</td>\n",
       "      <td>campaigns</td>\n",
       "      <td>NaN</td>\n",
       "      <td>NaN</td>\n",
       "      <td>iPhone</td>\n",
       "      <td>41983.0</td>\n",
       "    </tr>\n",
       "    <tr>\n",
       "      <th>5555243</th>\n",
       "      <td>nw9fwlyb5f</td>\n",
       "      <td>click</td>\n",
       "      <td>click</td>\n",
       "      <td>book_it</td>\n",
       "      <td>iPhone</td>\n",
       "      <td>58491.0</td>\n",
       "    </tr>\n",
       "  </tbody>\n",
       "</table>\n",
       "</div>"
      ],
      "text/plain": [
       "            user_id     action action_type    action_detail device_type  \\\n",
       "5555239  nw9fwlyb5f       show        view     user_profile      iPhone   \n",
       "5555240  nw9fwlyb5f       show        view               p3      iPhone   \n",
       "5555241  nw9fwlyb5f    reviews        data  listing_reviews      iPhone   \n",
       "5555242  nw9fwlyb5f  campaigns         NaN              NaN      iPhone   \n",
       "5555243  nw9fwlyb5f      click       click          book_it      iPhone   \n",
       "\n",
       "         secs_elapsed  \n",
       "5555239        9310.0  \n",
       "5555240          33.0  \n",
       "5555241           8.0  \n",
       "5555242       41983.0  \n",
       "5555243       58491.0  "
      ]
     },
     "execution_count": 10,
     "metadata": {},
     "output_type": "execute_result"
    }
   ],
   "source": [
    "# sessions\n",
    "df_sessions[df_sessions[\"user_id\"] == \"nw9fwlyb5f\"].head()"
   ]
  },
  {
   "cell_type": "code",
   "execution_count": 11,
   "id": "a9d802d3",
   "metadata": {
    "ExecuteTime": {
     "end_time": "2023-01-12T22:56:09.185280Z",
     "start_time": "2023-01-12T22:56:08.210770Z"
    },
    "hidden": true
   },
   "outputs": [
    {
     "data": {
      "text/html": [
       "<div>\n",
       "<style scoped>\n",
       "    .dataframe tbody tr th:only-of-type {\n",
       "        vertical-align: middle;\n",
       "    }\n",
       "\n",
       "    .dataframe tbody tr th {\n",
       "        vertical-align: top;\n",
       "    }\n",
       "\n",
       "    .dataframe thead th {\n",
       "        text-align: right;\n",
       "    }\n",
       "</style>\n",
       "<table border=\"1\" class=\"dataframe\">\n",
       "  <thead>\n",
       "    <tr style=\"text-align: right;\">\n",
       "      <th></th>\n",
       "      <th>user_id</th>\n",
       "      <th>action</th>\n",
       "      <th>action_type</th>\n",
       "      <th>action_detail</th>\n",
       "      <th>device_type</th>\n",
       "      <th>secs_elapsed</th>\n",
       "    </tr>\n",
       "  </thead>\n",
       "  <tbody>\n",
       "    <tr>\n",
       "      <th>5555241</th>\n",
       "      <td>nw9fwlyb5f</td>\n",
       "      <td>reviews</td>\n",
       "      <td>data</td>\n",
       "      <td>listing_reviews</td>\n",
       "      <td>iPhone</td>\n",
       "      <td>8.0</td>\n",
       "    </tr>\n",
       "    <tr>\n",
       "      <th>5555269</th>\n",
       "      <td>nw9fwlyb5f</td>\n",
       "      <td>reviews</td>\n",
       "      <td>data</td>\n",
       "      <td>listing_reviews</td>\n",
       "      <td>iPhone</td>\n",
       "      <td>11.0</td>\n",
       "    </tr>\n",
       "  </tbody>\n",
       "</table>\n",
       "</div>"
      ],
      "text/plain": [
       "            user_id   action action_type    action_detail device_type  \\\n",
       "5555241  nw9fwlyb5f  reviews        data  listing_reviews      iPhone   \n",
       "5555269  nw9fwlyb5f  reviews        data  listing_reviews      iPhone   \n",
       "\n",
       "         secs_elapsed  \n",
       "5555241           8.0  \n",
       "5555269          11.0  "
      ]
     },
     "execution_count": 11,
     "metadata": {},
     "output_type": "execute_result"
    }
   ],
   "source": [
    "# sessions\n",
    "df_sessions[(df_sessions[\"user_id\"] == \"nw9fwlyb5f\") & (df_sessions[\"action\"] == \"reviews\")].head()"
   ]
  },
  {
   "cell_type": "markdown",
   "id": "9b851421",
   "metadata": {
    "heading_collapsed": true
   },
   "source": [
    "# 1. Data Description"
   ]
  },
  {
   "cell_type": "code",
   "execution_count": 12,
   "id": "3fccdea6",
   "metadata": {
    "ExecuteTime": {
     "end_time": "2023-01-12T22:56:09.204956Z",
     "start_time": "2023-01-12T22:56:09.187197Z"
    },
    "hidden": true
   },
   "outputs": [],
   "source": [
    "df1 = data_raw_train_users.copy()"
   ]
  },
  {
   "cell_type": "markdown",
   "id": "d16ed5bf",
   "metadata": {
    "hidden": true
   },
   "source": [
    "### Data fields meaning"
   ]
  },
  {
   "cell_type": "markdown",
   "id": "159fcc09",
   "metadata": {
    "hidden": true
   },
   "source": [
    "- id: user id.\n",
    "\n",
    "- date_account_created: the date of account creation.\n",
    "\n",
    "- timestamp_first_active: timestamp of the first activity, note that it can be earlier than date_account_created or - date_first_booking because a user can search before signing up.\n",
    "\n",
    "- date_first_booking: date of first booking.\n",
    "\n",
    "- gender.\n",
    "\n",
    "- age.\n",
    "\n",
    "- signup_method.\n",
    "\n",
    "- signup_flow: the page a user came to signup up from.\n",
    "\n",
    "- language: international language preference.\n",
    "\n",
    "- affiliate_channel: what kind of paid marketing.\n",
    "\n",
    "- affiliate_provider: where the marketing is e.g. google, craigslist, other.\n",
    "\n",
    "- first_affiliate_tracked: whats the first marketing the user interacted with before the signing up.\n",
    "\n",
    "- signup_app.\n",
    "\n",
    "- first_device_type.\n",
    "\n",
    "- first_browser.\n",
    "\n",
    "- country_destination: this is the target variable you are to predict."
   ]
  },
  {
   "cell_type": "markdown",
   "id": "707df221",
   "metadata": {
    "hidden": true
   },
   "source": [
    "## 1.1. Data Dimensions"
   ]
  },
  {
   "cell_type": "code",
   "execution_count": 13,
   "id": "74b2960e",
   "metadata": {
    "ExecuteTime": {
     "end_time": "2023-01-12T22:56:09.210355Z",
     "start_time": "2023-01-12T22:56:09.207098Z"
    },
    "hidden": true
   },
   "outputs": [
    {
     "name": "stdout",
     "output_type": "stream",
     "text": [
      "Number of rows: 213451\n",
      "Number of cols: 16\n"
     ]
    }
   ],
   "source": [
    "print(\"Number of rows: {}\".format(df1.shape[0]))\n",
    "print(\"Number of cols: {}\".format(df1.shape[1]))"
   ]
  },
  {
   "cell_type": "code",
   "execution_count": 14,
   "id": "465b6fe6",
   "metadata": {
    "ExecuteTime": {
     "end_time": "2023-01-12T22:56:09.214942Z",
     "start_time": "2023-01-12T22:56:09.211951Z"
    },
    "hidden": true
   },
   "outputs": [
    {
     "name": "stdout",
     "output_type": "stream",
     "text": [
      "Number of rows: 10567737\n",
      "Number of cols: 6\n"
     ]
    }
   ],
   "source": [
    "print(\"Number of rows: {}\".format(df_sessions.shape[0]))\n",
    "print(\"Number of cols: {}\".format(df_sessions.shape[1]))"
   ]
  },
  {
   "cell_type": "markdown",
   "id": "5e38079d",
   "metadata": {
    "hidden": true
   },
   "source": [
    "## 1.2. Data Types"
   ]
  },
  {
   "cell_type": "code",
   "execution_count": 15,
   "id": "3bdfdff2",
   "metadata": {
    "ExecuteTime": {
     "end_time": "2023-01-12T22:56:09.221589Z",
     "start_time": "2023-01-12T22:56:09.216838Z"
    },
    "hidden": true
   },
   "outputs": [
    {
     "data": {
      "text/plain": [
       "id                          object\n",
       "date_account_created        object\n",
       "timestamp_first_active       int64\n",
       "date_first_booking          object\n",
       "gender                      object\n",
       "age                        float64\n",
       "signup_method               object\n",
       "signup_flow                  int64\n",
       "language                    object\n",
       "affiliate_channel           object\n",
       "affiliate_provider          object\n",
       "first_affiliate_tracked     object\n",
       "signup_app                  object\n",
       "first_device_type           object\n",
       "first_browser               object\n",
       "country_destination         object\n",
       "dtype: object"
      ]
     },
     "execution_count": 15,
     "metadata": {},
     "output_type": "execute_result"
    }
   ],
   "source": [
    "df1.dtypes"
   ]
  },
  {
   "cell_type": "code",
   "execution_count": 16,
   "id": "f417780a",
   "metadata": {
    "ExecuteTime": {
     "end_time": "2023-01-12T22:56:09.239727Z",
     "start_time": "2023-01-12T22:56:09.223539Z"
    },
    "hidden": true
   },
   "outputs": [
    {
     "data": {
      "text/html": [
       "<div>\n",
       "<style scoped>\n",
       "    .dataframe tbody tr th:only-of-type {\n",
       "        vertical-align: middle;\n",
       "    }\n",
       "\n",
       "    .dataframe tbody tr th {\n",
       "        vertical-align: top;\n",
       "    }\n",
       "\n",
       "    .dataframe thead th {\n",
       "        text-align: right;\n",
       "    }\n",
       "</style>\n",
       "<table border=\"1\" class=\"dataframe\">\n",
       "  <thead>\n",
       "    <tr style=\"text-align: right;\">\n",
       "      <th></th>\n",
       "      <th>id</th>\n",
       "      <th>date_account_created</th>\n",
       "      <th>timestamp_first_active</th>\n",
       "      <th>date_first_booking</th>\n",
       "      <th>gender</th>\n",
       "      <th>age</th>\n",
       "      <th>signup_method</th>\n",
       "      <th>signup_flow</th>\n",
       "      <th>language</th>\n",
       "      <th>affiliate_channel</th>\n",
       "      <th>affiliate_provider</th>\n",
       "      <th>first_affiliate_tracked</th>\n",
       "      <th>signup_app</th>\n",
       "      <th>first_device_type</th>\n",
       "      <th>first_browser</th>\n",
       "      <th>country_destination</th>\n",
       "    </tr>\n",
       "  </thead>\n",
       "  <tbody>\n",
       "    <tr>\n",
       "      <th>81068</th>\n",
       "      <td>4y13jw11wf</td>\n",
       "      <td>2013-06-02</td>\n",
       "      <td>20130602055418</td>\n",
       "      <td>2013-06-04</td>\n",
       "      <td>FEMALE</td>\n",
       "      <td>52.0</td>\n",
       "      <td>facebook</td>\n",
       "      <td>0</td>\n",
       "      <td>en</td>\n",
       "      <td>direct</td>\n",
       "      <td>direct</td>\n",
       "      <td>untracked</td>\n",
       "      <td>Web</td>\n",
       "      <td>Mac Desktop</td>\n",
       "      <td>Safari</td>\n",
       "      <td>US</td>\n",
       "    </tr>\n",
       "    <tr>\n",
       "      <th>50043</th>\n",
       "      <td>jvjkhof19c</td>\n",
       "      <td>2012-11-27</td>\n",
       "      <td>20121127185928</td>\n",
       "      <td>NaN</td>\n",
       "      <td>FEMALE</td>\n",
       "      <td>37.0</td>\n",
       "      <td>basic</td>\n",
       "      <td>0</td>\n",
       "      <td>en</td>\n",
       "      <td>direct</td>\n",
       "      <td>direct</td>\n",
       "      <td>untracked</td>\n",
       "      <td>Web</td>\n",
       "      <td>Mac Desktop</td>\n",
       "      <td>Firefox</td>\n",
       "      <td>NDF</td>\n",
       "    </tr>\n",
       "    <tr>\n",
       "      <th>191691</th>\n",
       "      <td>pz35maiiyv</td>\n",
       "      <td>2014-05-19</td>\n",
       "      <td>20140519191354</td>\n",
       "      <td>NaN</td>\n",
       "      <td>-unknown-</td>\n",
       "      <td>NaN</td>\n",
       "      <td>basic</td>\n",
       "      <td>0</td>\n",
       "      <td>en</td>\n",
       "      <td>direct</td>\n",
       "      <td>direct</td>\n",
       "      <td>untracked</td>\n",
       "      <td>Web</td>\n",
       "      <td>Mac Desktop</td>\n",
       "      <td>Safari</td>\n",
       "      <td>NDF</td>\n",
       "    </tr>\n",
       "  </tbody>\n",
       "</table>\n",
       "</div>"
      ],
      "text/plain": [
       "                id date_account_created  timestamp_first_active  \\\n",
       "81068   4y13jw11wf           2013-06-02          20130602055418   \n",
       "50043   jvjkhof19c           2012-11-27          20121127185928   \n",
       "191691  pz35maiiyv           2014-05-19          20140519191354   \n",
       "\n",
       "       date_first_booking     gender   age signup_method  signup_flow  \\\n",
       "81068          2013-06-04     FEMALE  52.0      facebook            0   \n",
       "50043                 NaN     FEMALE  37.0         basic            0   \n",
       "191691                NaN  -unknown-   NaN         basic            0   \n",
       "\n",
       "       language affiliate_channel affiliate_provider first_affiliate_tracked  \\\n",
       "81068        en            direct             direct               untracked   \n",
       "50043        en            direct             direct               untracked   \n",
       "191691       en            direct             direct               untracked   \n",
       "\n",
       "       signup_app first_device_type first_browser country_destination  \n",
       "81068         Web       Mac Desktop        Safari                  US  \n",
       "50043         Web       Mac Desktop       Firefox                 NDF  \n",
       "191691        Web       Mac Desktop        Safari                 NDF  "
      ]
     },
     "execution_count": 16,
     "metadata": {},
     "output_type": "execute_result"
    }
   ],
   "source": [
    "df1.sample(3)"
   ]
  },
  {
   "cell_type": "code",
   "execution_count": 17,
   "id": "7221ed22",
   "metadata": {
    "ExecuteTime": {
     "end_time": "2023-01-12T22:56:09.245791Z",
     "start_time": "2023-01-12T22:56:09.241498Z"
    },
    "hidden": true
   },
   "outputs": [
    {
     "data": {
      "text/plain": [
       "user_id           object\n",
       "action            object\n",
       "action_type       object\n",
       "action_detail     object\n",
       "device_type       object\n",
       "secs_elapsed     float64\n",
       "dtype: object"
      ]
     },
     "execution_count": 17,
     "metadata": {},
     "output_type": "execute_result"
    }
   ],
   "source": [
    "df_sessions.dtypes"
   ]
  },
  {
   "cell_type": "code",
   "execution_count": 18,
   "id": "f48f4a0f",
   "metadata": {
    "ExecuteTime": {
     "end_time": "2023-01-12T22:56:09.757951Z",
     "start_time": "2023-01-12T22:56:09.247323Z"
    },
    "hidden": true
   },
   "outputs": [
    {
     "data": {
      "text/html": [
       "<div>\n",
       "<style scoped>\n",
       "    .dataframe tbody tr th:only-of-type {\n",
       "        vertical-align: middle;\n",
       "    }\n",
       "\n",
       "    .dataframe tbody tr th {\n",
       "        vertical-align: top;\n",
       "    }\n",
       "\n",
       "    .dataframe thead th {\n",
       "        text-align: right;\n",
       "    }\n",
       "</style>\n",
       "<table border=\"1\" class=\"dataframe\">\n",
       "  <thead>\n",
       "    <tr style=\"text-align: right;\">\n",
       "      <th></th>\n",
       "      <th>user_id</th>\n",
       "      <th>action</th>\n",
       "      <th>action_type</th>\n",
       "      <th>action_detail</th>\n",
       "      <th>device_type</th>\n",
       "      <th>secs_elapsed</th>\n",
       "    </tr>\n",
       "  </thead>\n",
       "  <tbody>\n",
       "    <tr>\n",
       "      <th>1617640</th>\n",
       "      <td>n7q85ldw08</td>\n",
       "      <td>search_results</td>\n",
       "      <td>click</td>\n",
       "      <td>view_search_results</td>\n",
       "      <td>Mac Desktop</td>\n",
       "      <td>16934.0</td>\n",
       "    </tr>\n",
       "    <tr>\n",
       "      <th>5407391</th>\n",
       "      <td>w4p5bibfk3</td>\n",
       "      <td>ajax_refresh_subtotal</td>\n",
       "      <td>click</td>\n",
       "      <td>change_trip_characteristics</td>\n",
       "      <td>Mac Desktop</td>\n",
       "      <td>33.0</td>\n",
       "    </tr>\n",
       "    <tr>\n",
       "      <th>5315000</th>\n",
       "      <td>oylazewplw</td>\n",
       "      <td>search</td>\n",
       "      <td>click</td>\n",
       "      <td>view_search_results</td>\n",
       "      <td>iPhone</td>\n",
       "      <td>51716.0</td>\n",
       "    </tr>\n",
       "  </tbody>\n",
       "</table>\n",
       "</div>"
      ],
      "text/plain": [
       "            user_id                 action action_type  \\\n",
       "1617640  n7q85ldw08         search_results       click   \n",
       "5407391  w4p5bibfk3  ajax_refresh_subtotal       click   \n",
       "5315000  oylazewplw                 search       click   \n",
       "\n",
       "                       action_detail  device_type  secs_elapsed  \n",
       "1617640          view_search_results  Mac Desktop       16934.0  \n",
       "5407391  change_trip_characteristics  Mac Desktop          33.0  \n",
       "5315000          view_search_results       iPhone       51716.0  "
      ]
     },
     "execution_count": 18,
     "metadata": {},
     "output_type": "execute_result"
    }
   ],
   "source": [
    "df_sessions.sample(3)"
   ]
  },
  {
   "cell_type": "markdown",
   "id": "896c54e2",
   "metadata": {
    "hidden": true
   },
   "source": [
    "## 1.3. NA Check"
   ]
  },
  {
   "cell_type": "code",
   "execution_count": 19,
   "id": "524e9fe8",
   "metadata": {
    "ExecuteTime": {
     "end_time": "2023-01-12T22:56:10.042665Z",
     "start_time": "2023-01-12T22:56:09.760155Z"
    },
    "hidden": true
   },
   "outputs": [
    {
     "data": {
      "text/plain": [
       "id                              0\n",
       "date_account_created            0\n",
       "timestamp_first_active          0\n",
       "date_first_booking         124543\n",
       "gender                          0\n",
       "age                         87990\n",
       "signup_method                   0\n",
       "signup_flow                     0\n",
       "language                        0\n",
       "affiliate_channel               0\n",
       "affiliate_provider              0\n",
       "first_affiliate_tracked      6065\n",
       "signup_app                      0\n",
       "first_device_type               0\n",
       "first_browser                   0\n",
       "country_destination             0\n",
       "dtype: int64"
      ]
     },
     "execution_count": 19,
     "metadata": {},
     "output_type": "execute_result"
    }
   ],
   "source": [
    "df1.isna().sum()"
   ]
  },
  {
   "cell_type": "code",
   "execution_count": 20,
   "id": "b3680b61",
   "metadata": {
    "ExecuteTime": {
     "end_time": "2023-01-12T22:56:10.316339Z",
     "start_time": "2023-01-12T22:56:10.044295Z"
    },
    "hidden": true
   },
   "outputs": [
    {
     "data": {
      "text/plain": [
       "id                         0.000000\n",
       "date_account_created       0.000000\n",
       "timestamp_first_active     0.000000\n",
       "date_first_booking         0.583473\n",
       "gender                     0.000000\n",
       "age                        0.412226\n",
       "signup_method              0.000000\n",
       "signup_flow                0.000000\n",
       "language                   0.000000\n",
       "affiliate_channel          0.000000\n",
       "affiliate_provider         0.000000\n",
       "first_affiliate_tracked    0.028414\n",
       "signup_app                 0.000000\n",
       "first_device_type          0.000000\n",
       "first_browser              0.000000\n",
       "country_destination        0.000000\n",
       "dtype: float64"
      ]
     },
     "execution_count": 20,
     "metadata": {},
     "output_type": "execute_result"
    }
   ],
   "source": [
    "df1.isna().sum()/len(df1)"
   ]
  },
  {
   "cell_type": "code",
   "execution_count": 21,
   "id": "177ba716",
   "metadata": {
    "ExecuteTime": {
     "end_time": "2023-01-12T22:56:15.476237Z",
     "start_time": "2023-01-12T22:56:10.318250Z"
    },
    "hidden": true
   },
   "outputs": [
    {
     "data": {
      "text/plain": [
       "user_id          0.003264\n",
       "action           0.007535\n",
       "action_type      0.106570\n",
       "action_detail    0.106570\n",
       "device_type      0.000000\n",
       "secs_elapsed     0.012872\n",
       "dtype: float64"
      ]
     },
     "execution_count": 21,
     "metadata": {},
     "output_type": "execute_result"
    }
   ],
   "source": [
    "df_sessions.isna().sum()/len(df_sessions)"
   ]
  },
  {
   "cell_type": "markdown",
   "id": "76eee1ad",
   "metadata": {
    "hidden": true
   },
   "source": [
    "The percentage of NA values of date_first_booking is very high. We must check the proportion of NA values for this column related to our classes:"
   ]
  },
  {
   "cell_type": "code",
   "execution_count": 22,
   "id": "64d7f004",
   "metadata": {
    "ExecuteTime": {
     "end_time": "2023-01-12T22:56:15.509571Z",
     "start_time": "2023-01-12T22:56:15.478005Z"
    },
    "hidden": true
   },
   "outputs": [
    {
     "data": {
      "text/plain": [
       "NDF    1.0\n",
       "Name: country_destination, dtype: float64"
      ]
     },
     "execution_count": 22,
     "metadata": {},
     "output_type": "execute_result"
    }
   ],
   "source": [
    "aux = df1[df1[\"date_first_booking\"].isna()]\n",
    "aux[\"country_destination\"].value_counts(normalize=True)"
   ]
  },
  {
   "cell_type": "markdown",
   "id": "62eec2a0",
   "metadata": {
    "hidden": true
   },
   "source": [
    "- All NA values from date_first_booking class are from country_destinarion = NDF. \n",
    "- People who do not have a destination country does not have date first booking.\n",
    "- A solution is to replace this Na values with the maximum date of our dataset. "
   ]
  },
  {
   "cell_type": "markdown",
   "id": "3b149314",
   "metadata": {
    "hidden": true
   },
   "source": [
    "Similarly, let's analyze the column age:"
   ]
  },
  {
   "cell_type": "code",
   "execution_count": 23,
   "id": "20e16203",
   "metadata": {
    "ExecuteTime": {
     "end_time": "2023-01-12T22:56:15.535945Z",
     "start_time": "2023-01-12T22:56:15.511522Z"
    },
    "hidden": true
   },
   "outputs": [
    {
     "data": {
      "text/plain": [
       "NDF      0.768428\n",
       "US       0.156529\n",
       "other    0.028617\n",
       "FR       0.014888\n",
       "IT       0.009081\n",
       "GB       0.006251\n",
       "ES       0.006171\n",
       "CA       0.003989\n",
       "DE       0.002387\n",
       "NL       0.001818\n",
       "AU       0.001171\n",
       "PT       0.000671\n",
       "Name: country_destination, dtype: float64"
      ]
     },
     "execution_count": 23,
     "metadata": {},
     "output_type": "execute_result"
    }
   ],
   "source": [
    "aux = df1[df1[\"age\"].isna()]\n",
    "aux[\"country_destination\"].value_counts(normalize=True)"
   ]
  },
  {
   "cell_type": "markdown",
   "id": "7c8ee281",
   "metadata": {
    "hidden": true
   },
   "source": [
    "We must see how the data distribution is. If our distribution is close to a normal one, we must fill NA values with the average age. As we may see below, we may do this treatment for column age. "
   ]
  },
  {
   "cell_type": "code",
   "execution_count": 24,
   "id": "275f4dd6",
   "metadata": {
    "ExecuteTime": {
     "end_time": "2023-01-12T22:56:16.119791Z",
     "start_time": "2023-01-12T22:56:15.537797Z"
    },
    "hidden": true
   },
   "outputs": [
    {
     "name": "stderr",
     "output_type": "stream",
     "text": [
      "/opt/anaconda3/lib/python3.9/site-packages/seaborn/distributions.py:2619: FutureWarning: `distplot` is a deprecated function and will be removed in a future version. Please adapt your code to use either `displot` (a figure-level function with similar flexibility) or `histplot` (an axes-level function for histograms).\n",
      "  warnings.warn(msg, FutureWarning)\n"
     ]
    },
    {
     "data": {
      "text/plain": [
       "<AxesSubplot:xlabel='age', ylabel='Density'>"
      ]
     },
     "execution_count": 24,
     "metadata": {},
     "output_type": "execute_result"
    },
    {
     "data": {
      "image/png": "[encoded data removed]",
      "text/plain": [
       "<Figure size 640x480 with 1 Axes>"
      ]
     },
     "metadata": {},
     "output_type": "display_data"
    }
   ],
   "source": [
    "# assumption to see the chart: low incidence of people using Airbnb older than 80 years\n",
    "sns.distplot(df1[df1[\"age\"] < 80][\"age\"])"
   ]
  },
  {
   "cell_type": "markdown",
   "id": "fb7ac564",
   "metadata": {
    "hidden": true
   },
   "source": [
    "The column first_affiliate_tracked is a categorical one. Replace NA values for this column with any other string may generate a high biased model. As we have only 2.8% of NA values from this column, we may remove all NA values. \n",
    "\n",
    "**Suggestion:** In case we had a categorical feature, but with a high percentage of NA values, we could collect more data instead of removing all NA values from that column."
   ]
  },
  {
   "cell_type": "code",
   "execution_count": 25,
   "id": "d7121306",
   "metadata": {
    "ExecuteTime": {
     "end_time": "2023-01-12T22:56:16.133050Z",
     "start_time": "2023-01-12T22:56:16.121889Z"
    },
    "hidden": true
   },
   "outputs": [
    {
     "data": {
      "text/plain": [
       "array(['untracked', 'omg', nan, 'linked', 'tracked-other', 'product',\n",
       "       'marketing', 'local ops'], dtype=object)"
      ]
     },
     "execution_count": 25,
     "metadata": {},
     "output_type": "execute_result"
    }
   ],
   "source": [
    "df1[\"first_affiliate_tracked\"].unique()"
   ]
  },
  {
   "cell_type": "markdown",
   "id": "4c683167",
   "metadata": {
    "hidden": true
   },
   "source": [
    "## 1.4. Removing NA"
   ]
  },
  {
   "cell_type": "markdown",
   "id": "3c1e9659",
   "metadata": {
    "hidden": true
   },
   "source": [
    "**First cycle:** As we want to deliver a solution as faster as possible, we will remove all NA values in this cycle. However, we may treat NA values using a different technique as next steps."
   ]
  },
  {
   "cell_type": "markdown",
   "id": "33261680",
   "metadata": {
    "hidden": true
   },
   "source": [
    "**Second cycle:** We face some problems by removing NA values.\n",
    "\n",
    "- Loss of relevant information from columns.\n",
    "- Data volume decrase to train models.\n",
    "\n",
    "There are thre manners to remove NA values from our dataset: (1) Business, (2) Statistical and (3) Machine Learning. For further details, check my portfolio project named **Rossmann Store Sales**. "
   ]
  },
  {
   "cell_type": "code",
   "execution_count": 26,
   "id": "aa73a26a",
   "metadata": {
    "ExecuteTime": {
     "end_time": "2023-01-12T22:56:20.423509Z",
     "start_time": "2023-01-12T22:56:16.134758Z"
    },
    "hidden": true
   },
   "outputs": [],
   "source": [
    "# ========== User =================\n",
    "\n",
    "# date_first_booking\n",
    "date_first_booking_max = pd.to_datetime( df1['date_first_booking'] ).max().strftime('%Y-%m-%d')\n",
    "df1['date_first_booking'] = df1['date_first_booking'].fillna(date_first_booking_max)\n",
    "\n",
    "# age\n",
    "df1_sample = df1[(df1['age'] > 15) & (df1['age'] < 122)]\n",
    "avg_age = np.round(df1_sample['age'].mean(), 0)\n",
    "df1['age'] = df1['age'].fillna(avg_age)\n",
    "\n",
    "# first_affiliate_tracked\n",
    "df1 = df1[~df1['first_affiliate_tracked'].isna()]\n",
    "\n",
    "# ========== Sessions ==============\n",
    "\n",
    "# user_id - 0.3%\n",
    "df_sessions = df_sessions[~df_sessions['user_id'].isna()]\n",
    "\n",
    "# action - 0.7%\n",
    "df_sessions = df_sessions[~df_sessions['action'].isna()]\n",
    "\n",
    "# action_type - 11% (total rows amount: more than 10 millions)\n",
    "df_sessions = df_sessions[~df_sessions['action_type'].isna()]\n",
    "\n",
    "# action_detail - 11% (total rows amount: more than 10 millions)\n",
    "df_sessions = df_sessions[~df_sessions['action_detail'].isna()]\n",
    "\n",
    "# secs_elapsed - 1.2%\n",
    "df_sessions = df_sessions[~df_sessions['secs_elapsed'].isna()]"
   ]
  },
  {
   "cell_type": "markdown",
   "id": "7639a5b3",
   "metadata": {
    "hidden": true
   },
   "source": [
    "## 1.5. Change Data Type"
   ]
  },
  {
   "cell_type": "code",
   "execution_count": 27,
   "id": "b7f5ac08",
   "metadata": {
    "ExecuteTime": {
     "end_time": "2023-01-12T22:56:21.030369Z",
     "start_time": "2023-01-12T22:56:20.425485Z"
    },
    "hidden": true
   },
   "outputs": [],
   "source": [
    "# date_account_created\n",
    "df1[\"date_account_created\"] = pd.to_datetime(df1[\"date_account_created\"])\n",
    "\n",
    "# timestamp_first_active\n",
    "df1[\"timestamp_first_active\"] = pd.to_datetime(df1[\"timestamp_first_active\"], format=\"%Y%m%d%H%M%S\")\n",
    "\n",
    "# date_first_booking\n",
    "df1[\"date_first_booking\"] = pd.to_datetime(df1[\"date_first_booking\"])\n",
    "\n",
    "# age\n",
    "df1[\"age\"] = df1[\"age\"].astype(int)"
   ]
  },
  {
   "cell_type": "code",
   "execution_count": 28,
   "id": "d8e7397f",
   "metadata": {
    "ExecuteTime": {
     "end_time": "2023-01-12T22:56:21.045642Z",
     "start_time": "2023-01-12T22:56:21.040709Z"
    },
    "hidden": true
   },
   "outputs": [
    {
     "data": {
      "text/plain": [
       "id                                 object\n",
       "date_account_created       datetime64[ns]\n",
       "timestamp_first_active     datetime64[ns]\n",
       "date_first_booking         datetime64[ns]\n",
       "gender                             object\n",
       "age                                 int64\n",
       "signup_method                      object\n",
       "signup_flow                         int64\n",
       "language                           object\n",
       "affiliate_channel                  object\n",
       "affiliate_provider                 object\n",
       "first_affiliate_tracked            object\n",
       "signup_app                         object\n",
       "first_device_type                  object\n",
       "first_browser                      object\n",
       "country_destination                object\n",
       "dtype: object"
      ]
     },
     "execution_count": 28,
     "metadata": {},
     "output_type": "execute_result"
    }
   ],
   "source": [
    "df1.dtypes"
   ]
  },
  {
   "cell_type": "markdown",
   "id": "e2f65223",
   "metadata": {
    "hidden": true
   },
   "source": [
    "## 1.6. Check Balanced Data"
   ]
  },
  {
   "cell_type": "code",
   "execution_count": 29,
   "id": "c9b6b42e",
   "metadata": {
    "ExecuteTime": {
     "end_time": "2023-01-12T22:56:21.060588Z",
     "start_time": "2023-01-12T22:56:21.047281Z"
    },
    "hidden": true
   },
   "outputs": [
    {
     "data": {
      "text/plain": [
       "NDF      120216\n",
       "US        61067\n",
       "other      9981\n",
       "FR         4899\n",
       "IT         2791\n",
       "GB         2295\n",
       "ES         2213\n",
       "CA         1391\n",
       "DE         1041\n",
       "NL          751\n",
       "AU          527\n",
       "PT          214\n",
       "Name: country_destination, dtype: int64"
      ]
     },
     "execution_count": 29,
     "metadata": {},
     "output_type": "execute_result"
    }
   ],
   "source": [
    "df1[\"country_destination\"].value_counts()"
   ]
  },
  {
   "cell_type": "code",
   "execution_count": 30,
   "id": "77504a93",
   "metadata": {
    "ExecuteTime": {
     "end_time": "2023-01-12T22:56:21.076642Z",
     "start_time": "2023-01-12T22:56:21.062495Z"
    },
    "hidden": true
   },
   "outputs": [
    {
     "data": {
      "text/plain": [
       "NDF      0.579673\n",
       "US       0.294461\n",
       "other    0.048128\n",
       "FR       0.023623\n",
       "IT       0.013458\n",
       "GB       0.011066\n",
       "ES       0.010671\n",
       "CA       0.006707\n",
       "DE       0.005020\n",
       "NL       0.003621\n",
       "AU       0.002541\n",
       "PT       0.001032\n",
       "Name: country_destination, dtype: float64"
      ]
     },
     "execution_count": 30,
     "metadata": {},
     "output_type": "execute_result"
    }
   ],
   "source": [
    "df1[\"country_destination\"].value_counts(normalize=True)"
   ]
  },
  {
   "cell_type": "markdown",
   "id": "6f34198e",
   "metadata": {
    "hidden": true
   },
   "source": [
    "- This is a multi-class (many types for the target variable) and very unbalanced (70% of data only for US, for instance). This is a very complex classification problem. \n",
    "\n",
    "- Since NDF (no destination found) was a type of country_destination, it is not in our dataset anymore because it belongs to users which did not make their first booking - and we removed these NA values. "
   ]
  },
  {
   "cell_type": "markdown",
   "id": "1d15cd14",
   "metadata": {
    "hidden": true
   },
   "source": [
    "## 1.7. Descriptive Statistics"
   ]
  },
  {
   "cell_type": "markdown",
   "id": "cc2bfe14",
   "metadata": {
    "hidden": true
   },
   "source": [
    "This section is to find inconsistencies, anomalies and also the main characteristics of our data."
   ]
  },
  {
   "cell_type": "code",
   "execution_count": 31,
   "id": "2253bce5",
   "metadata": {
    "ExecuteTime": {
     "end_time": "2023-01-12T22:56:21.352321Z",
     "start_time": "2023-01-12T22:56:21.078533Z"
    },
    "hidden": true
   },
   "outputs": [],
   "source": [
    "# Users\n",
    "num_attributes = df1.select_dtypes(include=['int64', 'float64'])\n",
    "cat_attributes = df1.select_dtypes(exclude=['int64', 'float64', 'datetime64[ns]'])\n",
    "time_attributes = df1.select_dtypes(include=['datetime64[ns]'])\n",
    "\n",
    "# Sessions\n",
    "num_attributes_sessions = df_sessions.select_dtypes(include=['int64', 'float64'])\n",
    "cat_attributes_sessions = df_sessions.select_dtypes(exclude=['int64', 'float64', 'datetime64[ns]'])\n",
    "time_attributes_sessions = df_sessions.select_dtypes(include=['datetime64[ns]'])"
   ]
  },
  {
   "cell_type": "markdown",
   "id": "a27e81f7",
   "metadata": {
    "hidden": true
   },
   "source": [
    "### 1.7.1. Numerical attributes - Users"
   ]
  },
  {
   "cell_type": "code",
   "execution_count": 32,
   "id": "6032ea89",
   "metadata": {
    "ExecuteTime": {
     "end_time": "2023-01-12T22:56:21.432107Z",
     "start_time": "2023-01-12T22:56:21.354261Z"
    },
    "hidden": true
   },
   "outputs": [
    {
     "data": {
      "text/html": [
       "<div>\n",
       "<style scoped>\n",
       "    .dataframe tbody tr th:only-of-type {\n",
       "        vertical-align: middle;\n",
       "    }\n",
       "\n",
       "    .dataframe tbody tr th {\n",
       "        vertical-align: top;\n",
       "    }\n",
       "\n",
       "    .dataframe thead th {\n",
       "        text-align: right;\n",
       "    }\n",
       "</style>\n",
       "<table border=\"1\" class=\"dataframe\">\n",
       "  <thead>\n",
       "    <tr style=\"text-align: right;\">\n",
       "      <th></th>\n",
       "      <th>attributes</th>\n",
       "      <th>min</th>\n",
       "      <th>max</th>\n",
       "      <th>range</th>\n",
       "      <th>mean</th>\n",
       "      <th>median</th>\n",
       "      <th>std</th>\n",
       "      <th>skew</th>\n",
       "      <th>kurtosis</th>\n",
       "    </tr>\n",
       "  </thead>\n",
       "  <tbody>\n",
       "    <tr>\n",
       "      <th>0</th>\n",
       "      <td>age</td>\n",
       "      <td>1.0</td>\n",
       "      <td>2014.0</td>\n",
       "      <td>2013.0</td>\n",
       "      <td>44.325128</td>\n",
       "      <td>37.0</td>\n",
       "      <td>118.575595</td>\n",
       "      <td>16.392840</td>\n",
       "      <td>268.929431</td>\n",
       "    </tr>\n",
       "    <tr>\n",
       "      <th>1</th>\n",
       "      <td>signup_flow</td>\n",
       "      <td>0.0</td>\n",
       "      <td>25.0</td>\n",
       "      <td>25.0</td>\n",
       "      <td>3.151490</td>\n",
       "      <td>0.0</td>\n",
       "      <td>7.543915</td>\n",
       "      <td>2.287158</td>\n",
       "      <td>3.567794</td>\n",
       "    </tr>\n",
       "  </tbody>\n",
       "</table>\n",
       "</div>"
      ],
      "text/plain": [
       "    attributes  min     max   range       mean  median         std       skew  \\\n",
       "0          age  1.0  2014.0  2013.0  44.325128    37.0  118.575595  16.392840   \n",
       "1  signup_flow  0.0    25.0    25.0   3.151490     0.0    7.543915   2.287158   \n",
       "\n",
       "     kurtosis  \n",
       "0  268.929431  \n",
       "1    3.567794  "
      ]
     },
     "execution_count": 32,
     "metadata": {},
     "output_type": "execute_result"
    }
   ],
   "source": [
    "# Central Tendency - Mean, Mediana\n",
    "ct1 = pd.DataFrame(num_attributes.apply(np.mean)).T\n",
    "ct2 = pd.DataFrame(num_attributes.apply(np.median)).T\n",
    "\n",
    "# Dispersions - Std, Min, Max, Range, Skew, Kurtosis\n",
    "d1 = pd.DataFrame(num_attributes.apply(np.std)).T\n",
    "d2 = pd.DataFrame(num_attributes.apply(min)).T\n",
    "d3 = pd.DataFrame(num_attributes.apply(max)).T\n",
    "d4 = pd.DataFrame(num_attributes.apply(lambda x: x.max() - x.min())).T\n",
    "d5 = pd.DataFrame(num_attributes.apply(lambda x: x.skew())).T\n",
    "d6 = pd.DataFrame(num_attributes.apply(lambda x: x.kurtosis())).T\n",
    "\n",
    "# Concatenar\n",
    "ct = pd.concat([d2, d3, d4, ct1, ct2, d1, d5, d6]).T.reset_index()\n",
    "ct.columns = ['attributes', 'min', 'max', 'range', 'mean', 'median', 'std', 'skew', 'kurtosis']\n",
    "ct"
   ]
  },
  {
   "cell_type": "markdown",
   "id": "86542db3",
   "metadata": {
    "hidden": true
   },
   "source": [
    "- We have maximum age as 2014. This is probably wrong.\n",
    "- As median is less than mean, we have a left skew: positive skewness. \n",
    "- Since age has a 269 value for kurtosis, we have a very high peak."
   ]
  },
  {
   "cell_type": "code",
   "execution_count": 33,
   "id": "574eb88f",
   "metadata": {
    "ExecuteTime": {
     "end_time": "2023-01-12T22:56:22.753447Z",
     "start_time": "2023-01-12T22:56:21.433860Z"
    },
    "hidden": true
   },
   "outputs": [
    {
     "name": "stderr",
     "output_type": "stream",
     "text": [
      "/opt/anaconda3/lib/python3.9/site-packages/seaborn/distributions.py:2619: FutureWarning: `distplot` is a deprecated function and will be removed in a future version. Please adapt your code to use either `displot` (a figure-level function with similar flexibility) or `histplot` (an axes-level function for histograms).\n",
      "  warnings.warn(msg, FutureWarning)\n",
      "/opt/anaconda3/lib/python3.9/site-packages/seaborn/distributions.py:2619: FutureWarning: `distplot` is a deprecated function and will be removed in a future version. Please adapt your code to use either `displot` (a figure-level function with similar flexibility) or `histplot` (an axes-level function for histograms).\n",
      "  warnings.warn(msg, FutureWarning)\n"
     ]
    },
    {
     "data": {
      "image/png": "[encoded data removed]",
      "text/plain": [
       "<Figure size 2000x600 with 2 Axes>"
      ]
     },
     "metadata": {},
     "output_type": "display_data"
    }
   ],
   "source": [
    "plt.figure(figsize = (20,6))\n",
    "\n",
    "plt.subplot(121)\n",
    "sns.distplot(df1[\"age\"])\n",
    "\n",
    "plt.subplot(122)\n",
    "sns.distplot(df1[\"signup_flow\"])\n",
    "\n",
    "plt.subplots_adjust(wspace = 0.2)"
   ]
  },
  {
   "cell_type": "markdown",
   "id": "611783b0",
   "metadata": {
    "hidden": true
   },
   "source": [
    "We may have lower ages ( <= 2 years old, for instance) in our dataset because they are children accompanied by parents. Yet, we may not have ages higher than 122, since this age is for the oldest person who ever lived on Earth. Thus, these values will be treated as outliers."
   ]
  },
  {
   "cell_type": "markdown",
   "id": "a4ee2ce9",
   "metadata": {
    "hidden": true
   },
   "source": [
    "### 1.7.2. Numerical Attributes - Sessions"
   ]
  },
  {
   "cell_type": "code",
   "execution_count": 34,
   "id": "866dbdb3",
   "metadata": {
    "ExecuteTime": {
     "end_time": "2023-01-12T22:56:24.404829Z",
     "start_time": "2023-01-12T22:56:22.755579Z"
    },
    "hidden": true
   },
   "outputs": [
    {
     "data": {
      "text/html": [
       "<div>\n",
       "<style scoped>\n",
       "    .dataframe tbody tr th:only-of-type {\n",
       "        vertical-align: middle;\n",
       "    }\n",
       "\n",
       "    .dataframe tbody tr th {\n",
       "        vertical-align: top;\n",
       "    }\n",
       "\n",
       "    .dataframe thead th {\n",
       "        text-align: right;\n",
       "    }\n",
       "</style>\n",
       "<table border=\"1\" class=\"dataframe\">\n",
       "  <thead>\n",
       "    <tr style=\"text-align: right;\">\n",
       "      <th></th>\n",
       "      <th>attributes</th>\n",
       "      <th>min</th>\n",
       "      <th>max</th>\n",
       "      <th>range</th>\n",
       "      <th>mean</th>\n",
       "      <th>median</th>\n",
       "      <th>std</th>\n",
       "      <th>skew</th>\n",
       "      <th>kurtosis</th>\n",
       "    </tr>\n",
       "  </thead>\n",
       "  <tbody>\n",
       "    <tr>\n",
       "      <th>0</th>\n",
       "      <td>secs_elapsed</td>\n",
       "      <td>0.0</td>\n",
       "      <td>1799977.0</td>\n",
       "      <td>1799977.0</td>\n",
       "      <td>19961.8251</td>\n",
       "      <td>1369.0</td>\n",
       "      <td>88849.388449</td>\n",
       "      <td>11.137761</td>\n",
       "      <td>154.84312</td>\n",
       "    </tr>\n",
       "  </tbody>\n",
       "</table>\n",
       "</div>"
      ],
      "text/plain": [
       "     attributes  min        max      range        mean  median           std  \\\n",
       "0  secs_elapsed  0.0  1799977.0  1799977.0  19961.8251  1369.0  88849.388449   \n",
       "\n",
       "        skew   kurtosis  \n",
       "0  11.137761  154.84312  "
      ]
     },
     "execution_count": 34,
     "metadata": {},
     "output_type": "execute_result"
    }
   ],
   "source": [
    "# Central Tendency - Mean, Mediana\n",
    "ct1 = pd.DataFrame( num_attributes_sessions.apply( np.mean ) ).T\n",
    "ct2 = pd.DataFrame( num_attributes_sessions.apply( np.median ) ).T\n",
    "\n",
    "# Dispersions - Std, Min, Max, Range, Skew, Kurtosis\n",
    "d1 = pd.DataFrame( num_attributes_sessions.apply( np.std ) ).T\n",
    "d2 = pd.DataFrame( num_attributes_sessions.apply( min ) ).T\n",
    "d3 = pd.DataFrame( num_attributes_sessions.apply( max ) ).T\n",
    "d4 = pd.DataFrame( num_attributes_sessions.apply( lambda x: x.max() - x.min() ) ).T\n",
    "d5 = pd.DataFrame( num_attributes_sessions.apply( lambda x: x.skew() ) ).T\n",
    "d6 = pd.DataFrame( num_attributes_sessions.apply( lambda x: x.kurtosis() ) ).T\n",
    "\n",
    "# Concatenar\n",
    "ct = pd.concat( [d2, d3, d4, ct1, ct2, d1, d5, d6] ).T.reset_index()\n",
    "ct.columns = ['attributes', 'min', 'max', 'range', 'mean', 'median', 'std', 'skew', 'kurtosis']\n",
    "ct"
   ]
  },
  {
   "cell_type": "code",
   "execution_count": 35,
   "id": "142a61b0",
   "metadata": {
    "ExecuteTime": {
     "end_time": "2023-01-12T22:56:39.715167Z",
     "start_time": "2023-01-12T22:56:24.406944Z"
    },
    "hidden": true
   },
   "outputs": [
    {
     "name": "stderr",
     "output_type": "stream",
     "text": [
      "/opt/anaconda3/lib/python3.9/site-packages/seaborn/distributions.py:2619: FutureWarning: `distplot` is a deprecated function and will be removed in a future version. Please adapt your code to use either `displot` (a figure-level function with similar flexibility) or `histplot` (an axes-level function for histograms).\n",
      "  warnings.warn(msg, FutureWarning)\n"
     ]
    },
    {
     "data": {
      "text/plain": [
       "<AxesSubplot:xlabel='secs_elapsed', ylabel='Density'>"
      ]
     },
     "execution_count": 35,
     "metadata": {},
     "output_type": "execute_result"
    },
    {
     "data": {
      "image/png": "[encoded data removed]",
      "text/plain": [
       "<Figure size 400x400 with 1 Axes>"
      ]
     },
     "metadata": {},
     "output_type": "display_data"
    }
   ],
   "source": [
    "plt.figure(figsize =(4,4))\n",
    "\n",
    "sns.distplot(df_sessions[\"secs_elapsed\"])"
   ]
  },
  {
   "cell_type": "markdown",
   "id": "fec0748a",
   "metadata": {
    "hidden": true
   },
   "source": [
    "- secs_elpased is the time a user stays on webpage. A value equals zero is not realistic. \n",
    "- A maximum value of 1799977.0 seconds is either not realistic, because it represents around 208 days."
   ]
  },
  {
   "cell_type": "markdown",
   "id": "3b81560a",
   "metadata": {
    "hidden": true
   },
   "source": [
    "### 1.7.3. Categorical Attributes - Users"
   ]
  },
  {
   "cell_type": "code",
   "execution_count": 36,
   "id": "8075892a",
   "metadata": {
    "ExecuteTime": {
     "end_time": "2023-01-12T22:56:39.867502Z",
     "start_time": "2023-01-12T22:56:39.717572Z"
    },
    "hidden": true
   },
   "outputs": [
    {
     "data": {
      "text/plain": [
       "id                         207386\n",
       "gender                          4\n",
       "signup_method                   3\n",
       "language                       25\n",
       "affiliate_channel               8\n",
       "affiliate_provider             18\n",
       "first_affiliate_tracked         7\n",
       "signup_app                      4\n",
       "first_device_type               9\n",
       "first_browser                  52\n",
       "country_destination            12\n",
       "dtype: int64"
      ]
     },
     "execution_count": 36,
     "metadata": {},
     "output_type": "execute_result"
    }
   ],
   "source": [
    "cat_attributes.apply(lambda x: x.unique().shape[0])"
   ]
  },
  {
   "cell_type": "code",
   "execution_count": 37,
   "id": "642c3ace",
   "metadata": {
    "ExecuteTime": {
     "end_time": "2023-01-12T22:56:39.973978Z",
     "start_time": "2023-01-12T22:56:39.869556Z"
    },
    "hidden": true
   },
   "outputs": [
    {
     "data": {
      "text/plain": [
       "gender                                      [-unknown-, MALE, FEMALE, OTHER]\n",
       "signup_method                                      [facebook, basic, google]\n",
       "language                   [en, fr, de, es, pt, zh, ko, ja, it, ru, pl, e...\n",
       "affiliate_channel          [direct, seo, other, sem-non-brand, content, s...\n",
       "affiliate_provider         [direct, google, other, craigslist, facebook, ...\n",
       "first_affiliate_tracked    [untracked, omg, linked, tracked-other, produc...\n",
       "signup_app                                        [Web, Moweb, iOS, Android]\n",
       "first_device_type          [Mac Desktop, Windows Desktop, iPhone, Other/U...\n",
       "first_browser              [Chrome, IE, Firefox, Safari, -unknown-, Mobil...\n",
       "country_destination        [NDF, US, other, CA, FR, ES, GB, IT, PT, NL, D...\n",
       "dtype: object"
      ]
     },
     "execution_count": 37,
     "metadata": {},
     "output_type": "execute_result"
    }
   ],
   "source": [
    "cat_attributes.drop(columns=\"id\").apply(lambda x: x.unique())"
   ]
  },
  {
   "cell_type": "code",
   "execution_count": 38,
   "id": "9f0d9c98",
   "metadata": {
    "ExecuteTime": {
     "end_time": "2023-01-12T22:56:40.147693Z",
     "start_time": "2023-01-12T22:56:39.975638Z"
    },
    "hidden": true
   },
   "outputs": [
    {
     "data": {
      "text/html": [
       "<div>\n",
       "<style scoped>\n",
       "    .dataframe tbody tr th:only-of-type {\n",
       "        vertical-align: middle;\n",
       "    }\n",
       "\n",
       "    .dataframe tbody tr th {\n",
       "        vertical-align: top;\n",
       "    }\n",
       "\n",
       "    .dataframe thead th {\n",
       "        text-align: right;\n",
       "    }\n",
       "</style>\n",
       "<table border=\"1\" class=\"dataframe\">\n",
       "  <thead>\n",
       "    <tr style=\"text-align: right;\">\n",
       "      <th></th>\n",
       "      <th>count</th>\n",
       "      <th>unique</th>\n",
       "      <th>top</th>\n",
       "      <th>freq</th>\n",
       "    </tr>\n",
       "  </thead>\n",
       "  <tbody>\n",
       "    <tr>\n",
       "      <th>gender</th>\n",
       "      <td>207386</td>\n",
       "      <td>4</td>\n",
       "      <td>-unknown-</td>\n",
       "      <td>91783</td>\n",
       "    </tr>\n",
       "    <tr>\n",
       "      <th>signup_method</th>\n",
       "      <td>207386</td>\n",
       "      <td>3</td>\n",
       "      <td>basic</td>\n",
       "      <td>148297</td>\n",
       "    </tr>\n",
       "    <tr>\n",
       "      <th>language</th>\n",
       "      <td>207386</td>\n",
       "      <td>25</td>\n",
       "      <td>en</td>\n",
       "      <td>200415</td>\n",
       "    </tr>\n",
       "    <tr>\n",
       "      <th>affiliate_channel</th>\n",
       "      <td>207386</td>\n",
       "      <td>8</td>\n",
       "      <td>direct</td>\n",
       "      <td>134179</td>\n",
       "    </tr>\n",
       "    <tr>\n",
       "      <th>affiliate_provider</th>\n",
       "      <td>207386</td>\n",
       "      <td>18</td>\n",
       "      <td>direct</td>\n",
       "      <td>133935</td>\n",
       "    </tr>\n",
       "    <tr>\n",
       "      <th>first_affiliate_tracked</th>\n",
       "      <td>207386</td>\n",
       "      <td>7</td>\n",
       "      <td>untracked</td>\n",
       "      <td>109232</td>\n",
       "    </tr>\n",
       "    <tr>\n",
       "      <th>signup_app</th>\n",
       "      <td>207386</td>\n",
       "      <td>4</td>\n",
       "      <td>Web</td>\n",
       "      <td>178334</td>\n",
       "    </tr>\n",
       "    <tr>\n",
       "      <th>first_device_type</th>\n",
       "      <td>207386</td>\n",
       "      <td>9</td>\n",
       "      <td>Mac Desktop</td>\n",
       "      <td>89600</td>\n",
       "    </tr>\n",
       "    <tr>\n",
       "      <th>first_browser</th>\n",
       "      <td>207386</td>\n",
       "      <td>52</td>\n",
       "      <td>Chrome</td>\n",
       "      <td>63845</td>\n",
       "    </tr>\n",
       "    <tr>\n",
       "      <th>country_destination</th>\n",
       "      <td>207386</td>\n",
       "      <td>12</td>\n",
       "      <td>NDF</td>\n",
       "      <td>120216</td>\n",
       "    </tr>\n",
       "  </tbody>\n",
       "</table>\n",
       "</div>"
      ],
      "text/plain": [
       "                          count unique          top    freq\n",
       "gender                   207386      4    -unknown-   91783\n",
       "signup_method            207386      3        basic  148297\n",
       "language                 207386     25           en  200415\n",
       "affiliate_channel        207386      8       direct  134179\n",
       "affiliate_provider       207386     18       direct  133935\n",
       "first_affiliate_tracked  207386      7    untracked  109232\n",
       "signup_app               207386      4          Web  178334\n",
       "first_device_type        207386      9  Mac Desktop   89600\n",
       "first_browser            207386     52       Chrome   63845\n",
       "country_destination      207386     12          NDF  120216"
      ]
     },
     "execution_count": 38,
     "metadata": {},
     "output_type": "execute_result"
    }
   ],
   "source": [
    "cat_attributes.drop(\"id\", axis=1).describe().T"
   ]
  },
  {
   "cell_type": "markdown",
   "id": "672bb25f",
   "metadata": {
    "hidden": true
   },
   "source": [
    "- Some features have a higher number of unique values. This makes one hot encoding very inappropriate. \n",
    "- If there are correlation between these categorical variables, we may remove some of them."
   ]
  },
  {
   "cell_type": "markdown",
   "id": "d6ac5761",
   "metadata": {
    "hidden": true
   },
   "source": [
    "### 1.7.4. Categorical Attributes - Sessions"
   ]
  },
  {
   "cell_type": "code",
   "execution_count": 39,
   "id": "81b6f50f",
   "metadata": {
    "ExecuteTime": {
     "end_time": "2023-01-12T22:56:41.975094Z",
     "start_time": "2023-01-12T22:56:40.149612Z"
    },
    "hidden": true
   },
   "outputs": [
    {
     "data": {
      "text/plain": [
       "user_id          133878\n",
       "action              347\n",
       "action_type          10\n",
       "action_detail       155\n",
       "device_type          14\n",
       "dtype: int64"
      ]
     },
     "execution_count": 39,
     "metadata": {},
     "output_type": "execute_result"
    }
   ],
   "source": [
    "cat_attributes_sessions.apply(lambda x: x.unique().shape[0])"
   ]
  },
  {
   "cell_type": "code",
   "execution_count": 40,
   "id": "5f4832cf",
   "metadata": {
    "ExecuteTime": {
     "end_time": "2023-01-12T22:56:43.746344Z",
     "start_time": "2023-01-12T22:56:41.976968Z"
    },
    "hidden": true
   },
   "outputs": [
    {
     "data": {
      "text/plain": [
       "action           [search_results, personalize, index, similar_l...\n",
       "action_type      [click, data, view, submit, -unknown-, booking...\n",
       "action_detail    [view_search_results, wishlist_content_update,...\n",
       "device_type      [Windows Desktop, -unknown-, Mac Desktop, Andr...\n",
       "dtype: object"
      ]
     },
     "execution_count": 40,
     "metadata": {},
     "output_type": "execute_result"
    }
   ],
   "source": [
    "cat_attributes_sessions.drop(columns=\"user_id\").apply(lambda x: x.unique())"
   ]
  },
  {
   "cell_type": "code",
   "execution_count": 41,
   "id": "ecd9bb8d",
   "metadata": {
    "ExecuteTime": {
     "end_time": "2023-01-12T22:56:47.183618Z",
     "start_time": "2023-01-12T22:56:43.748330Z"
    },
    "hidden": true
   },
   "outputs": [
    {
     "data": {
      "text/html": [
       "<div>\n",
       "<style scoped>\n",
       "    .dataframe tbody tr th:only-of-type {\n",
       "        vertical-align: middle;\n",
       "    }\n",
       "\n",
       "    .dataframe tbody tr th {\n",
       "        vertical-align: top;\n",
       "    }\n",
       "\n",
       "    .dataframe thead th {\n",
       "        text-align: right;\n",
       "    }\n",
       "</style>\n",
       "<table border=\"1\" class=\"dataframe\">\n",
       "  <thead>\n",
       "    <tr style=\"text-align: right;\">\n",
       "      <th></th>\n",
       "      <th>count</th>\n",
       "      <th>unique</th>\n",
       "      <th>top</th>\n",
       "      <th>freq</th>\n",
       "    </tr>\n",
       "  </thead>\n",
       "  <tbody>\n",
       "    <tr>\n",
       "      <th>action</th>\n",
       "      <td>9213930</td>\n",
       "      <td>347</td>\n",
       "      <td>show</td>\n",
       "      <td>2178382</td>\n",
       "    </tr>\n",
       "    <tr>\n",
       "      <th>action_type</th>\n",
       "      <td>9213930</td>\n",
       "      <td>10</td>\n",
       "      <td>view</td>\n",
       "      <td>3545621</td>\n",
       "    </tr>\n",
       "    <tr>\n",
       "      <th>action_detail</th>\n",
       "      <td>9213930</td>\n",
       "      <td>155</td>\n",
       "      <td>view_search_results</td>\n",
       "      <td>1770931</td>\n",
       "    </tr>\n",
       "    <tr>\n",
       "      <th>device_type</th>\n",
       "      <td>9213930</td>\n",
       "      <td>14</td>\n",
       "      <td>Mac Desktop</td>\n",
       "      <td>3019523</td>\n",
       "    </tr>\n",
       "  </tbody>\n",
       "</table>\n",
       "</div>"
      ],
      "text/plain": [
       "                 count unique                  top     freq\n",
       "action         9213930    347                 show  2178382\n",
       "action_type    9213930     10                 view  3545621\n",
       "action_detail  9213930    155  view_search_results  1770931\n",
       "device_type    9213930     14          Mac Desktop  3019523"
      ]
     },
     "execution_count": 41,
     "metadata": {},
     "output_type": "execute_result"
    }
   ],
   "source": [
    "cat_attributes_sessions.drop(\"user_id\", axis=1).describe().T"
   ]
  },
  {
   "cell_type": "markdown",
   "id": "3647f195",
   "metadata": {
    "hidden": true
   },
   "source": [
    "### 1.7.5. Correlation Matrix - Users"
   ]
  },
  {
   "cell_type": "markdown",
   "id": "3520569f",
   "metadata": {
    "hidden": true
   },
   "source": [
    "If there are correlation between categorical variables, we may remove some of them. To evaluate correlation between categorical variables, we use Cramer's V method. "
   ]
  },
  {
   "cell_type": "code",
   "execution_count": 42,
   "id": "00a74e72",
   "metadata": {
    "ExecuteTime": {
     "end_time": "2023-01-12T22:56:51.231451Z",
     "start_time": "2023-01-12T22:56:47.186254Z"
    },
    "hidden": true
   },
   "outputs": [],
   "source": [
    "cat_attributes_list = cat_attributes.drop('id', axis=1).columns.tolist()\n",
    "\n",
    "corr_dict = {}\n",
    "for i in range( len (cat_attributes_list)):\n",
    "    corr_list = []\n",
    "    for j in range(len( cat_attributes_list)):\n",
    "        ref = cat_attributes_list[i]\n",
    "        feat = cat_attributes_list[j]\n",
    "        \n",
    "        # correlation\n",
    "        corr = cramer_v(cat_attributes[ref], cat_attributes[feat])\n",
    "        \n",
    "        # append a list\n",
    "        corr_list.append(corr)\n",
    "    \n",
    "    # appende a correlation list for each ref attributs\n",
    "    corr_dict[ref] = corr_list"
   ]
  },
  {
   "cell_type": "code",
   "execution_count": 43,
   "id": "b8d02677",
   "metadata": {
    "ExecuteTime": {
     "end_time": "2023-01-12T22:56:51.696774Z",
     "start_time": "2023-01-12T22:56:51.233194Z"
    },
    "hidden": true
   },
   "outputs": [
    {
     "data": {
      "text/plain": [
       "<AxesSubplot:>"
      ]
     },
     "execution_count": 43,
     "metadata": {},
     "output_type": "execute_result"
    },
    {
     "data": {
      "image/png": "[encoded data removed]",
      "text/plain": [
       "<Figure size 1200x600 with 2 Axes>"
      ]
     },
     "metadata": {},
     "output_type": "display_data"
    }
   ],
   "source": [
    "plt.figure(figsize =(12,6))\n",
    "\n",
    "d = pd.DataFrame( corr_dict )\n",
    "d = d.set_index( d.columns)\n",
    "sns.heatmap( d, annot=True )"
   ]
  },
  {
   "cell_type": "markdown",
   "id": "8ef1efc2",
   "metadata": {
    "hidden": true
   },
   "source": [
    "Score for Cramer's V from 0 to 1. Thus, very correlated features are those higher than 60%:\n",
    "\n",
    "1. first_device_type and signup_app: 0.65.\n",
    "2. first_browser and first_device_type: 0.63. \n",
    "3. affiliate_provider and affiliate_channel: 0.62.\n",
    "\n",
    "Choice:\n",
    "\n",
    "1. signup_app: 4 unique values.\n",
    "2. first_device_type: 9 unique values.\n",
    "3. affiliate_channel: 8 unique values.\n",
    "4. signup_app: 4 unique values. \n",
    "\n",
    "The columns that we may remove are: first_device_type, first_browser and affiliate_provider. "
   ]
  },
  {
   "cell_type": "markdown",
   "id": "4c90f301",
   "metadata": {
    "hidden": true
   },
   "source": [
    "### 1.7.6. Correlation Matrix - Sessions"
   ]
  },
  {
   "cell_type": "code",
   "execution_count": 44,
   "id": "6cfe6b55",
   "metadata": {
    "ExecuteTime": {
     "end_time": "2023-01-12T22:57:18.443008Z",
     "start_time": "2023-01-12T22:56:51.698246Z"
    },
    "hidden": true
   },
   "outputs": [],
   "source": [
    "cat_attributes_list = cat_attributes_sessions.drop('user_id', axis=1).columns.tolist()\n",
    "\n",
    "corr_dict = {}\n",
    "for i in range( len ( cat_attributes_list ) ):\n",
    "    corr_list = []\n",
    "    for j in range( len( cat_attributes_list ) ):\n",
    "        ref = cat_attributes_list[i]\n",
    "        feat = cat_attributes_list[j]\n",
    "        \n",
    "        # correlation\n",
    "        corr = cramer_v(cat_attributes_sessions[ref], cat_attributes_sessions[feat])\n",
    "        \n",
    "        # append a list\n",
    "        corr_list.append(corr)\n",
    "    \n",
    "    # appende a correlation list for each ref attributs\n",
    "    corr_dict[ref] = corr_list"
   ]
  },
  {
   "cell_type": "code",
   "execution_count": 45,
   "id": "267536ba",
   "metadata": {
    "ExecuteTime": {
     "end_time": "2023-01-12T22:57:18.645898Z",
     "start_time": "2023-01-12T22:57:18.445208Z"
    },
    "hidden": true
   },
   "outputs": [
    {
     "data": {
      "text/plain": [
       "<AxesSubplot:>"
      ]
     },
     "execution_count": 45,
     "metadata": {},
     "output_type": "execute_result"
    },
    {
     "data": {
      "image/png": "[encoded data removed]",
      "text/plain": [
       "<Figure size 640x480 with 2 Axes>"
      ]
     },
     "metadata": {},
     "output_type": "display_data"
    }
   ],
   "source": [
    "d = pd.DataFrame( corr_dict )\n",
    "d = d.set_index( d.columns)\n",
    "sns.heatmap( d, annot=True )"
   ]
  },
  {
   "cell_type": "markdown",
   "id": "50d7946e",
   "metadata": {
    "hidden": true
   },
   "source": [
    "Most correlated features based on Cramer's V score:\n",
    "\n",
    "1. action_detail and action_type: 0.98.\n",
    "2. action_type and action: 0.95.\n",
    "3. action_detail and action: 0.80. \n",
    "\n",
    "Based on the analysis done in the section 1.7.4, action detail has 155 unique classes while action_type has 10. Action detail is 98% represented by action_type. Thus, we may keep only action_type, which is the one with less classes. Similarly, we chose the following features:\n",
    "\n",
    "1. action_type.\n",
    "2. action_type.\n",
    "3. action_detail. \n",
    "\n",
    "Thus, we may remove action_detail and action columns."
   ]
  },
  {
   "cell_type": "markdown",
   "id": "40292496",
   "metadata": {},
   "source": [
    "# 2. Feature Engineering"
   ]
  },
  {
   "cell_type": "code",
   "execution_count": 46,
   "id": "7045d352",
   "metadata": {
    "ExecuteTime": {
     "end_time": "2023-01-12T22:57:18.704249Z",
     "start_time": "2023-01-12T22:57:18.647865Z"
    }
   },
   "outputs": [],
   "source": [
    "df2 = df1.copy()"
   ]
  },
  {
   "cell_type": "markdown",
   "id": "8da7ecea",
   "metadata": {},
   "source": [
    "## 2.1. Hypotheses Mind Map"
   ]
  },
  {
   "cell_type": "code",
   "execution_count": 47,
   "id": "785270e0",
   "metadata": {
    "ExecuteTime": {
     "end_time": "2023-01-12T22:57:18.718118Z",
     "start_time": "2023-01-12T22:57:18.706150Z"
    }
   },
   "outputs": [
    {
     "data": {
      "image/png": "[encoded data removed]",
      "text/plain": [
       "<IPython.core.display.Image object>"
      ]
     },
     "execution_count": 47,
     "metadata": {},
     "output_type": "execute_result"
    }
   ],
   "source": [
    "Image(\"images/HypothesesMindMap.png\")"
   ]
  },
  {
   "cell_type": "markdown",
   "id": "bc1ad464",
   "metadata": {},
   "source": [
    "## 2.2. Hypotheses Generation"
   ]
  },
  {
   "cell_type": "markdown",
   "id": "e571130e",
   "metadata": {},
   "source": [
    "Based on the mind map above, we generated the hypotheses in this section."
   ]
  },
  {
   "cell_type": "markdown",
   "id": "f6d3d94f",
   "metadata": {},
   "source": [
    "### 2.2.1. App Hypotheses"
   ]
  },
  {
   "cell_type": "code",
   "execution_count": null,
   "id": "b427bdc8",
   "metadata": {},
   "outputs": [],
   "source": []
  },
  {
   "cell_type": "markdown",
   "id": "d8ebf324",
   "metadata": {},
   "source": [
    "### 2.2.2. Customers Hypotheses"
   ]
  },
  {
   "cell_type": "code",
   "execution_count": null,
   "id": "ac08fc13",
   "metadata": {},
   "outputs": [],
   "source": []
  },
  {
   "cell_type": "markdown",
   "id": "40158435",
   "metadata": {},
   "source": [
    "### 2.2.3. Seasonality Hypotheses"
   ]
  },
  {
   "cell_type": "code",
   "execution_count": null,
   "id": "a73a9c1b",
   "metadata": {},
   "outputs": [],
   "source": []
  },
  {
   "cell_type": "markdown",
   "id": "d5ebbba5",
   "metadata": {},
   "source": [
    "## 2.3. Hypotheses Final List"
   ]
  },
  {
   "cell_type": "code",
   "execution_count": null,
   "id": "8a7123d6",
   "metadata": {},
   "outputs": [],
   "source": []
  },
  {
   "cell_type": "markdown",
   "id": "a88f9c57",
   "metadata": {},
   "source": [
    "## 2.4. Feature Engineering"
   ]
  },
  {
   "cell_type": "markdown",
   "id": "1d3df932",
   "metadata": {},
   "source": [
    "We need variables which model the phenomenon. We derive a feature (derived) from an attribute (original from a dataset). The main motivation is to increase model performance.\n",
    "\n",
    "- We must always think about how much time takes to happen something.\n",
    "- We must break date into day, week, month, year and other time features as we may see below (date derivations)."
   ]
  },
  {
   "cell_type": "code",
   "execution_count": 48,
   "id": "7d09412d",
   "metadata": {
    "ExecuteTime": {
     "end_time": "2023-01-12T22:57:18.726500Z",
     "start_time": "2023-01-12T22:57:18.721050Z"
    }
   },
   "outputs": [
    {
     "data": {
      "text/plain": [
       "id                                 object\n",
       "date_account_created       datetime64[ns]\n",
       "timestamp_first_active     datetime64[ns]\n",
       "date_first_booking         datetime64[ns]\n",
       "gender                             object\n",
       "age                                 int64\n",
       "signup_method                      object\n",
       "signup_flow                         int64\n",
       "language                           object\n",
       "affiliate_channel                  object\n",
       "affiliate_provider                 object\n",
       "first_affiliate_tracked            object\n",
       "signup_app                         object\n",
       "first_device_type                  object\n",
       "first_browser                      object\n",
       "country_destination                object\n",
       "dtype: object"
      ]
     },
     "execution_count": 48,
     "metadata": {},
     "output_type": "execute_result"
    }
   ],
   "source": [
    "df2.dtypes"
   ]
  },
  {
   "cell_type": "code",
   "execution_count": 49,
   "id": "74f334bc",
   "metadata": {
    "ExecuteTime": {
     "end_time": "2023-01-12T22:57:18.744014Z",
     "start_time": "2023-01-12T22:57:18.728588Z"
    }
   },
   "outputs": [
    {
     "data": {
      "text/html": [
       "<div>\n",
       "<style scoped>\n",
       "    .dataframe tbody tr th:only-of-type {\n",
       "        vertical-align: middle;\n",
       "    }\n",
       "\n",
       "    .dataframe tbody tr th {\n",
       "        vertical-align: top;\n",
       "    }\n",
       "\n",
       "    .dataframe thead th {\n",
       "        text-align: right;\n",
       "    }\n",
       "</style>\n",
       "<table border=\"1\" class=\"dataframe\">\n",
       "  <thead>\n",
       "    <tr style=\"text-align: right;\">\n",
       "      <th></th>\n",
       "      <th>id</th>\n",
       "      <th>date_account_created</th>\n",
       "      <th>timestamp_first_active</th>\n",
       "      <th>date_first_booking</th>\n",
       "      <th>gender</th>\n",
       "      <th>age</th>\n",
       "      <th>signup_method</th>\n",
       "      <th>signup_flow</th>\n",
       "      <th>language</th>\n",
       "      <th>affiliate_channel</th>\n",
       "      <th>affiliate_provider</th>\n",
       "      <th>first_affiliate_tracked</th>\n",
       "      <th>signup_app</th>\n",
       "      <th>first_device_type</th>\n",
       "      <th>first_browser</th>\n",
       "      <th>country_destination</th>\n",
       "    </tr>\n",
       "  </thead>\n",
       "  <tbody>\n",
       "    <tr>\n",
       "      <th>0</th>\n",
       "      <td>gxn3p5htnn</td>\n",
       "      <td>2010-06-28</td>\n",
       "      <td>2009-03-19 04:32:55</td>\n",
       "      <td>2015-06-29</td>\n",
       "      <td>-unknown-</td>\n",
       "      <td>37</td>\n",
       "      <td>facebook</td>\n",
       "      <td>0</td>\n",
       "      <td>en</td>\n",
       "      <td>direct</td>\n",
       "      <td>direct</td>\n",
       "      <td>untracked</td>\n",
       "      <td>Web</td>\n",
       "      <td>Mac Desktop</td>\n",
       "      <td>Chrome</td>\n",
       "      <td>NDF</td>\n",
       "    </tr>\n",
       "    <tr>\n",
       "      <th>1</th>\n",
       "      <td>820tgsjxq7</td>\n",
       "      <td>2011-05-25</td>\n",
       "      <td>2009-05-23 17:48:09</td>\n",
       "      <td>2015-06-29</td>\n",
       "      <td>MALE</td>\n",
       "      <td>38</td>\n",
       "      <td>facebook</td>\n",
       "      <td>0</td>\n",
       "      <td>en</td>\n",
       "      <td>seo</td>\n",
       "      <td>google</td>\n",
       "      <td>untracked</td>\n",
       "      <td>Web</td>\n",
       "      <td>Mac Desktop</td>\n",
       "      <td>Chrome</td>\n",
       "      <td>NDF</td>\n",
       "    </tr>\n",
       "    <tr>\n",
       "      <th>2</th>\n",
       "      <td>4ft3gnwmtx</td>\n",
       "      <td>2010-09-28</td>\n",
       "      <td>2009-06-09 23:12:47</td>\n",
       "      <td>2010-08-02</td>\n",
       "      <td>FEMALE</td>\n",
       "      <td>56</td>\n",
       "      <td>basic</td>\n",
       "      <td>3</td>\n",
       "      <td>en</td>\n",
       "      <td>direct</td>\n",
       "      <td>direct</td>\n",
       "      <td>untracked</td>\n",
       "      <td>Web</td>\n",
       "      <td>Windows Desktop</td>\n",
       "      <td>IE</td>\n",
       "      <td>US</td>\n",
       "    </tr>\n",
       "    <tr>\n",
       "      <th>3</th>\n",
       "      <td>bjjt8pjhuk</td>\n",
       "      <td>2011-12-05</td>\n",
       "      <td>2009-10-31 06:01:29</td>\n",
       "      <td>2012-09-08</td>\n",
       "      <td>FEMALE</td>\n",
       "      <td>42</td>\n",
       "      <td>facebook</td>\n",
       "      <td>0</td>\n",
       "      <td>en</td>\n",
       "      <td>direct</td>\n",
       "      <td>direct</td>\n",
       "      <td>untracked</td>\n",
       "      <td>Web</td>\n",
       "      <td>Mac Desktop</td>\n",
       "      <td>Firefox</td>\n",
       "      <td>other</td>\n",
       "    </tr>\n",
       "    <tr>\n",
       "      <th>4</th>\n",
       "      <td>87mebub9p4</td>\n",
       "      <td>2010-09-14</td>\n",
       "      <td>2009-12-08 06:11:05</td>\n",
       "      <td>2010-02-18</td>\n",
       "      <td>-unknown-</td>\n",
       "      <td>41</td>\n",
       "      <td>basic</td>\n",
       "      <td>0</td>\n",
       "      <td>en</td>\n",
       "      <td>direct</td>\n",
       "      <td>direct</td>\n",
       "      <td>untracked</td>\n",
       "      <td>Web</td>\n",
       "      <td>Mac Desktop</td>\n",
       "      <td>Chrome</td>\n",
       "      <td>US</td>\n",
       "    </tr>\n",
       "  </tbody>\n",
       "</table>\n",
       "</div>"
      ],
      "text/plain": [
       "           id date_account_created timestamp_first_active date_first_booking  \\\n",
       "0  gxn3p5htnn           2010-06-28    2009-03-19 04:32:55         2015-06-29   \n",
       "1  820tgsjxq7           2011-05-25    2009-05-23 17:48:09         2015-06-29   \n",
       "2  4ft3gnwmtx           2010-09-28    2009-06-09 23:12:47         2010-08-02   \n",
       "3  bjjt8pjhuk           2011-12-05    2009-10-31 06:01:29         2012-09-08   \n",
       "4  87mebub9p4           2010-09-14    2009-12-08 06:11:05         2010-02-18   \n",
       "\n",
       "      gender  age signup_method  signup_flow language affiliate_channel  \\\n",
       "0  -unknown-   37      facebook            0       en            direct   \n",
       "1       MALE   38      facebook            0       en               seo   \n",
       "2     FEMALE   56         basic            3       en            direct   \n",
       "3     FEMALE   42      facebook            0       en            direct   \n",
       "4  -unknown-   41         basic            0       en            direct   \n",
       "\n",
       "  affiliate_provider first_affiliate_tracked signup_app first_device_type  \\\n",
       "0             direct               untracked        Web       Mac Desktop   \n",
       "1             google               untracked        Web       Mac Desktop   \n",
       "2             direct               untracked        Web   Windows Desktop   \n",
       "3             direct               untracked        Web       Mac Desktop   \n",
       "4             direct               untracked        Web       Mac Desktop   \n",
       "\n",
       "  first_browser country_destination  \n",
       "0        Chrome                 NDF  \n",
       "1        Chrome                 NDF  \n",
       "2            IE                  US  \n",
       "3       Firefox               other  \n",
       "4        Chrome                  US  "
      ]
     },
     "execution_count": 49,
     "metadata": {},
     "output_type": "execute_result"
    }
   ],
   "source": [
    "df2.head()"
   ]
  },
  {
   "cell_type": "code",
   "execution_count": 50,
   "id": "04758935",
   "metadata": {
    "ExecuteTime": {
     "end_time": "2023-01-12T22:57:24.164619Z",
     "start_time": "2023-01-12T22:57:18.746179Z"
    }
   },
   "outputs": [
    {
     "name": "stderr",
     "output_type": "stream",
     "text": [
      "/var/folders/p8/gqg5wqj951j06qtpr3cpkmrr0000gr/T/ipykernel_1560/833517296.py:26: FutureWarning: Series.dt.weekofyear and Series.dt.week have been deprecated. Please use Series.dt.isocalendar().week instead.\n",
      "  df2['week_of_year_first_active'] = df2['first_active'].dt.weekofyear\n",
      "/var/folders/p8/gqg5wqj951j06qtpr3cpkmrr0000gr/T/ipykernel_1560/833517296.py:43: FutureWarning: Series.dt.weekofyear and Series.dt.week have been deprecated. Please use Series.dt.isocalendar().week instead.\n",
      "  df2['week_of_year_first_booking'] = df2['date_first_booking'].dt.weekofyear\n",
      "/var/folders/p8/gqg5wqj951j06qtpr3cpkmrr0000gr/T/ipykernel_1560/833517296.py:60: FutureWarning: Series.dt.weekofyear and Series.dt.week have been deprecated. Please use Series.dt.isocalendar().week instead.\n",
      "  df2['week_of_year_account_created'] = df2['date_account_created'].dt.weekofyear\n"
     ]
    }
   ],
   "source": [
    "# days from first active up to first booking\n",
    "df2['first_active'] = pd.to_datetime( df2['timestamp_first_active'].dt.strftime( '%Y-%m-%d' ) )\n",
    "df2['days_from_first_active_until_booking'] = ( df2['date_first_booking'] - df2['first_active'] ).apply( lambda x: x.days )\n",
    "\n",
    "# days from first active up to account created\n",
    "df2['days_from_first_active_until_account_created'] = ( df2['date_account_created'] - df2['first_active'] ).apply( lambda x: x.days )\n",
    "\n",
    "# days from account createad up to first booking\n",
    "df2['days_from_account_created_until_first_booking'] = ( df2['date_first_booking'] - df2['date_account_created'] ).apply( lambda x: x.days )\n",
    "\n",
    "# ================== First Active ==================\n",
    "\n",
    "# year first active\n",
    "df2['year_first_active'] = df2['first_active'].dt.year\n",
    "\n",
    "# month first active\n",
    "df2['month_first_active'] = df2['first_active'].dt.month\n",
    "\n",
    "# day first active\n",
    "df2['day_first_active'] = df2['first_active'].dt.day\n",
    "\n",
    "# day of week first active\n",
    "df2['day_of_week_first_active'] = df2['first_active'].dt.dayofweek\n",
    "\n",
    "# week of year first active\n",
    "df2['week_of_year_first_active'] = df2['first_active'].dt.weekofyear\n",
    "\n",
    "# ================== First Booking ==================\n",
    "\n",
    "# year first booking\n",
    "df2['year_first_booking'] = df2['date_first_booking'].dt.year\n",
    "\n",
    "# month first booking\n",
    "df2['month_first_booking'] = df2['date_first_booking'].dt.month\n",
    "\n",
    "# day first booking\n",
    "df2['day_first_booking'] = df2['date_first_booking'].dt.day\n",
    "\n",
    "# day of week first booking\n",
    "df2['day_of_week_first_booking'] = df2['date_first_booking'].dt.dayofweek\n",
    "\n",
    "# week of year first booking\n",
    "df2['week_of_year_first_booking'] = df2['date_first_booking'].dt.weekofyear\n",
    "\n",
    "# ================== First Account Created =================\n",
    "\n",
    "# year first booking\n",
    "df2['year_account_created'] = df2['date_account_created'].dt.year\n",
    "\n",
    "# month  account_created\n",
    "df2['month_account_created'] = df2['date_account_created'].dt.month\n",
    "\n",
    "# day  account_created\n",
    "df2['day_account_created'] = df2['date_account_created'].dt.day\n",
    "\n",
    "# day of week  account_created\n",
    "df2['day_of_week_account_created'] = df2['date_account_created'].dt.dayofweek\n",
    "\n",
    "# week of year  account_created\n",
    "df2['week_of_year_account_created'] = df2['date_account_created'].dt.weekofyear"
   ]
  },
  {
   "cell_type": "code",
   "execution_count": 51,
   "id": "35f564a5",
   "metadata": {
    "ExecuteTime": {
     "end_time": "2023-01-12T22:57:24.170174Z",
     "start_time": "2023-01-12T22:57:24.165975Z"
    }
   },
   "outputs": [
    {
     "data": {
      "text/plain": [
       "(207386, 35)"
      ]
     },
     "execution_count": 51,
     "metadata": {},
     "output_type": "execute_result"
    }
   ],
   "source": [
    "df2.shape"
   ]
  },
  {
   "cell_type": "markdown",
   "id": "4588abbb",
   "metadata": {
    "heading_collapsed": true
   },
   "source": [
    "# 3. Feature Filtering and Selection"
   ]
  },
  {
   "cell_type": "code",
   "execution_count": 52,
   "id": "36e10b79",
   "metadata": {
    "ExecuteTime": {
     "end_time": "2023-01-12T22:57:24.261624Z",
     "start_time": "2023-01-12T22:57:24.172345Z"
    },
    "hidden": true
   },
   "outputs": [],
   "source": [
    "df3 = df2.copy()"
   ]
  },
  {
   "cell_type": "markdown",
   "id": "fb49cb79",
   "metadata": {
    "hidden": true
   },
   "source": [
    "## 3.1. Feature Filtering"
   ]
  },
  {
   "cell_type": "code",
   "execution_count": 53,
   "id": "2aaef36e",
   "metadata": {
    "ExecuteTime": {
     "end_time": "2023-01-12T22:57:25.038738Z",
     "start_time": "2023-01-12T22:57:24.263719Z"
    },
    "hidden": true
   },
   "outputs": [],
   "source": [
    "# Filtering rows:\n",
    "# age - greater than 15 and lower than 120 - There are not people older than 122    \n",
    "df3 = df3[( df3['age'] > 15 ) & ( df3['age'] < 122 )]\n",
    "\n",
    "# secs_elapsed - there is no possible 0 secs elapsed on website\n",
    "df_sessions = df_sessions[df_sessions['secs_elapsed'] > 0]"
   ]
  },
  {
   "cell_type": "markdown",
   "id": "7652a7d0",
   "metadata": {
    "hidden": true
   },
   "source": [
    "## 3.2. Columns Selection"
   ]
  },
  {
   "cell_type": "markdown",
   "id": "762534ed",
   "metadata": {
    "hidden": true
   },
   "source": [
    "Based on sections 1.7.5 and 1.7.6, we chose the following columns to be removed. We must have the minimum number of columns in order to avoid model overfitting."
   ]
  },
  {
   "cell_type": "code",
   "execution_count": 54,
   "id": "d6115875",
   "metadata": {
    "ExecuteTime": {
     "end_time": "2023-01-12T22:57:25.399738Z",
     "start_time": "2023-01-12T22:57:25.040862Z"
    },
    "hidden": true
   },
   "outputs": [],
   "source": [
    "cols_drop_users = [\"first_device_type\", \"first_browser\", \"affiliate_provider\"]\n",
    "cols_drop_sessions = [\"action_detail\", \"action\"]\n",
    "\n",
    "df3 = df3.drop(cols_drop_users, axis=1)\n",
    "df_sessions = df_sessions.drop(cols_drop_sessions, axis=1)"
   ]
  },
  {
   "cell_type": "markdown",
   "id": "bc1ed4c9",
   "metadata": {
    "heading_collapsed": true
   },
   "source": [
    "# 4. Exploratory Data Analysis (EDA)"
   ]
  },
  {
   "cell_type": "code",
   "execution_count": 55,
   "id": "baecdc02",
   "metadata": {
    "ExecuteTime": {
     "end_time": "2023-01-12T22:57:25.416817Z",
     "start_time": "2023-01-12T22:57:25.401893Z"
    },
    "hidden": true
   },
   "outputs": [],
   "source": [
    "df4 = df3.copy()"
   ]
  },
  {
   "cell_type": "code",
   "execution_count": 56,
   "id": "2c8f0b16",
   "metadata": {
    "ExecuteTime": {
     "end_time": "2023-01-12T22:57:25.438168Z",
     "start_time": "2023-01-12T22:57:25.419235Z"
    },
    "hidden": true
   },
   "outputs": [
    {
     "data": {
      "text/html": [
       "<div>\n",
       "<style scoped>\n",
       "    .dataframe tbody tr th:only-of-type {\n",
       "        vertical-align: middle;\n",
       "    }\n",
       "\n",
       "    .dataframe tbody tr th {\n",
       "        vertical-align: top;\n",
       "    }\n",
       "\n",
       "    .dataframe thead th {\n",
       "        text-align: right;\n",
       "    }\n",
       "</style>\n",
       "<table border=\"1\" class=\"dataframe\">\n",
       "  <thead>\n",
       "    <tr style=\"text-align: right;\">\n",
       "      <th></th>\n",
       "      <th>id</th>\n",
       "      <th>date_account_created</th>\n",
       "      <th>timestamp_first_active</th>\n",
       "      <th>date_first_booking</th>\n",
       "      <th>gender</th>\n",
       "      <th>age</th>\n",
       "      <th>signup_method</th>\n",
       "      <th>signup_flow</th>\n",
       "      <th>language</th>\n",
       "      <th>affiliate_channel</th>\n",
       "      <th>...</th>\n",
       "      <th>year_first_booking</th>\n",
       "      <th>month_first_booking</th>\n",
       "      <th>day_first_booking</th>\n",
       "      <th>day_of_week_first_booking</th>\n",
       "      <th>week_of_year_first_booking</th>\n",
       "      <th>year_account_created</th>\n",
       "      <th>month_account_created</th>\n",
       "      <th>day_account_created</th>\n",
       "      <th>day_of_week_account_created</th>\n",
       "      <th>week_of_year_account_created</th>\n",
       "    </tr>\n",
       "  </thead>\n",
       "  <tbody>\n",
       "    <tr>\n",
       "      <th>0</th>\n",
       "      <td>gxn3p5htnn</td>\n",
       "      <td>2010-06-28</td>\n",
       "      <td>2009-03-19 04:32:55</td>\n",
       "      <td>2015-06-29</td>\n",
       "      <td>-unknown-</td>\n",
       "      <td>37</td>\n",
       "      <td>facebook</td>\n",
       "      <td>0</td>\n",
       "      <td>en</td>\n",
       "      <td>direct</td>\n",
       "      <td>...</td>\n",
       "      <td>2015</td>\n",
       "      <td>6</td>\n",
       "      <td>29</td>\n",
       "      <td>0</td>\n",
       "      <td>27</td>\n",
       "      <td>2010</td>\n",
       "      <td>6</td>\n",
       "      <td>28</td>\n",
       "      <td>0</td>\n",
       "      <td>26</td>\n",
       "    </tr>\n",
       "    <tr>\n",
       "      <th>1</th>\n",
       "      <td>820tgsjxq7</td>\n",
       "      <td>2011-05-25</td>\n",
       "      <td>2009-05-23 17:48:09</td>\n",
       "      <td>2015-06-29</td>\n",
       "      <td>MALE</td>\n",
       "      <td>38</td>\n",
       "      <td>facebook</td>\n",
       "      <td>0</td>\n",
       "      <td>en</td>\n",
       "      <td>seo</td>\n",
       "      <td>...</td>\n",
       "      <td>2015</td>\n",
       "      <td>6</td>\n",
       "      <td>29</td>\n",
       "      <td>0</td>\n",
       "      <td>27</td>\n",
       "      <td>2011</td>\n",
       "      <td>5</td>\n",
       "      <td>25</td>\n",
       "      <td>2</td>\n",
       "      <td>21</td>\n",
       "    </tr>\n",
       "    <tr>\n",
       "      <th>2</th>\n",
       "      <td>4ft3gnwmtx</td>\n",
       "      <td>2010-09-28</td>\n",
       "      <td>2009-06-09 23:12:47</td>\n",
       "      <td>2010-08-02</td>\n",
       "      <td>FEMALE</td>\n",
       "      <td>56</td>\n",
       "      <td>basic</td>\n",
       "      <td>3</td>\n",
       "      <td>en</td>\n",
       "      <td>direct</td>\n",
       "      <td>...</td>\n",
       "      <td>2010</td>\n",
       "      <td>8</td>\n",
       "      <td>2</td>\n",
       "      <td>0</td>\n",
       "      <td>31</td>\n",
       "      <td>2010</td>\n",
       "      <td>9</td>\n",
       "      <td>28</td>\n",
       "      <td>1</td>\n",
       "      <td>39</td>\n",
       "    </tr>\n",
       "    <tr>\n",
       "      <th>3</th>\n",
       "      <td>bjjt8pjhuk</td>\n",
       "      <td>2011-12-05</td>\n",
       "      <td>2009-10-31 06:01:29</td>\n",
       "      <td>2012-09-08</td>\n",
       "      <td>FEMALE</td>\n",
       "      <td>42</td>\n",
       "      <td>facebook</td>\n",
       "      <td>0</td>\n",
       "      <td>en</td>\n",
       "      <td>direct</td>\n",
       "      <td>...</td>\n",
       "      <td>2012</td>\n",
       "      <td>9</td>\n",
       "      <td>8</td>\n",
       "      <td>5</td>\n",
       "      <td>36</td>\n",
       "      <td>2011</td>\n",
       "      <td>12</td>\n",
       "      <td>5</td>\n",
       "      <td>0</td>\n",
       "      <td>49</td>\n",
       "    </tr>\n",
       "    <tr>\n",
       "      <th>4</th>\n",
       "      <td>87mebub9p4</td>\n",
       "      <td>2010-09-14</td>\n",
       "      <td>2009-12-08 06:11:05</td>\n",
       "      <td>2010-02-18</td>\n",
       "      <td>-unknown-</td>\n",
       "      <td>41</td>\n",
       "      <td>basic</td>\n",
       "      <td>0</td>\n",
       "      <td>en</td>\n",
       "      <td>direct</td>\n",
       "      <td>...</td>\n",
       "      <td>2010</td>\n",
       "      <td>2</td>\n",
       "      <td>18</td>\n",
       "      <td>3</td>\n",
       "      <td>7</td>\n",
       "      <td>2010</td>\n",
       "      <td>9</td>\n",
       "      <td>14</td>\n",
       "      <td>1</td>\n",
       "      <td>37</td>\n",
       "    </tr>\n",
       "  </tbody>\n",
       "</table>\n",
       "<p>5 rows × 32 columns</p>\n",
       "</div>"
      ],
      "text/plain": [
       "           id date_account_created timestamp_first_active date_first_booking  \\\n",
       "0  gxn3p5htnn           2010-06-28    2009-03-19 04:32:55         2015-06-29   \n",
       "1  820tgsjxq7           2011-05-25    2009-05-23 17:48:09         2015-06-29   \n",
       "2  4ft3gnwmtx           2010-09-28    2009-06-09 23:12:47         2010-08-02   \n",
       "3  bjjt8pjhuk           2011-12-05    2009-10-31 06:01:29         2012-09-08   \n",
       "4  87mebub9p4           2010-09-14    2009-12-08 06:11:05         2010-02-18   \n",
       "\n",
       "      gender  age signup_method  signup_flow language affiliate_channel  ...  \\\n",
       "0  -unknown-   37      facebook            0       en            direct  ...   \n",
       "1       MALE   38      facebook            0       en               seo  ...   \n",
       "2     FEMALE   56         basic            3       en            direct  ...   \n",
       "3     FEMALE   42      facebook            0       en            direct  ...   \n",
       "4  -unknown-   41         basic            0       en            direct  ...   \n",
       "\n",
       "  year_first_booking month_first_booking day_first_booking  \\\n",
       "0               2015                   6                29   \n",
       "1               2015                   6                29   \n",
       "2               2010                   8                 2   \n",
       "3               2012                   9                 8   \n",
       "4               2010                   2                18   \n",
       "\n",
       "  day_of_week_first_booking  week_of_year_first_booking  year_account_created  \\\n",
       "0                         0                          27                  2010   \n",
       "1                         0                          27                  2011   \n",
       "2                         0                          31                  2010   \n",
       "3                         5                          36                  2011   \n",
       "4                         3                           7                  2010   \n",
       "\n",
       "   month_account_created  day_account_created  day_of_week_account_created  \\\n",
       "0                      6                   28                            0   \n",
       "1                      5                   25                            2   \n",
       "2                      9                   28                            1   \n",
       "3                     12                    5                            0   \n",
       "4                      9                   14                            1   \n",
       "\n",
       "   week_of_year_account_created  \n",
       "0                            26  \n",
       "1                            21  \n",
       "2                            39  \n",
       "3                            49  \n",
       "4                            37  \n",
       "\n",
       "[5 rows x 32 columns]"
      ]
     },
     "execution_count": 56,
     "metadata": {},
     "output_type": "execute_result"
    }
   ],
   "source": [
    "df4.head()"
   ]
  },
  {
   "cell_type": "markdown",
   "id": "668a4d00",
   "metadata": {
    "heading_collapsed": true
   },
   "source": [
    "# 5. Data Preparation"
   ]
  },
  {
   "cell_type": "code",
   "execution_count": 57,
   "id": "edc43a8c",
   "metadata": {
    "ExecuteTime": {
     "end_time": "2023-01-12T22:57:25.473516Z",
     "start_time": "2023-01-12T22:57:25.440108Z"
    },
    "hidden": true
   },
   "outputs": [],
   "source": [
    "df5 = df4.copy()"
   ]
  },
  {
   "cell_type": "code",
   "execution_count": 58,
   "id": "466a9ef0",
   "metadata": {
    "ExecuteTime": {
     "end_time": "2023-01-12T22:57:25.729246Z",
     "start_time": "2023-01-12T22:57:25.475692Z"
    },
    "hidden": true
   },
   "outputs": [],
   "source": [
    " # dummy variable\n",
    "df5_dummy = pd.get_dummies(df5.drop(['id', 'country_destination'], axis=1))\n",
    "\n",
    "# join id and country destination\n",
    "df5 = pd.concat([df5[['id', 'country_destination']], df5_dummy], axis=1) "
   ]
  },
  {
   "cell_type": "code",
   "execution_count": 59,
   "id": "69ff343b",
   "metadata": {
    "ExecuteTime": {
     "end_time": "2023-01-12T22:57:25.785623Z",
     "start_time": "2023-01-12T22:57:25.731416Z"
    },
    "hidden": true
   },
   "outputs": [
    {
     "data": {
      "text/html": [
       "<div>\n",
       "<style scoped>\n",
       "    .dataframe tbody tr th:only-of-type {\n",
       "        vertical-align: middle;\n",
       "    }\n",
       "\n",
       "    .dataframe tbody tr th {\n",
       "        vertical-align: top;\n",
       "    }\n",
       "\n",
       "    .dataframe thead th {\n",
       "        text-align: right;\n",
       "    }\n",
       "</style>\n",
       "<table border=\"1\" class=\"dataframe\">\n",
       "  <thead>\n",
       "    <tr style=\"text-align: right;\">\n",
       "      <th></th>\n",
       "      <th>id</th>\n",
       "      <th>country_destination</th>\n",
       "      <th>date_account_created</th>\n",
       "      <th>timestamp_first_active</th>\n",
       "      <th>date_first_booking</th>\n",
       "      <th>age</th>\n",
       "      <th>signup_flow</th>\n",
       "      <th>first_active</th>\n",
       "      <th>days_from_first_active_until_booking</th>\n",
       "      <th>days_from_first_active_until_account_created</th>\n",
       "      <th>...</th>\n",
       "      <th>first_affiliate_tracked_local ops</th>\n",
       "      <th>first_affiliate_tracked_marketing</th>\n",
       "      <th>first_affiliate_tracked_omg</th>\n",
       "      <th>first_affiliate_tracked_product</th>\n",
       "      <th>first_affiliate_tracked_tracked-other</th>\n",
       "      <th>first_affiliate_tracked_untracked</th>\n",
       "      <th>signup_app_Android</th>\n",
       "      <th>signup_app_Moweb</th>\n",
       "      <th>signup_app_Web</th>\n",
       "      <th>signup_app_iOS</th>\n",
       "    </tr>\n",
       "  </thead>\n",
       "  <tbody>\n",
       "    <tr>\n",
       "      <th>105264</th>\n",
       "      <td>0o878irj5k</td>\n",
       "      <td>NDF</td>\n",
       "      <td>2013-09-05</td>\n",
       "      <td>2013-09-05 20:47:55</td>\n",
       "      <td>2015-06-29</td>\n",
       "      <td>37</td>\n",
       "      <td>25</td>\n",
       "      <td>2013-09-05</td>\n",
       "      <td>662</td>\n",
       "      <td>0</td>\n",
       "      <td>...</td>\n",
       "      <td>0</td>\n",
       "      <td>0</td>\n",
       "      <td>0</td>\n",
       "      <td>0</td>\n",
       "      <td>0</td>\n",
       "      <td>1</td>\n",
       "      <td>0</td>\n",
       "      <td>0</td>\n",
       "      <td>0</td>\n",
       "      <td>1</td>\n",
       "    </tr>\n",
       "  </tbody>\n",
       "</table>\n",
       "<p>1 rows × 77 columns</p>\n",
       "</div>"
      ],
      "text/plain": [
       "                id country_destination date_account_created  \\\n",
       "105264  0o878irj5k                 NDF           2013-09-05   \n",
       "\n",
       "       timestamp_first_active date_first_booking  age  signup_flow  \\\n",
       "105264    2013-09-05 20:47:55         2015-06-29   37           25   \n",
       "\n",
       "       first_active  days_from_first_active_until_booking  \\\n",
       "105264   2013-09-05                                   662   \n",
       "\n",
       "        days_from_first_active_until_account_created  ...  \\\n",
       "105264                                             0  ...   \n",
       "\n",
       "        first_affiliate_tracked_local ops  first_affiliate_tracked_marketing  \\\n",
       "105264                                  0                                  0   \n",
       "\n",
       "        first_affiliate_tracked_omg  first_affiliate_tracked_product  \\\n",
       "105264                            0                                0   \n",
       "\n",
       "        first_affiliate_tracked_tracked-other  \\\n",
       "105264                                      0   \n",
       "\n",
       "        first_affiliate_tracked_untracked  signup_app_Android  \\\n",
       "105264                                  1                   0   \n",
       "\n",
       "        signup_app_Moweb  signup_app_Web  signup_app_iOS  \n",
       "105264                 0               0               1  \n",
       "\n",
       "[1 rows x 77 columns]"
      ]
     },
     "execution_count": 59,
     "metadata": {},
     "output_type": "execute_result"
    }
   ],
   "source": [
    "df5.sample()"
   ]
  },
  {
   "cell_type": "markdown",
   "id": "ca653553",
   "metadata": {},
   "source": [
    "# 6. Feature Selection"
   ]
  },
  {
   "cell_type": "markdown",
   "id": "a9a59d1e",
   "metadata": {},
   "source": [
    "We must delete date type features in order to train the model. "
   ]
  },
  {
   "cell_type": "code",
   "execution_count": 72,
   "id": "11ef629a",
   "metadata": {
    "ExecuteTime": {
     "end_time": "2023-01-12T23:02:32.581951Z",
     "start_time": "2023-01-12T23:02:32.541183Z"
    }
   },
   "outputs": [],
   "source": [
    "cols_drop = ['date_account_created', 'timestamp_first_active', 'date_first_booking', 'first_active'] # original dates\n",
    "df6 = df5.drop(cols_drop, axis=1)"
   ]
  },
  {
   "cell_type": "markdown",
   "id": "c579cec9",
   "metadata": {},
   "source": [
    "# 7. Machine Learning Modeling"
   ]
  },
  {
   "cell_type": "code",
   "execution_count": 73,
   "id": "7bb49b1e",
   "metadata": {
    "ExecuteTime": {
     "end_time": "2023-01-12T23:02:32.600130Z",
     "start_time": "2023-01-12T23:02:32.584549Z"
    }
   },
   "outputs": [],
   "source": [
    "df7 = df6.copy()"
   ]
  },
  {
   "cell_type": "markdown",
   "id": "5eee12a3",
   "metadata": {},
   "source": [
    "## 7.1. Performance Metrics "
   ]
  },
  {
   "cell_type": "markdown",
   "id": "43a13948",
   "metadata": {},
   "source": [
    "Since we have a multi-class problem and very imbalanced, in this project, we must aim for metrics which considers these characteristics."
   ]
  },
  {
   "cell_type": "markdown",
   "id": "429147c0",
   "metadata": {},
   "source": [
    "#### Accuracy"
   ]
  },
  {
   "cell_type": "markdown",
   "id": "a81e79db",
   "metadata": {},
   "source": [
    "Number of correct predictions over total number of predictions. \n",
    "\n",
    "- Number of correct predictions: sum of principal diagonal of the confusion matrix.\n",
    "- Number of predictions: sum of all numbers of the confusion matrix."
   ]
  },
  {
   "cell_type": "markdown",
   "id": "7901de33",
   "metadata": {},
   "source": [
    "Accuracy is biased towards a class with more available examples - and hence: more correct predictions. As we have a very imbalanced dataset, thus this is not the most proper metric to evaluate model performance. "
   ]
  },
  {
   "cell_type": "markdown",
   "id": "b051fe43",
   "metadata": {},
   "source": [
    "#### Precision"
   ]
  },
  {
   "cell_type": "markdown",
   "id": "7c68cc26",
   "metadata": {},
   "source": [
    "Number of correct predictions for each class over number of predictions for each class.\n",
    "\n",
    "- Number of correct predictions for each class: intersection of class of the confusion matrix.\n",
    "- Number of predictions for each class: sum of vertical numbers of a class.\n",
    "\n",
    "We use this metric when there are classes more important than others. Although this metric is good for imbalanced/unbalanced problems, the precision is not the most important for us. We are not working with medical development, for instance."
   ]
  },
  {
   "cell_type": "markdown",
   "id": "e35f8dca",
   "metadata": {},
   "source": [
    "#### Recall (Sensitivity)"
   ]
  },
  {
   "cell_type": "markdown",
   "id": "0001d64e",
   "metadata": {},
   "source": [
    "Number of correct predictions for each class over number of total values for each class.\n",
    "\n",
    "- Number of correct predictions for each class: intersection of class of the confunsion matrix.\n",
    "- Number of total values for each class: sum of horizontal numbers of a class. \n",
    "\n",
    "We discard this metric because it is not good for imbalanced/unbalanced problems. "
   ]
  },
  {
   "cell_type": "markdown",
   "id": "0195180a",
   "metadata": {},
   "source": [
    "#### F1-Score"
   ]
  },
  {
   "cell_type": "markdown",
   "id": "a5da3119",
   "metadata": {},
   "source": [
    "Harmonious average between Precision and Recall metrics. This metric is applied as a combination of two classes (binary-class). Thus, it works very well when we are combining two classes. But our problem is multi-class, therefore this metric is not the most proper.\n",
    "\n",
    "This metric summarize Precision and Recall. Thus, we discard this one for the same reasons discussed above. "
   ]
  },
  {
   "cell_type": "markdown",
   "id": "d7548b3d",
   "metadata": {},
   "source": [
    "#### Kappa Score"
   ]
  },
  {
   "cell_type": "markdown",
   "id": "0f3bd40a",
   "metadata": {},
   "source": [
    "It is used to measure the number of agreements between evaluators. The closer to 1, the higher the agreement between evaluators. For this project, we used this metric and our goal is a value higher than 75%. "
   ]
  },
  {
   "cell_type": "markdown",
   "id": "19eb9809",
   "metadata": {},
   "source": [
    "#### Balanced Accuracy"
   ]
  },
  {
   "cell_type": "markdown",
   "id": "62ccd0c3",
   "metadata": {},
   "source": [
    "We need a one and only metric to evaluate the model performance. For this project, we used the balanced accuracy, since we have a very imbalanced dataset and this metric considers the accuracy of each class.\n",
    "\n",
    "A little value means imbalanced dataset. As we balance our data, the value of this metrics increases."
   ]
  },
  {
   "cell_type": "markdown",
   "id": "b8206274",
   "metadata": {},
   "source": [
    "## 7.2. Training and test datasets"
   ]
  },
  {
   "cell_type": "markdown",
   "id": "4eb36845",
   "metadata": {},
   "source": [
    "As the data is too imbalanced (with \"im\": naturally without balance), we should not use accuracy as the main metric to evaluate model performance. "
   ]
  },
  {
   "cell_type": "code",
   "execution_count": 74,
   "id": "9f37b7c6",
   "metadata": {
    "ExecuteTime": {
     "end_time": "2023-01-12T23:02:32.622466Z",
     "start_time": "2023-01-12T23:02:32.601964Z"
    }
   },
   "outputs": [],
   "source": [
    "X = df7.drop('country_destination', axis=1)\n",
    "y = df7['country_destination'].copy()"
   ]
  },
  {
   "cell_type": "code",
   "execution_count": 75,
   "id": "c1af971d",
   "metadata": {
    "ExecuteTime": {
     "end_time": "2023-01-12T23:02:32.759611Z",
     "start_time": "2023-01-12T23:02:32.625786Z"
    }
   },
   "outputs": [],
   "source": [
    "# Split dataset into training and test\n",
    "X_train, X_test, y_train, y_test = ms.train_test_split(X, y, test_size=0.2, random_state=32)"
   ]
  },
  {
   "cell_type": "code",
   "execution_count": 76,
   "id": "4ca3071c",
   "metadata": {
    "ExecuteTime": {
     "end_time": "2023-01-12T23:02:32.778924Z",
     "start_time": "2023-01-12T23:02:32.762097Z"
    }
   },
   "outputs": [],
   "source": [
    "x_train = X_train.drop('id', axis=1)\n",
    "x_test = X_test.drop('id', axis=1)"
   ]
  },
  {
   "cell_type": "markdown",
   "id": "b80c03b5",
   "metadata": {},
   "source": [
    "## 7.3. Baseline Model"
   ]
  },
  {
   "cell_type": "markdown",
   "id": "107ee76a",
   "metadata": {},
   "source": [
    "For a time series problem, the baseline model is an average one. For a classification problem, the baseline is a model which randomly estimates the classes we are looking at (country_destination)."
   ]
  },
  {
   "cell_type": "code",
   "execution_count": 77,
   "id": "65d62223",
   "metadata": {
    "ExecuteTime": {
     "end_time": "2023-01-12T23:02:32.812803Z",
     "start_time": "2023-01-12T23:02:32.781404Z"
    }
   },
   "outputs": [
    {
     "data": {
      "text/plain": [
       "41319"
      ]
     },
     "execution_count": 77,
     "metadata": {},
     "output_type": "execute_result"
    }
   ],
   "source": [
    "# population is the response variable - it is in the alphabetic order for the classes\n",
    "country_destination_list = df7['country_destination'].drop_duplicates().sort_values().tolist()\n",
    "\n",
    "# number of samples generated randomly is the number of predictions we want = y_test.shape[0]\n",
    "k_num = y_test.shape[0]\n",
    "\n",
    "# number of classes - it is in the alphabetic order fot the classes\n",
    "country_destination_weights = df7['country_destination'].value_counts( normalize=True ).sort_index().tolist()\n",
    "\n",
    "# predictions\n",
    "yhat_random = random.choices( population=country_destination_list,  \n",
    "                              weights=country_destination_weights,\n",
    "                              k=k_num )\n",
    "len( yhat_random )"
   ]
  },
  {
   "cell_type": "markdown",
   "id": "e25c9fe2",
   "metadata": {},
   "source": [
    "### 7.3.1. Baseline Performance"
   ]
  },
  {
   "cell_type": "code",
   "execution_count": 90,
   "id": "5c69cd7e",
   "metadata": {
    "ExecuteTime": {
     "end_time": "2023-01-12T23:43:14.773123Z",
     "start_time": "2023-01-12T23:43:13.382404Z"
    }
   },
   "outputs": [
    {
     "name": "stdout",
     "output_type": "stream",
     "text": [
      "Accuracy: 0.4287615866792517\n",
      "Balanced Accuracy: 0.08415911955907879\n",
      "Kappa Score: 0.004086928372552867\n",
      "              precision    recall  f1-score   support\n",
      "\n",
      "          AU       0.00      0.00      0.00       101\n",
      "          CA       0.00      0.00      0.00       265\n",
      "          DE       0.01      0.01      0.01       234\n",
      "          ES       0.00      0.01      0.00       385\n",
      "          FR       0.03      0.03      0.03       971\n",
      "          GB       0.02      0.02      0.02       457\n",
      "          IT       0.02      0.02      0.02       553\n",
      "         NDF       0.58      0.58      0.58     23927\n",
      "          NL       0.00      0.00      0.00       143\n",
      "          PT       0.00      0.00      0.00        54\n",
      "          US       0.30      0.30      0.30     12249\n",
      "       other       0.05      0.05      0.05      1980\n",
      "\n",
      "    accuracy                           0.43     41319\n",
      "   macro avg       0.08      0.08      0.08     41319\n",
      "weighted avg       0.43      0.43      0.43     41319\n",
      "\n"
     ]
    },
    {
     "data": {
      "text/plain": [
       "<AxesSubplot:title={'center':'Confusion Matrix'}, xlabel='Predicted label', ylabel='True label'>"
      ]
     },
     "execution_count": 90,
     "metadata": {},
     "output_type": "execute_result"
    },
    {
     "data": {
      "image/png": "[encoded data removed]",
      "text/plain": [
       "<Figure size 900x900 with 2 Axes>"
      ]
     },
     "metadata": {},
     "output_type": "display_data"
    }
   ],
   "source": [
    "# Accuracy\n",
    "acc_random = m.accuracy_score(y_test, yhat_random)\n",
    "print('Accuracy: {}'.format(acc_random))\n",
    "\n",
    "# Balanced Accuray\n",
    "balanced_acc_random = m.balanced_accuracy_score(y_test, yhat_random)\n",
    "print('Balanced Accuracy: {}'.format(balanced_acc_random))\n",
    "\n",
    "# Kappa Metrics\n",
    "kappa_random = m.cohen_kappa_score(y_test, yhat_random)\n",
    "print('Kappa Score: {}'.format(kappa_random))\n",
    "\n",
    "# Classification report\n",
    "print(m.classification_report(y_test, yhat_random))\n",
    "\n",
    "# Confusion Matrix\n",
    "mt.plot_confusion_matrix(y_test, yhat_random, normalize=False, figsize=(9,9))"
   ]
  },
  {
   "cell_type": "markdown",
   "id": "657ae130",
   "metadata": {},
   "source": [
    "- Accuracy: 42%.\n",
    "- Balanced Accuracy: 8.3%. This metric is more realistic than accuracy since we have an imbalanced dataset.\n",
    "- Kappa Score is too little. \n",
    "- The majority of predictions are biased to be US, even it is not the correct one."
   ]
  },
  {
   "cell_type": "markdown",
   "id": "b19875db",
   "metadata": {},
   "source": [
    "## 7.4. Neural Network - MLP"
   ]
  },
  {
   "cell_type": "markdown",
   "id": "b6ffe777",
   "metadata": {},
   "source": [
    "Firstly, we need to encode the response variable to work with neural network:"
   ]
  },
  {
   "cell_type": "code",
   "execution_count": 79,
   "id": "9793088b",
   "metadata": {
    "ExecuteTime": {
     "end_time": "2023-01-12T23:02:34.207838Z",
     "start_time": "2023-01-12T23:02:34.202747Z"
    }
   },
   "outputs": [
    {
     "data": {
      "text/plain": [
       "38694      ES\n",
       "115575    NDF\n",
       "85496      ES\n",
       "180102    NDF\n",
       "166815    NDF\n",
       "         ... \n",
       "65191      US\n",
       "80151     NDF\n",
       "136865     FR\n",
       "113515    NDF\n",
       "14173      US\n",
       "Name: country_destination, Length: 165274, dtype: object"
      ]
     },
     "execution_count": 79,
     "metadata": {},
     "output_type": "execute_result"
    }
   ],
   "source": [
    "y_train"
   ]
  },
  {
   "cell_type": "code",
   "execution_count": 80,
   "id": "1dfb5d9a",
   "metadata": {
    "ExecuteTime": {
     "end_time": "2023-01-12T23:02:34.255889Z",
     "start_time": "2023-01-12T23:02:34.209854Z"
    }
   },
   "outputs": [],
   "source": [
    "# instantiate encoder\n",
    "ohe = pp.OneHotEncoder()\n",
    "\n",
    "# y train for neural network\n",
    "y_train_nn = ohe.fit_transform(y_train.values.reshape(-1, 1)).toarray()"
   ]
  },
  {
   "cell_type": "code",
   "execution_count": 81,
   "id": "10cc1d11",
   "metadata": {
    "ExecuteTime": {
     "end_time": "2023-01-12T23:02:34.265341Z",
     "start_time": "2023-01-12T23:02:34.260899Z"
    }
   },
   "outputs": [
    {
     "data": {
      "text/plain": [
       "array([[0., 0., 0., ..., 0., 0., 0.],\n",
       "       [0., 0., 0., ..., 0., 0., 0.],\n",
       "       [0., 0., 0., ..., 0., 0., 0.],\n",
       "       ...,\n",
       "       [0., 0., 0., ..., 0., 0., 0.],\n",
       "       [0., 0., 0., ..., 0., 0., 0.],\n",
       "       [0., 0., 0., ..., 0., 1., 0.]])"
      ]
     },
     "execution_count": 81,
     "metadata": {},
     "output_type": "execute_result"
    }
   ],
   "source": [
    "y_train_nn"
   ]
  },
  {
   "cell_type": "code",
   "execution_count": 88,
   "id": "961fbfc4",
   "metadata": {
    "ExecuteTime": {
     "end_time": "2023-01-12T23:41:49.860945Z",
     "start_time": "2023-01-12T23:41:49.856644Z"
    }
   },
   "outputs": [
    {
     "data": {
      "text/plain": [
       "71"
      ]
     },
     "execution_count": 88,
     "metadata": {},
     "output_type": "execute_result"
    }
   ],
   "source": [
    "# MUST: number of neurons in the first layer must be higher than this value \n",
    "# Use the next higher number that is multiple of two: 2^2, 2^3, 2^4, etc. \n",
    "x_train.shape[1]"
   ]
  },
  {
   "cell_type": "code",
   "execution_count": 82,
   "id": "6c86368c",
   "metadata": {
    "ExecuteTime": {
     "end_time": "2023-01-12T23:02:34.273226Z",
     "start_time": "2023-01-12T23:02:34.267607Z"
    }
   },
   "outputs": [
    {
     "data": {
      "text/plain": [
       "12"
      ]
     },
     "execution_count": 82,
     "metadata": {},
     "output_type": "execute_result"
    }
   ],
   "source": [
    "# MUST: number of neurons in the last layer = number of classes\n",
    "y_train_nn.shape[1]"
   ]
  },
  {
   "cell_type": "markdown",
   "id": "d079af02",
   "metadata": {},
   "source": [
    "Artifical Neural Network (ANN) - Multi-Layer Perceptron (MLP)\n",
    "\n",
    "- We used softmax in the final layer because this one is good when the response variable is categorical. \n",
    "- Accuracy is the main metric to evaluate a classification model."
   ]
  },
  {
   "cell_type": "code",
   "execution_count": 83,
   "id": "e4f63209",
   "metadata": {
    "ExecuteTime": {
     "end_time": "2023-01-12T23:10:35.611863Z",
     "start_time": "2023-01-12T23:02:34.275387Z"
    }
   },
   "outputs": [
    {
     "name": "stdout",
     "output_type": "stream",
     "text": [
      "Epoch 1/100\n",
      "5165/5165 [==============================] - 5s 921us/step - loss: 5.3276 - accuracy: 0.7891\n",
      "Epoch 2/100\n",
      "5165/5165 [==============================] - 5s 873us/step - loss: 1.8821 - accuracy: 0.8080\n",
      "Epoch 3/100\n",
      "5165/5165 [==============================] - 5s 879us/step - loss: 1.0143 - accuracy: 0.8278\n",
      "Epoch 4/100\n",
      "5165/5165 [==============================] - 5s 963us/step - loss: 0.6823 - accuracy: 0.8518\n",
      "Epoch 5/100\n",
      "5165/5165 [==============================] - 5s 918us/step - loss: 0.5322 - accuracy: 0.8713\n",
      "Epoch 6/100\n",
      "5165/5165 [==============================] - 5s 882us/step - loss: 0.5040 - accuracy: 0.8728\n",
      "Epoch 7/100\n",
      "5165/5165 [==============================] - 5s 930us/step - loss: 0.4981 - accuracy: 0.8732\n",
      "Epoch 8/100\n",
      "5165/5165 [==============================] - 5s 985us/step - loss: 0.4981 - accuracy: 0.8733\n",
      "Epoch 9/100\n",
      "5165/5165 [==============================] - 4s 848us/step - loss: 0.4969 - accuracy: 0.8734\n",
      "Epoch 10/100\n",
      "5165/5165 [==============================] - 4s 850us/step - loss: 0.4968 - accuracy: 0.8734\n",
      "Epoch 11/100\n",
      "5165/5165 [==============================] - 5s 874us/step - loss: 0.4965 - accuracy: 0.8733\n",
      "Epoch 12/100\n",
      "5165/5165 [==============================] - 4s 870us/step - loss: 0.4963 - accuracy: 0.8734\n",
      "Epoch 13/100\n",
      "5165/5165 [==============================] - 4s 868us/step - loss: 0.4953 - accuracy: 0.8735\n",
      "Epoch 14/100\n",
      "5165/5165 [==============================] - 4s 867us/step - loss: 0.4957 - accuracy: 0.8734\n",
      "Epoch 15/100\n",
      "5165/5165 [==============================] - 5s 883us/step - loss: 0.4944 - accuracy: 0.8736\n",
      "Epoch 16/100\n",
      "5165/5165 [==============================] - 5s 881us/step - loss: 0.4946 - accuracy: 0.8735\n",
      "Epoch 17/100\n",
      "5165/5165 [==============================] - 5s 877us/step - loss: 0.4951 - accuracy: 0.8735\n",
      "Epoch 18/100\n",
      "5165/5165 [==============================] - 5s 883us/step - loss: 0.4929 - accuracy: 0.8736\n",
      "Epoch 19/100\n",
      "5165/5165 [==============================] - 5s 915us/step - loss: 0.4920 - accuracy: 0.8736\n",
      "Epoch 20/100\n",
      "5165/5165 [==============================] - 5s 888us/step - loss: 0.4914 - accuracy: 0.8736\n",
      "Epoch 21/100\n",
      "5165/5165 [==============================] - 4s 866us/step - loss: 0.4915 - accuracy: 0.8736\n",
      "Epoch 22/100\n",
      "5165/5165 [==============================] - 5s 881us/step - loss: 0.4912 - accuracy: 0.8736\n",
      "Epoch 23/100\n",
      "5165/5165 [==============================] - 5s 990us/step - loss: 0.4914 - accuracy: 0.8736\n",
      "Epoch 24/100\n",
      "5165/5165 [==============================] - 5s 944us/step - loss: 0.4913 - accuracy: 0.8736\n",
      "Epoch 25/100\n",
      "5165/5165 [==============================] - 5s 915us/step - loss: 0.4914 - accuracy: 0.8737\n",
      "Epoch 26/100\n",
      "5165/5165 [==============================] - 5s 908us/step - loss: 0.4913 - accuracy: 0.8737\n",
      "Epoch 27/100\n",
      "5165/5165 [==============================] - 5s 924us/step - loss: 0.4911 - accuracy: 0.8736\n",
      "Epoch 28/100\n",
      "5165/5165 [==============================] - 5s 928us/step - loss: 0.4913 - accuracy: 0.8737\n",
      "Epoch 29/100\n",
      "5165/5165 [==============================] - 5s 931us/step - loss: 0.4912 - accuracy: 0.8736\n",
      "Epoch 30/100\n",
      "5165/5165 [==============================] - 5s 981us/step - loss: 0.4918 - accuracy: 0.8736\n",
      "Epoch 31/100\n",
      "5165/5165 [==============================] - 5s 1ms/step - loss: 0.4910 - accuracy: 0.8737\n",
      "Epoch 32/100\n",
      "5165/5165 [==============================] - 5s 1ms/step - loss: 0.4911 - accuracy: 0.8737\n",
      "Epoch 33/100\n",
      "5165/5165 [==============================] - 5s 1ms/step - loss: 0.4923 - accuracy: 0.8736\n",
      "Epoch 34/100\n",
      "5165/5165 [==============================] - 5s 1ms/step - loss: 0.4908 - accuracy: 0.8737\n",
      "Epoch 35/100\n",
      "5165/5165 [==============================] - 5s 1ms/step - loss: 0.4916 - accuracy: 0.8737\n",
      "Epoch 36/100\n",
      "5165/5165 [==============================] - 5s 1ms/step - loss: 0.4911 - accuracy: 0.8736\n",
      "Epoch 37/100\n",
      "5165/5165 [==============================] - 5s 1ms/step - loss: 0.4922 - accuracy: 0.8735\n",
      "Epoch 38/100\n",
      "5165/5165 [==============================] - 5s 1ms/step - loss: 0.4910 - accuracy: 0.8737\n",
      "Epoch 39/100\n",
      "5165/5165 [==============================] - 5s 1ms/step - loss: 0.4908 - accuracy: 0.8737\n",
      "Epoch 40/100\n",
      "5165/5165 [==============================] - 5s 927us/step - loss: 0.4910 - accuracy: 0.8737\n",
      "Epoch 41/100\n",
      "5165/5165 [==============================] - 5s 928us/step - loss: 0.4908 - accuracy: 0.8737\n",
      "Epoch 42/100\n",
      "5165/5165 [==============================] - 5s 967us/step - loss: 0.4910 - accuracy: 0.8737\n",
      "Epoch 43/100\n",
      "5165/5165 [==============================] - 4s 866us/step - loss: 0.4908 - accuracy: 0.8737\n",
      "Epoch 44/100\n",
      "5165/5165 [==============================] - 5s 924us/step - loss: 0.4908 - accuracy: 0.8737\n",
      "Epoch 45/100\n",
      "5165/5165 [==============================] - 5s 961us/step - loss: 0.4907 - accuracy: 0.8737\n",
      "Epoch 46/100\n",
      "5165/5165 [==============================] - 5s 944us/step - loss: 0.4909 - accuracy: 0.8737\n",
      "Epoch 47/100\n",
      "5165/5165 [==============================] - 5s 924us/step - loss: 0.4907 - accuracy: 0.8737\n",
      "Epoch 48/100\n",
      "5165/5165 [==============================] - 5s 1ms/step - loss: 0.4911 - accuracy: 0.8737\n",
      "Epoch 49/100\n",
      "5165/5165 [==============================] - 5s 1ms/step - loss: 0.4908 - accuracy: 0.8737\n",
      "Epoch 50/100\n",
      "5165/5165 [==============================] - 5s 1ms/step - loss: 0.4909 - accuracy: 0.8737\n",
      "Epoch 51/100\n",
      "5165/5165 [==============================] - 5s 1ms/step - loss: 0.4912 - accuracy: 0.8737\n",
      "Epoch 52/100\n",
      "5165/5165 [==============================] - 5s 1ms/step - loss: 0.4906 - accuracy: 0.8737\n",
      "Epoch 53/100\n",
      "5165/5165 [==============================] - 5s 1ms/step - loss: 0.4909 - accuracy: 0.8737\n",
      "Epoch 54/100\n",
      "5165/5165 [==============================] - 5s 1ms/step - loss: 0.4907 - accuracy: 0.8738\n",
      "Epoch 55/100\n",
      "5165/5165 [==============================] - 5s 1ms/step - loss: 0.4907 - accuracy: 0.8737\n",
      "Epoch 56/100\n",
      "5165/5165 [==============================] - 5s 1ms/step - loss: 0.4912 - accuracy: 0.8737\n",
      "Epoch 57/100\n",
      "5165/5165 [==============================] - 5s 935us/step - loss: 0.4908 - accuracy: 0.8737\n",
      "Epoch 58/100\n",
      "5165/5165 [==============================] - 5s 1ms/step - loss: 0.4907 - accuracy: 0.8737\n",
      "Epoch 59/100\n",
      "5165/5165 [==============================] - 5s 1ms/step - loss: 0.4907 - accuracy: 0.8737\n",
      "Epoch 60/100\n",
      "5165/5165 [==============================] - 5s 1ms/step - loss: 0.4906 - accuracy: 0.8738\n",
      "Epoch 61/100\n",
      "5165/5165 [==============================] - 5s 1ms/step - loss: 0.4909 - accuracy: 0.8737\n",
      "Epoch 62/100\n",
      "5165/5165 [==============================] - 5s 1ms/step - loss: 0.4909 - accuracy: 0.8737\n",
      "Epoch 63/100\n",
      "5165/5165 [==============================] - 5s 1ms/step - loss: 0.4910 - accuracy: 0.8737\n",
      "Epoch 64/100\n",
      "5165/5165 [==============================] - 5s 942us/step - loss: 0.4906 - accuracy: 0.8737\n",
      "Epoch 65/100\n",
      "5165/5165 [==============================] - 5s 921us/step - loss: 0.4909 - accuracy: 0.8737\n",
      "Epoch 66/100\n",
      "5165/5165 [==============================] - 5s 988us/step - loss: 0.4904 - accuracy: 0.8737\n",
      "Epoch 67/100\n",
      "5165/5165 [==============================] - 5s 883us/step - loss: 0.4912 - accuracy: 0.8737\n",
      "Epoch 68/100\n",
      "5165/5165 [==============================] - 5s 880us/step - loss: 0.4913 - accuracy: 0.8737\n",
      "Epoch 69/100\n",
      "5165/5165 [==============================] - 5s 896us/step - loss: 0.4905 - accuracy: 0.8737\n",
      "Epoch 70/100\n",
      "5165/5165 [==============================] - 5s 875us/step - loss: 0.4905 - accuracy: 0.8737\n",
      "Epoch 71/100\n",
      "5165/5165 [==============================] - 5s 895us/step - loss: 0.4907 - accuracy: 0.8737\n",
      "Epoch 72/100\n",
      "5165/5165 [==============================] - 5s 896us/step - loss: 0.4910 - accuracy: 0.8737\n",
      "Epoch 73/100\n",
      "5165/5165 [==============================] - 5s 909us/step - loss: 0.4905 - accuracy: 0.8738\n",
      "Epoch 74/100\n",
      "5165/5165 [==============================] - 5s 887us/step - loss: 0.4909 - accuracy: 0.8737\n",
      "Epoch 75/100\n",
      "5165/5165 [==============================] - 5s 878us/step - loss: 0.4905 - accuracy: 0.8738\n",
      "Epoch 76/100\n",
      "5165/5165 [==============================] - 5s 879us/step - loss: 0.4906 - accuracy: 0.8737\n",
      "Epoch 77/100\n",
      "5165/5165 [==============================] - 5s 894us/step - loss: 0.4909 - accuracy: 0.8737\n",
      "Epoch 78/100\n"
     ]
    },
    {
     "name": "stdout",
     "output_type": "stream",
     "text": [
      "5165/5165 [==============================] - 5s 877us/step - loss: 0.4905 - accuracy: 0.8737\n",
      "Epoch 79/100\n",
      "5165/5165 [==============================] - 5s 882us/step - loss: 0.4911 - accuracy: 0.8737\n",
      "Epoch 80/100\n",
      "5165/5165 [==============================] - 5s 887us/step - loss: 0.4907 - accuracy: 0.8738\n",
      "Epoch 81/100\n",
      "5165/5165 [==============================] - 5s 875us/step - loss: 0.4907 - accuracy: 0.8737\n",
      "Epoch 82/100\n",
      "5165/5165 [==============================] - 5s 874us/step - loss: 0.4911 - accuracy: 0.8737\n",
      "Epoch 83/100\n",
      "5165/5165 [==============================] - 5s 880us/step - loss: 0.4906 - accuracy: 0.8737\n",
      "Epoch 84/100\n",
      "5165/5165 [==============================] - 5s 878us/step - loss: 0.4905 - accuracy: 0.8738\n",
      "Epoch 85/100\n",
      "5165/5165 [==============================] - 5s 896us/step - loss: 0.4906 - accuracy: 0.8738\n",
      "Epoch 86/100\n",
      "5165/5165 [==============================] - 4s 869us/step - loss: 0.4906 - accuracy: 0.8738\n",
      "Epoch 87/100\n",
      "5165/5165 [==============================] - 5s 934us/step - loss: 0.4912 - accuracy: 0.8737\n",
      "Epoch 88/100\n",
      "5165/5165 [==============================] - 5s 893us/step - loss: 0.4906 - accuracy: 0.8738\n",
      "Epoch 89/100\n",
      "5165/5165 [==============================] - 5s 924us/step - loss: 0.4907 - accuracy: 0.8738\n",
      "Epoch 90/100\n",
      "5165/5165 [==============================] - 5s 879us/step - loss: 0.4906 - accuracy: 0.8738\n",
      "Epoch 91/100\n",
      "5165/5165 [==============================] - 5s 876us/step - loss: 0.4915 - accuracy: 0.8737\n",
      "Epoch 92/100\n",
      "5165/5165 [==============================] - 5s 893us/step - loss: 0.4902 - accuracy: 0.8738\n",
      "Epoch 93/100\n",
      "5165/5165 [==============================] - 4s 857us/step - loss: 0.4914 - accuracy: 0.8736\n",
      "Epoch 94/100\n",
      "5165/5165 [==============================] - 5s 887us/step - loss: 0.4907 - accuracy: 0.8738\n",
      "Epoch 95/100\n",
      "5165/5165 [==============================] - 4s 860us/step - loss: 0.4904 - accuracy: 0.8738\n",
      "Epoch 96/100\n",
      "5165/5165 [==============================] - 4s 863us/step - loss: 0.4909 - accuracy: 0.8737\n",
      "Epoch 97/100\n",
      "5165/5165 [==============================] - 5s 873us/step - loss: 0.4913 - accuracy: 0.8737\n",
      "Epoch 98/100\n",
      "5165/5165 [==============================] - 5s 874us/step - loss: 0.4904 - accuracy: 0.8738\n",
      "Epoch 99/100\n",
      "5165/5165 [==============================] - 5s 876us/step - loss: 0.4908 - accuracy: 0.8737\n",
      "Epoch 100/100\n",
      "5165/5165 [==============================] - 4s 863us/step - loss: 0.4912 - accuracy: 0.8737\n"
     ]
    },
    {
     "data": {
      "text/plain": [
       "<keras.callbacks.History at 0x7fc864753c40>"
      ]
     },
     "execution_count": 83,
     "metadata": {},
     "output_type": "execute_result"
    }
   ],
   "source": [
    " # model definition\n",
    "model = ml.Sequential()\n",
    "\n",
    "# first layer\n",
    "model.add(l.Dense(128, input_dim=x_train.shape[1], activation='relu'))\n",
    "\n",
    "# last layer\n",
    "model.add(l.Dense(12, activation='softmax'))\n",
    "\n",
    "# model compile\n",
    "model.compile(loss='categorical_crossentropy', optimizer='adam', metrics=['accuracy'])\n",
    "\n",
    "# train model\n",
    "model.fit(x_train, y_train_nn, epochs=100)"
   ]
  },
  {
   "cell_type": "markdown",
   "id": "e582a11f",
   "metadata": {},
   "source": [
    "### 7.4.1. NN Single Performance"
   ]
  },
  {
   "cell_type": "code",
   "execution_count": 84,
   "id": "1b79b07e",
   "metadata": {
    "ExecuteTime": {
     "end_time": "2023-01-12T23:10:36.985659Z",
     "start_time": "2023-01-12T23:10:35.613605Z"
    }
   },
   "outputs": [
    {
     "name": "stdout",
     "output_type": "stream",
     "text": [
      "1292/1292 [==============================] - 1s 590us/step\n"
     ]
    }
   ],
   "source": [
    "# prediction\n",
    "pred_nn = model.predict(x_test)\n",
    "\n",
    "# invert prediction - going back to the categorical attributes \n",
    "# real prediction\n",
    "yhat_nn = ohe.inverse_transform(pred_nn)\n",
    "\n",
    "# prediction prepare\n",
    "y_test_nn = y_test.to_numpy()\n",
    "yhat_nn = yhat_nn.reshape(1, -1)[0]"
   ]
  },
  {
   "cell_type": "code",
   "execution_count": 89,
   "id": "15faf620",
   "metadata": {
    "ExecuteTime": {
     "end_time": "2023-01-12T23:42:58.185813Z",
     "start_time": "2023-01-12T23:42:56.846820Z"
    }
   },
   "outputs": [
    {
     "name": "stdout",
     "output_type": "stream",
     "text": [
      "Accuracy: 0.8739335632601198\n",
      "Balanced Accuracy: 0.16666666666666666\n",
      "Kappa Score: 0.7665744099380338\n"
     ]
    },
    {
     "name": "stderr",
     "output_type": "stream",
     "text": [
      "/opt/anaconda3/lib/python3.9/site-packages/sklearn/metrics/_classification.py:1318: UndefinedMetricWarning: Precision and F-score are ill-defined and being set to 0.0 in labels with no predicted samples. Use `zero_division` parameter to control this behavior.\n",
      "  _warn_prf(average, modifier, msg_start, len(result))\n",
      "/opt/anaconda3/lib/python3.9/site-packages/sklearn/metrics/_classification.py:1318: UndefinedMetricWarning: Precision and F-score are ill-defined and being set to 0.0 in labels with no predicted samples. Use `zero_division` parameter to control this behavior.\n",
      "  _warn_prf(average, modifier, msg_start, len(result))\n",
      "/opt/anaconda3/lib/python3.9/site-packages/sklearn/metrics/_classification.py:1318: UndefinedMetricWarning: Precision and F-score are ill-defined and being set to 0.0 in labels with no predicted samples. Use `zero_division` parameter to control this behavior.\n",
      "  _warn_prf(average, modifier, msg_start, len(result))\n"
     ]
    },
    {
     "name": "stdout",
     "output_type": "stream",
     "text": [
      "              precision    recall  f1-score   support\n",
      "\n",
      "          AU       0.00      0.00      0.00        85\n",
      "          CA       0.00      0.00      0.00       224\n",
      "          DE       0.00      0.00      0.00       160\n",
      "          ES       0.00      0.00      0.00       363\n",
      "          FR       0.00      0.00      0.00       782\n",
      "          GB       0.00      0.00      0.00       366\n",
      "          IT       0.00      0.00      0.00       444\n",
      "         NDF       1.00      1.00      1.00     19177\n",
      "          NL       0.00      0.00      0.00       121\n",
      "          PT       0.00      0.00      0.00        31\n",
      "          US       0.70      1.00      0.82      9710\n",
      "       other       0.00      0.00      0.00      1591\n",
      "\n",
      "    accuracy                           0.87     33054\n",
      "   macro avg       0.14      0.17      0.15     33054\n",
      "weighted avg       0.79      0.87      0.82     33054\n",
      "\n"
     ]
    },
    {
     "data": {
      "text/plain": [
       "<AxesSubplot:title={'center':'Confusion Matrix'}, xlabel='Predicted label', ylabel='True label'>"
      ]
     },
     "execution_count": 89,
     "metadata": {},
     "output_type": "execute_result"
    },
    {
     "data": {
      "image/png": "[encoded data removed]",
      "text/plain": [
       "<Figure size 900x900 with 2 Axes>"
      ]
     },
     "metadata": {},
     "output_type": "display_data"
    }
   ],
   "source": [
    "# Accuracy\n",
    "acc_nn = m.accuracy_score(y_test_nn, yhat_nn)\n",
    "print('Accuracy: {}'.format(acc_nn))\n",
    "\n",
    "# Balanced Accuray\n",
    "balanced_acc_nn = m.balanced_accuracy_score( y_test_nn, yhat_nn)\n",
    "print('Balanced Accuracy: {}'.format(balanced_acc_nn))\n",
    "\n",
    "# Kappa Metrics\n",
    "kappa_nn = m.cohen_kappa_score(y_test_nn, yhat_nn)\n",
    "print('Kappa Score: {}'.format(kappa_nn))\n",
    "\n",
    "# Classification report\n",
    "print(m.classification_report(y_test_nn, yhat_nn))\n",
    "\n",
    "# Confusion Matrix\n",
    "mt.plot_confusion_matrix(y_test_nn, yhat_nn, normalize=False, figsize=(9,9))"
   ]
  },
  {
   "cell_type": "markdown",
   "id": "aa2e8033",
   "metadata": {},
   "source": [
    "- Accuracy of 62% is a good one, but... \n",
    "- The model chose US even when the true class was other countries.\n",
    "- The neural network is biased towards the class with more available examples: US.\n",
    "\n",
    "\n",
    "- The majority of predictions for US were correct. For true US, the wrong predictions were: CA (1), DE (5), ES (1), FR (7), GB (4) and IT (2). \n",
    "- AU: accuracy = 0%. CA: accuracy = 0%. All predictions for AU and CA were wrong.\n",
    "\n",
    "Accuracy basically is: how much right predictions I have chose correctly over the amount of predictions I did. \n",
    "\n",
    "- Balanced Accuracy of 10.8% is much more realistic. We want to increase it to values around 85%.\n",
    "- Kappa Score is 24.5%. We want values higher than 70%."
   ]
  },
  {
   "cell_type": "markdown",
   "id": "74e26472",
   "metadata": {},
   "source": [
    "### 7.4.2. NN Cross-Validation Performance"
   ]
  },
  {
   "cell_type": "markdown",
   "id": "49c6b8bb",
   "metadata": {},
   "source": [
    "#### Theory"
   ]
  },
  {
   "cell_type": "markdown",
   "id": "67a5a997",
   "metadata": {},
   "source": [
    "We may understand **selection bias** as the bias with the following characteristics:\n",
    "\n",
    "1. The luck of selecting a good training dateset. \n",
    "2. Some behaviors may be hidden in datasets which were not selected.\n",
    "3. Different behaviors for training and test datasets. \n",
    "\n",
    "- We must avoid selection bias because we want our model learns the most from the data patterns. In order to minimize this bias, we are going to split out data into several training and test datasets. This technique is named Cross-Validation. \n",
    "\n",
    "- The split is made randomly for a classification problem. However, when we work with time series, this sampling must not be random, since the time is very important to this type of problem.\n",
    "\n",
    "- Cross-Validation is not very good for imbalanced/unbalanced data, since we have majority classes and probably the majority class will be chosen more times through random sampling."
   ]
  },
  {
   "cell_type": "markdown",
   "id": "9e871575",
   "metadata": {},
   "source": [
    "#### Practice"
   ]
  },
  {
   "cell_type": "markdown",
   "id": "c96051df",
   "metadata": {},
   "source": [
    "- **kfold.split()** keeps the proportion of classes.\n",
    "- **train_ix:** index of training dataset.\n",
    "- **val_ix:** index of validation (\"test\") dataset."
   ]
  },
  {
   "cell_type": "code",
   "execution_count": 86,
   "id": "31ce4dcd",
   "metadata": {
    "ExecuteTime": {
     "end_time": "2023-01-12T23:41:14.285664Z",
     "start_time": "2023-01-12T23:10:38.515650Z"
    }
   },
   "outputs": [
    {
     "name": "stdout",
     "output_type": "stream",
     "text": [
      "Fold Number: 1/5\n",
      "1033/1033 [==============================] - 1s 699us/step\n",
      "Fold Number: 2/5\n",
      "1033/1033 [==============================] - 1s 797us/step\n",
      "Fold Number: 3/5\n",
      "1033/1033 [==============================] - 1s 777us/step\n",
      "Fold Number: 4/5\n",
      "1033/1033 [==============================] - 1s 769us/step\n",
      "Fold Number: 5/5\n",
      "1033/1033 [==============================] - 1s 791us/step\n"
     ]
    }
   ],
   "source": [
    " # generate k-fold\n",
    "num_folds = 5 # shuffle = True: the split is done randomly\n",
    "kfold = ms.StratifiedKFold(n_splits=num_folds, shuffle=True, random_state=32)\n",
    "\n",
    "balanced_acc_list = []\n",
    "kappa_acc_list = []\n",
    "\n",
    "i = 1\n",
    "for train_ix, val_ix in kfold.split(x_train, y_train):\n",
    "    print( 'Fold Number: {}/{}'.format(i, num_folds))\n",
    "    \n",
    "    # get fold\n",
    "    x_train_fold = x_train.iloc[train_ix]\n",
    "    y_train_fold = y_train.iloc[train_ix]\n",
    "    \n",
    "    x_val_fold = x_train.iloc[val_ix]\n",
    "    y_val_fold = y_train.iloc[val_ix]\n",
    "    \n",
    "    # target hot-encoding\n",
    "    ohe = pp.OneHotEncoder()\n",
    "    y_train_fold_nn = ohe.fit_transform(y_train_fold.values.reshape(-1, 1)).toarray()\n",
    "\n",
    "    # model definition\n",
    "    model = ml.Sequential()\n",
    "    model.add(l.Dense(256, input_dim=x_train.shape[1], activation='relu'))\n",
    "    model.add(l.Dense(12, activation='softmax'))\n",
    "\n",
    "    # compile model\n",
    "    model.compile(loss='categorical_crossentropy', optimizer='adam', metrics=['accuracy'])\n",
    "\n",
    "    # training model\n",
    "    model.fit(x_train_fold, y_train_fold_nn, epochs=100, batch_size=32, verbose=0)\n",
    "\n",
    "    # prediction\n",
    "    pred_nn = model.predict(x_val_fold)\n",
    "    yhat_nn = ohe.inverse_transform(pred_nn)\n",
    "    \n",
    "    # prepare data\n",
    "    y_test_nn = y_val_fold.to_numpy()\n",
    "    yhat_nn = yhat_nn.reshape(1, -1)[0]\n",
    "\n",
    "    # metrics\n",
    "    ## Balanced Accuracy \n",
    "    balanced_acc_nn = m.balanced_accuracy_score(y_test_nn, yhat_nn)\n",
    "    balanced_acc_list.append(balanced_acc_nn)\n",
    "    \n",
    "    ## Kappa Metrics\n",
    "    kappa_acc_nn = m.cohen_kappa_score(y_test_nn, yhat_nn)\n",
    "    kappa_acc_list.append(kappa_acc_nn)\n",
    "    \n",
    "    i += 1"
   ]
  },
  {
   "cell_type": "code",
   "execution_count": 87,
   "id": "af89ac46",
   "metadata": {
    "ExecuteTime": {
     "end_time": "2023-01-12T23:41:14.296006Z",
     "start_time": "2023-01-12T23:41:14.287673Z"
    }
   },
   "outputs": [
    {
     "data": {
      "text/html": [
       "<div>\n",
       "<style scoped>\n",
       "    .dataframe tbody tr th:only-of-type {\n",
       "        vertical-align: middle;\n",
       "    }\n",
       "\n",
       "    .dataframe tbody tr th {\n",
       "        vertical-align: top;\n",
       "    }\n",
       "\n",
       "    .dataframe thead th {\n",
       "        text-align: right;\n",
       "    }\n",
       "</style>\n",
       "<table border=\"1\" class=\"dataframe\">\n",
       "  <thead>\n",
       "    <tr style=\"text-align: right;\">\n",
       "      <th></th>\n",
       "      <th>Average Balanced Accuracy</th>\n",
       "      <th>Average Kappa</th>\n",
       "    </tr>\n",
       "  </thead>\n",
       "  <tbody>\n",
       "    <tr>\n",
       "      <th>0</th>\n",
       "      <td>0.17 +/- 0.0</td>\n",
       "      <td>0.7664 +/- 0.0001</td>\n",
       "    </tr>\n",
       "  </tbody>\n",
       "</table>\n",
       "</div>"
      ],
      "text/plain": [
       "  Average Balanced Accuracy      Average Kappa\n",
       "0              0.17 +/- 0.0  0.7664 +/- 0.0001"
      ]
     },
     "execution_count": 87,
     "metadata": {},
     "output_type": "execute_result"
    }
   ],
   "source": [
    "pd.DataFrame( {'Average Balanced Accuracy': np.round( np.mean( balanced_acc_list ), 2 ).astype( str ) + ' +/- ' + np.round( np.std( balanced_acc_list  ), 4 ).astype( str ),\n",
    "                'Average Kappa': np.round( np.mean( kappa_acc_list ), 4 ).astype( str ) + ' +/- ' + np.round( np.std( kappa_acc_list ), 4 ).astype( str ) }, index=[0] )\n"
   ]
  },
  {
   "cell_type": "code",
   "execution_count": null,
   "id": "5cc1fdcb",
   "metadata": {},
   "outputs": [],
   "source": []
  }
 ],
 "metadata": {
  "kernelspec": {
   "display_name": "Python 3 (ipykernel)",
   "language": "python",
   "name": "python3"
  },
  "language_info": {
   "codemirror_mode": {
    "name": "ipython",
    "version": 3
   },
   "file_extension": ".py",
   "mimetype": "text/x-python",
   "name": "python",
   "nbconvert_exporter": "python",
   "pygments_lexer": "ipython3",
   "version": "3.9.13"
  }
 },
 "nbformat": 4,
 "nbformat_minor": 5
}
